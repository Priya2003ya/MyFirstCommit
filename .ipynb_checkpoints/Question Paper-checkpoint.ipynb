{
 "cells": [
  {
   "cell_type": "code",
   "execution_count": 1,
   "id": "e38749b5",
   "metadata": {},
   "outputs": [
    {
     "name": "stdout",
     "output_type": "stream",
     "text": [
      "Enter the value of radius:6\n",
      "Area of Circle =  113.04\n",
      "perimeter of Circle =  37.68\n"
     ]
    }
   ],
   "source": [
    "# question  1\n",
    "\n",
    "class Circle:\n",
    "    \n",
    "    def __init__(self,radius,pi=3.14):\n",
    "        self.radius = radius\n",
    "        self.pi = pi\n",
    "        \n",
    "    def area_Circle(self):\n",
    "        self.Area = self.pi * (self.radius**2)\n",
    "        return self.Area\n",
    "    def perimeter_Circle(self):\n",
    "        self.Perimeter = 2 * self.pi * self.radius\n",
    "        return self.Perimeter\n",
    "    \n",
    "    def display(self):\n",
    "        print(\"Area of Circle = \",self.Area)\n",
    "        print(\"perimeter of Circle = \",self.Perimeter)\n",
    "r=int(input(\"Enter the value of radius:\"))       \n",
    "circle = Circle(r)\n",
    "circle.area_Circle()\n",
    "circle.perimeter_Circle()\n",
    "circle.display()\n",
    "        "
   ]
  },
  {
   "cell_type": "code",
   "execution_count": 13,
   "id": "656ad4d7",
   "metadata": {},
   "outputs": [
    {
     "name": "stdout",
     "output_type": "stream",
     "text": [
      "Enter the num15\n",
      "Enter the num25\n",
      "1.Add\n",
      "2.Sub\n",
      "3.Multi\n",
      "4.Div\n",
      "Enter the operation:3\n",
      "25\n"
     ]
    }
   ],
   "source": [
    "# Question 2\n",
    "\n",
    "class Calculator:\n",
    "    def __init__(self,num1,num2):\n",
    "        self.num1=num1\n",
    "        self.num2=num2\n",
    "        \n",
    "    def add(self):\n",
    "        print (self.num1 + self.num2)\n",
    "    \n",
    "    def sabtract(self):\n",
    "        print(self.num1 - self.num2)\n",
    "    \n",
    "    def multiply(self):\n",
    "        print(self.num1 * self.num2)\n",
    "        \n",
    "    def divide(self):\n",
    "        if self.num2 == 0:\n",
    "            print(\"Infinite\")\n",
    "        else:\n",
    "            print(self.num1 / self.num2)\n",
    "\n",
    "    \n",
    "    def main(self):\n",
    "        print(\"1.Add\\n2.Sub\\n3.Multi\\n4.Div\")\n",
    "        ch=int(input(\"Enter the operation:\"))\n",
    "    \n",
    "        if ch==1:\n",
    "            c.add()\n",
    "        elif ch==2:\n",
    "            c.sabtract()\n",
    "        elif ch==3:\n",
    "            c.multiply()\n",
    "        elif ch==4:\n",
    "            c.divide()\n",
    "        else:\n",
    "            print(\"Please enter the correct operation.\")\n",
    "\n",
    "n1=int(input(\"Enter the num1\"))\n",
    "n2=int(input(\"Enter the num2\"))\n",
    "c=Calculator(n1,n2)\n",
    "c.main()\n",
    "\n",
    "\n",
    "\n"
   ]
  },
  {
   "cell_type": "code",
   "execution_count": 28,
   "id": "85b271c6",
   "metadata": {},
   "outputs": [
    {
     "name": "stdout",
     "output_type": "stream",
     "text": [
      "Enter the first number:5\n",
      "Enter the second number:7\n",
      "Enter the third number:3\n",
      "7 is greater then 5 and 3.\n"
     ]
    }
   ],
   "source": [
    "# Question 5\n",
    "\n",
    "num1=int(input(\"Enter the first number:\"))\n",
    "num2=int(input(\"Enter the second number:\"))\n",
    "num3=int(input(\"Enter the third number:\"))\n",
    "\n",
    "if (num1>num2) and (num1>num3):\n",
    "    print(f\"{num1} is greater than {num2} and {num3}.\")\n",
    "    \n",
    "elif (num2>num3) and (num2>num1):\n",
    "    print(f\"{num2} is greater then {num1} and {num3}.\")\n",
    "    \n",
    "else:\n",
    "    print(f\"{num3} is greater than {num1} and {num2}.\")\n",
    "    "
   ]
  },
  {
   "cell_type": "code",
   "execution_count": 29,
   "id": "f752638e",
   "metadata": {},
   "outputs": [
    {
     "name": "stdout",
     "output_type": "stream",
     "text": [
      "dcba4321\n"
     ]
    }
   ],
   "source": [
    "# 6\n",
    "\n",
    "String = \"1234abcd\"\n",
    "s=String[::-1]\n",
    "print(s)\n",
    "\n"
   ]
  },
  {
   "cell_type": "code",
   "execution_count": 33,
   "id": "d3a64cb7",
   "metadata": {},
   "outputs": [
    {
     "name": "stdout",
     "output_type": "stream",
     "text": [
      "4\n",
      "('name', ['priya', 'tanu', 'shreya'])\n",
      "('age', [22, 21, 23])\n",
      "('subject', ['maths', 'science', 'hindi'])\n",
      "('rollno', [75, 98, 23])\n"
     ]
    }
   ],
   "source": [
    "# 7\n",
    "\n",
    "dict = {\"name\":[\"priya\",\"tanu\",\"shreya\"], \"age\":[22,21,23], \"subject\":[\"maths\",\"science\",\"hindi\"], \"rollno\":[75,98,23]}\n",
    "print(len(dict))\n",
    "\n",
    "for i in dict.items():\n",
    "    print(i)\n",
    "\n"
   ]
  },
  {
   "cell_type": "code",
   "execution_count": 40,
   "id": "289a71fd",
   "metadata": {},
   "outputs": [
    {
     "name": "stdout",
     "output_type": "stream",
     "text": [
      "Deposited 400   balance 500\n",
      "Withraw 300   balance  200\n",
      "New balance 200\n"
     ]
    }
   ],
   "source": [
    "# 3\n",
    "\n",
    "class Bank:\n",
    "    def __init__(self,account_number,balance):\n",
    "        self.account_number = account_number\n",
    "        self.balance = balance\n",
    "        \n",
    "    def deposit(self,amount):\n",
    "        if amount>0:\n",
    "            self.balance += amount\n",
    "            print( f\"Deposited {amount}   balance {self.balance}\")\n",
    "        \n",
    "    def withdraw(self,amount):\n",
    "        if self.balance >= amount:\n",
    "            self.balance -= amount\n",
    "            print(f\"Withraw {amount}   balance  {self.balance}\")\n",
    "        \n",
    "    def display(self):\n",
    "        print( f\"New balance {self.balance}\")\n",
    "       \n",
    "        \n",
    "bank = Bank(3435675,100)\n",
    "bank.deposit(400)\n",
    "bank.withdraw(300)\n",
    "bank.display()"
   ]
  },
  {
   "cell_type": "code",
   "execution_count": 58,
   "id": "d7c83ab0",
   "metadata": {},
   "outputs": [
    {
     "name": "stdout",
     "output_type": "stream",
     "text": [
      "Enen numbers from the siad list:\n",
      " [2, 4, 6, 8, 10]\n",
      "\n",
      "Odd numbers from the said list:\n",
      " [1, 3, 5, 7, 9]\n"
     ]
    }
   ],
   "source": [
    "# 9\n",
    "\n",
    "number = [1,2,3,4,5,6,7,8,9,10]\n",
    "\n",
    "en=list(filter(lambda x: x%2==0, number))\n",
    "od=list(filter(lambda x: x%2!=0,number))\n",
    "print(\"Enen numbers from the siad list:\\n\", en)\n",
    "print(\"\\nOdd numbers from the said list:\\n\",od)"
   ]
  },
  {
   "cell_type": "code",
   "execution_count": 56,
   "id": "616d8755",
   "metadata": {},
   "outputs": [
    {
     "name": "stdout",
     "output_type": "stream",
     "text": [
      "Square every number of the said list:\n",
      " [1, 4, 9, 16, 25, 36, 49, 64, 81, 100]\n",
      "\n",
      "Cube every number of the said list:\n",
      " [1, 8, 27, 64, 125, 216, 343, 512, 729, 1000]\n"
     ]
    }
   ],
   "source": [
    "# 10\n",
    "\n",
    "numbers = [1,2,3,4,5,6,7,8,9,10]\n",
    "\n",
    "square = list(map(lambda x: x**2,numbers))\n",
    "print(\"Square every number of the said list:\\n\",square)\n",
    "qube = list(map(lambda x: x**3,numbers))\n",
    "print(\"\\nCube every number of the said list:\\n\",qube)"
   ]
  },
  {
   "cell_type": "code",
   "execution_count": null,
   "id": "98cb27b1",
   "metadata": {},
   "outputs": [],
   "source": []
  },
  {
   "cell_type": "code",
   "execution_count": 24,
   "id": "e28895d6",
   "metadata": {},
   "outputs": [
    {
     "name": "stdout",
     "output_type": "stream",
     "text": [
      "Circle Area =  28.26\n",
      "circle Perimeter= 18.84\n",
      "\n",
      "Triangle Area =  6.0\n",
      "Triangle Perimeter= 12\n"
     ]
    }
   ],
   "source": [
    "import math\n",
    "\n",
    "class Shape:\n",
    "    def area(self):\n",
    "        pass\n",
    "    def perimeter(self):\n",
    "        pass\n",
    "    \n",
    "class Circle(Shape):\n",
    "    def __init__(self,radius,pi=3.14):\n",
    "        self.radius=radius\n",
    "        self.pi=pi\n",
    "    def area_circle(self):\n",
    "        Area = self.pi * (self.radius**2)\n",
    "        return Area\n",
    "    def perimeter_circle(self):\n",
    "        Perimeter = 2 * self.pi * self.radius\n",
    "        return Perimeter\n",
    "    \n",
    "class Triangle(Shape):\n",
    "    def __init__(self,a1,a2,a3):\n",
    "        self.a1=a1\n",
    "        self.a2=a2\n",
    "        self.a3=a3\n",
    "        \n",
    "    def area_triangle(self):\n",
    "        s=(self.a1+self.a2+self.a3)/2\n",
    "        Area = math.sqrt(s*(s-self.a1)*(s-self.a2)*(s-self.a3))\n",
    "        return Area\n",
    "    \n",
    "    def perimeter_triangle(self):\n",
    "        Perimeter = self.a1+self.a2+self.a3\n",
    "        return Perimeter\n",
    "    \n",
    "class Square(Shape):\n",
    "    def __init__(self,a):\n",
    "        self.a=a\n",
    "        \n",
    "    def area_square(self):\n",
    "        Area = self.a**2\n",
    "        return Area\n",
    "    \n",
    "    def perimeter_square(self):\n",
    "        Perimeter = 4*self.a\n",
    "        \n",
    "        \n",
    "c=Circle(3)\n",
    "print(\"Circle Area = \",c.area_circle())\n",
    "print(\"circle Perimeter=\",c.perimeter_circle())\n",
    "\n",
    "t=Triangle(3,4,5)\n",
    "print(\"\\nTriangle Area = \",t.area_triangle())\n",
    "print(\"Triangle Perimeter=\",t.perimeter_triangle())\n",
    "        \n",
    "s=Square(4)\n",
    "print(\"\\nquare Area = \",t.area_triangle())\n",
    "print(\" Perimeter=\",t.perimeter_triangle())\n",
    "        "
   ]
  },
  {
   "cell_type": "code",
   "execution_count": null,
   "id": "4c3df3b9",
   "metadata": {},
   "outputs": [],
   "source": []
  }
 ],
 "metadata": {
  "kernelspec": {
   "display_name": "Python 3 (ipykernel)",
   "language": "python",
   "name": "python3"
  },
  "language_info": {
   "codemirror_mode": {
    "name": "ipython",
    "version": 3
   },
   "file_extension": ".py",
   "mimetype": "text/x-python",
   "name": "python",
   "nbconvert_exporter": "python",
   "pygments_lexer": "ipython3",
   "version": "3.11.5"
  }
 },
 "nbformat": 4,
 "nbformat_minor": 5
}
