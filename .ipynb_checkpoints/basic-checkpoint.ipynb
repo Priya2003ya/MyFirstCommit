{
 "cells": [
  {
   "cell_type": "code",
   "execution_count": null,
   "id": "56791abd",
   "metadata": {},
   "outputs": [],
   "source": [
    "a=2\n",
    "b=5\n",
    "print(a+b)\n",
    "print(a-b)\n",
    "print(a*b)\n",
    "print(a/b)\n",
    "print(a//b)\n",
    "print(a**b)"
   ]
  },
  {
   "cell_type": "code",
   "execution_count": null,
   "id": "5f40cf17",
   "metadata": {},
   "outputs": [],
   "source": [
    "fname=\"priya\"\n",
    "lname=\"prajapti\"\n",
    "print(fname, lname)\n",
    "print(\"my fname is \",fname,\"and lname is \",lname)\n",
    "print(\"my name is {} {}\".format(fname,lname))\n",
    "print(f\"my name is {fname} {lname}\")\n",
    "print(\"my fname is %s and lname is %s\"%(fname,lname))"
   ]
  },
  {
   "cell_type": "code",
   "execution_count": null,
   "id": "b435bbf0",
   "metadata": {},
   "outputs": [],
   "source": [
    "a=5+7j\n",
    "b=7+8j\n",
    "c=a+b\n",
    "print(c)"
   ]
  },
  {
   "cell_type": "code",
   "execution_count": null,
   "id": "802f90b7",
   "metadata": {},
   "outputs": [],
   "source": [
    "a=10\n",
    "print(float(a))"
   ]
  },
  {
   "cell_type": "code",
   "execution_count": null,
   "id": "b9f43cad",
   "metadata": {},
   "outputs": [],
   "source": [
    "x=567.78\n",
    "print(int(x))"
   ]
  },
  {
   "cell_type": "code",
   "execution_count": null,
   "id": "f298657d",
   "metadata": {},
   "outputs": [],
   "source": [
    "i=6\n",
    "print(complex(i))"
   ]
  },
  {
   "cell_type": "code",
   "execution_count": null,
   "id": "25cad23e",
   "metadata": {},
   "outputs": [],
   "source": [
    "complex(5,8)"
   ]
  },
  {
   "cell_type": "code",
   "execution_count": null,
   "id": "97083c83",
   "metadata": {},
   "outputs": [],
   "source": [
    "c=6+8j\n",
    "print((c))\n",
    "print(type(c))"
   ]
  },
  {
   "cell_type": "code",
   "execution_count": null,
   "id": "66690efb",
   "metadata": {},
   "outputs": [],
   "source": [
    "a=\"'hello\"\n",
    "b=\"priya',\"\n",
    "print(a+\" \"+b,\"how are you?\")"
   ]
  },
  {
   "cell_type": "code",
   "execution_count": null,
   "id": "55721074",
   "metadata": {},
   "outputs": [],
   "source": [
    "name=\"priya\"\n",
    "age=20\n",
    "course=\"python\"\n",
    "print(\"my name is\" +\" \"+name +\" \"+ \"and my age is\",age,\"today i learn \"+course)"
   ]
  },
  {
   "cell_type": "code",
   "execution_count": null,
   "id": "d33f5928",
   "metadata": {},
   "outputs": [],
   "source": [
    "a=\"No \"\n",
    "print(\"I must not tell lies,\"+a*3)"
   ]
  },
  {
   "cell_type": "code",
   "execution_count": null,
   "id": "f10070a8",
   "metadata": {},
   "outputs": [],
   "source": [
    "a=\"I am good girl.\"\n",
    "print(a[6])\n",
    "print(a[7])"
   ]
  },
  {
   "cell_type": "code",
   "execution_count": null,
   "id": "dc0bb423",
   "metadata": {},
   "outputs": [],
   "source": [
    "x=\"hello,what are you doing?\"\n",
    "print(x[:5])\n",
    "print(x[3:5])\n",
    "print(x[6:9])\n",
    "print(x[2:])"
   ]
  },
  {
   "cell_type": "code",
   "execution_count": null,
   "id": "4ce563bf",
   "metadata": {},
   "outputs": [],
   "source": [
    "i=\"hi, what is your name?\"\n",
    "print(\"w\" in i)\n",
    "print(\"t\" in i)\n",
    "print(\"o\" not in i)\n",
    "print(\"q\" not in i)"
   ]
  },
  {
   "cell_type": "code",
   "execution_count": null,
   "id": "535f04e1",
   "metadata": {},
   "outputs": [],
   "source": [
    "a=455\n",
    "b=\"priya\"\n",
    "c=5+7j\n",
    "print(type(a))\n",
    "print(type(b))\n",
    "print(type(c))"
   ]
  },
  {
   "cell_type": "code",
   "execution_count": null,
   "id": "f03b4b8d",
   "metadata": {},
   "outputs": [],
   "source": [
    "print(\"hello\\nmy self priya prajapati.\\ni am from azamgarh.\")"
   ]
  },
  {
   "cell_type": "code",
   "execution_count": null,
   "id": "e01a99a7",
   "metadata": {},
   "outputs": [],
   "source": [
    "a=\"parAdise computer insTitUte\"\n",
    "b=\"878\"\n",
    "print(a.upper())\n",
    "print(a.lower())\n",
    "print(a.title())\n",
    "print(a.capitalize())\n",
    "print(a.find(\"k\"))\n",
    "print(a.index(\"m\"))\n",
    "print(a.count(\"t\"))\n",
    "print(a.isalpha())\n",
    "print(b.isdigit())\n",
    "print(a.isupper())\n",
    "print(a.islower() ,a.lower())"
   ]
  },
  {
   "cell_type": "code",
   "execution_count": null,
   "id": "af9c9b29",
   "metadata": {},
   "outputs": [],
   "source": [
    "list=[\"c\",\"c++\",\"java\",\"puthon\"]\n",
    "print(list)\n",
    "print(type(list))\n",
    "print(list[3])\n",
    "print(len(list))\n",
    "print(max(list))\n",
    "print(min(list))"
   ]
  },
  {
   "cell_type": "code",
   "execution_count": null,
   "id": "9e684148",
   "metadata": {},
   "outputs": [],
   "source": [
    "l=[\"apple\",32,\"banana\",38,\"kiwi\",\"orange\"]\n",
    "print(l)\n",
    "print(l+l)\n",
    "print(l*4)\n",
    "print(l+l*2)\n",
    "print(l[4])\n",
    "print(l[1])\n",
    "print(l[:3])\n",
    "print(l[2:6])\n",
    "print(l[::])\n",
    "print(\"a\" in l)\n",
    "print(\"apple\" in l)"
   ]
  },
  {
   "cell_type": "code",
   "execution_count": 12,
   "id": "701adde4",
   "metadata": {},
   "outputs": [
    {
     "name": "stdout",
     "output_type": "stream",
     "text": [
      "['apple', 'banana', 'kiwi']\n",
      "['apple', 'banana', 'kiwi', 'orange']\n",
      "['apple', 'chiku', 'banana', 'kiwi', 'orange']\n",
      "['apple', 'chiku', 'banana', 'kiwi']\n",
      "['apple', 'chiku', 'banana']\n",
      "['apple', 'chiku', 'banana']\n",
      "['banana', 'chiku', 'apple']\n",
      "['apple', 'banana', 'chiku']\n",
      "3\n",
      "chiku\n",
      "apple\n"
     ]
    }
   ],
   "source": [
    "l=[\"apple\",\"banana\",\"kiwi\"]\n",
    "print(l)\n",
    "l.append(\"orange\")\n",
    "print(l)\n",
    "l.insert(1,\"chiku\")\n",
    "print(l)\n",
    "l.pop()\n",
    "print(l)\n",
    "l.remove(\"kiwi\")\n",
    "print(l)\n",
    "l.copy()\n",
    "print(l)\n",
    "l.reverse()\n",
    "print(l)\n",
    "l.sort()\n",
    "print(l)\n",
    "print(len(l))\n",
    "print(max(l))\n",
    "print(min(l))\n"
   ]
  },
  {
   "cell_type": "code",
   "execution_count": 35,
   "id": "689eaddf",
   "metadata": {},
   "outputs": [
    {
     "name": "stdout",
     "output_type": "stream",
     "text": [
      "('apple', 'banana', 'kiwi')\n",
      "3\n",
      "kiwi\n",
      "apple\n",
      "<class 'tuple'>\n",
      "banana\n",
      "('apple', 'banana', 'kiwi', 'apple', 'banana', 'kiwi')\n",
      "('apple', 'banana', 'kiwi', 'apple', 'banana', 'kiwi')\n",
      "('apple', 'banana')\n",
      "False\n",
      "True\n",
      "False\n",
      "True\n",
      "1\n"
     ]
    }
   ],
   "source": [
    "t=(\"apple\",\"banana\",\"kiwi\")\n",
    "print(t)\n",
    "print(len(t))\n",
    "print(max(t))\n",
    "print(min(t))\n",
    "print(type(t))\n",
    "print(t[1])\n",
    "print(t+t)\n",
    "print(t*2)\n",
    "print(t[:2])\n",
    "print(\"b\" in t)\n",
    "print(\"banana\" in t)\n",
    "print(\"kiwi\" not in t)\n",
    "print(\"h\" not in t)\n",
    "print(t.index(\"banana\"))\n",
    "\n"
   ]
  },
  {
   "cell_type": "code",
   "execution_count": 15,
   "id": "f59c53d4",
   "metadata": {},
   "outputs": [
    {
     "name": "stdout",
     "output_type": "stream",
     "text": [
      "('priya', 'priyanka', 'monika', 'riya')\n",
      "<class 'tuple'>\n",
      "<class 'list'>\n",
      "False\n",
      "True\n",
      "False\n"
     ]
    }
   ],
   "source": [
    "tup=(\"priya\",\"priyanka\",\"monika\")\n",
    "li=list(tup)\n",
    "li.append(\"riya\")\n",
    "tup=tuple(li)\n",
    "print(tup)\n",
    "print(type(tup))\n",
    "print(type(li))\n",
    "print(\"p\" in tup)\n",
    "print(\"priya\" in tup)\n",
    "print(\"monika\" not in tup)"
   ]
  },
  {
   "cell_type": "code",
   "execution_count": 51,
   "id": "4b997d1b",
   "metadata": {},
   "outputs": [
    {
     "data": {
      "text/plain": [
       "'griin'"
      ]
     },
     "execution_count": 51,
     "metadata": {},
     "output_type": "execute_result"
    }
   ],
   "source": [
    "li=[\"red\",\"green\",\"yellow\",\"pink\"]\n",
    "li[1][:2]+li[1][2:4].replace(\"e\",\"i\")+li[1][4:]"
   ]
  },
  {
   "cell_type": "code",
   "execution_count": 61,
   "id": "0414f62c",
   "metadata": {},
   "outputs": [
    {
     "name": "stdout",
     "output_type": "stream",
     "text": [
      "['rose', 'lotus', 'lili', 'red', 'pink', 'white']\n"
     ]
    }
   ],
   "source": [
    "li=[\"rose\",\"lotus\",\"lili\"]\n",
    "tu=(\"red\",\"pink\",\"white\")\n",
    "li.extend(tu)\n",
    "print(li)"
   ]
  },
  {
   "cell_type": "code",
   "execution_count": 75,
   "id": "ff370e20",
   "metadata": {},
   "outputs": [
    {
     "name": "stdout",
     "output_type": "stream",
     "text": [
      "dde\n",
      "['ds', 'dde', 'jjni']\n",
      "['j', 'j', 'h', 'h', 'i', 'j', 'i', 'w']\n",
      "['ds', 'dde', 'jjni']\n",
      "('j', 'j', 'h', 'h', 'i', 'j', 'i', 'w')\n"
     ]
    }
   ],
   "source": [
    "li=[\"ds\",\"dde\",\"jjni\"]\n",
    "l=\"jjhhijiw\"\n",
    "print(li[1])\n",
    "print(li)\n",
    "print(list(l))\n",
    "print(str(li))\n",
    "print(tuple(l))"
   ]
  },
  {
   "cell_type": "code",
   "execution_count": 130,
   "id": "53766a11",
   "metadata": {},
   "outputs": [
    {
     "name": "stdout",
     "output_type": "stream",
     "text": [
      "{'name': 'priya', 'age': 20, 'gender': 'female'}\n",
      "priya\n",
      "20\n",
      "{'name': 'priya', 'age': 20, 'gender': 'female', 'course': ('python', 'c', 'java')}\n",
      "{'name': 'priya', 'age': 20, 'gender': 'female', 'course': ('python', 'c', 'java'), 'color': {1: 'red', 2: {'a': 'pink', 'b': 'light pink'}, 3: 'yellow'}}\n",
      "{'a': 'pink', 'b': 'light pink'}\n",
      "yel\n",
      "java\n",
      "yellvw\n",
      "{'name': 'priya', 'age': 20, 'gender': 'female', 'course': ('python', 'c', 'java'), 'color': {1: {'a': 'dark red', 'b': 'light red'}, 2: {'a': 'pink', 'b': 'light pink'}, 3: 'yellow'}}\n",
      "5\n",
      "name\n",
      "age\n",
      "3\n",
      "3\n",
      "1\n",
      "2\n"
     ]
    }
   ],
   "source": [
    "dict={\"name\":\"priya\",\"age\":20,\"gender\":\"female\"}\n",
    "print(dict)\n",
    "print(dict[\"name\"])\n",
    "print(dict.get(\"age\"))\n",
    "dict[\"course\"]=(\"python\",\"c\",\"java\")\n",
    "print(dict)\n",
    "dict.update({\"color\":{1:\"red\",2:{\"a\":\"pink\",\"b\":\"light pink\"},3:\"yellow\"}})\n",
    "print(dict)\n",
    "print(dict[\"color\"][2])\n",
    "print(dict[\"color\"][3][:3])\n",
    "print(dict[\"course\"][2])\n",
    "print(dict[\"color\"][3][:4]+dict[\"color\"][3][4:].replace(\"o\",\"v\"))\n",
    "dict[\"color\"][1]={\"a\":\"dark red\",\"b\":\"light red\"}\n",
    "print(dict)\n",
    "print(len(dict))\n",
    "print(max(dict))\n",
    "print(min(dict))\n",
    "print(len(dict[\"color\"]))\n",
    "print(max(dict[\"color\"]))\n",
    "print(min(dict[\"color\"]))\n",
    "print(len(dict[\"color\"][1]))"
   ]
  },
  {
   "cell_type": "code",
   "execution_count": 143,
   "id": "53e6be92",
   "metadata": {},
   "outputs": [
    {
     "name": "stdout",
     "output_type": "stream",
     "text": [
      "{'name': 'priya', 'age': 20, 'gender': 'female'}\n",
      "priya\n",
      "20\n",
      "{'name': 'priya', 'age': 20, 'gender': 'female', 'course': ('python', 'c', 'java')}\n",
      "{'name': 'priya', 'age': 20, 'gender': 'female', 'course': ('python', 'c', 'java'), 'color': {1: 'red', 2: {'a': 'pink', 'b': 'light pink'}, 3: 'yellow'}}\n",
      "dict_keys(['name', 'age', 'gender', 'course', 'color'])\n",
      "dict_values(['priya', 20, 'female', ('python', 'c', 'java'), {1: 'red', 2: {'a': 'pink', 'b': 'light pink'}, 3: 'yellow'}])\n",
      "dict_items([('name', 'priya'), ('age', 20), ('gender', 'female'), ('course', ('python', 'c', 'java')), ('color', {1: 'red', 2: {'a': 'pink', 'b': 'light pink'}, 3: 'yellow'})])\n",
      "{'name': 'priya', 'gender': 'female', 'course': ('python', 'c', 'java'), 'color': {1: 'red', 2: {'a': 'pink', 'b': 'light pink'}, 3: 'yellow'}}\n",
      "{'name': 'priya', 'gender': 'female', 'course': ('python', 'c', 'java'), 'color': {1: 'red', 2: {'a': 'pink', 'b': 'light pink'}, 3: 'yellow'}}\n",
      "('color', {1: 'red', 2: {'a': 'pink', 'b': 'light pink'}, 3: 'yellow'})\n",
      "{'name': 'priya', 'gender': 'female', 'course': ('python', 'c', 'java')}\n",
      "{}\n"
     ]
    }
   ],
   "source": [
    "dict={\"name\":\"priya\",\"age\":20,\"gender\":\"female\"}\n",
    "print(dict)\n",
    "print(dict[\"name\"])\n",
    "print(dict.get(\"age\"))\n",
    "dict[\"course\"]=(\"python\",\"c\",\"java\")\n",
    "print(dict)\n",
    "dict.update({\"color\":{1:\"red\",2:{\"a\":\"pink\",\"b\":\"light pink\"},3:\"yellow\"}})\n",
    "print(dict)\n",
    "print(dict.keys())\n",
    "print(dict.values())\n",
    "print(dict.items())\n",
    "dict.pop(\"age\")\n",
    "print(dict)\n",
    "print(dict.copy())\n",
    "print(dict.popitem())\n",
    "print(dict)\n",
    "dict.clear()\n",
    "print(dict)"
   ]
  },
  {
   "cell_type": "code",
   "execution_count": 1,
   "id": "9300e26d",
   "metadata": {},
   "outputs": [
    {
     "name": "stdout",
     "output_type": "stream",
     "text": [
      "{'1': 'priya', '2': 'priya', '3': 'priya'}\n"
     ]
    }
   ],
   "source": [
    "a=\"123\"\n",
    "b=\"priya\"\n",
    "dict=dict.fromkeys(a,b)\n",
    "print(dict)\n"
   ]
  },
  {
   "cell_type": "code",
   "execution_count": 7,
   "id": "27ba4676",
   "metadata": {},
   "outputs": [
    {
     "name": "stdout",
     "output_type": "stream",
     "text": [
      "2020\n",
      "white\n"
     ]
    }
   ],
   "source": [
    "car={\n",
    "    \"brand\":\"Ford\",\n",
    "    \"model\":\"Mustang\",\n",
    "    \"year\":2020\n",
    "}\n",
    "a=car.setdefault(\"year\",1999)\n",
    "print(a)\n",
    "x=car.setdefault(\"color\",\"white\")\n",
    "print(x)"
   ]
  },
  {
   "cell_type": "code",
   "execution_count": 11,
   "id": "edaae577",
   "metadata": {},
   "outputs": [
    {
     "name": "stdout",
     "output_type": "stream",
     "text": [
      "True\n"
     ]
    }
   ],
   "source": [
    "car={\n",
    "    \"brand\":\"Ford\",\n",
    "    \"model\":\"Mustang\",\n",
    "    \"year\":2020\n",
    "}\n",
    "print(\"b\" not in car)"
   ]
  },
  {
   "cell_type": "code",
   "execution_count": 25,
   "id": "7e061f5c",
   "metadata": {},
   "outputs": [
    {
     "name": "stdout",
     "output_type": "stream",
     "text": [
      "aadarsh\n",
      "['gaurav', 'mandeep']\n",
      "mukesh\n"
     ]
    }
   ],
   "source": [
    "t=[\"aadarsh\",\"gaurav\",\"mandeep\",\"mukesh\"]\n",
    "a,*b,c =t\n",
    "print(a)\n",
    "print(b)\n",
    "print(c)\n"
   ]
  },
  {
   "cell_type": "code",
   "execution_count": 28,
   "id": "c41f265b",
   "metadata": {},
   "outputs": [
    {
     "name": "stdout",
     "output_type": "stream",
     "text": [
      "priya\n",
      "20\n",
      "female\n"
     ]
    }
   ],
   "source": [
    "dict={\"name\":\"priya\",\"age\":20,\"gender\":\"female\"}\n",
    "for x in dict.values():\n",
    "    print(x)"
   ]
  },
  {
   "cell_type": "code",
   "execution_count": null,
   "id": "f33e8815",
   "metadata": {},
   "outputs": [],
   "source": []
  }
 ],
 "metadata": {
  "kernelspec": {
   "display_name": "Python 3 (ipykernel)",
   "language": "python",
   "name": "python3"
  },
  "language_info": {
   "codemirror_mode": {
    "name": "ipython",
    "version": 3
   },
   "file_extension": ".py",
   "mimetype": "text/x-python",
   "name": "python",
   "nbconvert_exporter": "python",
   "pygments_lexer": "ipython3",
   "version": "3.11.5"
  }
 },
 "nbformat": 4,
 "nbformat_minor": 5
}
