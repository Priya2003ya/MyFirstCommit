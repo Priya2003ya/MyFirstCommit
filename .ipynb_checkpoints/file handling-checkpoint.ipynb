{
 "cells": [
  {
   "cell_type": "code",
   "execution_count": 13,
   "id": "09f1477b",
   "metadata": {},
   "outputs": [],
   "source": [
    "import requests"
   ]
  },
  {
   "cell_type": "code",
   "execution_count": 14,
   "id": "524c6c0b",
   "metadata": {},
   "outputs": [],
   "source": [
    "res = requests.get(\"https://example.com\")"
   ]
  },
  {
   "cell_type": "code",
   "execution_count": 15,
   "id": "b6a92dd2",
   "metadata": {},
   "outputs": [
    {
     "data": {
      "text/plain": [
       "'<!doctype html>\\n<html>\\n<head>\\n    <title>Example Domain</title>\\n\\n    <meta charset=\"utf-8\" />\\n    <meta http-equiv=\"Content-type\" content=\"text/html; charset=utf-8\" />\\n    <meta name=\"viewport\" content=\"width=device-width, initial-scale=1\" />\\n    <style type=\"text/css\">\\n    body {\\n        background-color: #f0f0f2;\\n        margin: 0;\\n        padding: 0;\\n        font-family: -apple-system, system-ui, BlinkMacSystemFont, \"Segoe UI\", \"Open Sans\", \"Helvetica Neue\", Helvetica, Arial, sans-serif;\\n        \\n    }\\n    div {\\n        width: 600px;\\n        margin: 5em auto;\\n        padding: 2em;\\n        background-color: #fdfdff;\\n        border-radius: 0.5em;\\n        box-shadow: 2px 3px 7px 2px rgba(0,0,0,0.02);\\n    }\\n    a:link, a:visited {\\n        color: #38488f;\\n        text-decoration: none;\\n    }\\n    @media (max-width: 700px) {\\n        div {\\n            margin: 0 auto;\\n            width: auto;\\n        }\\n    }\\n    </style>    \\n</head>\\n\\n<body>\\n<div>\\n    <h1>Example Domain</h1>\\n    <p>This domain is for use in illustrative examples in documents. You may use this\\n    domain in literature without prior coordination or asking for permission.</p>\\n    <p><a href=\"https://www.iana.org/domains/example\">More information...</a></p>\\n</div>\\n</body>\\n</html>\\n'"
      ]
     },
     "execution_count": 15,
     "metadata": {},
     "output_type": "execute_result"
    }
   ],
   "source": [
    "res.text"
   ]
  },
  {
   "cell_type": "code",
   "execution_count": 16,
   "id": "26ad80fe",
   "metadata": {},
   "outputs": [],
   "source": [
    "import bs4"
   ]
  },
  {
   "cell_type": "code",
   "execution_count": 17,
   "id": "21ce7fc4",
   "metadata": {},
   "outputs": [
    {
     "data": {
      "text/plain": [
       "<!DOCTYPE html>\n",
       "<html>\n",
       "<head>\n",
       "<title>Example Domain</title>\n",
       "<meta charset=\"utf-8\"/>\n",
       "<meta content=\"text/html; charset=utf-8\" http-equiv=\"Content-type\"/>\n",
       "<meta content=\"width=device-width, initial-scale=1\" name=\"viewport\"/>\n",
       "<style type=\"text/css\">\n",
       "    body {\n",
       "        background-color: #f0f0f2;\n",
       "        margin: 0;\n",
       "        padding: 0;\n",
       "        font-family: -apple-system, system-ui, BlinkMacSystemFont, \"Segoe UI\", \"Open Sans\", \"Helvetica Neue\", Helvetica, Arial, sans-serif;\n",
       "        \n",
       "    }\n",
       "    div {\n",
       "        width: 600px;\n",
       "        margin: 5em auto;\n",
       "        padding: 2em;\n",
       "        background-color: #fdfdff;\n",
       "        border-radius: 0.5em;\n",
       "        box-shadow: 2px 3px 7px 2px rgba(0,0,0,0.02);\n",
       "    }\n",
       "    a:link, a:visited {\n",
       "        color: #38488f;\n",
       "        text-decoration: none;\n",
       "    }\n",
       "    @media (max-width: 700px) {\n",
       "        div {\n",
       "            margin: 0 auto;\n",
       "            width: auto;\n",
       "        }\n",
       "    }\n",
       "    </style>\n",
       "</head>\n",
       "<body>\n",
       "<div>\n",
       "<h1>Example Domain</h1>\n",
       "<p>This domain is for use in illustrative examples in documents. You may use this\n",
       "    domain in literature without prior coordination or asking for permission.</p>\n",
       "<p><a href=\"https://www.iana.org/domains/example\">More information...</a></p>\n",
       "</div>\n",
       "</body>\n",
       "</html>"
      ]
     },
     "execution_count": 17,
     "metadata": {},
     "output_type": "execute_result"
    }
   ],
   "source": [
    "soup = bs4.BeautifulSoup(res.text,\"lxml\")\n",
    "soup"
   ]
  },
  {
   "cell_type": "code",
   "execution_count": 19,
   "id": "9a8c216c",
   "metadata": {},
   "outputs": [
    {
     "name": "stdout",
     "output_type": "stream",
     "text": [
      "<!DOCTYPE html>\n",
      "<html>\n",
      "<head>\n",
      "<title>Example Domain</title>\n",
      "<meta charset=\"utf-8\"/>\n",
      "<meta content=\"text/html; charset=utf-8\" http-equiv=\"Content-type\"/>\n",
      "<meta content=\"width=device-width, initial-scale=1\" name=\"viewport\"/>\n",
      "<style type=\"text/css\">\n",
      "    body {\n",
      "        background-color: #f0f0f2;\n",
      "        margin: 0;\n",
      "        padding: 0;\n",
      "        font-family: -apple-system, system-ui, BlinkMacSystemFont, \"Segoe UI\", \"Open Sans\", \"Helvetica Neue\", Helvetica, Arial, sans-serif;\n",
      "        \n",
      "    }\n",
      "    div {\n",
      "        width: 600px;\n",
      "        margin: 5em auto;\n",
      "        padding: 2em;\n",
      "        background-color: #fdfdff;\n",
      "        border-radius: 0.5em;\n",
      "        box-shadow: 2px 3px 7px 2px rgba(0,0,0,0.02);\n",
      "    }\n",
      "    a:link, a:visited {\n",
      "        color: #38488f;\n",
      "        text-decoration: none;\n",
      "    }\n",
      "    @media (max-width: 700px) {\n",
      "        div {\n",
      "            margin: 0 auto;\n",
      "            width: auto;\n",
      "        }\n",
      "    }\n",
      "    </style>\n",
      "</head>\n",
      "<body>\n",
      "<div>\n",
      "<h1>Example Domain</h1>\n",
      "<p>This domain is for use in illustrative examples in documents. You may use this\n",
      "    domain in literature without prior coordination or asking for permission.</p>\n",
      "<p><a href=\"https://www.iana.org/domains/example\">More information...</a></p>\n",
      "</div>\n",
      "</body>\n",
      "</html>\n",
      "â€‹\n",
      "\n"
     ]
    }
   ],
   "source": [
    "with open(\"first.html\",\"r\")as f:\n",
    "    print(f.read())"
   ]
  },
  {
   "cell_type": "code",
   "execution_count": 21,
   "id": "1341686f",
   "metadata": {},
   "outputs": [
    {
     "name": "stdout",
     "output_type": "stream",
     "text": [
      "Enter your name:Priya\n",
      "Enter your rollno:21\n"
     ]
    }
   ],
   "source": [
    "file = open(\"second.txt\",\"w\")\n",
    "name = input(\"Enter your name:\")\n",
    "rollno = int(input(\"Enter your rollno:\"))\n",
    "file.write(f\"your name is {name}and you roll no {rollno}\")\n",
    "file.close()\n",
    "\n"
   ]
  },
  {
   "cell_type": "code",
   "execution_count": 22,
   "id": "dba48611",
   "metadata": {},
   "outputs": [
    {
     "name": "stdout",
     "output_type": "stream",
     "text": [
      "your name is Priyaand you roll no 21\n"
     ]
    }
   ],
   "source": [
    "with open(\"second.txt\",\"r\")as f:\n",
    "    print(f.read())"
   ]
  },
  {
   "cell_type": "code",
   "execution_count": 48,
   "id": "393bbba4",
   "metadata": {},
   "outputs": [
    {
     "name": "stdout",
     "output_type": "stream",
     "text": [
      "Enter your name:Priya\n",
      "Enter your rollno:65\n",
      "you want to read data y or no:\n",
      "Enter your choice(y or no):n\n",
      "your name is Priya and you roll no 75\n"
     ]
    }
   ],
   "source": [
    "file = open(\"second.txt\",\"w\")\n",
    "name = input(\"Enter your name:\")\n",
    "rollno = int(input(\"Enter your rollno:\"))\n",
    "file.write(f\"your name is {name} and you roll no {rollno}\")\n",
    "d = print(\"you want to read data y or no:\")\n",
    "ch=input(\"Enter your choice(y or no):\")\n",
    "if ch==\"y\" or \"Y\":\n",
    "    with open(\"second.txt\",\"r\")as f:\n",
    "        print(f.read())\n",
    "else:\n",
    "    with open(\"second.txt\",\"a\")as f:\n",
    "        print(f.write(f\"your name is {name} and you roll no {rollno}\"))\n",
    "        print(f.write(\"CLOSED  FILE.!!\"))\n",
    "    with open(\"second.txt\",\"r\")as f:\n",
    "        print(f.read())\n"
   ]
  },
  {
   "cell_type": "code",
   "execution_count": 44,
   "id": "7f196c91",
   "metadata": {},
   "outputs": [
    {
     "name": "stdout",
     "output_type": "stream",
     "text": [
      "11\n",
      "your name is re and you roll no 4closed fileclosed fileclosed fileclosed file\n"
     ]
    }
   ],
   "source": [
    "with open(\"second.txt\",\"a\")as f:\n",
    "    print(f.write(\"closed file\"))\n",
    "with open(\"second.txt\",\"r\")as f:\n",
    "    print(f.read())"
   ]
  },
  {
   "cell_type": "code",
   "execution_count": 51,
   "id": "f6a4de82",
   "metadata": {},
   "outputs": [],
   "source": [
    "file =open(\"f.txt\",\"w\")\n",
    "file.write(\"hello world\")\n",
    "file.close()\n",
    "file=open(\"f.txt\",\"a\")\n",
    "file.write(\"dsf\")\n",
    "file.close()\n",
    "file=open(\"f.txt\",\"r\")\n",
    "file.read()\n",
    "file.close()"
   ]
  },
  {
   "cell_type": "code",
   "execution_count": 1,
   "id": "96b7d92b",
   "metadata": {},
   "outputs": [
    {
     "name": "stdout",
     "output_type": "stream",
     "text": [
      "27\n",
      "b'paradise computer institute'\n"
     ]
    }
   ],
   "source": [
    "f = open(\"one.txt\",\"w\")\n",
    "print(f.write(\"paradise computer institute\"))\n",
    "f.close()\n",
    "f=open(\"one.txt\",\"rb\")\n",
    "print(f.read())\n",
    "f.close()\n"
   ]
  },
  {
   "cell_type": "code",
   "execution_count": null,
   "id": "5eae3dfb",
   "metadata": {},
   "outputs": [],
   "source": []
  },
  {
   "cell_type": "code",
   "execution_count": 6,
   "id": "67a57957",
   "metadata": {},
   "outputs": [],
   "source": [
    "# f=open(\"info.txt\",\"w\")\n",
    "# name=input(\"ENTER your name \")\n",
    "# rollno =input((\"Enter the roo\"))\n",
    "# print(f.write(\"Student Data\\n\"))\n",
    "# print(f.write(\"1.search data\\n2.update data\\n3.display data\"))\n",
    "# choice=input(int(\"Enter your choice\"))\n",
    "# if choice==1:\n",
    "#     f=open(\"info.txt\",\"r\")\n",
    "#     print(f.read())\n",
    "#     f.close()\n",
    "    \n",
    "# f.close()\n"
   ]
  },
  {
   "cell_type": "code",
   "execution_count": 12,
   "id": "4610bbb3",
   "metadata": {},
   "outputs": [
    {
     "name": "stdout",
     "output_type": "stream",
     "text": [
      "Enter the roll number: 67\n",
      "Enter the name: priya\n",
      "Enter the address: xyz\n",
      "Enter the class: 3\n",
      "Student data inserted successfully!\n",
      "Enter the roll number: 67\n",
      "Name: priya\n",
      "Address: xyz\n",
      "Class: 3\n",
      "Enter the name to search: priya\n",
      "Roll Number: 67\n",
      "Address: xyz\n",
      "Class: 3\n",
      "Enter the roll number to update: 45\n"
     ]
    }
   ],
   "source": [
    "students = {}\n",
    "def insert_student_data():\n",
    "    roll_number = input(\"Enter the roll number: \") \n",
    "    name = input(\"Enter the name: \")\n",
    "    address = input(\"Enter the address: \") \n",
    "    class_name = input(\"Enter the class: \")\n",
    "    students[roll_number] = { 'name': name, 'address': address, 'class': class_name }\n",
    "    print(\"Student data inserted successfully!\")\n",
    "def display_student_data(): \n",
    "    roll_number = input(\"Enter the roll number: \")\n",
    "    if roll_number in students:\n",
    "        student = students[roll_number] \n",
    "        print(\"Name:\", student['name'])\n",
    "        print(\"Address:\", student['address']) \n",
    "        print(\"Class:\", student['class']) \n",
    "    else: \n",
    "            print(\"Student data not found!\")\n",
    "def search_student_data(): \n",
    "    name = input(\"Enter the name to search: \") \n",
    "    # Loop through the dictionary to find matching student names \n",
    "    found = False\n",
    "    for roll_number, student in students.items(): \n",
    "        if student['name'] == name: \n",
    "            print(\"Roll Number:\", roll_number)\n",
    "            print(\"Address:\", student['address']) \n",
    "            print(\"Class:\", student['class'])\n",
    "            found = True \n",
    "            if not found:\n",
    "                print(\"No student found with that name!\")\n",
    "def update_student_data():\n",
    "    roll_number = input(\"Enter the roll number to update: \")\n",
    "    #Check if the roll number exists in the dictionary \n",
    "    if roll_number in students: \n",
    "        student = students[roll_number] \n",
    "        print(\"Current Data:\")\n",
    "        print(\"Name:\", student['name']) \n",
    "        print(\"Address:\", student['address'])\n",
    "        print(\"Class:\", student['class'])\n",
    "        #Prompt for new data \n",
    "        new_name = input(\"Enter the new name (leave blank to keep current): \") \n",
    "        new_address = input(\"Enter the new address (leave blank to keep current): \") \n",
    "        new_class = input(\"Enter the new class (leave blank to keep current): \")\n",
    "        #Update the student data in the dictionary \n",
    "        \n",
    "        \n",
    "insert_student_data()\n",
    "display_student_data()\n",
    "search_student_data()\n",
    "update_student_data()"
   ]
  },
  {
   "cell_type": "code",
   "execution_count": null,
   "id": "8cc866ff",
   "metadata": {},
   "outputs": [],
   "source": []
  },
  {
   "cell_type": "code",
   "execution_count": null,
   "id": "2f3bfca7",
   "metadata": {},
   "outputs": [
    {
     "name": "stdout",
     "output_type": "stream",
     "text": [
      "\n",
      "1.Add Student\n",
      "2.display Student\n",
      "3.Search Student\n",
      "4.Update student\n",
      "5.exit\n",
      "enter your choice(1-5):1\n",
      "Enter student name:priya\n",
      "Enter roll number:75\n",
      "Student added successfully.\n",
      "\n",
      "1.Add Student\n",
      "2.display Student\n",
      "3.Search Student\n",
      "4.Update student\n",
      "5.exit\n",
      "enter your choice(1-5):1\n",
      "Enter student name:tena\n",
      "Enter roll number:65\n",
      "Student added successfully.\n",
      "\n",
      "1.Add Student\n",
      "2.display Student\n",
      "3.Search Student\n",
      "4.Update student\n",
      "5.exit\n",
      "enter your choice(1-5):2\n",
      "No student found.\n",
      "\n",
      "1.Add Student\n",
      "2.display Student\n",
      "3.Search Student\n",
      "4.Update student\n",
      "5.exit\n",
      "enter your choice(1-5):2\n",
      "No student found.\n",
      "\n",
      "1.Add Student\n",
      "2.display Student\n",
      "3.Search Student\n",
      "4.Update student\n",
      "5.exit\n",
      "enter your choice(1-5):2\n",
      "No student found.\n",
      "\n",
      "1.Add Student\n",
      "2.display Student\n",
      "3.Search Student\n",
      "4.Update student\n",
      "5.exit\n"
     ]
    }
   ],
   "source": [
    "import json\n",
    "\n",
    "def read_data():\n",
    "    try:\n",
    "        with open(\"student.json\",\"r\")as file:\n",
    "            data=json.load(file)\n",
    "    except FileNotFoundError:\n",
    "        data=[]\n",
    "        return data\n",
    "    \n",
    "def write_data(data):\n",
    "    with open(\"student.json\",\"w\")as file:\n",
    "        json.dump(data,file,indent=2)\n",
    "\n",
    "def add_student():\n",
    "    data = read_data()\n",
    "    name=input(\"Enter student name:\")\n",
    "    roll_number=int(input(\"Enter roll number:\"))\n",
    "    new_student={\"name\":name,\"roll_number\":roll_number}\n",
    "#     data.append(new_student)\n",
    "    write_data(new_student)\n",
    "    print(\"Student added successfully.\")\n",
    "    \n",
    "def display_students():\n",
    "    data=read_data()\n",
    "    if data:\n",
    "        print(\"List of student:\")\n",
    "        for student in data:\n",
    "            print(f\"Name:{student['name']},roll Number:{student['roll_number']}\")\n",
    "    else:\n",
    "        print(\"No student found.\")\n",
    "        \n",
    "def search_student():\n",
    "    data = read_data()\n",
    "    roll_number_to_search = input(\"Enter roll number to search:\")\n",
    "    for student in data:\n",
    "        if student[\"roll_number\"]==roll_number_to_search:\n",
    "            print(f\"Student found - Name:{student['name']},Roll Number:{student['roll_number']}\")\n",
    "            return\n",
    "        print(\"Student not found.\")\n",
    "        \n",
    "def update_student():\n",
    "    data=read_data()\n",
    "    roll_number_to_update=input(\"Enter roll number to update:\")\n",
    "    for student in data:\n",
    "        if student[\"roll_number\"]==roll_number_to_update:\n",
    "            new_name=input(\"Enter new name:\")\n",
    "            student[\"name\"]=new_name\n",
    "            write_data(data)\n",
    "            print(\"Student updated successfully.\")\n",
    "            return\n",
    "        print(\"Student not found\")\n",
    "        \n",
    "        \n",
    "while True:\n",
    "    print(\"\\n1.Add Student\\n2.display Student\\n3.Search Student\\n4.Update student\\n5.exit\")\n",
    "    choice = int(input(\"enter your choice(1-5):\"))\n",
    "    \n",
    "    if choice==1:\n",
    "        add_student()\n",
    "    elif choice==2:\n",
    "        display_students()\n",
    "    elif choice==3:\n",
    "        search_student()\n",
    "    elif choice==4:\n",
    "        update_student()\n",
    "    elif choice==5:\n",
    "        print(\"Exiting program. goodbye!\")\n",
    "        break\n",
    "    else:\n",
    "        print(\"Invalid choice. Please enter a number between 1 and 5.\")"
   ]
  },
  {
   "cell_type": "code",
   "execution_count": null,
   "id": "14d8eeff",
   "metadata": {},
   "outputs": [],
   "source": []
  },
  {
   "cell_type": "code",
   "execution_count": null,
   "id": "ac9cee2e",
   "metadata": {},
   "outputs": [],
   "source": []
  },
  {
   "cell_type": "code",
   "execution_count": 5,
   "id": "7bf60ec8",
   "metadata": {},
   "outputs": [],
   "source": [
    "# def calculate_average_marks(marks_list):\n",
    "#     total_marks = sum(marks_list)\n",
    "#     average_marks = total_marks/len(marks_list)\n",
    "#     return average_marks\n",
    "\n",
    "# def process_student_data(input_file,output_file):\n",
    "#     with open(input_file,\"r\")as file:\n",
    "#         with open(output_file,\"w\")as output:\n",
    "#             for line in file:\n",
    "#                 data=line.strip().split(\",\")\n",
    "#                 name=data[0]\n",
    "#                 marks=list(map(int,data[1:]))\n",
    "#                 average_marks=calculate_average_marks(marks)\n",
    "#                 output.write(f\"{name}:{average_marks:2f}\\n\")\n",
    "                \n",
    "# def main():\n",
    "#     input_file = \"student_data.txt\"\n",
    "#     output_file = \"average_marks.txt\"\n",
    "#     process_student_data(input_file,output_file)\n",
    "#     print(\"Average marks calculate and saved to 'average_marks.txt'.\")\n",
    "    \n",
    "# main()"
   ]
  },
  {
   "cell_type": "code",
   "execution_count": null,
   "id": "cf53867d",
   "metadata": {},
   "outputs": [],
   "source": []
  },
  {
   "cell_type": "code",
   "execution_count": null,
   "id": "a62d9bd8",
   "metadata": {},
   "outputs": [],
   "source": [
    "\n",
    "\n"
   ]
  }
 ],
 "metadata": {
  "kernelspec": {
   "display_name": "Python 3 (ipykernel)",
   "language": "python",
   "name": "python3"
  },
  "language_info": {
   "codemirror_mode": {
    "name": "ipython",
    "version": 3
   },
   "file_extension": ".py",
   "mimetype": "text/x-python",
   "name": "python",
   "nbconvert_exporter": "python",
   "pygments_lexer": "ipython3",
   "version": "3.11.5"
  }
 },
 "nbformat": 4,
 "nbformat_minor": 5
}
