{
 "cells": [
  {
   "cell_type": "code",
   "execution_count": 12,
   "id": "c16d9a72",
   "metadata": {},
   "outputs": [
    {
     "name": "stdout",
     "output_type": "stream",
     "text": [
      "Enter the value in celsius:37\n",
      "37.0 degree celsius is equal to 98.6 degree fahrenheit.\n",
      "98.6 degree fahrenheit is equal to 37.0 degree celsius.\n"
     ]
    }
   ],
   "source": [
    "celsius=int(input(\"Enter the value in celsius:\"))\n",
    "fahrenheit=(celsius*1.8)+32\n",
    "print(\"%0.1f degree celsius is equal to %0.1f degree fahrenheit.\"%(celsius,fahrenheit))\n",
    "celsius=(fahrenheit-32)//1.8\n",
    "print(\"%0.1f degree fahrenheit is equal to %0.1f degree celsius.\"%(fahrenheit,celsius))"
   ]
  },
  {
   "cell_type": "code",
   "execution_count": 20,
   "id": "208678a5",
   "metadata": {},
   "outputs": [
    {
     "name": "stdout",
     "output_type": "stream",
     "text": [
      "Enter the number:19\n",
      "19 * 1 = 19\n",
      "19 * 2 = 38\n",
      "19 * 3 = 57\n",
      "19 * 4 = 76\n",
      "19 * 5 = 95\n",
      "19 * 6 = 114\n",
      "19 * 7 = 133\n",
      "19 * 8 = 152\n",
      "19 * 9 = 171\n",
      "19 * 10 = 190\n"
     ]
    }
   ],
   "source": [
    "x=int(input(\"Enter the number:\"))\n",
    "i=1\n",
    "while i<=10:\n",
    "    print(x, \"*\",i, \"=\" ,x*i)\n",
    "    i+=1"
   ]
  },
  {
   "cell_type": "code",
   "execution_count": 29,
   "id": "6317c97d",
   "metadata": {},
   "outputs": [
    {
     "name": "stdout",
     "output_type": "stream",
     "text": [
      "Enter the number:35\n",
      "35 * 1 = 35\n",
      "35 * 2 = 70\n",
      "35 * 3 = 105\n",
      "35 * 4 = 140\n",
      "35 * 5 = 175\n",
      "35 * 6 = 210\n",
      "35 * 7 = 245\n",
      "35 * 8 = 280\n",
      "35 * 9 = 315\n",
      "35 * 10 = 350\n"
     ]
    }
   ],
   "source": [
    "a=int(input(\"Enter the number:\"))\n",
    "for i in range(1,11):\n",
    "    print(a,\"*\",i,\"=\", a*i)\n",
    "    \n",
    "    \n",
    "    "
   ]
  },
  {
   "cell_type": "code",
   "execution_count": 1,
   "id": "397c3b2f",
   "metadata": {},
   "outputs": [
    {
     "name": "stdout",
     "output_type": "stream",
     "text": [
      "Enter the number:4\n",
      "The factorial of 4 is 24\n"
     ]
    }
   ],
   "source": [
    "num=int(input(\"Enter the number:\"))\n",
    "f=1\n",
    "for i in range(1,num+1):\n",
    "    f=f*i\n",
    "print(\"The factorial of\", num, \"is\", f)"
   ]
  },
  {
   "cell_type": "code",
   "execution_count": 1,
   "id": "29c0ab0e",
   "metadata": {},
   "outputs": [
    {
     "name": "stdout",
     "output_type": "stream",
     "text": [
      "1\n",
      "2\n",
      "3\n",
      "4\n",
      "5\n",
      "6\n",
      "7\n",
      "8\n",
      "9\n",
      "10\n"
     ]
    }
   ],
   "source": [
    "for i in range(1,11):\n",
    "    print(i)"
   ]
  },
  {
   "cell_type": "code",
   "execution_count": 7,
   "id": "260badb6",
   "metadata": {},
   "outputs": [
    {
     "name": "stdout",
     "output_type": "stream",
     "text": [
      "10\n",
      "9\n",
      "8\n",
      "7\n",
      "6\n",
      "5\n",
      "4\n",
      "3\n",
      "2\n",
      "1\n"
     ]
    }
   ],
   "source": [
    "for i in range(10,0,-1):\n",
    "    print(i)"
   ]
  },
  {
   "cell_type": "code",
   "execution_count": 8,
   "id": "73b91b4b",
   "metadata": {},
   "outputs": [
    {
     "name": "stdout",
     "output_type": "stream",
     "text": [
      "2\n",
      "4\n",
      "6\n",
      "8\n",
      "10\n",
      "12\n",
      "14\n",
      "16\n",
      "18\n",
      "20\n"
     ]
    }
   ],
   "source": [
    "for i in range(2,21,2):\n",
    "    print(i)"
   ]
  },
  {
   "cell_type": "code",
   "execution_count": 10,
   "id": "135c9913",
   "metadata": {},
   "outputs": [
    {
     "name": "stdout",
     "output_type": "stream",
     "text": [
      "odd number\n",
      "1\n",
      "3\n",
      "5\n",
      "7\n",
      "9\n",
      "11\n",
      "13\n",
      "15\n",
      "17\n",
      "19\n"
     ]
    }
   ],
   "source": [
    "print(\"odd number\")\n",
    "for i in range(1,21,2):\n",
    "    print(i)"
   ]
  },
  {
   "cell_type": "code",
   "execution_count": 20,
   "id": "2cc5fd9d",
   "metadata": {},
   "outputs": [
    {
     "name": "stdout",
     "output_type": "stream",
     "text": [
      "Enter the number:5\n",
      "15\n"
     ]
    }
   ],
   "source": [
    "sum=0\n",
    "n=int(input(\"Enter the number:\"))\n",
    "for i in range(1,n+1):\n",
    "    sum+=i\n",
    "print(sum)"
   ]
  },
  {
   "cell_type": "code",
   "execution_count": 21,
   "id": "532b6802",
   "metadata": {},
   "outputs": [
    {
     "name": "stdout",
     "output_type": "stream",
     "text": [
      "How many numbers of sum:5\n",
      "Enter the numbers:3\n",
      "Enter the numbers:5\n",
      "Enter the numbers:3\n",
      "Enter the numbers:2\n",
      "Enter the numbers:5\n",
      "18\n"
     ]
    }
   ],
   "source": [
    "sum=0 \n",
    "num=int(input(\"How many numbers of sum:\"))\n",
    "for i in range(1,num+1): \n",
    "    n=int(input(\"Enter the numbers:\")) \n",
    "    sum+=n \n",
    "print(sum)"
   ]
  },
  {
   "cell_type": "code",
   "execution_count": 33,
   "id": "a7aaf743",
   "metadata": {},
   "outputs": [
    {
     "name": "stdout",
     "output_type": "stream",
     "text": [
      "apple\n",
      "banana\n",
      "orange\n"
     ]
    }
   ],
   "source": [
    "list=[\"apple\",\"banana\",\"kiwi\",\"orange\"]\n",
    "for i in list:\n",
    "    if i==\"kiwi\":\n",
    "        continue\n",
    "    print(i)"
   ]
  },
  {
   "cell_type": "code",
   "execution_count": 46,
   "id": "155f1a3b",
   "metadata": {},
   "outputs": [
    {
     "name": "stdout",
     "output_type": "stream",
     "text": [
      "name : priya\n",
      "roll no : 39\n",
      "age : 20\n",
      "subject : python\n"
     ]
    }
   ],
   "source": [
    "dict={\"name\":\"priya\",\"roll no\":39,\"age\":20,\"subject\":\"python\"}\n",
    "for key,value in dict.items():\n",
    "    print(key,\":\",value)"
   ]
  },
  {
   "cell_type": "code",
   "execution_count": 56,
   "id": "e04c146c",
   "metadata": {},
   "outputs": [
    {
     "name": "stdout",
     "output_type": "stream",
     "text": [
      "odd number 1\n",
      "Even Number:\n",
      "2\n",
      "odd number 3\n",
      "Even Number:\n",
      "4\n",
      "odd number 5\n",
      "Even Number:\n",
      "6\n",
      "odd number 7\n",
      "Even Number:\n",
      "8\n",
      "odd number 9\n",
      "Even Number:\n",
      "10\n"
     ]
    }
   ],
   "source": [
    "for i in [1,2,3,4,5,6,7,8,9,10]:\n",
    "    if i%2==0:\n",
    "        print(\"Even Number:\")\n",
    "        print(i)\n",
    "    else:\n",
    "        print(\"odd number\",i)"
   ]
  },
  {
   "cell_type": "code",
   "execution_count": 57,
   "id": "3f59c767",
   "metadata": {},
   "outputs": [
    {
     "name": "stdout",
     "output_type": "stream",
     "text": [
      "p\n",
      "r\n",
      "i\n",
      "y\n",
      "a\n",
      " \n",
      "p\n",
      "r\n",
      "a\n",
      "j\n",
      "a\n",
      "p\n",
      "a\n",
      "t\n",
      "i\n"
     ]
    }
   ],
   "source": [
    "for i in \"priya prajapati\":\n",
    "    print(i)"
   ]
  },
  {
   "cell_type": "code",
   "execution_count": 59,
   "id": "470d23c6",
   "metadata": {},
   "outputs": [
    {
     "name": "stdout",
     "output_type": "stream",
     "text": [
      "Enter the number:7\n",
      "Enter the number:6\n",
      "num2 is less than num1\n"
     ]
    }
   ],
   "source": [
    "num1=int(input(\"Enter the number:\"))\n",
    "num2=int(input(\"Enter the number:\"))\n",
    "if num2>=num1:\n",
    "    for i in range(1,6):\n",
    "        print(i)\n",
    "else:\n",
    "    print(\"num2 is less than num1\")"
   ]
  },
  {
   "cell_type": "code",
   "execution_count": 60,
   "id": "b7c2287a",
   "metadata": {},
   "outputs": [
    {
     "name": "stdout",
     "output_type": "stream",
     "text": [
      "How many element store:4\n",
      "Enter the data:apple\n",
      "Enter the data:kiwi\n",
      "Enter the data:banana\n",
      "Enter the data:orange\n",
      "['apple', 'kiwi', 'banana', 'orange']\n"
     ]
    }
   ],
   "source": [
    "list=[]\n",
    "element=int(input(\"How many element store:\"))\n",
    "for i in range(1,element+1):\n",
    "    list.append(input(\"Enter the data:\"))\n",
    "print(list)"
   ]
  },
  {
   "cell_type": "code",
   "execution_count": 62,
   "id": "08f25f7a",
   "metadata": {},
   "outputs": [
    {
     "name": "stdout",
     "output_type": "stream",
     "text": [
      "How many items store:3\n",
      "Enter the namepriya\n",
      "Enter the age20\n",
      "Enter the namemonika\n",
      "Enter the age19\n",
      "Enter the namepiya\n",
      "Enter the age23\n",
      "{'priya': 20, 'monika': 19, 'piya': 23}\n"
     ]
    }
   ],
   "source": [
    "dict={}\n",
    "element=int(input(\"How many items store:\"))\n",
    "for i in range(1,element+1):\n",
    "    name=input(\"Enter the name\")\n",
    "    age=int(input(\"Enter the age\"))\n",
    "    dict[name]=age\n",
    "print(dict)"
   ]
  },
  {
   "cell_type": "code",
   "execution_count": 79,
   "id": "9df6093b",
   "metadata": {},
   "outputs": [
    {
     "name": "stdout",
     "output_type": "stream",
     "text": [
      "Enter the number:15\n",
      "15 is not a prime number\n"
     ]
    }
   ],
   "source": [
    "num=int(input(\"Enter the number:\"))\n",
    "for i in range(2,num):\n",
    "    if num%i==0:\n",
    "        print(num,\"is not a prime number\")\n",
    "        break\n",
    "else:\n",
    "    print(num,\"is a prime number\")"
   ]
  },
  {
   "cell_type": "code",
   "execution_count": 104,
   "id": "57c2630c",
   "metadata": {},
   "outputs": [
    {
     "name": "stdout",
     "output_type": "stream",
     "text": [
      "Enter the number:13\n",
      "y\n"
     ]
    }
   ],
   "source": [
    "n=int(input(\"Enter the number:\"))\n",
    "i=2\n",
    "while i<n:\n",
    "    if n%i==0:\n",
    "        print(\"no\")\n",
    "        break\n",
    "    i+=1\n",
    "else:\n",
    "        print(\"y\")"
   ]
  },
  {
   "cell_type": "code",
   "execution_count": null,
   "id": "e265c987",
   "metadata": {},
   "outputs": [],
   "source": []
  }
 ],
 "metadata": {
  "kernelspec": {
   "display_name": "Python 3 (ipykernel)",
   "language": "python",
   "name": "python3"
  },
  "language_info": {
   "codemirror_mode": {
    "name": "ipython",
    "version": 3
   },
   "file_extension": ".py",
   "mimetype": "text/x-python",
   "name": "python",
   "nbconvert_exporter": "python",
   "pygments_lexer": "ipython3",
   "version": "3.11.5"
  }
 },
 "nbformat": 4,
 "nbformat_minor": 5
}
