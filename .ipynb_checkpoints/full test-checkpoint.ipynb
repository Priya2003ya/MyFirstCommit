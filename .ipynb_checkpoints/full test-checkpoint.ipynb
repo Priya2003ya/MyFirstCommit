{
 "cells": [
  {
   "cell_type": "code",
   "execution_count": 8,
   "id": "18b8d326",
   "metadata": {},
   "outputs": [
    {
     "name": "stdout",
     "output_type": "stream",
     "text": [
      "1\n",
      "3\n",
      "5\n",
      "7\n",
      "9\n",
      "\n",
      "Access first three items individually\n",
      "1\n",
      "3\n",
      "5\n"
     ]
    }
   ],
   "source": [
    "arr=[1,3,5,7,9]\n",
    "for i in arr:\n",
    "    print(i)\n",
    "print(\"\\nAccess first three items individually\")\n",
    "print(arr[0])\n",
    "print(arr[1])\n",
    "print(arr[2])\n"
   ]
  },
  {
   "cell_type": "code",
   "execution_count": 26,
   "id": "047d488b",
   "metadata": {},
   "outputs": [
    {
     "name": "stdout",
     "output_type": "stream",
     "text": [
      "[1, 2, 4, 5, 7, 65, 3]\n"
     ]
    }
   ],
   "source": [
    "li=[1,2,4,5,7,65,3,4,2,4]\n",
    "l=[]\n",
    "for i in li:\n",
    "    if i not in l:\n",
    "        l.append(i)\n",
    "print(l)"
   ]
  },
  {
   "cell_type": "code",
   "execution_count": null,
   "id": "2cbaa275",
   "metadata": {},
   "outputs": [],
   "source": []
  },
  {
   "cell_type": "code",
   "execution_count": 11,
   "id": "62c2916d",
   "metadata": {},
   "outputs": [
    {
     "data": {
      "text/plain": [
       "3"
      ]
     },
     "execution_count": 11,
     "metadata": {},
     "output_type": "execute_result"
    }
   ],
   "source": [
    "array=[1,3,5,3,7,9,3]\n",
    "array.count(3)\n"
   ]
  },
  {
   "cell_type": "code",
   "execution_count": 18,
   "id": "061eeca0",
   "metadata": {},
   "outputs": [
    {
     "name": "stdout",
     "output_type": "stream",
     "text": [
      "[6, 9, 12, 15]\n"
     ]
    }
   ],
   "source": [
    "num=[2,3,4,5]\n",
    "  \n",
    "x=list(map(lambda x: x*3 ,num))\n",
    "print(x)"
   ]
  },
  {
   "cell_type": "code",
   "execution_count": 29,
   "id": "75381fcc",
   "metadata": {},
   "outputs": [
    {
     "name": "stdout",
     "output_type": "stream",
     "text": [
      "[4, 9, 16, 1, 25]\n"
     ]
    }
   ],
   "source": [
    "li=[2,3,4,1,5]\n",
    "x=list(map(lambda x: x**2,li))\n",
    "print(x)"
   ]
  },
  {
   "cell_type": "code",
   "execution_count": 4,
   "id": "6e32dcdb",
   "metadata": {},
   "outputs": [
    {
     "name": "stdout",
     "output_type": "stream",
     "text": [
      "['hi', 'hello', \"('by', 'good')\"]\n"
     ]
    }
   ],
   "source": [
    "li=[(\"hi\"),(\"hello\"),(\"by\",\"good\")]\n",
    "x=list(map(lambda x: str(x),li))\n",
    "print(x)\n"
   ]
  },
  {
   "cell_type": "code",
   "execution_count": 48,
   "id": "7daa7116",
   "metadata": {},
   "outputs": [
    {
     "name": "stdout",
     "output_type": "stream",
     "text": [
      "A boy is playing there.\n",
      " There is a playground.\n",
      " An aeroplane is in the sky.\n",
      " The sky is pink.\n",
      " Alphabets and numbers are allowed in the password. ['A boy is playing there.\\n', 'There is a playground.\\n', 'An aeroplane is in the sky.\\n', 'The sky is pink.\\n', 'Alphabets and numbers are allowed in the password.']\n"
     ]
    }
   ],
   "source": [
    "with open(\"story.txt\",\"r\")as f:\n",
    "    li=[]\n",
    "    for line in f:\n",
    "        print(line,end=\" \")\n",
    "      \n",
    "        li.append(line)\n",
    "    print(li)\n",
    "f.close()"
   ]
  },
  {
   "cell_type": "code",
   "execution_count": 74,
   "id": "666faaf5",
   "metadata": {},
   "outputs": [
    {
     "ename": "TypeError",
     "evalue": "revers() takes no arguments",
     "output_type": "error",
     "traceback": [
      "\u001b[1;31m---------------------------------------------------------------------------\u001b[0m",
      "\u001b[1;31mTypeError\u001b[0m                                 Traceback (most recent call last)",
      "Cell \u001b[1;32mIn[74], line 8\u001b[0m\n\u001b[0;32m      4\u001b[0m     \u001b[38;5;28;01mdef\u001b[39;00m \u001b[38;5;21mdis\u001b[39m(\u001b[38;5;28mself\u001b[39m):\n\u001b[0;32m      5\u001b[0m         \u001b[38;5;28;01mreturn\u001b[39;00m \u001b[38;5;124m\"\u001b[39m\u001b[38;5;124m \u001b[39m\u001b[38;5;124m\"\u001b[39m\u001b[38;5;241m.\u001b[39mjoin(\u001b[38;5;28mself\u001b[39m\u001b[38;5;241m.\u001b[39mstring\u001b[38;5;241m.\u001b[39msplit()[::\u001b[38;5;241m-\u001b[39m\u001b[38;5;241m1\u001b[39m])\n\u001b[1;32m----> 8\u001b[0m re\u001b[38;5;241m=\u001b[39mrevers(\u001b[38;5;124m\"\u001b[39m\u001b[38;5;124mhello py\u001b[39m\u001b[38;5;124m\"\u001b[39m)\n\u001b[0;32m      9\u001b[0m re\u001b[38;5;241m.\u001b[39mdis()\n",
      "\u001b[1;31mTypeError\u001b[0m: revers() takes no arguments"
     ]
    }
   ],
   "source": [
    "class revers:\n",
    "    def _init_(self,string):\n",
    "        self.string=string\n",
    "    def dis(self):\n",
    "        return \" \".join(self.string.split()[::-1])\n",
    "\n",
    "\n",
    "re=revers(\"hello py\")\n",
    "re.dis()\n",
    "\n",
    "# string=input(\"Enter the string:\")\n",
    "# print(\" \".join((string).split()[::-1]))\n"
   ]
  },
  {
   "cell_type": "code",
   "execution_count": 14,
   "id": "6c3694a6",
   "metadata": {},
   "outputs": [
    {
     "name": "stdout",
     "output_type": "stream",
     "text": [
      "A boy is playing there.\n",
      "\n",
      "A bo\n",
      "A BOY IS PLAYING THERE.\n",
      "\n"
     ]
    }
   ],
   "source": [
    "with open(\"Story.txt\",\"r\")as f:\n",
    "    a=f.readline()\n",
    "    print(a)\n",
    "    print(a[0:4])\n",
    "    print(a.upper())"
   ]
  },
  {
   "cell_type": "code",
   "execution_count": null,
   "id": "246d8d8f",
   "metadata": {},
   "outputs": [],
   "source": []
  },
  {
   "cell_type": "code",
   "execution_count": null,
   "id": "ac0332da",
   "metadata": {},
   "outputs": [],
   "source": []
  },
  {
   "cell_type": "code",
   "execution_count": 22,
   "id": "06d41c93",
   "metadata": {},
   "outputs": [
    {
     "name": "stdout",
     "output_type": "stream",
     "text": [
      "Employee id :1\n",
      "Employee name : Priya \n",
      "Employee salary : 500\n",
      "Employee department : ACCOUNTING\n",
      "Your worked are overtime.\n",
      "calculate employee salary:  550\n",
      "Enter the employee id to change department:1\n",
      "change the department:Manager\n",
      "department change successfuly.\n",
      "Employee id :1\n",
      "Employee name : Priya \n",
      "Employee salary : 500\n",
      "Employee department : Manager\n"
     ]
    }
   ],
   "source": [
    "class Employee:\n",
    "    def __init__(self,emp_id,emp_name,emp_salary,emp_department):\n",
    "        self.emp_id=emp_id\n",
    "        self.emp_name=emp_name\n",
    "        self.emp_salary=emp_salary\n",
    "        self.emp_department=emp_department\n",
    "       \n",
    "        \n",
    "    def calculate_emp_salary(self,hours_worked):\n",
    "#         self.salary=salary\n",
    "        self.hours_worked=hours_worked\n",
    "        \n",
    "        if hours_worked > 50:\n",
    "                        print(\"Your worked are overtime.\")\n",
    "                         \n",
    "                        overtime=hours_worked - 50\n",
    "                        overtime_amount=(overtime*(int(self.emp_salary)/50))\n",
    "                        total_salary=int(self.emp_salary )+int( overtime_amount)\n",
    "                        print(\"calculate employee salary: \",total_salary)\n",
    "        else:\n",
    "                        print(\"employee worked hours is less than 50.\")\n",
    "                         \n",
    "            \n",
    "    def emp_assign_department(self):\n",
    "                    empl_id=(input(\"Enter the employee id to change department:\"))\n",
    "                    if empl_id == self.emp_id:\n",
    "                        chan_depa=input(\"change the department:\")\n",
    "                        self.emp_department=chan_depa\n",
    "                        print(\"department change successfuly.\")\n",
    "                         \n",
    "                    else:\n",
    "                         print('employee id not exist.')\n",
    "                         \n",
    "    def print_employee_details(self):\n",
    "                     print(f\"Employee id :{self.emp_id}\" )\n",
    "                     print(f\"Employee name : {self.emp_name} \")\n",
    "                     print(f\"Employee salary : {self.emp_salary}\")\n",
    "                     print(f\"Employee department : {self.emp_department}\")\n",
    "                         \n",
    "obj=Employee(\"1\",\"Priya\",\"500\",\"ACCOUNTING\")\n",
    "obj.print_employee_details()\n",
    "obj.calculate_emp_salary(55)\n",
    "\n",
    "obj.emp_assign_department()\n",
    "obj.print_employee_details()\n",
    "                         \n",
    "                         "
   ]
  },
  {
   "cell_type": "code",
   "execution_count": 6,
   "id": "adba8b59",
   "metadata": {},
   "outputs": [
    {
     "name": "stdout",
     "output_type": "stream",
     "text": [
      "1.Add manu itmes\n",
      "2.book tables\n",
      "3.customer order\n",
      "4.display\n",
      "5.exit\n",
      "Enter the choice:3\n",
      "Enter the order:cold coffe\n",
      "Customer order.\n"
     ]
    },
    {
     "ename": "KeyError",
     "evalue": "'cold coffe'",
     "output_type": "error",
     "traceback": [
      "\u001b[1;31m---------------------------------------------------------------------------\u001b[0m",
      "\u001b[1;31mKeyError\u001b[0m                                  Traceback (most recent call last)",
      "Cell \u001b[1;32mIn[6], line 34\u001b[0m\n\u001b[0;32m     32\u001b[0m \u001b[38;5;28;01melif\u001b[39;00m choice\u001b[38;5;241m==\u001b[39m\u001b[38;5;241m3\u001b[39m:\n\u001b[0;32m     33\u001b[0m     key\u001b[38;5;241m=\u001b[39m\u001b[38;5;28minput\u001b[39m(\u001b[38;5;124m\"\u001b[39m\u001b[38;5;124mEnter the order:\u001b[39m\u001b[38;5;124m\"\u001b[39m)\n\u001b[1;32m---> 34\u001b[0m     obj\u001b[38;5;241m.\u001b[39mtake_customer_order()\n\u001b[0;32m     36\u001b[0m \u001b[38;5;28;01melif\u001b[39;00m choice\u001b[38;5;241m==\u001b[39m\u001b[38;5;241m4\u001b[39m:\n\u001b[0;32m     37\u001b[0m     obj\u001b[38;5;241m.\u001b[39mdisplay()\n",
      "Cell \u001b[1;32mIn[6], line 14\u001b[0m, in \u001b[0;36mRestaurant.take_customer_order\u001b[1;34m(self)\u001b[0m\n\u001b[0;32m     12\u001b[0m \u001b[38;5;28;01mdef\u001b[39;00m \u001b[38;5;21mtake_customer_order\u001b[39m(\u001b[38;5;28mself\u001b[39m):\n\u001b[0;32m     13\u001b[0m     \u001b[38;5;28mprint\u001b[39m(\u001b[38;5;124m\"\u001b[39m\u001b[38;5;124mCustomer order.\u001b[39m\u001b[38;5;124m\"\u001b[39m)\n\u001b[1;32m---> 14\u001b[0m     \u001b[38;5;28mself\u001b[39m\u001b[38;5;241m.\u001b[39mdict[key]\n\u001b[0;32m     15\u001b[0m     \u001b[38;5;28mprint\u001b[39m(\u001b[38;5;124m\"\u001b[39m\u001b[38;5;124mOrder successfully.\u001b[39m\u001b[38;5;124m\"\u001b[39m)\n",
      "\u001b[1;31mKeyError\u001b[0m: 'cold coffe'"
     ]
    }
   ],
   "source": [
    "class Restaurant:\n",
    "    def __init__(self):\n",
    "       \n",
    "        self.dict={}\n",
    "        \n",
    "    def add_item_to_menu(self,key):\n",
    "        self.dict[key]=value\n",
    "        print(\"Item add successfully.\")\n",
    "        \n",
    "    def book_tables(self):\n",
    "        print(\"book table.\")         \n",
    "    def take_customer_order(self):\n",
    "       \n",
    "        self.dict[key]\n",
    "        print(\"Order successfully.\")\n",
    "        \n",
    "    def display(self):\n",
    "        self.dict={}\n",
    "        \n",
    "obj= Restaurant()\n",
    "while True:\n",
    "    print(\"1.Add manu itmes\\n2.book tables\\n3.customer order\\n4.display\\n5.exit\")\n",
    "    choice=int(input(\"Enter the choice:\"))\n",
    "    if choice==1:\n",
    "        key=input(\"Enter the itmes:\")\n",
    "        value=int(input(\"enter the price:\"))\n",
    "        obj.add_item_to_menu(key)\n",
    "\n",
    "    elif choice==2:\n",
    "        obj.book_tables()\n",
    "\n",
    "    elif choice==3:\n",
    "        print(\"Customer order.\")\n",
    "        key=input(\"Enter the order:\")\n",
    "        obj.take_customer_order()\n",
    "\n",
    "    elif choice==4:\n",
    "        obj.display()\n",
    "\n",
    "    elif choice==5:\n",
    "        print(\"Exit Program\")\n",
    "        break\n",
    "    else:\n",
    "        print(\"invalid choice\")\n",
    "        \n",
    "\n",
    "        "
   ]
  },
  {
   "cell_type": "code",
   "execution_count": null,
   "id": "1d86467f",
   "metadata": {},
   "outputs": [],
   "source": [
    "class Inventory:\n",
    "    def __init__(self,item_id,item_name,stock_count,price):\n",
    "        self.dict={}\n",
    "        \n",
    "    def add_item(self):\n",
    "        self.dict[item_id]=self.dict.update{}\n",
    "        \n",
    "    def update_item(self):\n",
    "        \n",
    "    def check_item_details(self):"
   ]
  }
 ],
 "metadata": {
  "kernelspec": {
   "display_name": "Python 3 (ipykernel)",
   "language": "python",
   "name": "python3"
  },
  "language_info": {
   "codemirror_mode": {
    "name": "ipython",
    "version": 3
   },
   "file_extension": ".py",
   "mimetype": "text/x-python",
   "name": "python",
   "nbconvert_exporter": "python",
   "pygments_lexer": "ipython3",
   "version": "3.11.5"
  }
 },
 "nbformat": 4,
 "nbformat_minor": 5
}
