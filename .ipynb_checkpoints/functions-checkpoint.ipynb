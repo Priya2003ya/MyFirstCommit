{
 "cells": [
  {
   "cell_type": "code",
   "execution_count": 3,
   "id": "58c04d01",
   "metadata": {},
   "outputs": [
    {
     "name": "stdout",
     "output_type": "stream",
     "text": [
      "hello\n"
     ]
    }
   ],
   "source": [
    "def display():\n",
    "    print(\"hello\")\n",
    "display()"
   ]
  },
  {
   "cell_type": "code",
   "execution_count": 5,
   "id": "0c055842",
   "metadata": {},
   "outputs": [
    {
     "name": "stdout",
     "output_type": "stream",
     "text": [
      "priya\n",
      "hello\n"
     ]
    }
   ],
   "source": [
    "def dis():\n",
    "    print(\"priya\")\n",
    "dis()\n",
    "display()"
   ]
  },
  {
   "cell_type": "code",
   "execution_count": 7,
   "id": "6543f195",
   "metadata": {},
   "outputs": [
    {
     "name": "stdout",
     "output_type": "stream",
     "text": [
      "Enter the first number:3\n",
      "Enetr the second number:4\n",
      "Sum= 7\n"
     ]
    }
   ],
   "source": [
    "def sum():\n",
    "    num1=int(input(\"Enter the first number:\"))\n",
    "    num2=int(input(\"Enetr the second number:\"))\n",
    "    print(\"Sum=\",num1+num2)\n",
    "sum()"
   ]
  },
  {
   "cell_type": "code",
   "execution_count": 30,
   "id": "4c0e58d8",
   "metadata": {},
   "outputs": [
    {
     "name": "stdout",
     "output_type": "stream",
     "text": [
      "Enter the first number:8\n",
      "Enetr the second number:9\n"
     ]
    },
    {
     "data": {
      "text/plain": [
       "17"
      ]
     },
     "execution_count": 30,
     "metadata": {},
     "output_type": "execute_result"
    }
   ],
   "source": [
    "def file(n1,n2):\n",
    "    return n1+n2\n",
    "n1=int(input(\"Enter the first number:\"))\n",
    "n2=int(input(\"Enetr the second number:\"))\n",
    "# print(\"Sum=\",file(n1,n2))\n",
    "file(n1,n2)\n",
    "    "
   ]
  },
  {
   "cell_type": "code",
   "execution_count": 1,
   "id": "07a36fff",
   "metadata": {},
   "outputs": [
    {
     "name": "stdout",
     "output_type": "stream",
     "text": [
      "Enter the fname:priya\n",
      "Enter the lname:prajapati\n"
     ]
    },
    {
     "data": {
      "text/plain": [
       "'priya prajapati'"
      ]
     },
     "execution_count": 1,
     "metadata": {},
     "output_type": "execute_result"
    }
   ],
   "source": [
    "def name(fname,lname):\n",
    "    return fname+\" \"+lname\n",
    "fname=input(\"Enter the fname:\")\n",
    "lname=input(\"Enter the lname:\")\n",
    "name(fname,lname)\n"
   ]
  },
  {
   "cell_type": "code",
   "execution_count": 16,
   "id": "8c05e53e",
   "metadata": {},
   "outputs": [
    {
     "name": "stdout",
     "output_type": "stream",
     "text": [
      "6\n",
      "11\n",
      "-1\n"
     ]
    }
   ],
   "source": [
    "def sum(a,b=4):\n",
    "    return a+b\n",
    "print(sum(2))\n",
    "print(sum(7))\n",
    "print(minus(3,4))"
   ]
  },
  {
   "cell_type": "code",
   "execution_count": 8,
   "id": "c034d590",
   "metadata": {},
   "outputs": [
    {
     "data": {
      "text/plain": [
       "6"
      ]
     },
     "execution_count": 8,
     "metadata": {},
     "output_type": "execute_result"
    }
   ],
   "source": [
    "sum(3,3)"
   ]
  },
  {
   "cell_type": "code",
   "execution_count": 14,
   "id": "a47b8217",
   "metadata": {},
   "outputs": [
    {
     "name": "stdout",
     "output_type": "stream",
     "text": [
      "-1\n",
      "7\n"
     ]
    }
   ],
   "source": [
    "def minus(a,b):\n",
    "    return a-b\n",
    "print(minus(3,4))\n",
    "print(sum(3,4))"
   ]
  },
  {
   "cell_type": "code",
   "execution_count": 3,
   "id": "57006bb6",
   "metadata": {},
   "outputs": [
    {
     "name": "stdout",
     "output_type": "stream",
     "text": [
      "Enter the value of a:6\n",
      "Enter the value of b:8\n"
     ]
    },
    {
     "data": {
      "text/plain": [
       "6"
      ]
     },
     "execution_count": 3,
     "metadata": {},
     "output_type": "execute_result"
    }
   ],
   "source": [
    "#lesser of two even: write a function that return the lesser of two given numbers if both numbers are even,but returns the \n",
    "# greater if one or both numbers are odd\n",
    " \n",
    "def lesser_of_two_even(a,b):\n",
    "    if a%2==0 and b%2==0:\n",
    "        return (min(a,b))\n",
    "    else:\n",
    "        return (max(a,b))\n",
    "a=int(input(\"Enter the value of a:\"))\n",
    "b=int(input(\"Enter the value of b:\"))\n",
    "lesser_of_two_even(a,b)\n"
   ]
  },
  {
   "cell_type": "code",
   "execution_count": 23,
   "id": "44b31ded",
   "metadata": {},
   "outputs": [
    {
     "ename": "IndexError",
     "evalue": "string index out of range",
     "output_type": "error",
     "traceback": [
      "\u001b[1;31m---------------------------------------------------------------------------\u001b[0m",
      "\u001b[1;31mIndexError\u001b[0m                                Traceback (most recent call last)",
      "Cell \u001b[1;32mIn[23], line 9\u001b[0m\n\u001b[0;32m      7\u001b[0m         \u001b[38;5;28;01melse\u001b[39;00m:\n\u001b[0;32m      8\u001b[0m             \u001b[38;5;28;01mreturn\u001b[39;00m \u001b[38;5;28;01mFalse\u001b[39;00m\n\u001b[1;32m----> 9\u001b[0m animal_crackers(\u001b[38;5;124m\"\u001b[39m\u001b[38;5;124mLello ki\u001b[39m\u001b[38;5;124m\"\u001b[39m)\n",
      "Cell \u001b[1;32mIn[23], line 5\u001b[0m, in \u001b[0;36manimal_crackers\u001b[1;34m(a)\u001b[0m\n\u001b[0;32m      3\u001b[0m \u001b[38;5;28;01mdef\u001b[39;00m \u001b[38;5;21manimal_crackers\u001b[39m(a):\n\u001b[0;32m      4\u001b[0m     \u001b[38;5;28;01mfor\u001b[39;00m i \u001b[38;5;129;01min\u001b[39;00m a:\n\u001b[1;32m----> 5\u001b[0m         \u001b[38;5;28;01mif\u001b[39;00m i[\u001b[38;5;241m0\u001b[39m]\u001b[38;5;241m==\u001b[39m\u001b[38;5;124m\"\u001b[39m\u001b[38;5;124mL\u001b[39m\u001b[38;5;124m\"\u001b[39m \u001b[38;5;129;01mand\u001b[39;00m i[\u001b[38;5;241m1\u001b[39m]\u001b[38;5;241m==\u001b[39m\u001b[38;5;124m\"\u001b[39m\u001b[38;5;124mL\u001b[39m\u001b[38;5;124m\"\u001b[39m:\n\u001b[0;32m      6\u001b[0m             \u001b[38;5;28;01mreturn\u001b[39;00m \u001b[38;5;28;01mTrue\u001b[39;00m\n\u001b[0;32m      7\u001b[0m         \u001b[38;5;28;01melse\u001b[39;00m:\n",
      "\u001b[1;31mIndexError\u001b[0m: string index out of range"
     ]
    }
   ],
   "source": [
    "# animal_crackers: write a function takes a two word string and returns True if both words begin with same letter\n",
    "\n",
    "def animal_crackers(a):\n",
    "    for i in a:\n",
    "        if i[0]==\"L\":\n",
    "            return True\n",
    "        else:\n",
    "            return False\n",
    "animal_crackers(\"Lello ki\")"
   ]
  },
  {
   "cell_type": "code",
   "execution_count": 28,
   "id": "ad5fe210",
   "metadata": {},
   "outputs": [
    {
     "name": "stdout",
     "output_type": "stream",
     "text": [
      "Enter value of a:8\n",
      "Enter value of b:9\n",
      "False\n"
     ]
    }
   ],
   "source": [
    "# makes twenty: given two integers, return True if the sum of the integers is 20 or if one of the integers is 20. If not return\n",
    "# False\n",
    "\n",
    "def makes_twenty(a,b):\n",
    "    if (a+b)==20 or a==20 or b==20:\n",
    "        return True\n",
    "    else:\n",
    "        return False\n",
    "a=int(input(\"Enter value of a:\"))\n",
    "b=int(input(\"Enter value of b:\"))\n",
    "print(makes_twenty(a,b))"
   ]
  },
  {
   "cell_type": "code",
   "execution_count": 48,
   "id": "ac7cbfb0",
   "metadata": {},
   "outputs": [
    {
     "ename": "TypeError",
     "evalue": "object of type 'function' has no len()",
     "output_type": "error",
     "traceback": [
      "\u001b[1;31m---------------------------------------------------------------------------\u001b[0m",
      "\u001b[1;31mTypeError\u001b[0m                                 Traceback (most recent call last)",
      "Cell \u001b[1;32mIn[48], line 5\u001b[0m\n\u001b[0;32m      3\u001b[0m \u001b[38;5;28;01mdef\u001b[39;00m \u001b[38;5;21mold_macdonald\u001b[39m(name):\n\u001b[0;32m      4\u001b[0m     \u001b[38;5;28;01mreturn\u001b[39;00m name\n\u001b[1;32m----> 5\u001b[0m \u001b[38;5;28;01mif\u001b[39;00m \u001b[38;5;28mlen\u001b[39m(name)\u001b[38;5;241m>\u001b[39m\u001b[38;5;241m3\u001b[39m:\n\u001b[0;32m      6\u001b[0m         name[:\u001b[38;5;241m3\u001b[39m]\u001b[38;5;241m.\u001b[39mcapitalize() \u001b[38;5;241m+\u001b[39m name[\u001b[38;5;241m3\u001b[39m:]\u001b[38;5;241m.\u001b[39mcapitalize()\n\u001b[0;32m      7\u001b[0m \u001b[38;5;28mprint\u001b[39m(old_macdonald(\u001b[38;5;124m\"\u001b[39m\u001b[38;5;124mmacdonald\u001b[39m\u001b[38;5;124m\"\u001b[39m))\n",
      "\u001b[1;31mTypeError\u001b[0m: object of type 'function' has no len()"
     ]
    }
   ],
   "source": [
    "#old macdonald: write a function that capitalizes the first and fourth letters of a name\n",
    "\n",
    "def old_macdonald(name):\n",
    "    return name\n",
    "if len(name)>3:\n",
    "        name[:3].capitalize() + name[3:].capitalize()\n",
    "print(old_macdonald(\"macdonald\"))"
   ]
  },
  {
   "cell_type": "code",
   "execution_count": 53,
   "id": "3ebaf865",
   "metadata": {},
   "outputs": [
    {
     "name": "stdout",
     "output_type": "stream",
     "text": [
      "Enter the sentence:i go to home\n"
     ]
    },
    {
     "data": {
      "text/plain": [
       "'home to go i'"
      ]
     },
     "execution_count": 53,
     "metadata": {},
     "output_type": "execute_result"
    }
   ],
   "source": [
    "# master yoda: given a sentence with the words reversed\n",
    "\n",
    "def master_yoda(s):\n",
    "    return \" \".join(s.split()[::-1])\n",
    "s=input(\"Enter the sentence:\")\n",
    "master_yoda(s)"
   ]
  },
  {
   "cell_type": "markdown",
   "id": "7bcfaa7f",
   "metadata": {},
   "source": []
  },
  {
   "cell_type": "code",
   "execution_count": null,
   "id": "01c3946c",
   "metadata": {},
   "outputs": [],
   "source": [
    "# "
   ]
  }
 ],
 "metadata": {
  "kernelspec": {
   "display_name": "Python 3 (ipykernel)",
   "language": "python",
   "name": "python3"
  },
  "language_info": {
   "codemirror_mode": {
    "name": "ipython",
    "version": 3
   },
   "file_extension": ".py",
   "mimetype": "text/x-python",
   "name": "python",
   "nbconvert_exporter": "python",
   "pygments_lexer": "ipython3",
   "version": "3.11.5"
  }
 },
 "nbformat": 4,
 "nbformat_minor": 5
}
