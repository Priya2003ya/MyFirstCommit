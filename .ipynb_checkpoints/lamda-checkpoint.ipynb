{
 "cells": [
  {
   "cell_type": "code",
   "execution_count": 11,
   "id": "3f1dba9a",
   "metadata": {},
   "outputs": [
    {
     "name": "stdout",
     "output_type": "stream",
     "text": [
      "986\n",
      "140.85714285714286\n"
     ]
    }
   ],
   "source": [
    "def s(*x):\n",
    "    x=[23,234,234,234,234,23,4]\n",
    "    print(sum((x)))\n",
    "    a=sum((x))/len(x)\n",
    "    print(a)\n",
    "s(x)"
   ]
  },
  {
   "cell_type": "code",
   "execution_count": 8,
   "id": "1661e229",
   "metadata": {},
   "outputs": [
    {
     "data": {
      "text/plain": [
       "986"
      ]
     },
     "execution_count": 8,
     "metadata": {},
     "output_type": "execute_result"
    }
   ],
   "source": [
    "s(x)"
   ]
  },
  {
   "cell_type": "code",
   "execution_count": null,
   "id": "f67e15f2",
   "metadata": {},
   "outputs": [
    {
     "name": "stdout",
     "output_type": "stream",
     "text": [
      "WANT TO Store the data:y\n",
      "How many data enter:2\n",
      "Eneter the key of Data:\n"
     ]
    }
   ],
   "source": [
    "def data(*args):\n",
    "    ch=input(\"WANT TO Store the data:\")\n",
    "    if ch==\"y\" or ch==\"Y\":\n",
    "        d={}\n",
    "        n=int(input(\"How many data enter:\"))\n",
    "        for i in range(1,n+1):\n",
    "            key=input(\"Eneter the key of Data:\")\n",
    "            value=input(\"Enter the value of data:\")\n",
    "            d[key]=value\n",
    "        print(d)\n",
    "        print(\"----------Modify the data---------\")\n",
    "        cho=input(\"if yes enter y or n\")\n",
    "    if cho==\"y\" or cho==\"Y\":\n",
    "            choice=print(\"1.search\\n2.update\")\n",
    "            c=int(input(\"Apply modification-----\"))\n",
    "            if c==1:\n",
    "                print(\"search tha data:\")\n",
    "                search=input(\"Enter the key:\")\n",
    "                if search in d:\n",
    "                    d[search]\n",
    "                \n",
    "                \n",
    "                \n",
    "            elif c==2:\n",
    "                d=input(\"update the data\")\n",
    "                \n",
    "#     print(d)\n",
    "data()            "
   ]
  },
  {
   "cell_type": "code",
   "execution_count": 42,
   "id": "b3484f4c",
   "metadata": {},
   "outputs": [
    {
     "data": {
      "text/plain": [
       "{'das': 'wdwed', 'efe': 'dwd'}"
      ]
     },
     "execution_count": 42,
     "metadata": {},
     "output_type": "execute_result"
    }
   ],
   "source": [
    "d"
   ]
  },
  {
   "cell_type": "code",
   "execution_count": 30,
   "id": "efc621c1",
   "metadata": {},
   "outputs": [
    {
     "data": {
      "text/plain": [
       "{'das': 'wdwed', 'efe': 'dwd'}"
      ]
     },
     "execution_count": 30,
     "metadata": {},
     "output_type": "execute_result"
    }
   ],
   "source": [
    "d={\"das\":\"wdwed\",\"efe\":\"dwd\"}\n",
    "d"
   ]
  },
  {
   "cell_type": "code",
   "execution_count": 31,
   "id": "9ca45bf6",
   "metadata": {},
   "outputs": [
    {
     "ename": "NameError",
     "evalue": "name 'das' is not defined",
     "output_type": "error",
     "traceback": [
      "\u001b[1;31m---------------------------------------------------------------------------\u001b[0m",
      "\u001b[1;31mNameError\u001b[0m                                 Traceback (most recent call last)",
      "Cell \u001b[1;32mIn[31], line 1\u001b[0m\n\u001b[1;32m----> 1\u001b[0m d[das]\n",
      "\u001b[1;31mNameError\u001b[0m: name 'das' is not defined"
     ]
    }
   ],
   "source": [
    "d[das]"
   ]
  },
  {
   "cell_type": "code",
   "execution_count": 32,
   "id": "bee20414",
   "metadata": {},
   "outputs": [
    {
     "data": {
      "text/plain": [
       "'wdwed'"
      ]
     },
     "execution_count": 32,
     "metadata": {},
     "output_type": "execute_result"
    }
   ],
   "source": [
    "d[\"das\"]"
   ]
  },
  {
   "cell_type": "code",
   "execution_count": 65,
   "id": "fec7b2bc",
   "metadata": {},
   "outputs": [
    {
     "ename": "SyntaxError",
     "evalue": "invalid syntax (2156594653.py, line 1)",
     "output_type": "error",
     "traceback": [
      "\u001b[1;36m  Cell \u001b[1;32mIn[65], line 1\u001b[1;36m\u001b[0m\n\u001b[1;33m    d[]\u001b[0m\n\u001b[1;37m      ^\u001b[0m\n\u001b[1;31mSyntaxError\u001b[0m\u001b[1;31m:\u001b[0m invalid syntax\n"
     ]
    }
   ],
   "source": [
    "d[]"
   ]
  },
  {
   "cell_type": "code",
   "execution_count": 66,
   "id": "313955c7",
   "metadata": {},
   "outputs": [],
   "source": [
    "thisdict={\"rollno\":454}"
   ]
  },
  {
   "cell_type": "code",
   "execution_count": 67,
   "id": "c2e32c92",
   "metadata": {},
   "outputs": [
    {
     "name": "stdout",
     "output_type": "stream",
     "text": [
      "ENter Roll numberrollno\n"
     ]
    },
    {
     "data": {
      "text/plain": [
       "454"
      ]
     },
     "execution_count": 67,
     "metadata": {},
     "output_type": "execute_result"
    }
   ],
   "source": [
    "search=input(\"ENter Roll number\")\n",
    "thisdict[search]"
   ]
  },
  {
   "cell_type": "code",
   "execution_count": null,
   "id": "78af60eb",
   "metadata": {},
   "outputs": [],
   "source": []
  }
 ],
 "metadata": {
  "kernelspec": {
   "display_name": "Python 3 (ipykernel)",
   "language": "python",
   "name": "python3"
  },
  "language_info": {
   "codemirror_mode": {
    "name": "ipython",
    "version": 3
   },
   "file_extension": ".py",
   "mimetype": "text/x-python",
   "name": "python",
   "nbconvert_exporter": "python",
   "pygments_lexer": "ipython3",
   "version": "3.11.5"
  }
 },
 "nbformat": 4,
 "nbformat_minor": 5
}
