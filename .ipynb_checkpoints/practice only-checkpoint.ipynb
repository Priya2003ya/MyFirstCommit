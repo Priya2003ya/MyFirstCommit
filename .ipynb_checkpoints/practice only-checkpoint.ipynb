{
 "cells": [
  {
   "cell_type": "code",
   "execution_count": 5,
   "id": "80737ee9",
   "metadata": {},
   "outputs": [
    {
     "name": "stdout",
     "output_type": "stream",
     "text": [
      "Enetr first number:5\n",
      "Enter second number:5\n",
      "n2 is equal to n1\n"
     ]
    }
   ],
   "source": [
    "n1=int(input(\"Enetr first number:\"))\n",
    "n2=int(input(\"Enter second number:\"))\n",
    "if n2>=n1:\n",
    "    if n2>n1:\n",
    "        print(\"n2 greater than n1\")\n",
    "    else:\n",
    "        print(\"n2 is equal to n1\")\n",
    "else:\n",
    "    print(\"n2 less than n1\")"
   ]
  },
  {
   "cell_type": "code",
   "execution_count": 11,
   "id": "3c3873be",
   "metadata": {},
   "outputs": [
    {
     "name": "stdout",
     "output_type": "stream",
     "text": [
      "Enter the score:22\n",
      "Fail\n"
     ]
    }
   ],
   "source": [
    "score=int(input(\"Enter the score:\"))\n",
    "if score>=75:\n",
    "    print(\"A grade\")\n",
    "elif score>=60:\n",
    "    print(\"B grade\")\n",
    "elif score<60 and score>30:\n",
    "    print(\"C grade\")\n",
    "else:\n",
    "    print(\"Fail\")"
   ]
  },
  {
   "cell_type": "code",
   "execution_count": 12,
   "id": "3fedc731",
   "metadata": {},
   "outputs": [
    {
     "name": "stdout",
     "output_type": "stream",
     "text": [
      "1\n",
      "2\n",
      "3\n",
      "4\n",
      "5\n",
      "6\n",
      "7\n",
      "8\n",
      "9\n",
      "10\n"
     ]
    }
   ],
   "source": [
    "i=1\n",
    "while i<=10:\n",
    "    print(i)\n",
    "    i+=1"
   ]
  },
  {
   "cell_type": "code",
   "execution_count": 17,
   "id": "0e22fac5",
   "metadata": {},
   "outputs": [
    {
     "name": "stdout",
     "output_type": "stream",
     "text": [
      "10\n",
      "9\n",
      "8\n",
      "7\n",
      "6\n",
      "5\n",
      "4\n",
      "3\n",
      "2\n",
      "1\n"
     ]
    }
   ],
   "source": [
    "i=10\n",
    "while i>=1:\n",
    "    print(i)\n",
    "    i-=1"
   ]
  },
  {
   "cell_type": "code",
   "execution_count": 22,
   "id": "88e3338e",
   "metadata": {},
   "outputs": [
    {
     "name": "stdout",
     "output_type": "stream",
     "text": [
      "Even number:\n",
      "2\n",
      "Even number:\n",
      "4\n",
      "Even number:\n",
      "6\n",
      "Even number:\n",
      "8\n",
      "Even number:\n",
      "10\n",
      "Even number:\n",
      "12\n",
      "Even number:\n",
      "14\n",
      "Even number:\n",
      "16\n",
      "Even number:\n",
      "18\n",
      "Even number:\n",
      "20\n"
     ]
    }
   ],
   "source": [
    "i=2\n",
    "while i<=21:\n",
    "    print(\"Even number:\")\n",
    "    print(i)\n",
    "    i=i+2"
   ]
  },
  {
   "cell_type": "code",
   "execution_count": 23,
   "id": "b4428bff",
   "metadata": {},
   "outputs": [
    {
     "name": "stdout",
     "output_type": "stream",
     "text": [
      "1\n",
      "3\n",
      "5\n",
      "7\n",
      "9\n"
     ]
    }
   ],
   "source": [
    "i=1\n",
    "while i<10:\n",
    "    print(i)\n",
    "    i+=2"
   ]
  },
  {
   "cell_type": "code",
   "execution_count": 33,
   "id": "1ccdcca9",
   "metadata": {},
   "outputs": [
    {
     "name": "stdout",
     "output_type": "stream",
     "text": [
      "Enter the number:5\n",
      "5 * 1 = 5\n",
      "5 * 2 = 10\n",
      "5 * 3 = 15\n",
      "5 * 4 = 20\n",
      "5 * 5 = 25\n",
      "5 * 6 = 30\n",
      "5 * 7 = 35\n",
      "5 * 8 = 40\n",
      "5 * 9 = 45\n",
      "5 * 10 = 50\n"
     ]
    }
   ],
   "source": [
    "n=int(input(\"Enter the number:\"))\n",
    "i=1\n",
    "while i<=10:\n",
    "    t=n*i\n",
    "    print(n,\"*\",i,\"=\",t)\n",
    "    i+=1"
   ]
  },
  {
   "cell_type": "code",
   "execution_count": 22,
   "id": "2ea5e193",
   "metadata": {},
   "outputs": [
    {
     "name": "stdout",
     "output_type": "stream",
     "text": [
      "1\n",
      "2\n",
      "3\n",
      "4\n",
      "5\n",
      "6\n",
      "7\n",
      "8\n",
      "9\n",
      "10\n"
     ]
    }
   ],
   "source": [
    "for i in range(1,11):\n",
    "    print(i)"
   ]
  },
  {
   "cell_type": "code",
   "execution_count": 23,
   "id": "e732f70c",
   "metadata": {},
   "outputs": [
    {
     "name": "stdout",
     "output_type": "stream",
     "text": [
      "5\n",
      "4\n",
      "3\n",
      "2\n",
      "1\n"
     ]
    }
   ],
   "source": [
    "for i in range (5,0,-1):\n",
    "    print(i)"
   ]
  },
  {
   "cell_type": "code",
   "execution_count": 25,
   "id": "de00d28e",
   "metadata": {},
   "outputs": [
    {
     "name": "stdout",
     "output_type": "stream",
     "text": [
      "2\n",
      "3\n",
      "4\n",
      "1\n",
      "3\n",
      "2\n",
      "4\n"
     ]
    }
   ],
   "source": [
    "for k in [2,3,4,1,3,2,4]:\n",
    "    print(k)"
   ]
  },
  {
   "cell_type": "code",
   "execution_count": 32,
   "id": "2c278732",
   "metadata": {},
   "outputs": [
    {
     "name": "stdout",
     "output_type": "stream",
     "text": [
      "apple\n",
      "banana\n"
     ]
    }
   ],
   "source": [
    "list=[\"apple\",\"banana\",\"kiwi\",\"orange\"]\n",
    "for k in list[0:3]:\n",
    "    if k==\"kiwi\":\n",
    "        continue\n",
    "    print(k)"
   ]
  },
  {
   "cell_type": "code",
   "execution_count": 39,
   "id": "2e518018",
   "metadata": {},
   "outputs": [
    {
     "name": "stdout",
     "output_type": "stream",
     "text": [
      "name : priya\n",
      "age : 20\n",
      "gender : female\n"
     ]
    }
   ],
   "source": [
    "dict={\"name\":\"priya\",\"age\":20,\"gender\":\"female\"}\n",
    "for key,value in dict.items():\n",
    "    print(key,\":\", value)"
   ]
  },
  {
   "cell_type": "code",
   "execution_count": 43,
   "id": "ed52a397",
   "metadata": {},
   "outputs": [
    {
     "name": "stdout",
     "output_type": "stream",
     "text": [
      "How many elements enter:2\n",
      "Enter the elements:f\n",
      "Enter the elements:e\n",
      "['f', 'e']\n"
     ]
    }
   ],
   "source": [
    "list=[]\n",
    "element=int(input(\"How many elements enter:\"))\n",
    "for i in range(1,element+1):\n",
    "    list.append(input(\"Enter the elements:\"))\n",
    "print(list)"
   ]
  },
  {
   "cell_type": "code",
   "execution_count": 44,
   "id": "a8a43a7b",
   "metadata": {},
   "outputs": [
    {
     "name": "stdout",
     "output_type": "stream",
     "text": [
      "How many items enter:3\n",
      "Enter the key:name\n",
      "Enter the value:priya\n",
      "Enter the key:age\n",
      "Enter the value:20\n",
      "Enter the key:gender\n",
      "Enter the value:female\n",
      "{'name': 'priya', 'age': '20', 'gender': 'female'}\n"
     ]
    }
   ],
   "source": [
    "dict={}\n",
    "items=int(input(\"How many items enter:\"))\n",
    "for i in range(1,items+1):\n",
    "    key=input(\"Enter the key:\")\n",
    "    value=input(\"Enter the value:\")\n",
    "    dict[key]=value\n",
    "print(dict)"
   ]
  },
  {
   "cell_type": "code",
   "execution_count": 3,
   "id": "347bce22",
   "metadata": {},
   "outputs": [
    {
     "name": "stdout",
     "output_type": "stream",
     "text": [
      "     Quiz Game     \n",
      "----------------\n",
      "Want to start game? \n",
      "if yes, Press 'y' :  y\n",
      "------------------\n",
      " (1) What is the shortcut key of Cut ? \n",
      "A. = CTR + Y\n",
      "B. = CTR + X\n",
      "C. = CTR + C\n",
      "D. = CTR + H\n",
      "Enter your answer : B\n",
      "Correct Answer !!!\n",
      " (2) What is the shortcut key of Paste ?\n",
      "A. = CTR + P\n",
      "B. = CTR + X\n",
      "C. = CTR + C\n",
      "D. = CTR + V\n",
      "Enter your answer : c\n",
      "Incorrect Answer !!!\n",
      "-----------------------------------------\n",
      " (3)What is the shortcut key of Italic?\n",
      "A. = CTR + D\n",
      "B. = CTR + I\n",
      "C. = CTR + C\n",
      "D. = CTR + V\n",
      "Enter your answer : h\n",
      "Incorrect Answer !!!\n",
      "-----------------------------------------\n",
      " (4)What the shortcut key of Copy?\n",
      "A. = CTR + P\n",
      "B. = CTR + X\n",
      "C. = CTR + R\n",
      "D. = CTR + C\n",
      "Enter your answer : e\n",
      "Incorrect Answer !!!\n",
      "-----------------------------------------\n",
      " (5)What the shortcut key of Bold?\n",
      "A. = CTR + B\n",
      "B. = CTR + X\n",
      "C. = CTR + U\n",
      "D. = CTR + V\n",
      "Enter your answer : d\n",
      "Incorrect Answer !!!\n"
     ]
    }
   ],
   "source": [
    "print(\"     Quiz Game     \")\n",
    "print(\"----------------\")\n",
    "print(\"Want to start game? \")\n",
    "responce=input(\"if yes, Press 'y' :  \")\n",
    "print(\"------------------\")\n",
    "if(responce=='y'):\n",
    "    print(\" (1) What is the shortcut key of Cut ? \")\n",
    "    print(\"A. = CTR + Y\")\n",
    "    print(\"B. = CTR + X\")\n",
    "    print(\"C. = CTR + C\")\n",
    "    print(\"D. = CTR + H\")\n",
    "    ans=input(\"Enter your answer : \")  \n",
    "    if(ans==\"B\"):\n",
    "        print(\"Correct Answer !!!\")\n",
    "    else:\n",
    "        print(\"Incorrect Answer !!!\")\n",
    "\n",
    "        print(\"-----------------------------------------\")\n",
    "\n",
    "    print(\" (2) What is the shortcut key of Paste ?\")\n",
    "    print(\"A. = CTR + P\")\n",
    "    print(\"B. = CTR + X\")\n",
    "    print(\"C. = CTR + C\")\n",
    "    print(\"D. = CTR + V\")\n",
    "    ans=input(\"Enter your answer : \")  \n",
    "    if(ans==\"D\"):\n",
    "        print(\"Correct Answer !!!\")\n",
    "    else:\n",
    "        print(\"Incorrect Answer !!!\")\n",
    "\n",
    "        print(\"-----------------------------------------\")\n",
    "\n",
    "    print(\" (3)What is the shortcut key of Italic?\")\n",
    "    print(\"A. = CTR + D\")\n",
    "    print(\"B. = CTR + I\")\n",
    "    print(\"C. = CTR + C\")\n",
    "    print(\"D. = CTR + V\")\n",
    "    ans=input(\"Enter your answer : \")  \n",
    "    if(ans==\"B\"):\n",
    "        print(\"Correct Answer !!!\")\n",
    "    else:\n",
    "        print(\"Incorrect Answer !!!\")\n",
    "\n",
    "        print(\"-----------------------------------------\")\n",
    "\n",
    "    print(\" (4)What the shortcut key of Copy?\")\n",
    "    print(\"A. = CTR + P\")\n",
    "    print(\"B. = CTR + X\")\n",
    "    print(\"C. = CTR + R\")\n",
    "    print(\"D. = CTR + C\")\n",
    "    ans=input(\"Enter your answer : \")  \n",
    "    if(ans==\"D\"):\n",
    "        print(\"Correct Answer !!!\")\n",
    "    else:\n",
    "        print(\"Incorrect Answer !!!\")\n",
    "\n",
    "        print(\"-----------------------------------------\")\n",
    "\n",
    "    print(\" (5)What the shortcut key of Bold?\")\n",
    "    print(\"A. = CTR + B\")\n",
    "    print(\"B. = CTR + X\")\n",
    "    print(\"C. = CTR + U\")\n",
    "    print(\"D. = CTR + V\")\n",
    "    ans=input(\"Enter your answer : \")  \n",
    "    if(ans==\"A\"):\n",
    "        print(\"Correct Answer !!!\")\n",
    "    else:\n",
    "        print(\"Incorrect Answer !!!\")\n",
    "else:\n",
    "\tprint(\"Game Closed !!\")\n",
    "\n"
   ]
  },
  {
   "cell_type": "code",
   "execution_count": null,
   "id": "3f2fac94",
   "metadata": {},
   "outputs": [],
   "source": []
  }
 ],
 "metadata": {
  "kernelspec": {
   "display_name": "Python 3 (ipykernel)",
   "language": "python",
   "name": "python3"
  },
  "language_info": {
   "codemirror_mode": {
    "name": "ipython",
    "version": 3
   },
   "file_extension": ".py",
   "mimetype": "text/x-python",
   "name": "python",
   "nbconvert_exporter": "python",
   "pygments_lexer": "ipython3",
   "version": "3.11.5"
  }
 },
 "nbformat": 4,
 "nbformat_minor": 5
}
