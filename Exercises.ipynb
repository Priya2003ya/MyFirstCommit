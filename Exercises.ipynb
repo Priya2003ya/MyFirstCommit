{
 "cells": [
  {
   "cell_type": "code",
   "execution_count": 1,
   "id": "2f5680e6",
   "metadata": {},
   "outputs": [
    {
     "name": "stdout",
     "output_type": "stream",
     "text": [
      "Twinkle, twinkle, little star,\n",
      "                How I wonder what you are!\n",
      "                      Up above the world so high,\n",
      "                      Like a diamond in the sky.\n",
      "        Twinkle, twinkle, little star,\n",
      "                How I wonder what you are\n"
     ]
    }
   ],
   "source": [
    "str='''Twinkle, twinkle, little star,\n",
    "                How I wonder what you are!\n",
    "                      Up above the world so high,\n",
    "                      Like a diamond in the sky.\n",
    "        Twinkle, twinkle, little star,\n",
    "                How I wonder what you are'''\n",
    "print(str)"
   ]
  },
  {
   "cell_type": "code",
   "execution_count": 4,
   "id": "71de821f",
   "metadata": {},
   "outputs": [
    {
     "name": "stdout",
     "output_type": "stream",
     "text": [
      "27\n",
      "Avarage of sum =  5.4\n"
     ]
    }
   ],
   "source": [
    "#calculate the sum of avarage of the digit prasent in string.\n",
    "\n",
    "\n",
    "str=\"acrgg4567f5n\"\n",
    "sum=0\n",
    "count=0\n",
    "for char in str:\n",
    "    if char.isdigit():\n",
    "        sum=sum+int(char)\n",
    "        count=count+1\n",
    "V=sum/count\n",
    "print(sum)\n",
    "print(\"Avarage of sum = \",V)"
   ]
  },
  {
   "cell_type": "code",
   "execution_count": 50,
   "id": "986491fe",
   "metadata": {},
   "outputs": [
    {
     "data": {
      "text/plain": [
       "'etutitsni retupmoc esidarap'"
      ]
     },
     "execution_count": 50,
     "metadata": {},
     "output_type": "execute_result"
    }
   ],
   "source": [
    "#reverse a given string.\n",
    "\n",
    "name=\"paradise computer institute\"\n",
    "name[::-1]"
   ]
  },
  {
   "cell_type": "code",
   "execution_count": 8,
   "id": "010a6786",
   "metadata": {},
   "outputs": [
    {
     "name": "stdout",
     "output_type": "stream",
     "text": [
      "paradise\n"
     ]
    },
    {
     "data": {
      "text/plain": [
       "7"
      ]
     },
     "execution_count": 8,
     "metadata": {},
     "output_type": "execute_result"
    }
   ],
   "source": [
    "#Find a last position of given substring.\n",
    "\n",
    "str=\"paradise computer institute\"\n",
    "print(str[0:8])\n",
    "str.find(\"e\")\n"
   ]
  },
  {
   "cell_type": "code",
   "execution_count": 57,
   "id": "c2032690",
   "metadata": {},
   "outputs": [
    {
     "name": "stdout",
     "output_type": "stream",
     "text": [
      "Hello world\n"
     ]
    }
   ],
   "source": [
    "#Remove spacial symbol panctuation from the string.\n",
    "\n",
    "a=\"Hello, world!\"\n",
    "b=\"\"\n",
    "for i in a:\n",
    "    if i.isalpha() or i.isspace():\n",
    "        b=b+i\n",
    "print(b)"
   ]
  },
  {
   "cell_type": "code",
   "execution_count": 10,
   "id": "3a33fa05",
   "metadata": {},
   "outputs": [
    {
     "name": "stdout",
     "output_type": "stream",
     "text": [
      "['Hello,', 'world!']\n"
     ]
    }
   ],
   "source": [
    "a=\"Hello, world!\"\n",
    "for i in a:\n",
    "    if i\n",
    "b=a.strip()\n",
    "print(b)\n"
   ]
  },
  {
   "cell_type": "code",
   "execution_count": 63,
   "id": "6eb96c35",
   "metadata": {},
   "outputs": [
    {
     "name": "stdout",
     "output_type": "stream",
     "text": [
      "2003280403\n"
     ]
    }
   ],
   "source": [
    "#Remove all charecter from string accept integer.\n",
    "\n",
    "x=\"priya2003p280403ra\"\n",
    "a=\"\"\n",
    "for i in x:\n",
    "    if i.isdigit():\n",
    "        a+=i\n",
    "print(a)"
   ]
  },
  {
   "cell_type": "code",
   "execution_count": 64,
   "id": "3db7ba93",
   "metadata": {},
   "outputs": [
    {
     "data": {
      "text/plain": [
       "['orange', 'kiwi', 'banana', 'apple']"
      ]
     },
     "execution_count": 64,
     "metadata": {},
     "output_type": "execute_result"
    }
   ],
   "source": [
    "#Reverse a list in python.\n",
    "\n",
    "li=[\"apple\",\"banana\",\"kiwi\",\"orange\"]\n",
    "li.reverse()\n",
    "li"
   ]
  },
  {
   "cell_type": "code",
   "execution_count": 76,
   "id": "e39c5d66",
   "metadata": {},
   "outputs": [
    {
     "name": "stdout",
     "output_type": "stream",
     "text": [
      "['1priya', '2monika', '3priyanka']\n"
     ]
    }
   ],
   "source": [
    "#Concatnet two list in index wise.\n",
    "\n",
    "li1=[\"1\",\"2\",\"3\"]\n",
    "li2=[\"priya\",\"monika\",\"priyanka\"]\n",
    "li=[i+j for (i,j) in zip(li1,li2)]\n",
    "print(li)\n",
    "  "
   ]
  },
  {
   "cell_type": "code",
   "execution_count": 12,
   "id": "5b749f66",
   "metadata": {},
   "outputs": [
    {
     "name": "stdout",
     "output_type": "stream",
     "text": [
      "['a', 'c', 'e', 'b', 'd', 'f']\n"
     ]
    }
   ],
   "source": [
    "l1=[\"a\",\"c\",\"e\"]\n",
    "l2=[\"b\",\"d\",\"f\"]\n",
    "l1.extend(l2)\n",
    "print((l1))"
   ]
  },
  {
   "cell_type": "code",
   "execution_count": 4,
   "id": "e2d0a9bd",
   "metadata": {},
   "outputs": [
    {
     "name": "stdout",
     "output_type": "stream",
     "text": [
      "1989\n",
      "1989\n"
     ]
    }
   ],
   "source": [
    "#print the value of the key history from the below dictonary.\n",
    "\n",
    "dict={\"name\":\"priya\",\"age\":20,\"gender\":\"female\",\"history\":1989}\n",
    "print(dict[\"history\"])\n",
    "print(dict.get(\"history\"))"
   ]
  },
  {
   "cell_type": "code",
   "execution_count": 5,
   "id": "61d3bf2a",
   "metadata": {},
   "outputs": [
    {
     "data": {
      "text/plain": [
       "(50,)"
      ]
     },
     "execution_count": 5,
     "metadata": {},
     "output_type": "execute_result"
    }
   ],
   "source": [
    "#create a tuple which single items 50.\n",
    "\n",
    "tuple=(50,)\n",
    "tuple"
   ]
  },
  {
   "cell_type": "code",
   "execution_count": 6,
   "id": "0b5c485e",
   "metadata": {},
   "outputs": [
    {
     "name": "stdout",
     "output_type": "stream",
     "text": [
      "Before swapping---\n",
      " (1, 2, 3, 4) \n",
      " ('a', 'b', 'c', 'd')\n",
      "After swapping----\n",
      " ('a', 'b', 'c', 'd') \n",
      " (1, 2, 3, 4)\n"
     ]
    }
   ],
   "source": [
    "#Swape two tuple in python.\n",
    "\n",
    "t1=(1,2,3,4)\n",
    "t2=(\"a\",\"b\",\"c\",\"d\")\n",
    "print(\"Before swapping---\\n\",t1,\"\\n\",t2)\n",
    "t1,t2=t2,t1\n",
    "print(\"After swapping----\\n\",t1,\"\\n\",t2)"
   ]
  },
  {
   "cell_type": "code",
   "execution_count": 7,
   "id": "a93f4ab0",
   "metadata": {},
   "outputs": [
    {
     "name": "stdout",
     "output_type": "stream",
     "text": [
      "1\n",
      "2\n",
      "3\n",
      "4\n",
      "5\n",
      "6\n",
      "7\n",
      "8\n",
      "9\n",
      "10\n"
     ]
    }
   ],
   "source": [
    "#Display number from a list using loop.\n",
    "\n",
    "list=[1,2,3,4,5,6,7,8,9,10]\n",
    "for i in list:\n",
    "    print(i)"
   ]
  },
  {
   "cell_type": "code",
   "execution_count": 9,
   "id": "270bf532",
   "metadata": {},
   "outputs": [
    {
     "name": "stdout",
     "output_type": "stream",
     "text": [
      "Enter the number:5\n",
      "Sum of all number =  15\n"
     ]
    }
   ],
   "source": [
    "#calculate the sum of all number from one to given number.\n",
    "\n",
    "n=int(input(\"Enter the number:\"))\n",
    "sum=0\n",
    "for i in range(1,n+1):\n",
    "    sum=sum+i\n",
    "print(\"Sum of all number = \",sum)"
   ]
  },
  {
   "cell_type": "code",
   "execution_count": 14,
   "id": "a0568e3b",
   "metadata": {},
   "outputs": [
    {
     "name": "stdout",
     "output_type": "stream",
     "text": [
      "Multiplication of given number---\n",
      "How many numbers of multilplication?3\n",
      "Enter the numbers  :  3\n",
      "Enter the numbers  :  2\n",
      "Enter the numbers  :  3\n",
      "18\n"
     ]
    }
   ],
   "source": [
    "#Write a program to multiplication of given number.\n",
    "\n",
    "print(\"Multiplication of given number---\")\n",
    "x=1\n",
    "n=int(input(\"How many numbers of multilplication?\"))\n",
    "for i in range(1,n+1):\n",
    "    num=int(input(\"Enter the numbers  :  \"))\n",
    "    x=x*num\n",
    "print(x)"
   ]
  },
  {
   "cell_type": "code",
   "execution_count": 20,
   "id": "7354bcf4",
   "metadata": {},
   "outputs": [
    {
     "name": "stdout",
     "output_type": "stream",
     "text": [
      "9\n"
     ]
    },
    {
     "data": {
      "text/plain": [
       "3"
      ]
     },
     "execution_count": 20,
     "metadata": {},
     "output_type": "execute_result"
    }
   ],
   "source": [
    "#Count a total number of digit in given number.\n",
    "\n",
    "num=\"587465765\"\n",
    "print(len(num))\n",
    "num.count(\"5\")"
   ]
  },
  {
   "cell_type": "code",
   "execution_count": 21,
   "id": "6934a320",
   "metadata": {},
   "outputs": [
    {
     "name": "stdout",
     "output_type": "stream",
     "text": [
      "b\n"
     ]
    }
   ],
   "source": [
    "#Copy specific element from one tuple to a new tuple.\n",
    "\n",
    "t=(1,2,3,\"a\",\"b\",\"c\")\n",
    "tu=t[4]\n",
    "print(tu)"
   ]
  },
  {
   "cell_type": "code",
   "execution_count": 22,
   "id": "02c3e6f7",
   "metadata": {},
   "outputs": [
    {
     "name": "stdout",
     "output_type": "stream",
     "text": [
      "(30, 40, 50)\n"
     ]
    }
   ],
   "source": [
    "t=(10,20,30,40,50,60,70,80)\n",
    "nt=t[2:5]\n",
    "print(nt)"
   ]
  },
  {
   "cell_type": "code",
   "execution_count": 8,
   "id": "e42d2a98",
   "metadata": {},
   "outputs": [
    {
     "name": "stdout",
     "output_type": "stream",
     "text": [
      "{'roll no': 20}\n"
     ]
    }
   ],
   "source": [
    "#delete a list of key from dictnory.\n",
    "\n",
    "dict={\"name\":\"priya\",\"subject\":\"math\",\"roll no\":20,\"color\":\"red\"}\n",
    "li=[\"name\",\"subject\",\"color\"]\n",
    "for i in li:\n",
    "     dict.pop(i)\n",
    "print(dict)"
   ]
  },
  {
   "cell_type": "code",
   "execution_count": 12,
   "id": "0d553f51",
   "metadata": {},
   "outputs": [
    {
     "name": "stdout",
     "output_type": "stream",
     "text": [
      "(1, 2, 3, 4, 5, 6, 7, '9')\n"
     ]
    }
   ],
   "source": [
    "#Add an item in a tuple in python.\n",
    "\n",
    "t=(1,2,3,4,5,6,7)\n",
    "l=list(t)\n",
    "l.append(\"9\")\n",
    "t=tuple(l)\n",
    "print(t)"
   ]
  },
  {
   "cell_type": "code",
   "execution_count": 13,
   "id": "55ba499d",
   "metadata": {},
   "outputs": [
    {
     "name": "stdout",
     "output_type": "stream",
     "text": [
      "('priya', 'priyanka', 'monika', 'riya')\n"
     ]
    }
   ],
   "source": [
    "tup=(\"priya\",\"priyanka\",\"monika\")\n",
    "li=list(tup)\n",
    "li.append(\"riya\")\n",
    "tup=tuple(li)\n",
    "print(tup)    "
   ]
  },
  {
   "cell_type": "code",
   "execution_count": null,
   "id": "9d9807f8",
   "metadata": {},
   "outputs": [],
   "source": []
  },
  {
   "cell_type": "markdown",
   "id": "fa02de52",
   "metadata": {},
   "source": [
    "pi=3.14\n",
    "r=int(input(\"Enter the radius:\"))\n",
    "Area=pi*r**2\n",
    "print(\"Area of Circle = \",Area)"
   ]
  },
  {
   "cell_type": "code",
   "execution_count": 4,
   "id": "dca7e8e7",
   "metadata": {},
   "outputs": [
    {
     "name": "stdout",
     "output_type": "stream",
     "text": [
      "Enter the fname:priya\n",
      "Enter the lname:prajapti\n",
      "prajapti priya\n"
     ]
    }
   ],
   "source": [
    "fname=input(\"Enter the fname:\")\n",
    "lname=input(\"Enter the lname:\")\n",
    "fname,lname=lname,fname\n",
    "print(fname,lname)"
   ]
  },
  {
   "cell_type": "code",
   "execution_count": 6,
   "id": "de50a019",
   "metadata": {},
   "outputs": [
    {
     "name": "stdout",
     "output_type": "stream",
     "text": [
      "('1', '2', '3', '4', '5', '6')\n",
      "['1', '2', '3', '4', '5', '6']\n"
     ]
    }
   ],
   "source": [
    "str=\"123456\"\n",
    "print(tuple(str))\n",
    "print(list(str))"
   ]
  },
  {
   "cell_type": "code",
   "execution_count": 1,
   "id": "a3a5353f",
   "metadata": {},
   "outputs": [
    {
     "name": "stdout",
     "output_type": "stream",
     "text": [
      "num890\n",
      "['890']\n",
      "('890',)\n"
     ]
    }
   ],
   "source": [
    "values=(input(\"num\"))\n",
    "list=values.split(\",\")\n",
    "tuple = tuple(list)\n",
    "print(list)\n",
    "print(tuple)"
   ]
  },
  {
   "cell_type": "code",
   "execution_count": 24,
   "id": "0d41c540",
   "metadata": {},
   "outputs": [
    {
     "name": "stdout",
     "output_type": "stream",
     "text": [
      "['orange', 'banana', 'kiwi', 'apple']\n"
     ]
    }
   ],
   "source": [
    "list=[\"apple\",\"banana\",\"kiwi\",\"orange\"]\n",
    "list[0],list[3]=list[3],list[0]\n",
    "print(list)\n"
   ]
  },
  {
   "cell_type": "code",
   "execution_count": 25,
   "id": "555e176f",
   "metadata": {},
   "outputs": [
    {
     "data": {
      "text/plain": [
       "4"
      ]
     },
     "execution_count": 25,
     "metadata": {},
     "output_type": "execute_result"
    }
   ],
   "source": [
    "len(list)"
   ]
  },
  {
   "cell_type": "code",
   "execution_count": 26,
   "id": "deddfe52",
   "metadata": {},
   "outputs": [
    {
     "name": "stdout",
     "output_type": "stream",
     "text": [
      "Enter the number7\n",
      "Enter the number8\n",
      "8\n"
     ]
    }
   ],
   "source": [
    "a=int(input(\"Enter the number\"))\n",
    "b=int(input(\"Enter the number\"))\n",
    "print(max(a,b))"
   ]
  },
  {
   "cell_type": "code",
   "execution_count": 27,
   "id": "39e8e2e1",
   "metadata": {},
   "outputs": [
    {
     "name": "stdout",
     "output_type": "stream",
     "text": [
      "7\n"
     ]
    }
   ],
   "source": [
    "print(min(a,b))"
   ]
  },
  {
   "cell_type": "code",
   "execution_count": 28,
   "id": "3ede03fe",
   "metadata": {},
   "outputs": [
    {
     "data": {
      "text/plain": [
       "True"
      ]
     },
     "execution_count": 28,
     "metadata": {},
     "output_type": "execute_result"
    }
   ],
   "source": [
    "li=[1,4,6,\"hi\",\"hello\"]\n",
    "\"hi\" in li"
   ]
  },
  {
   "cell_type": "code",
   "execution_count": 29,
   "id": "55eff87f",
   "metadata": {},
   "outputs": [
    {
     "data": {
      "text/plain": [
       "True"
      ]
     },
     "execution_count": 29,
     "metadata": {},
     "output_type": "execute_result"
    }
   ],
   "source": [
    "1 in li"
   ]
  },
  {
   "cell_type": "code",
   "execution_count": 30,
   "id": "2bf5ab45",
   "metadata": {},
   "outputs": [
    {
     "data": {
      "text/plain": [
       "False"
      ]
     },
     "execution_count": 30,
     "metadata": {},
     "output_type": "execute_result"
    }
   ],
   "source": [
    "3 in li"
   ]
  },
  {
   "cell_type": "code",
   "execution_count": 17,
   "id": "8f9b3f05",
   "metadata": {},
   "outputs": [
    {
     "name": "stdout",
     "output_type": "stream",
     "text": [
      "Enter the number:8\n",
      "40320\n"
     ]
    }
   ],
   "source": [
    "#find the fectorial of an even number.\n",
    "n=int(input(\"Enter the number:\"))\n",
    "f=1\n",
    "i=1\n",
    "if n%2==0:\n",
    "    while i<=n:\n",
    "        f=f*i\n",
    "        i+=1\n",
    "    print(f)"
   ]
  },
  {
   "cell_type": "code",
   "execution_count": 21,
   "id": "c4116c27",
   "metadata": {},
   "outputs": [
    {
     "name": "stdout",
     "output_type": "stream",
     "text": [
      "[5, 4, 3, 2, 1]\n"
     ]
    }
   ],
   "source": [
    "#print list in reverse order using a loop.\n",
    "\n",
    "my_list=[1,2,3,4,5]\n",
    "new_list=[]\n",
    "for i in range(len(my_list)):\n",
    "    new_list.insert(i,my_list[-1])\n",
    "    my_list.pop(-1)\n",
    "print(new_list)"
   ]
  },
  {
   "cell_type": "code",
   "execution_count": 17,
   "id": "66d3088f",
   "metadata": {},
   "outputs": [
    {
     "name": "stdout",
     "output_type": "stream",
     "text": [
      "5\n",
      "4\n",
      "3\n",
      "2\n",
      "1\n",
      "[5, 4, 3, 2, 1]\n"
     ]
    }
   ],
   "source": [
    "li=[1,2,3,4,5]\n",
    "nl=[]\n",
    "for i in range(len(li)):\n",
    "    nl.insert(i,li[-1])\n",
    "    li.pop(-1)\n",
    "print(nl)\n"
   ]
  },
  {
   "cell_type": "code",
   "execution_count": 11,
   "id": "6df8cf42",
   "metadata": {},
   "outputs": [
    {
     "name": "stdout",
     "output_type": "stream",
     "text": [
      "[2, 4, 6, 8]\n"
     ]
    }
   ],
   "source": [
    "#use a loop to display element from a given list present at odd index position.\n",
    "\n",
    "li=[1,2,3,4,5,6,7,8,9]\n",
    "l=[]\n",
    "for i in li[1::2]:\n",
    "    l.append(i)\n",
    "print(l)"
   ]
  },
  {
   "cell_type": "code",
   "execution_count": 23,
   "id": "7ef41231",
   "metadata": {},
   "outputs": [
    {
     "name": "stdout",
     "output_type": "stream",
     "text": [
      "[2, 4, 6]\n"
     ]
    }
   ],
   "source": [
    "L = [1, 2, 3, 4, 5, 6, 7]\n",
    "li = []\n",
    "count = 0\n",
    "for i in L:\n",
    "    if count % 2 == 1:\n",
    "        li.append(i)\n",
    "    count += 1\n",
    "print(li)"
   ]
  },
  {
   "cell_type": "code",
   "execution_count": 30,
   "id": "d3a61110",
   "metadata": {},
   "outputs": [
    {
     "name": "stdout",
     "output_type": "stream",
     "text": [
      "Enter the number:5\n",
      "1\n",
      "8\n",
      "27\n",
      "64\n",
      "125\n"
     ]
    }
   ],
   "source": [
    "#calculate the cube of all number from 1 to given number.\n",
    "\n",
    "n=int(input(\"Enter the number:\"))\n",
    "for i in range(1,n+1):\n",
    "    cube=i**3\n",
    "    print(cube)"
   ]
  },
  {
   "cell_type": "code",
   "execution_count": 41,
   "id": "501dd1c7",
   "metadata": {},
   "outputs": [
    {
     "data": {
      "text/plain": [
       "{'level1': {'level2': {'levelA': 20, 'levelB': '50'}}}"
      ]
     },
     "execution_count": 41,
     "metadata": {},
     "output_type": "execute_result"
    }
   ],
   "source": [
    "#change value of key in nested dictonary.\n",
    "\n",
    "dict={\"level1\":{\"level2\":{\"levelA\":20,\"levelB\":10}}}\n",
    "dict[\"level1\"][\"level2\"][\"levelB\"]=\"50\"\n",
    "dict\n"
   ]
  },
  {
   "cell_type": "code",
   "execution_count": 8,
   "id": "53a89c91",
   "metadata": {},
   "outputs": [
    {
     "name": "stdout",
     "output_type": "stream",
     "text": [
      "{10, 30}\n"
     ]
    }
   ],
   "source": [
    "#update the first set with items that do not exist in the second set.\n",
    "set1 = {10, 20, 30}\n",
    "set2 = {20, 40, 50}\n",
    "\n",
    "set1.difference_update(set2)\n",
    "print(set1)"
   ]
  },
  {
   "cell_type": "code",
   "execution_count": 6,
   "id": "b4a3c43b",
   "metadata": {},
   "outputs": [
    {
     "data": {
      "text/plain": [
       "{0, 1, 2, 3, 4, 5, 6, 7, 9}"
      ]
     },
     "execution_count": 6,
     "metadata": {},
     "output_type": "execute_result"
    }
   ],
   "source": [
    "#get only unique item from two set.\n",
    "\n",
    "set1={1,2,3,4,5,6,7}\n",
    "set2={2,3,5,6,7,9,0,1}\n",
    "set1.union(set2)"
   ]
  },
  {
   "cell_type": "code",
   "execution_count": 9,
   "id": "e8fd8e74",
   "metadata": {},
   "outputs": [
    {
     "name": "stdout",
     "output_type": "stream",
     "text": [
      "None\n",
      "{2, 3, 4}\n"
     ]
    }
   ],
   "source": [
    "#remove item from set1 that are not common to both are set1 or set2.\n",
    "\n",
    "set1={1,2,3,4,5}\n",
    "set2={2,3,4,7,8,9}\n",
    "print(set1.intersection_update(set2))\n",
    "print(set1)"
   ]
  },
  {
   "cell_type": "code",
   "execution_count": 1,
   "id": "1d5350e5",
   "metadata": {},
   "outputs": [
    {
     "data": {
      "text/plain": [
       "{1, 2, 3, 4, 5, 'a', 'b', 'c'}"
      ]
     },
     "execution_count": 1,
     "metadata": {},
     "output_type": "execute_result"
    }
   ],
   "source": [
    "#Add a list of element to a set.\n",
    "\n",
    "set={1,2,3,4,5}\n",
    "set.update([\"a\",\"b\",\"c\"])\n",
    "set"
   ]
  },
  {
   "cell_type": "code",
   "execution_count": 9,
   "id": "6088123d",
   "metadata": {},
   "outputs": [
    {
     "data": {
      "text/plain": [
       "{'name': 'priya', 'roll no': 20, 'course': 'math'}"
      ]
     },
     "execution_count": 9,
     "metadata": {},
     "output_type": "execute_result"
    }
   ],
   "source": [
    "#rename key of a dictonary.\n",
    "\n",
    "dict={\"name\":\"priya\",\"roll no\":20,\"subject\":\"math\"}\n",
    "dict[\"course\"]=dict.pop(\"subject\")\n",
    "dict"
   ]
  },
  {
   "cell_type": "code",
   "execution_count": 28,
   "id": "c0d7059a",
   "metadata": {},
   "outputs": [
    {
     "name": "stdout",
     "output_type": "stream",
     "text": [
      "Enter the eh\n",
      "Enter the ej\n",
      "('h', 'j')\n"
     ]
    }
   ],
   "source": [
    "#create tuple at two element.\n",
    "i=1\n",
    "tu=[]\n",
    "while i<=2:\n",
    "    tu.append(input(\"Enter the e\"))\n",
    "    i+=1\n",
    "re=tuple(tu)\n",
    "print(re)"
   ]
  },
  {
   "cell_type": "code",
   "execution_count": 41,
   "id": "645de9be",
   "metadata": {},
   "outputs": [
    {
     "name": "stdout",
     "output_type": "stream",
     "text": [
      "1 2 3 5 8 13 21 34 55 89 "
     ]
    }
   ],
   "source": [
    "#fibbonaccy sieize in 10 term.\n",
    "\n",
    "n1=0\n",
    "n2=1\n",
    "for i in range(10):\n",
    "    re=n1+n2\n",
    "    print(re,end=\" \")\n",
    "    n1=n2\n",
    "    n2=re"
   ]
  },
  {
   "cell_type": "code",
   "execution_count": 2,
   "id": "7a731d17",
   "metadata": {},
   "outputs": [
    {
     "name": "stdout",
     "output_type": "stream",
     "text": [
      "Enter the itemsa\n",
      "Enter the itemsb\n",
      "('a', 'b')\n"
     ]
    }
   ],
   "source": [
    "thistuple=()\n",
    "for i in range(1,3):\n",
    "    thislist=list(thistuple)\n",
    "    thislist.append(input(\"Enter the items\"))\n",
    "    thistuple=tuple(thislist)\n",
    "print(thistuple)"
   ]
  },
  {
   "cell_type": "code",
   "execution_count": null,
   "id": "c169923e",
   "metadata": {},
   "outputs": [],
   "source": []
  }
 ],
 "metadata": {
  "kernelspec": {
   "display_name": "Python 3 (ipykernel)",
   "language": "python",
   "name": "python3"
  },
  "language_info": {
   "codemirror_mode": {
    "name": "ipython",
    "version": 3
   },
   "file_extension": ".py",
   "mimetype": "text/x-python",
   "name": "python",
   "nbconvert_exporter": "python",
   "pygments_lexer": "ipython3",
   "version": "3.11.5"
  }
 },
 "nbformat": 4,
 "nbformat_minor": 5
}
