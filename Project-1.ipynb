{
 "cells": [
  {
   "cell_type": "code",
   "execution_count": null,
   "id": "4eac4a38",
   "metadata": {},
   "outputs": [],
   "source": [
    "import random\n",
    "\n",
    "def get_user_choice():\n",
    "    user_choice=input(\"Enter the user choice (rock/paper/scissors):\").lower()\n",
    "    while user_choice not in [\"rock\",\"paper\",\"scissors\"]:\n",
    "        print(\"Invalid choice please enter the choice in (rock/papaer/scissors)\")\n",
    "        user_choice=input(\"Enter the user choice (rock/paper/scissors):\").lower()\n",
    "        return user_choice\n",
    "    \n",
    "def get_computer_choice():\n",
    "    return random.choice([\"rock\",\"paper\",\"scissors\"])\n",
    "\n",
    "def winner(user_choice,computer_choice):\n",
    "    if user_choice==computer_choice:\n",
    "        return \"It's a tia!\"\n",
    "    elif (user_choice==\"rock\" and computer_choice==\"scissors\")or(user_choice==\"paper\" and computer_choice==\"rock\")or(user_choice==\"scissors\" and computer_choice==\"paper\"):\n",
    "            return \"You Win!\"\n",
    "    else:\n",
    "        return \"Computer Wins!\"\n",
    "    \n",
    "def play_game():\n",
    "    print(\"Let's start the game Rock, Paper, Scissors!\")\n",
    "    while True:\n",
    "        user_choice = get_user_choice()\n",
    "        computer_choice = get_computer_choice()\n",
    "        print(f\"You Choice {user_choice}.Computer Choice {computer_choice}.\")\n",
    "        print(winner(user_choice,computer_choice))\n",
    "        play_again=input(\"Do you want to play again?(yes/no):\").lower()\n",
    "        if play_again != \"yes\":\n",
    "            print(\"Thanks for Playing\")\n",
    "            break\n",
    "            \n",
    "play_game()"
   ]
  },
  {
   "cell_type": "code",
   "execution_count": null,
   "id": "21870fe2",
   "metadata": {},
   "outputs": [],
   "source": []
  },
  {
   "cell_type": "code",
   "execution_count": null,
   "id": "58b7401f",
   "metadata": {},
   "outputs": [],
   "source": []
  },
  {
   "cell_type": "code",
   "execution_count": null,
   "id": "76df96b3",
   "metadata": {},
   "outputs": [],
   "source": []
  },
  {
   "cell_type": "code",
   "execution_count": null,
   "id": "54933ad1",
   "metadata": {},
   "outputs": [],
   "source": []
  },
  {
   "cell_type": "code",
   "execution_count": null,
   "id": "55389ce4",
   "metadata": {},
   "outputs": [],
   "source": []
  },
  {
   "cell_type": "code",
   "execution_count": 25,
   "id": "fd48bc79",
   "metadata": {},
   "outputs": [
    {
     "name": "stdout",
     "output_type": "stream",
     "text": [
      "Let's start the game Rock, Paper, Scissors!\n",
      "Enter the user1 choice (rock/paper/scissors):rock\n",
      "You Choice rock. user2 Choice rock\n",
      "It's a tia!\n",
      "Do you want to play again?(yes/no):yes\n",
      "Enter the user1 choice (rock/paper/scissors):paper\n",
      "You Choice paper. user2 Choice scissors\n",
      "user2 Wins!\n",
      "Do you want to play again?(yes/no):no\n",
      "Thanks for Playing\n"
     ]
    }
   ],
   "source": [
    "import random\n",
    "\n",
    "def get_user1_choice():\n",
    "    user1_choice=input(\"Enter the user1 choice (rock/paper/scissors):\").lower()\n",
    "    while user1_choice not in [\"rock\",\"paper\",\"scissors\"]:\n",
    "        print(\"Invalid choice please enter the choice in (rock/papaer/scissors)\")\n",
    "        user1_choice=input(\"Enter the user choice (rock/paper/scissors):\").lower()\n",
    "    return user1_choice\n",
    "    \n",
    "def get_user2_choice():\n",
    "    return random.choice([\"rock\",\"paper\",\"scissors\"])\n",
    "    \n",
    "\n",
    "def winner(user1_choice,user2_choice):\n",
    "    if user1_choice==user2_choice:\n",
    "        return \"It's a tia!\"\n",
    "    elif (user1_choice==\"rock\" and user2_choice==\"scissors\")or(user1_choice==\"paper\" and user2_choice==\"rock\")or(user1_choice==\"scissors\" and user2_choice==\"paper\"):\n",
    "            return \"You Win!\"\n",
    "    else:\n",
    "        return \"user2 Wins!\"\n",
    "    \n",
    "def play_game():\n",
    "    print(\"Let's start the game Rock, Paper, Scissors!\")\n",
    "    while True:\n",
    "        user1_choice = get_user1_choice()\n",
    "        user2_choice = get_user2_choice()\n",
    "        print(f\"You Choice {user1_choice}. user2 Choice {user2_choice}\")\n",
    "        print(winner(user1_choice,user2_choice))\n",
    "        play_again=input(\"Do you want to play again?(yes/no):\").lower()\n",
    "        if play_again != \"yes\":\n",
    "            print(\"Thanks for Playing\")\n",
    "            break\n",
    "            \n",
    "play_game()"
   ]
  },
  {
   "cell_type": "code",
   "execution_count": null,
   "id": "6a7f5f7c",
   "metadata": {},
   "outputs": [],
   "source": []
  },
  {
   "cell_type": "code",
   "execution_count": 8,
   "id": "e42b6947",
   "metadata": {},
   "outputs": [],
   "source": [
    "import random"
   ]
  },
  {
   "cell_type": "code",
   "execution_count": 9,
   "id": "04cc2aa4",
   "metadata": {},
   "outputs": [],
   "source": [
    "thislist=[\"Rock\",\"Paper\",\"Scissors\"]"
   ]
  },
  {
   "cell_type": "code",
   "execution_count": 21,
   "id": "fcceb158",
   "metadata": {},
   "outputs": [
    {
     "name": "stdout",
     "output_type": "stream",
     "text": [
      "Rock\n"
     ]
    }
   ],
   "source": [
    "x=random.randint(0,2)\n",
    "print(thislist[x])"
   ]
  },
  {
   "cell_type": "code",
   "execution_count": 31,
   "id": "5d8789bc",
   "metadata": {},
   "outputs": [
    {
     "name": "stdout",
     "output_type": "stream",
     "text": [
      "apple\n",
      "banana\n",
      "orange\n"
     ]
    }
   ],
   "source": [
    "thislist=[\"apple\",\"banana\",\"orange\",\"kiwi\"]\n",
    "thisl=iter(thislist)\n",
    "print(next(thisl))\n",
    "print(next(thisl))\n",
    "print(thislist[2])"
   ]
  },
  {
   "cell_type": "code",
   "execution_count": 32,
   "id": "be6a7c8e",
   "metadata": {},
   "outputs": [
    {
     "name": "stdout",
     "output_type": "stream",
     "text": [
      "apple\n",
      "banana\n",
      "orange\n",
      "kiwi\n"
     ]
    }
   ],
   "source": [
    "for i in thislist:\n",
    "    print(i)"
   ]
  },
  {
   "cell_type": "code",
   "execution_count": 44,
   "id": "23eda2c7",
   "metadata": {},
   "outputs": [
    {
     "name": "stdout",
     "output_type": "stream",
     "text": [
      "name riya and roll_no 35\n",
      "name priya and roll_no 76\n",
      "name tiya and roll_no 534\n"
     ]
    }
   ],
   "source": [
    "class Person:\n",
    "    def __init__(self,name,roll_no):\n",
    "        self.name=name\n",
    "        self.roll_no=roll_no\n",
    "        \n",
    "    def detail(self):\n",
    "        print(f\"name {self.name} and roll_no {self.roll_no}\")\n",
    "        \n",
    "class Student(Person):\n",
    "    def __init__(self,name,roll_no):\n",
    "        super().__init__(name,roll_no)\n",
    "        \n",
    "    def detail(self):\n",
    "         print(f\"name {self.name} and roll_no {self.roll_no}\")\n",
    "        \n",
    "class Children(Person):\n",
    "    pass\n",
    "\n",
    "person=Person(\"riya\",35)\n",
    "student=Student(\"priya\",76)\n",
    "children=Children(\"tiya\",534)\n",
    "\n",
    "\n",
    "person.detail()\n",
    "student.detail()\n",
    "children.detail()"
   ]
  },
  {
   "cell_type": "code",
   "execution_count": 47,
   "id": "1123e974",
   "metadata": {},
   "outputs": [
    {
     "name": "stdout",
     "output_type": "stream",
     "text": [
      "4646 23\n",
      "class 7\n",
      "\n",
      "class 8\n",
      "\n",
      "532 64\n",
      "class 7\n",
      "\n"
     ]
    }
   ],
   "source": [
    "class Class7:\n",
    "    def __init__(self,roll_no,age):\n",
    "        self.roll_no=roll_no\n",
    "        self.age=age\n",
    "        \n",
    "    def Student(self):\n",
    "        print(self.roll_no,  self.age)\n",
    "        print(\"class 7\\n\")\n",
    "        \n",
    "class Class8(Class7):\n",
    "    def __init__(self,roll_no,age):\n",
    "        super().__init__(roll_no,age)\n",
    "    def Student(self):\n",
    "        print(\"class 8\\n\")\n",
    "\n",
    "class Class9(Class7):\n",
    "    pass\n",
    "#     print(\"class 9\\n\")\n",
    "\n",
    "class7=Class7(4646,23)\n",
    "class8=Class8(7685,545)\n",
    "class9=Class9(532,64)\n",
    "\n",
    "class7.Student()\n",
    "class8.Student()\n",
    "class9.Student()\n"
   ]
  },
  {
   "cell_type": "code",
   "execution_count": null,
   "id": "e7b2dfd6",
   "metadata": {},
   "outputs": [],
   "source": []
  }
 ],
 "metadata": {
  "kernelspec": {
   "display_name": "Python 3 (ipykernel)",
   "language": "python",
   "name": "python3"
  },
  "language_info": {
   "codemirror_mode": {
    "name": "ipython",
    "version": 3
   },
   "file_extension": ".py",
   "mimetype": "text/x-python",
   "name": "python",
   "nbconvert_exporter": "python",
   "pygments_lexer": "ipython3",
   "version": "3.11.5"
  }
 },
 "nbformat": 4,
 "nbformat_minor": 5
}
