{
 "cells": [
  {
   "cell_type": "code",
   "execution_count": 6,
   "id": "e3e74780",
   "metadata": {},
   "outputs": [
    {
     "data": {
      "text/plain": [
       "20"
      ]
     },
     "execution_count": 6,
     "metadata": {},
     "output_type": "execute_result"
    }
   ],
   "source": [
    "def max_num(*num):\n",
    "    return max(num)\n",
    "max(3,4,5,7,8,9,4,20)"
   ]
  },
  {
   "cell_type": "code",
   "execution_count": 10,
   "id": "1f4b05b7",
   "metadata": {},
   "outputs": [
    {
     "data": {
      "text/plain": [
       "103"
      ]
     },
     "execution_count": 10,
     "metadata": {},
     "output_type": "execute_result"
    }
   ],
   "source": [
    "def sum_num(*num):\n",
    "    return sum(num)\n",
    "sum_num(2,34,1,7,55,4)"
   ]
  },
  {
   "cell_type": "code",
   "execution_count": 14,
   "id": "1aa5b6d7",
   "metadata": {},
   "outputs": [
    {
     "data": {
      "text/plain": [
       "24"
      ]
     },
     "execution_count": 14,
     "metadata": {},
     "output_type": "execute_result"
    }
   ],
   "source": [
    "def mul(*num):\n",
    "    mul=1\n",
    "    for i in num:\n",
    "        mul*=i\n",
    "    return mul\n",
    "mul(2,3,4)"
   ]
  },
  {
   "cell_type": "code",
   "execution_count": 59,
   "id": "b34cc6cd",
   "metadata": {},
   "outputs": [
    {
     "name": "stdout",
     "output_type": "stream",
     "text": [
      "even numbers: [8, 2, 28]\n",
      "odd numbers: [3, 5, 7, 9, 37, 85, 45]\n"
     ]
    }
   ],
   "source": [
    "def even_odd(*num):\n",
    "    even=[]\n",
    "    odd=[]\n",
    "    for i in num:\n",
    "        if i%2==0:\n",
    "            even.append(i)\n",
    "        else:\n",
    "            odd.append(i)\n",
    "    print(\"even numbers:\",even)\n",
    "    print(\"odd numbers:\",odd)\n",
    "even_odd(3,5,8,7,9,2,37,85,28,45)\n",
    "    "
   ]
  },
  {
   "cell_type": "code",
   "execution_count": 1,
   "id": "d94e1b24",
   "metadata": {},
   "outputs": [
    {
     "ename": "TypeError",
     "evalue": "unsupported operand type(s) for -: 'tuple' and 'int'",
     "output_type": "error",
     "traceback": [
      "\u001b[1;31m---------------------------------------------------------------------------\u001b[0m",
      "\u001b[1;31mTypeError\u001b[0m                                 Traceback (most recent call last)",
      "Cell \u001b[1;32mIn[1], line 12\u001b[0m\n\u001b[0;32m     10\u001b[0m     \u001b[38;5;28mprint\u001b[39m(\u001b[38;5;124m\"\u001b[39m\u001b[38;5;124mnprime numbers:\u001b[39m\u001b[38;5;124m\"\u001b[39m,nprime)\n\u001b[0;32m     11\u001b[0m     \u001b[38;5;28mprint\u001b[39m(\u001b[38;5;124m\"\u001b[39m\u001b[38;5;124mprime numbers:\u001b[39m\u001b[38;5;124m\"\u001b[39m,prime)\n\u001b[1;32m---> 12\u001b[0m prime([\u001b[38;5;241m6\u001b[39m,\u001b[38;5;241m8\u001b[39m,\u001b[38;5;241m3\u001b[39m,\u001b[38;5;241m7\u001b[39m])\n",
      "Cell \u001b[1;32mIn[1], line 5\u001b[0m, in \u001b[0;36mprime\u001b[1;34m(*num)\u001b[0m\n\u001b[0;32m      3\u001b[0m nprime\u001b[38;5;241m=\u001b[39m[]\n\u001b[0;32m      4\u001b[0m \u001b[38;5;28;01mfor\u001b[39;00m n \u001b[38;5;129;01min\u001b[39;00m num:\n\u001b[1;32m----> 5\u001b[0m     \u001b[38;5;28;01mfor\u001b[39;00m i \u001b[38;5;129;01min\u001b[39;00m \u001b[38;5;28mrange\u001b[39m(\u001b[38;5;241m2\u001b[39m,num\u001b[38;5;241m-\u001b[39m\u001b[38;5;241m1\u001b[39m):\n\u001b[0;32m      6\u001b[0m         \u001b[38;5;28;01mif\u001b[39;00m n\u001b[38;5;241m%\u001b[39mi:\n\u001b[0;32m      7\u001b[0m             nprime\u001b[38;5;241m.\u001b[39mappend(n)\n",
      "\u001b[1;31mTypeError\u001b[0m: unsupported operand type(s) for -: 'tuple' and 'int'"
     ]
    }
   ],
   "source": [
    "def prime(*num):\n",
    "    prime=[]\n",
    "    nprime=[]\n",
    "    for n in num:\n",
    "        for i in range(2,num-1):\n",
    "            if n%i:\n",
    "                nprime.append(n)\n",
    "            else:\n",
    "                prime.append(n)\n",
    "    print(\"nprime numbers:\",nprime)\n",
    "    print(\"prime numbers:\",prime)\n",
    "prime([6,8,3,7])"
   ]
  },
  {
   "cell_type": "code",
   "execution_count": 62,
   "id": "33cfbacd",
   "metadata": {},
   "outputs": [
    {
     "data": {
      "text/plain": [
       "('apple', 'papaya', 'banana', 'kiwi')"
      ]
     },
     "execution_count": 62,
     "metadata": {},
     "output_type": "execute_result"
    }
   ],
   "source": [
    "def fruits(*name):\n",
    "    return (name)\n",
    "fruits(\"apple\",\"papaya\",\"banana\",\"kiwi\")"
   ]
  },
  {
   "cell_type": "code",
   "execution_count": 1,
   "id": "a78a4267",
   "metadata": {},
   "outputs": [
    {
     "data": {
      "text/plain": [
       "3.5"
      ]
     },
     "execution_count": 1,
     "metadata": {},
     "output_type": "execute_result"
    }
   ],
   "source": [
    "def average(*num):\n",
    "    return sum((num))/len(num)\n",
    "average(1,2,3,4,6,5)"
   ]
  },
  {
   "cell_type": "code",
   "execution_count": 3,
   "id": "4782ce29",
   "metadata": {},
   "outputs": [
    {
     "name": "stdout",
     "output_type": "stream",
     "text": [
      "2\n"
     ]
    },
    {
     "data": {
      "text/plain": [
       "7.0"
      ]
     },
     "execution_count": 3,
     "metadata": {},
     "output_type": "execute_result"
    }
   ],
   "source": [
    "def file(arg,*args):\n",
    "    print(arg)\n",
    "    return sum((args))/arg\n",
    "file(2,2,3,4,5)"
   ]
  },
  {
   "cell_type": "code",
   "execution_count": 12,
   "id": "551a6c64",
   "metadata": {},
   "outputs": [
    {
     "name": "stdout",
     "output_type": "stream",
     "text": [
      "name = priya\n",
      "age = 22\n",
      "rollno = 75\n"
     ]
    }
   ],
   "source": [
    "def display(**kwargs):\n",
    "    for i,j in kwargs.items():\n",
    "        print(i,\"=\",j)\n",
    "display(name=\"priya\",age=22,rollno=75)"
   ]
  },
  {
   "cell_type": "code",
   "execution_count": 32,
   "id": "095ee295",
   "metadata": {},
   "outputs": [
    {
     "name": "stdout",
     "output_type": "stream",
     "text": [
      "1 red\n",
      "2 pink\n",
      "3 yellow\n",
      "4 blue\n",
      "5 white\n",
      "6 green\n"
     ]
    }
   ],
   "source": [
    "def dis(**kwargs):\n",
    "    for i,j in kwargs.items():\n",
    "        print(i,j)\n",
    "d={\"1\":\"red\",\"2\":\"pink\",\"3\":\"yellow\",\"4\":\"blue\",\"5\":\"white\",\"6\":\"green\"}\n",
    "dis(**d)"
   ]
  },
  {
   "cell_type": "code",
   "execution_count": 33,
   "id": "afc21827",
   "metadata": {},
   "outputs": [
    {
     "name": "stdout",
     "output_type": "stream",
     "text": [
      "{'fname': 'priya', 'lname': 'prajapati', 'gender': 'female', 'course': 'python'}\n"
     ]
    }
   ],
   "source": [
    "def play(**kwargs):\n",
    "    print(kwargs)\n",
    "play(fname=\"priya\",lname=\"prajapati\",gender=\"female\",course=\"python\")"
   ]
  },
  {
   "cell_type": "code",
   "execution_count": 6,
   "id": "93ba45fa",
   "metadata": {},
   "outputs": [
    {
     "name": "stdout",
     "output_type": "stream",
     "text": [
      "Want to enter the data:y\n",
      "How many data enter:3\n",
      "Enter the key:name\n",
      "Enter the value:priya\n",
      "Enter the key:rollno\n",
      "Enter the value:75\n",
      "Enter the key:age\n",
      "Enter the value:20\n",
      "{'name': 'priya', 'rollno': '75', 'age': '20'}\n"
     ]
    }
   ],
   "source": [
    "def file(**kwargs):\n",
    "    ch=input(\"Want to enter the data:\")\n",
    "    if ch==\"y\" or ch==\"Y\":\n",
    "        d={}\n",
    "        n=int(input(\"How many data enter:\"))\n",
    "        for i in range(1,n+1):\n",
    "            k=input(\"Enter the key:\")\n",
    "            v=input(\"Enter the value:\")\n",
    "            d[k]=v\n",
    "        print(d)\n",
    "file()\n"
   ]
  },
  {
   "cell_type": "code",
   "execution_count": 100,
   "id": "53772354",
   "metadata": {},
   "outputs": [
    {
     "name": "stdout",
     "output_type": "stream",
     "text": [
      "{'x': 4, 'y': 5}\n"
     ]
    },
    {
     "data": {
      "text/plain": [
       "(1, 2, 3)"
      ]
     },
     "execution_count": 100,
     "metadata": {},
     "output_type": "execute_result"
    }
   ],
   "source": [
    "def two(*args,**kwargs):\n",
    "    print(kwargs)\n",
    "    return(args)\n",
    "two(1,2,3,x=4,y=5)"
   ]
  },
  {
   "cell_type": "code",
   "execution_count": 8,
   "id": "b95d6858",
   "metadata": {},
   "outputs": [
    {
     "name": "stdout",
     "output_type": "stream",
     "text": [
      "{'name': 'priya', 'age': 21}\n"
     ]
    },
    {
     "data": {
      "text/plain": [
       "14"
      ]
     },
     "execution_count": 8,
     "metadata": {},
     "output_type": "execute_result"
    }
   ],
   "source": [
    "def sum_n(*args,**kwargs):\n",
    "    print(kwargs)\n",
    "    return sum(args)\n",
    "sum_n(2,3,4,5,name=\"priya\",age=21)"
   ]
  },
  {
   "cell_type": "code",
   "execution_count": 12,
   "id": "03ae4fb4",
   "metadata": {},
   "outputs": [
    {
     "name": "stdout",
     "output_type": "stream",
     "text": [
      "10\n"
     ]
    }
   ],
   "source": [
    "def sum_num(**kwargs):\n",
    "    sum=0\n",
    "    for i,j in kwargs.items():\n",
    "        sum+=j\n",
    "    print(sum)\n",
    "sum_num(x=2,y=3,z=5)\n",
    "        \n"
   ]
  },
  {
   "cell_type": "code",
   "execution_count": 17,
   "id": "1c74a4c7",
   "metadata": {},
   "outputs": [
    {
     "name": "stdout",
     "output_type": "stream",
     "text": [
      "180\n"
     ]
    }
   ],
   "source": [
    "def multi(**kwargs):\n",
    "    mul=1\n",
    "    for i,j in kwargs.items():\n",
    "        mul*=j\n",
    "    print(mul)\n",
    "multi(a=3,b=5,c=1,d=4,x=3)"
   ]
  },
  {
   "cell_type": "code",
   "execution_count": 22,
   "id": "4a015abe",
   "metadata": {},
   "outputs": [
    {
     "name": "stdout",
     "output_type": "stream",
     "text": [
      "13\n",
      "10\n"
     ]
    }
   ],
   "source": [
    "def mix(*args,**kwargs):\n",
    "    print(sum(args))\n",
    "    s=0\n",
    "    for i,j in kwargs.items():\n",
    "        s=s+j\n",
    "    print(s)\n",
    "mix(1,5,3,4,a=1,b=2,c=3,d=4)"
   ]
  },
  {
   "cell_type": "code",
   "execution_count": 23,
   "id": "0fc2a9c4",
   "metadata": {},
   "outputs": [
    {
     "name": "stdout",
     "output_type": "stream",
     "text": [
      "Hello\n"
     ]
    }
   ],
   "source": [
    "# create a function in a python.\n",
    "\n",
    "def myfun():\n",
    "    print(\"Hello\")\n",
    "myfun()"
   ]
  },
  {
   "cell_type": "code",
   "execution_count": 37,
   "id": "685ac4e2",
   "metadata": {},
   "outputs": [
    {
     "data": {
      "text/plain": [
       "5"
      ]
     },
     "execution_count": 37,
     "metadata": {},
     "output_type": "execute_result"
    }
   ],
   "source": [
    "# Create function with variable length of argument.\n",
    "\n",
    "def fun(a,b):\n",
    "    return sum((a,b))\n",
    "fun(2,3)"
   ]
  },
  {
   "cell_type": "code",
   "execution_count": 39,
   "id": "436ca395",
   "metadata": {},
   "outputs": [
    {
     "data": {
      "text/plain": [
       "(3, 2, 5, 6, 8, 8, 2, 9)"
      ]
     },
     "execution_count": 39,
     "metadata": {},
     "output_type": "execute_result"
    }
   ],
   "source": [
    "#return multiple value from a function.\n",
    "\n",
    "def dis(*args):\n",
    "    return args\n",
    "dis(3,2,5,6,8,8,2,9)"
   ]
  },
  {
   "cell_type": "code",
   "execution_count": 42,
   "id": "9aa458f8",
   "metadata": {},
   "outputs": [
    {
     "data": {
      "text/plain": [
       "5"
      ]
     },
     "execution_count": 42,
     "metadata": {},
     "output_type": "execute_result"
    }
   ],
   "source": [
    "#create a function with a default argument.\n",
    "\n",
    "def display(a,b,c=3):\n",
    "    return max((a,b,c))\n",
    "display(4,5)"
   ]
  },
  {
   "cell_type": "code",
   "execution_count": 122,
   "id": "59689028",
   "metadata": {},
   "outputs": [
    {
     "data": {
      "text/plain": [
       "7"
      ]
     },
     "execution_count": 122,
     "metadata": {},
     "output_type": "execute_result"
    }
   ],
   "source": [
    "#create a inner function to calculate addition in a following way.\n",
    "\n",
    "def add(a,b):\n",
    "    return sum((a,b))\n",
    "add(3,4)"
   ]
  },
  {
   "cell_type": "code",
   "execution_count": 128,
   "id": "58a2bcc9",
   "metadata": {},
   "outputs": [
    {
     "data": {
      "text/plain": [
       "5"
      ]
     },
     "execution_count": 128,
     "metadata": {},
     "output_type": "execute_result"
    }
   ],
   "source": [
    "def s():\n",
    "    def add(a,b):\n",
    "        return sum((a,b))\n",
    "add(3,2)"
   ]
  },
  {
   "cell_type": "code",
   "execution_count": 129,
   "id": "c5a348eb",
   "metadata": {},
   "outputs": [
    {
     "data": {
      "text/plain": [
       "20"
      ]
     },
     "execution_count": 129,
     "metadata": {},
     "output_type": "execute_result"
    }
   ],
   "source": [
    "def sum_n(*num):\n",
    "    return sum((num))\n",
    "sum_n(3,4,5,2,6)"
   ]
  },
  {
   "cell_type": "code",
   "execution_count": 58,
   "id": "30ca5b9f",
   "metadata": {},
   "outputs": [
    {
     "name": "stdout",
     "output_type": "stream",
     "text": [
      "even numbers: [4, 6, 8, 10, 12, 14, 16, 18, 20, 22, 24, 26, 28]\n"
     ]
    }
   ],
   "source": [
    "#generate a python list of all even number between 4 to 30.\n",
    "\n",
    "def even():\n",
    "    even=[]\n",
    "    for i in range(4,30):\n",
    "        if i%2==0:\n",
    "            even.append(i)\n",
    "    print(\"even numbers:\",even)\n",
    "even()"
   ]
  },
  {
   "cell_type": "code",
   "execution_count": 66,
   "id": "ced305be",
   "metadata": {},
   "outputs": [
    {
     "data": {
      "text/plain": [
       "'yellow'"
      ]
     },
     "execution_count": 66,
     "metadata": {},
     "output_type": "execute_result"
    }
   ],
   "source": [
    "li=[\"apple\",\"banana\",\"kiwi\",\"red\",\"yellow\",\"white\"]\n",
    "def large(li):\n",
    "    return max(li)\n",
    "large(li)"
   ]
  },
  {
   "cell_type": "code",
   "execution_count": null,
   "id": "9c2c6d09",
   "metadata": {},
   "outputs": [],
   "source": []
  },
  {
   "cell_type": "code",
   "execution_count": 78,
   "id": "b4458b38",
   "metadata": {},
   "outputs": [
    {
     "data": {
      "text/plain": [
       "(5, 6, 7, 3, 7, 2, 8)"
      ]
     },
     "execution_count": 78,
     "metadata": {},
     "output_type": "execute_result"
    }
   ],
   "source": [
    "# How i can pass a variable number of arguments to a function using *args.\n",
    "\n",
    "def num(*args):\n",
    "    return args\n",
    "num(5,6,7,3,7,2,8)"
   ]
  },
  {
   "cell_type": "code",
   "execution_count": 82,
   "id": "9a002be5",
   "metadata": {},
   "outputs": [
    {
     "name": "stdout",
     "output_type": "stream",
     "text": [
      "3\n",
      "8.0\n"
     ]
    }
   ],
   "source": [
    "# It is possible to pass both possitional arguments and *args in a function call.\n",
    "\n",
    "def file(a,*args):\n",
    "    print(a)\n",
    "    print(sum((args))/a)\n",
    "file(3,4,5,6,7,2)"
   ]
  },
  {
   "cell_type": "code",
   "execution_count": 2,
   "id": "27e30b79",
   "metadata": {},
   "outputs": [
    {
     "name": "stdout",
     "output_type": "stream",
     "text": [
      "red\n",
      "blue\n",
      "white\n"
     ]
    }
   ],
   "source": [
    "# What is a purpose of *args using in function deffination.\n",
    "\n",
    "def display(*args):\n",
    "    l=[]\n",
    "    for i in args:\n",
    "#         l.append(i)\n",
    "       print(i)\n",
    "display(\"red\",\"blue\",\"white\")"
   ]
  },
  {
   "cell_type": "code",
   "execution_count": 97,
   "id": "5a72fe1b",
   "metadata": {},
   "outputs": [
    {
     "data": {
      "text/plain": [
       "{'a': 'apple', 'b': 'banana', 'c': 'kiwi'}"
      ]
     },
     "execution_count": 97,
     "metadata": {},
     "output_type": "execute_result"
    }
   ],
   "source": [
    "#How can i pass keyword argument using **kwargs.\n",
    "\n",
    "def kv(**kwargs):\n",
    "    return kwargs\n",
    "#     for i,j in kwargs.items():\n",
    "#         print(\"%s = %s\" %(i,j))\n",
    "kv(a=\"apple\",b=\"banana\",c=\"kiwi\")"
   ]
  },
  {
   "cell_type": "code",
   "execution_count": 7,
   "id": "57f13584",
   "metadata": {},
   "outputs": [
    {
     "name": "stdout",
     "output_type": "stream",
     "text": [
      " a\n",
      " b\n",
      " k\n"
     ]
    }
   ],
   "source": [
    "# HOw can i access a value pass as **kwargs within a function.\n",
    "\n",
    "\n",
    "def kv(**kwargs):\n",
    "    for i,j in kwargs.items():\n",
    "         print(\" %s\" %(j))\n",
    "kv(a=\"apple\",b=\"banana\",c=\"kiwi\")"
   ]
  },
  {
   "cell_type": "code",
   "execution_count": 4,
   "id": "b97e25c1",
   "metadata": {},
   "outputs": [
    {
     "data": {
      "text/plain": [
       "{'a': 'red', 'b': 'pink', 'c': 'yellow', 'd': 'white'}"
      ]
     },
     "execution_count": 4,
     "metadata": {},
     "output_type": "execute_result"
    }
   ],
   "source": [
    "# What is the purpose of using **kwargs in a function diffination.\n",
    "\n",
    "def dic(**kwargs):\n",
    "    return kwargs\n",
    "dic(a=\"red\",b=\"pink\",c=\"yellow\",d=\"white\")"
   ]
  },
  {
   "cell_type": "code",
   "execution_count": 140,
   "id": "54d714bf",
   "metadata": {},
   "outputs": [
    {
     "name": "stdout",
     "output_type": "stream",
     "text": [
      "priyanka monika\n",
      "priya riya\n"
     ]
    }
   ],
   "source": [
    "# Assing a different name to function and call it show a new name.\n",
    "\n",
    "def name(a=\"priya\",b=\"riya\"):\n",
    "    print(a,b) \n",
    "name(\"priyanka\",\"monika\")\n",
    "show=name\n",
    "show()\n",
    "    "
   ]
  },
  {
   "cell_type": "code",
   "execution_count": null,
   "id": "cb9e758c",
   "metadata": {},
   "outputs": [],
   "source": []
  },
  {
   "cell_type": "code",
   "execution_count": 8,
   "id": "f9677336",
   "metadata": {},
   "outputs": [],
   "source": [
    "thisdict={\"dsf\":\"dsafsd\",\"adsf\":\"fdgsdf\"}"
   ]
  },
  {
   "cell_type": "code",
   "execution_count": 16,
   "id": "ef101a59",
   "metadata": {},
   "outputs": [
    {
     "name": "stdout",
     "output_type": "stream",
     "text": [
      "dsafsd\n"
     ]
    }
   ],
   "source": [
    "print(thisdict[\"dsf\"])"
   ]
  },
  {
   "cell_type": "code",
   "execution_count": 5,
   "id": "690f4095",
   "metadata": {},
   "outputs": [
    {
     "name": "stdout",
     "output_type": "stream",
     "text": [
      "banana\n"
     ]
    }
   ],
   "source": [
    "def f(**args):\n",
    "    print(args[\"b\"])\n",
    "f(a=\"apple\",b=\"banana\",c=\"kiwi\")\n",
    "    \n",
    "    "
   ]
  },
  {
   "cell_type": "code",
   "execution_count": 14,
   "id": "74e5fda5",
   "metadata": {},
   "outputs": [
    {
     "name": "stdout",
     "output_type": "stream",
     "text": [
      "Want to enter the data:y\n",
      "How many data enter:2\n",
      "Enter the key:g\n",
      "Enter the value:f\n",
      "Enter the key:g\n",
      "Enter the value:f\n",
      "{'g': 'f'}\n",
      "Want to continue enter data:y\n",
      "Want to enter the data:y\n",
      "How many data enter:2\n",
      "Enter the key:f\n",
      "Enter the value:f\n",
      "Enter the key:c\n",
      "Enter the value:g\n",
      "{'f': 'f', 'c': 'g'}\n",
      "Want to continue enter data:h\n"
     ]
    }
   ],
   "source": [
    "def file(**kwargs):\n",
    "    while True: \n",
    "        ch=input(\"Want to enter the data:\")\n",
    "        if ch==\"y\" or ch==\"Y\":\n",
    "            d={}\n",
    "            n=int(input(\"How many data enter:\"))\n",
    "            for i in range(1,n+1):\n",
    "                k=input(\"Enter the key:\")\n",
    "                v=input(\"Enter the value:\")\n",
    "                d[k]=v\n",
    "            print(d)\n",
    "            c=input(\"Want to continue enter data:\")\n",
    "        if c==\"y\" or c==\"Y\":\n",
    "                pass\n",
    "        else:\n",
    "             break\n",
    "file()\n"
   ]
  },
  {
   "cell_type": "code",
   "execution_count": 15,
   "id": "1e39ce7d",
   "metadata": {},
   "outputs": [],
   "source": [
    "x=lambda a:a+45"
   ]
  },
  {
   "cell_type": "code",
   "execution_count": 16,
   "id": "b932ae45",
   "metadata": {},
   "outputs": [
    {
     "data": {
      "text/plain": [
       "<function __main__.<lambda>(a)>"
      ]
     },
     "execution_count": 16,
     "metadata": {},
     "output_type": "execute_result"
    }
   ],
   "source": [
    "x"
   ]
  },
  {
   "cell_type": "code",
   "execution_count": 17,
   "id": "f4720f88",
   "metadata": {},
   "outputs": [
    {
     "data": {
      "text/plain": [
       "369"
      ]
     },
     "execution_count": 17,
     "metadata": {},
     "output_type": "execute_result"
    }
   ],
   "source": [
    "x(324)"
   ]
  },
  {
   "cell_type": "code",
   "execution_count": 21,
   "id": "9fbb693d",
   "metadata": {},
   "outputs": [],
   "source": [
    " x=lambda a:a*x"
   ]
  },
  {
   "cell_type": "code",
   "execution_count": 23,
   "id": "6b5379ce",
   "metadata": {},
   "outputs": [
    {
     "ename": "TypeError",
     "evalue": "unsupported operand type(s) for *: 'int' and 'function'",
     "output_type": "error",
     "traceback": [
      "\u001b[1;31m---------------------------------------------------------------------------\u001b[0m",
      "\u001b[1;31mTypeError\u001b[0m                                 Traceback (most recent call last)",
      "Cell \u001b[1;32mIn[23], line 1\u001b[0m\n\u001b[1;32m----> 1\u001b[0m d\u001b[38;5;241m=\u001b[39mx(\u001b[38;5;241m34\u001b[39m)\n",
      "Cell \u001b[1;32mIn[21], line 1\u001b[0m, in \u001b[0;36m<lambda>\u001b[1;34m(a)\u001b[0m\n\u001b[1;32m----> 1\u001b[0m x\u001b[38;5;241m=\u001b[39m\u001b[38;5;28;01mlambda\u001b[39;00m a:a\u001b[38;5;241m*\u001b[39mx\n",
      "\u001b[1;31mTypeError\u001b[0m: unsupported operand type(s) for *: 'int' and 'function'"
     ]
    }
   ],
   "source": [
    "d=x(34)"
   ]
  },
  {
   "cell_type": "code",
   "execution_count": 20,
   "id": "76f42c6d",
   "metadata": {},
   "outputs": [
    {
     "ename": "TypeError",
     "evalue": "unsupported operand type(s) for *: 'int' and 'function'",
     "output_type": "error",
     "traceback": [
      "\u001b[1;31m---------------------------------------------------------------------------\u001b[0m",
      "\u001b[1;31mTypeError\u001b[0m                                 Traceback (most recent call last)",
      "Cell \u001b[1;32mIn[20], line 1\u001b[0m\n\u001b[1;32m----> 1\u001b[0m y\u001b[38;5;241m=\u001b[39mx(\u001b[38;5;241m435\u001b[39m)\n",
      "Cell \u001b[1;32mIn[18], line 1\u001b[0m, in \u001b[0;36m<lambda>\u001b[1;34m(a)\u001b[0m\n\u001b[1;32m----> 1\u001b[0m x\u001b[38;5;241m=\u001b[39m\u001b[38;5;28;01mlambda\u001b[39;00m a:a\u001b[38;5;241m*\u001b[39mx\n",
      "\u001b[1;31mTypeError\u001b[0m: unsupported operand type(s) for *: 'int' and 'function'"
     ]
    }
   ],
   "source": [
    "y=x(435)"
   ]
  },
  {
   "cell_type": "code",
   "execution_count": 24,
   "id": "f416190b",
   "metadata": {},
   "outputs": [
    {
     "name": "stdout",
     "output_type": "stream",
     "text": [
      "dasf\n"
     ]
    }
   ],
   "source": [
    "print(\"dasf\")"
   ]
  },
  {
   "cell_type": "code",
   "execution_count": 25,
   "id": "d079d80d",
   "metadata": {},
   "outputs": [],
   "source": [
    "x1=lambda a1:a1*y"
   ]
  },
  {
   "cell_type": "code",
   "execution_count": 26,
   "id": "aa5579a2",
   "metadata": {},
   "outputs": [
    {
     "ename": "NameError",
     "evalue": "name 'y' is not defined",
     "output_type": "error",
     "traceback": [
      "\u001b[1;31m---------------------------------------------------------------------------\u001b[0m",
      "\u001b[1;31mNameError\u001b[0m                                 Traceback (most recent call last)",
      "Cell \u001b[1;32mIn[26], line 1\u001b[0m\n\u001b[1;32m----> 1\u001b[0m data\u001b[38;5;241m=\u001b[39mx1(\u001b[38;5;241m324\u001b[39m)\n",
      "Cell \u001b[1;32mIn[25], line 1\u001b[0m, in \u001b[0;36m<lambda>\u001b[1;34m(a1)\u001b[0m\n\u001b[1;32m----> 1\u001b[0m x1\u001b[38;5;241m=\u001b[39m\u001b[38;5;28;01mlambda\u001b[39;00m a1:a1\u001b[38;5;241m*\u001b[39my\n",
      "\u001b[1;31mNameError\u001b[0m: name 'y' is not defined"
     ]
    }
   ],
   "source": [
    "data=x1(324)"
   ]
  },
  {
   "cell_type": "code",
   "execution_count": 27,
   "id": "48322f93",
   "metadata": {},
   "outputs": [],
   "source": [
    "b=lambda a,b:a+b"
   ]
  },
  {
   "cell_type": "code",
   "execution_count": 28,
   "id": "8fef2e2b",
   "metadata": {},
   "outputs": [
    {
     "data": {
      "text/plain": [
       "690"
      ]
     },
     "execution_count": 28,
     "metadata": {},
     "output_type": "execute_result"
    }
   ],
   "source": [
    "b(345,345)"
   ]
  },
  {
   "cell_type": "code",
   "execution_count": 29,
   "id": "f2a789d5",
   "metadata": {},
   "outputs": [],
   "source": [
    "def sum(n):\n",
    "    return lambda a:a*n"
   ]
  },
  {
   "cell_type": "code",
   "execution_count": 32,
   "id": "98c985e2",
   "metadata": {},
   "outputs": [],
   "source": [
    "v=sum(234)"
   ]
  },
  {
   "cell_type": "code",
   "execution_count": null,
   "id": "da585dde",
   "metadata": {},
   "outputs": [],
   "source": []
  },
  {
   "cell_type": "code",
   "execution_count": 33,
   "id": "53d9fa56",
   "metadata": {},
   "outputs": [
    {
     "data": {
      "text/plain": [
       "<function __main__.sum.<locals>.<lambda>(a)>"
      ]
     },
     "execution_count": 33,
     "metadata": {},
     "output_type": "execute_result"
    }
   ],
   "source": [
    "v"
   ]
  },
  {
   "cell_type": "code",
   "execution_count": 34,
   "id": "aca43a37",
   "metadata": {},
   "outputs": [
    {
     "data": {
      "text/plain": [
       "7956"
      ]
     },
     "execution_count": 34,
     "metadata": {},
     "output_type": "execute_result"
    }
   ],
   "source": [
    "v(34)"
   ]
  },
  {
   "cell_type": "code",
   "execution_count": null,
   "id": "323e1bad",
   "metadata": {},
   "outputs": [],
   "source": []
  },
  {
   "cell_type": "code",
   "execution_count": 11,
   "id": "73ed5eee",
   "metadata": {},
   "outputs": [
    {
     "name": "stdout",
     "output_type": "stream",
     "text": [
      "I like eggs and spam and my favorite fruit is cherries\n",
      "May I have some orange juice?\n"
     ]
    }
   ],
   "source": [
    "def my(*args,**kwargs):\n",
    "    if \"fruit\" and \"juice\" in kwargs:\n",
    "        print(f\"I like {' and '.join(args)} and my favorite fruit is {kwargs['fruit']}\")\n",
    "        print(f\"May I have some {kwargs['juice']} juice?\")\n",
    "    else:\n",
    "        pass\n",
    "    \n",
    "my(\"eggs\",\"spam\",fruit = \"cherries\", juice =\"orange\")"
   ]
  },
  {
   "cell_type": "code",
   "execution_count": null,
   "id": "8f3be98b",
   "metadata": {},
   "outputs": [],
   "source": []
  },
  {
   "cell_type": "code",
   "execution_count": null,
   "id": "81ab0a04",
   "metadata": {},
   "outputs": [],
   "source": []
  }
 ],
 "metadata": {
  "kernelspec": {
   "display_name": "Python 3 (ipykernel)",
   "language": "python",
   "name": "python3"
  },
  "language_info": {
   "codemirror_mode": {
    "name": "ipython",
    "version": 3
   },
   "file_extension": ".py",
   "mimetype": "text/x-python",
   "name": "python",
   "nbconvert_exporter": "python",
   "pygments_lexer": "ipython3",
   "version": "3.11.5"
  }
 },
 "nbformat": 4,
 "nbformat_minor": 5
}
