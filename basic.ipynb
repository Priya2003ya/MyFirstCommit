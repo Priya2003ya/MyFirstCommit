{
 "cells": [
  {
   "cell_type": "code",
   "execution_count": null,
   "id": "56791abd",
   "metadata": {},
   "outputs": [],
   "source": [
    "a=2\n",
    "b=5\n",
    "print(a+b)\n",
    "print(a-b)\n",
    "print(a*b)                                                                                 #Print Function & Arthimatic Operater\n",
    "print(a/b)\n",
    "print(a//b)\n",
    "print(a**b)"
   ]
  },
  {
   "cell_type": "code",
   "execution_count": 1,
   "id": "5f40cf17",
   "metadata": {},
   "outputs": [
    {
     "name": "stdout",
     "output_type": "stream",
     "text": [
      "priya prajapti\n",
      "my fname is  priya and lname is  prajapti\n",
      "my name is priya prajapti\n",
      "my name is priya prajapti\n",
      "my fname is priya and lname is prajapti\n"
     ]
    }
   ],
   "source": [
    "fname=\"priya\"\n",
    "lname=\"prajapti\"\n",
    "print(fname, lname)\n",
    "print(\"my fname is \",fname,\"and lname is \",lname)                                            #String Formating\n",
    "print(\"my name is {} {}\".format(fname,lname))\n",
    "print(f\"my name is {fname} {lname}\")\n",
    "print(\"my fname is %s and lname is %s\"%(fname,lname))"
   ]
  },
  {
   "cell_type": "code",
   "execution_count": null,
   "id": "b435bbf0",
   "metadata": {},
   "outputs": [],
   "source": [
    "a=5+7j\n",
    "b=7+8j                                                                                       #Complex Number\n",
    "c=a+b\n",
    "print(c)"
   ]
  },
  {
   "cell_type": "code",
   "execution_count": 2,
   "id": "802f90b7",
   "metadata": {},
   "outputs": [
    {
     "name": "stdout",
     "output_type": "stream",
     "text": [
      "10.0\n"
     ]
    }
   ],
   "source": [
    "a=10\n",
    "print(float(a))                                                                              #Interchange"
   ]
  },
  {
   "cell_type": "code",
   "execution_count": 3,
   "id": "b9f43cad",
   "metadata": {},
   "outputs": [
    {
     "name": "stdout",
     "output_type": "stream",
     "text": [
      "567\n"
     ]
    }
   ],
   "source": [
    "x=567.78\n",
    "print(int(x))"
   ]
  },
  {
   "cell_type": "code",
   "execution_count": 4,
   "id": "f298657d",
   "metadata": {},
   "outputs": [
    {
     "name": "stdout",
     "output_type": "stream",
     "text": [
      "(6+0j)\n"
     ]
    }
   ],
   "source": [
    "i=6\n",
    "print(complex(i))"
   ]
  },
  {
   "cell_type": "code",
   "execution_count": 5,
   "id": "25cad23e",
   "metadata": {},
   "outputs": [
    {
     "data": {
      "text/plain": [
       "(5+8j)"
      ]
     },
     "execution_count": 5,
     "metadata": {},
     "output_type": "execute_result"
    }
   ],
   "source": [
    "complex(5,8)"
   ]
  },
  {
   "cell_type": "code",
   "execution_count": 3,
   "id": "97083c83",
   "metadata": {},
   "outputs": [
    {
     "name": "stdout",
     "output_type": "stream",
     "text": [
      "(6+8j)\n",
      "<class 'complex'>\n"
     ]
    }
   ],
   "source": [
    "c=6+8j\n",
    "print((c))\n",
    "print(type(c))"
   ]
  },
  {
   "cell_type": "code",
   "execution_count": 4,
   "id": "66690efb",
   "metadata": {},
   "outputs": [
    {
     "name": "stdout",
     "output_type": "stream",
     "text": [
      "'hello priya', how are you?\n"
     ]
    }
   ],
   "source": [
    "a=\"'hello\"\n",
    "b=\"priya',\"                                                                             # String Operators    Concatnation\n",
    "print(a+\" \"+b,\"how are you?\")"
   ]
  },
  {
   "cell_type": "code",
   "execution_count": 7,
   "id": "55721074",
   "metadata": {},
   "outputs": [
    {
     "name": "stdout",
     "output_type": "stream",
     "text": [
      "my name is priya and my age is 20 today i learn python\n"
     ]
    }
   ],
   "source": [
    "name=\"priya\"\n",
    "age=20\n",
    "course=\"python\"\n",
    "print(\"my name is\",name +\" \"+ \"and my age is\",age,\"today i learn \"+course)"
   ]
  },
  {
   "cell_type": "code",
   "execution_count": 6,
   "id": "d33f5928",
   "metadata": {},
   "outputs": [
    {
     "name": "stdout",
     "output_type": "stream",
     "text": [
      "I must not tell lies,No No No \n"
     ]
    }
   ],
   "source": [
    "a=\"No \"\n",
    "print(\"I must not tell lies,\"+a*3)                                                                  #Repitation"
   ]
  },
  {
   "cell_type": "code",
   "execution_count": 7,
   "id": "f10070a8",
   "metadata": {},
   "outputs": [
    {
     "name": "stdout",
     "output_type": "stream",
     "text": [
      "o\n",
      "o\n"
     ]
    }
   ],
   "source": [
    "a=\"I am good girl.\"\n",
    "print(a[6])                                                                                         #Slice\n",
    "print(a[7])"
   ]
  },
  {
   "cell_type": "code",
   "execution_count": 8,
   "id": "dc0bb423",
   "metadata": {},
   "outputs": [
    {
     "name": "stdout",
     "output_type": "stream",
     "text": [
      "hello\n",
      "lo\n",
      "wha\n",
      "llo,what are you doing?\n"
     ]
    }
   ],
   "source": [
    "x=\"hello,what are you doing?\"\n",
    "print(x[:5])\n",
    "print(x[3:5])                                                                                #Range Slice\n",
    "print(x[6:9])\n",
    "print(x[2:])"
   ]
  },
  {
   "cell_type": "code",
   "execution_count": 9,
   "id": "4ce563bf",
   "metadata": {},
   "outputs": [
    {
     "name": "stdout",
     "output_type": "stream",
     "text": [
      "True\n",
      "True\n",
      "False\n",
      "True\n"
     ]
    }
   ],
   "source": [
    "i=\"hi, what is your name?\"\n",
    "print(\"w\" in i)\n",
    "print(\"t\" in i)                                                                         # in Membership & not in Membership\n",
    "print(\"o\" not in i)\n",
    "print(\"q\" not in i)"
   ]
  },
  {
   "cell_type": "code",
   "execution_count": 10,
   "id": "535f04e1",
   "metadata": {},
   "outputs": [
    {
     "name": "stdout",
     "output_type": "stream",
     "text": [
      "<class 'int'>\n",
      "<class 'str'>\n",
      "<class 'complex'>\n"
     ]
    }
   ],
   "source": [
    "a=455\n",
    "b=\"priya\"\n",
    "c=5+7j                                                                                      #Type() Function\n",
    "print(type(a))\n",
    "print(type(b))\n",
    "print(type(c))"
   ]
  },
  {
   "cell_type": "code",
   "execution_count": 11,
   "id": "f03b4b8d",
   "metadata": {},
   "outputs": [
    {
     "name": "stdout",
     "output_type": "stream",
     "text": [
      "hello\n",
      "my self priya prajapati.\n",
      "i am from azamgarh.\n"
     ]
    }
   ],
   "source": [
    "print(\"hello\\nmy self priya prajapati.\\ni am from azamgarh.\")                                 #\\n New Line"
   ]
  },
  {
   "cell_type": "code",
   "execution_count": 12,
   "id": "e01a99a7",
   "metadata": {},
   "outputs": [
    {
     "name": "stdout",
     "output_type": "stream",
     "text": [
      "PARADISE COMPUTER INSTITUTE\n",
      "paradise computer institute\n",
      "Paradise Computer Institute\n",
      "Paradise computer institute\n",
      "-1\n",
      "11\n",
      "3\n",
      "False\n",
      "True\n",
      "False\n",
      "False paradise computer institute\n"
     ]
    }
   ],
   "source": [
    "a=\"parAdise computer insTitUte\"\n",
    "b=\"878\"\n",
    "print(a.upper())\n",
    "print(a.lower())\n",
    "print(a.title())\n",
    "print(a.capitalize())\n",
    "print(a.find(\"k\"))\n",
    "print(a.index(\"m\"))                                                                    #  Method of String Processing\n",
    "print(a.count(\"t\"))\n",
    "print(a.isalpha())\n",
    "print(b.isdigit())\n",
    "print(a.isupper())\n",
    "print(a.islower() ,a.lower())"
   ]
  },
  {
   "cell_type": "code",
   "execution_count": 13,
   "id": "af9c9b29",
   "metadata": {},
   "outputs": [
    {
     "name": "stdout",
     "output_type": "stream",
     "text": [
      "['c', 'c++', 'java', 'puthon']\n",
      "<class 'list'>\n",
      "puthon\n",
      "4\n",
      "puthon\n",
      "c\n"
     ]
    }
   ],
   "source": [
    "list=[\"c\",\"c++\",\"java\",\"puthon\"]\n",
    "print(list)\n",
    "print(type(list))\n",
    "print(list[3])                                                                           # List , Type Function \n",
    "print(len(list))\n",
    "print(max(list))\n",
    "print(min(list))"
   ]
  },
  {
   "cell_type": "code",
   "execution_count": 8,
   "id": "9e684148",
   "metadata": {},
   "outputs": [
    {
     "name": "stdout",
     "output_type": "stream",
     "text": [
      "['apple', 32, 'banana', 38, 'kiwi', 'orange']\n",
      "['apple', 32, 'banana', 38, 'kiwi', 'orange', 'apple', 32, 'banana', 38, 'kiwi', 'orange']\n",
      "['apple', 32, 'banana', 38, 'kiwi', 'orange', 'apple', 32, 'banana', 38, 'kiwi', 'orange', 'apple', 32, 'banana', 38, 'kiwi', 'orange', 'apple', 32, 'banana', 38, 'kiwi', 'orange']\n",
      "['apple', 32, 'banana', 38, 'kiwi', 'orange', 'apple', 32, 'banana', 38, 'kiwi', 'orange', 'apple', 32, 'banana', 38, 'kiwi', 'orange']\n",
      "kiwi\n",
      "32\n",
      "['apple', 32, 'banana']\n",
      "['banana', 38, 'kiwi', 'orange']\n",
      "['apple', 32, 'banana', 38, 'kiwi', 'orange']\n",
      "True\n",
      "True\n"
     ]
    }
   ],
   "source": [
    "l=[\"apple\",32,\"banana\",38,\"kiwi\",\"orange\"]\n",
    "print(l)\n",
    "print(l+l)\n",
    "print(l*4)\n",
    "print(l+l*2)\n",
    "print(l[4])\n",
    "print(l[1])                                                                               #List Operations\n",
    "print(l[:3])          \n",
    "print(l[2:6])\n",
    "print(l[::])\n",
    "print(\"a\" in l[0])\n",
    "print(\"apple\" in l)"
   ]
  },
  {
   "cell_type": "code",
   "execution_count": 15,
   "id": "701adde4",
   "metadata": {},
   "outputs": [
    {
     "name": "stdout",
     "output_type": "stream",
     "text": [
      "['apple', 'banana', 'kiwi']\n",
      "['apple', 'banana', 'kiwi', 'orange']\n",
      "['apple', 'chiku', 'banana', 'kiwi', 'orange']\n",
      "['apple', 'chiku', 'banana', 'kiwi']\n",
      "['apple', 'chiku', 'banana']\n",
      "['apple', 'chiku', 'banana']\n",
      "['banana', 'chiku', 'apple']\n",
      "['apple', 'banana', 'chiku']\n",
      "3\n",
      "chiku\n",
      "apple\n"
     ]
    }
   ],
   "source": [
    "l=[\"apple\",\"banana\",\"kiwi\"]\n",
    "print(l)\n",
    "l.append(\"orange\")\n",
    "print(l)\n",
    "l.insert(1,\"chiku\")\n",
    "print(l)\n",
    "l.pop()\n",
    "print(l)\n",
    "l.remove(\"kiwi\")\n",
    "print(l)\n",
    "l.copy()                                                                              # List Functions\n",
    "print(l)\n",
    "l.reverse()\n",
    "print(l)\n",
    "l.sort()\n",
    "print(l)\n",
    "print(len(l))\n",
    "print(max(l))\n",
    "print(min(l))\n"
   ]
  },
  {
   "cell_type": "code",
   "execution_count": 35,
   "id": "689eaddf",
   "metadata": {},
   "outputs": [
    {
     "name": "stdout",
     "output_type": "stream",
     "text": [
      "('apple', 'banana', 'kiwi')\n",
      "3\n",
      "kiwi\n",
      "apple\n",
      "<class 'tuple'>\n",
      "banana\n",
      "('apple', 'banana', 'kiwi', 'apple', 'banana', 'kiwi')\n",
      "('apple', 'banana', 'kiwi', 'apple', 'banana', 'kiwi')\n",
      "('apple', 'banana')\n",
      "False\n",
      "True\n",
      "False\n",
      "True\n",
      "1\n"
     ]
    }
   ],
   "source": [
    "t=(\"apple\",\"banana\",\"kiwi\")\n",
    "print(t)\n",
    "print(len(t))\n",
    "print(max(t))\n",
    "print(min(t))\n",
    "print(type(t))\n",
    "print(t[1])\n",
    "print(t+t)                                                                          # Tuple Operations\n",
    "print(t*2)\n",
    "print(t[:2])\n",
    "print(\"b\" in t)\n",
    "print(\"banana\" in t)\n",
    "print(\"kiwi\" not in t)\n",
    "print(\"h\" not in t)\n",
    "print(t.index(\"banana\"))\n",
    "\n"
   ]
  },
  {
   "cell_type": "code",
   "execution_count": 3,
   "id": "f59c53d4",
   "metadata": {},
   "outputs": [
    {
     "name": "stdout",
     "output_type": "stream",
     "text": [
      "('priya', 'priyanka', 'monika', 'riya')\n"
     ]
    }
   ],
   "source": [
    "tup=(\"priya\",\"priyanka\",\"monika\")\n",
    "li=list(tup)\n",
    "li.append(\"riya\")\n",
    "tup=tuple(li)\n",
    "print(tup)                                                                         # Tuple Functions\n",
    "# print(type(tup))\n",
    "# print(type(li))\n",
    "# print(\"p\" in tup)\n",
    "# print(\"priya\" in tup)\n",
    "# print(\"monika\" not in tup)\n",
    "# print(tup.count(\"priya\"))\n",
    "# print(tup.index(\"monika\"))"
   ]
  },
  {
   "cell_type": "code",
   "execution_count": 51,
   "id": "4b997d1b",
   "metadata": {},
   "outputs": [
    {
     "data": {
      "text/plain": [
       "'griin'"
      ]
     },
     "execution_count": 51,
     "metadata": {},
     "output_type": "execute_result"
    }
   ],
   "source": [
    "li=[\"red\",\"green\",\"yellow\",\"pink\"]\n",
    "li[1][:2]+li[1][2:4].replace(\"e\",\"i\")+li[1][4:]                                        # Replace Function"
   ]
  },
  {
   "cell_type": "code",
   "execution_count": 11,
   "id": "0414f62c",
   "metadata": {},
   "outputs": [
    {
     "name": "stdout",
     "output_type": "stream",
     "text": [
      "['rose', 'lotus', 'lili', 'red', 'pink', 'white']\n"
     ]
    }
   ],
   "source": [
    "li=[\"rose\",\"lotus\",\"lili\"]\n",
    "tu=(\"red\",\"pink\",\"white\")\n",
    "li.extend(tu)\n",
    "print(li)"
   ]
  },
  {
   "cell_type": "code",
   "execution_count": 75,
   "id": "ff370e20",
   "metadata": {},
   "outputs": [
    {
     "name": "stdout",
     "output_type": "stream",
     "text": [
      "dde\n",
      "['ds', 'dde', 'jjni']\n",
      "['j', 'j', 'h', 'h', 'i', 'j', 'i', 'w']\n",
      "['ds', 'dde', 'jjni']\n",
      "('j', 'j', 'h', 'h', 'i', 'j', 'i', 'w')\n"
     ]
    }
   ],
   "source": [
    "li=[\"ds\",\"dde\",\"jjni\"]\n",
    "l=\"jjhhijiw\"\n",
    "print(li[1])\n",
    "print(li)\n",
    "print(list(l))\n",
    "print(str(li))\n",
    "print(tuple(l))"
   ]
  },
  {
   "cell_type": "code",
   "execution_count": 130,
   "id": "53766a11",
   "metadata": {},
   "outputs": [
    {
     "name": "stdout",
     "output_type": "stream",
     "text": [
      "{'name': 'priya', 'age': 20, 'gender': 'female'}\n",
      "priya\n",
      "20\n",
      "{'name': 'priya', 'age': 20, 'gender': 'female', 'course': ('python', 'c', 'java')}\n",
      "{'name': 'priya', 'age': 20, 'gender': 'female', 'course': ('python', 'c', 'java'), 'color': {1: 'red', 2: {'a': 'pink', 'b': 'light pink'}, 3: 'yellow'}}\n",
      "{'a': 'pink', 'b': 'light pink'}\n",
      "yel\n",
      "java\n",
      "yellvw\n",
      "{'name': 'priya', 'age': 20, 'gender': 'female', 'course': ('python', 'c', 'java'), 'color': {1: {'a': 'dark red', 'b': 'light red'}, 2: {'a': 'pink', 'b': 'light pink'}, 3: 'yellow'}}\n",
      "5\n",
      "name\n",
      "age\n",
      "3\n",
      "3\n",
      "1\n",
      "2\n"
     ]
    }
   ],
   "source": [
    "dict={\"name\":\"priya\",\"age\":20,\"gender\":\"female\"}\n",
    "print(dict)\n",
    "print(dict[\"name\"])\n",
    "print(dict.get(\"age\"))\n",
    "dict[\"course\"]=(\"python\",\"c\",\"java\")\n",
    "print(dict)\n",
    "dict.update({\"color\":{1:\"red\",2:{\"a\":\"pink\",\"b\":\"light pink\"},3:\"yellow\"}})\n",
    "print(dict)\n",
    "print(dict[\"color\"][2])                                                              # Dictonary & Dictonary Function\n",
    "print(dict[\"color\"][3][:3])\n",
    "print(dict[\"course\"][2])\n",
    "print(dict[\"color\"][3][:4]+dict[\"color\"][3][4:].replace(\"o\",\"v\"))\n",
    "dict[\"color\"][1]={\"a\":\"dark red\",\"b\":\"light red\"}\n",
    "print(dict)\n",
    "print(len(dict))\n",
    "print(max(dict))\n",
    "print(min(dict))\n",
    "print(len(dict[\"color\"]))\n",
    "print(max(dict[\"color\"]))\n",
    "print(min(dict[\"color\"]))\n",
    "print(len(dict[\"color\"][1]))"
   ]
  },
  {
   "cell_type": "code",
   "execution_count": 143,
   "id": "53e6be92",
   "metadata": {},
   "outputs": [
    {
     "name": "stdout",
     "output_type": "stream",
     "text": [
      "{'name': 'priya', 'age': 20, 'gender': 'female'}\n",
      "priya\n",
      "20\n",
      "{'name': 'priya', 'age': 20, 'gender': 'female', 'course': ('python', 'c', 'java')}\n",
      "{'name': 'priya', 'age': 20, 'gender': 'female', 'course': ('python', 'c', 'java'), 'color': {1: 'red', 2: {'a': 'pink', 'b': 'light pink'}, 3: 'yellow'}}\n",
      "dict_keys(['name', 'age', 'gender', 'course', 'color'])\n",
      "dict_values(['priya', 20, 'female', ('python', 'c', 'java'), {1: 'red', 2: {'a': 'pink', 'b': 'light pink'}, 3: 'yellow'}])\n",
      "dict_items([('name', 'priya'), ('age', 20), ('gender', 'female'), ('course', ('python', 'c', 'java')), ('color', {1: 'red', 2: {'a': 'pink', 'b': 'light pink'}, 3: 'yellow'})])\n",
      "{'name': 'priya', 'gender': 'female', 'course': ('python', 'c', 'java'), 'color': {1: 'red', 2: {'a': 'pink', 'b': 'light pink'}, 3: 'yellow'}}\n",
      "{'name': 'priya', 'gender': 'female', 'course': ('python', 'c', 'java'), 'color': {1: 'red', 2: {'a': 'pink', 'b': 'light pink'}, 3: 'yellow'}}\n",
      "('color', {1: 'red', 2: {'a': 'pink', 'b': 'light pink'}, 3: 'yellow'})\n",
      "{'name': 'priya', 'gender': 'female', 'course': ('python', 'c', 'java')}\n",
      "{}\n"
     ]
    }
   ],
   "source": [
    "dict={\"name\":\"priya\",\"age\":20,\"gender\":\"female\"}\n",
    "print(dict)\n",
    "print(dict[\"name\"])\n",
    "print(dict.get(\"age\"))\n",
    "dict[\"course\"]=(\"python\",\"c\",\"java\")\n",
    "print(dict)\n",
    "dict.update({\"color\":{1:\"red\",2:{\"a\":\"pink\",\"b\":\"light pink\"},3:\"yellow\"}})\n",
    "print(dict)\n",
    "print(dict.keys())                                                                         # Other Function\n",
    "print(dict.values())\n",
    "print(dict.items())\n",
    "dict.pop(\"age\")\n",
    "print(dict)\n",
    "print(dict.copy())\n",
    "print(dict.popitem())\n",
    "print(dict)\n",
    "dict.clear()\n",
    "print(dict)"
   ]
  },
  {
   "cell_type": "code",
   "execution_count": 13,
   "id": "9300e26d",
   "metadata": {},
   "outputs": [
    {
     "name": "stdout",
     "output_type": "stream",
     "text": [
      "{'1': 'priya', '2': 'priya', '3': 'priya'}\n"
     ]
    }
   ],
   "source": [
    "a=\"123\"\n",
    "b=\"priya\"\n",
    "dict=dict.fromkeys(a,b)\n",
    "print(dict)\n"
   ]
  },
  {
   "cell_type": "code",
   "execution_count": 7,
   "id": "27ba4676",
   "metadata": {},
   "outputs": [
    {
     "name": "stdout",
     "output_type": "stream",
     "text": [
      "2020\n",
      "white\n"
     ]
    }
   ],
   "source": [
    "car={\n",
    "    \"brand\":\"Ford\",\n",
    "    \"model\":\"Mustang\",\n",
    "    \"year\":2020\n",
    "}\n",
    "a=car.setdefault(\"year\",1999)\n",
    "print(a)\n",
    "x=car.setdefault(\"color\",\"white\")\n",
    "print(x)"
   ]
  },
  {
   "cell_type": "code",
   "execution_count": 11,
   "id": "edaae577",
   "metadata": {},
   "outputs": [
    {
     "name": "stdout",
     "output_type": "stream",
     "text": [
      "True\n"
     ]
    }
   ],
   "source": [
    "car={\n",
    "    \"brand\":\"Ford\",\n",
    "    \"model\":\"Mustang\",\n",
    "    \"year\":2020\n",
    "}\n",
    "print(\"b\" not in car)"
   ]
  },
  {
   "cell_type": "code",
   "execution_count": 25,
   "id": "7e061f5c",
   "metadata": {},
   "outputs": [
    {
     "name": "stdout",
     "output_type": "stream",
     "text": [
      "aadarsh\n",
      "['gaurav', 'mandeep']\n",
      "mukesh\n"
     ]
    }
   ],
   "source": [
    "t=[\"aadarsh\",\"gaurav\",\"mandeep\",\"mukesh\"]\n",
    "a,*b,c =t\n",
    "print(a)\n",
    "print(b)                                                                              # Unpacking List\n",
    "print(c)\n"
   ]
  },
  {
   "cell_type": "code",
   "execution_count": 28,
   "id": "c41f265b",
   "metadata": {},
   "outputs": [
    {
     "name": "stdout",
     "output_type": "stream",
     "text": [
      "priya\n",
      "20\n",
      "female\n"
     ]
    }
   ],
   "source": [
    "dict={\"name\":\"priya\",\"age\":20,\"gender\":\"female\"}\n",
    "for x in dict.values():\n",
    "    print(x)"
   ]
  },
  {
   "cell_type": "code",
   "execution_count": 11,
   "id": "f33e8815",
   "metadata": {},
   "outputs": [
    {
     "name": "stdout",
     "output_type": "stream",
     "text": [
      "Enetr the first number:7\n",
      "Enter the secind number:8\n",
      "before swapping value of num1 and num2 = 7 8\n",
      "After swapping value of num1 and num2 = -8 7\n"
     ]
    }
   ],
   "source": [
    "num1=int(input(\"Enetr the first number:\"))\n",
    "num2=int(input(\"Enter the secind number:\"))\n",
    "print(\"before swapping value of num1 and num2 =\",num1 , num2)\n",
    "# temp=num1\n",
    "# num1=num2\n",
    "# num2=temp\n",
    "\n",
    "num=num1+num2\n",
    "num1=num-num1\n",
    "num2=num-num2\n",
    "print(\"After swapping value of num1 and num2 =\",num1 , num2)"
   ]
  },
  {
   "cell_type": "code",
   "execution_count": 15,
   "id": "e8636e2b",
   "metadata": {},
   "outputs": [
    {
     "name": "stdout",
     "output_type": "stream",
     "text": [
      "Enetr the first number:6\n",
      "Enter the secind number:7\n",
      "Enetr the third number:7\n",
      "before swapping value of num1 and num2 and num3 = 6 7 7\n",
      "After swapping value of num1 and num2 and num3 = 7 6 7\n"
     ]
    }
   ],
   "source": [
    "num1=int(input(\"Enetr the first number:\"))\n",
    "num2=int(input(\"Enter the secind number:\"))\n",
    "num3=int(input(\"Enetr the third number:\"))\n",
    "print(\"before swapping value of num1 and num2 and num3 =\", num1 , num2 , num3)\n",
    "# temp=num1\n",
    "# num1=num2\n",
    "# num2=num3\n",
    "# num3=temp\n",
    "\n",
    "num1,num2,num3=num3,num1,num2\n",
    "\n",
    "print(\"After swapping value of num1 and num2 and num3 =\", num1 , num2 , num3)"
   ]
  },
  {
   "cell_type": "code",
   "execution_count": 17,
   "id": "d1cf0a16",
   "metadata": {
    "scrolled": true
   },
   "outputs": [
    {
     "name": "stdout",
     "output_type": "stream",
     "text": [
      "Enter the km:4\n",
      "4 kilometer =  4000 meter\n"
     ]
    }
   ],
   "source": [
    "km=int(input(\"Enter the km:\"))\n",
    "ratio=1000\n",
    "meter=km*ratio\n",
    "print(km, \"kilometer = \", meter,\"meter\")\n"
   ]
  },
  {
   "cell_type": "code",
   "execution_count": 1,
   "id": "709fe120",
   "metadata": {},
   "outputs": [
    {
     "name": "stdout",
     "output_type": "stream",
     "text": [
      "{'hello', 'priya', 20.45, 20}\n"
     ]
    }
   ],
   "source": [
    "set={\"priya\",20,20.45,\"hello\"}\n",
    "print(set)                                                                        # Set Data Type"
   ]
  },
  {
   "cell_type": "code",
   "execution_count": 2,
   "id": "e128a8e2",
   "metadata": {},
   "outputs": [
    {
     "name": "stdout",
     "output_type": "stream",
     "text": [
      "<class 'set'>\n"
     ]
    }
   ],
   "source": [
    "a={\"apple\",\"banana\",55,434.4}\n",
    "print(type(a))"
   ]
  },
  {
   "cell_type": "code",
   "execution_count": 10,
   "id": "4622e554",
   "metadata": {},
   "outputs": [
    {
     "name": "stdout",
     "output_type": "stream",
     "text": [
      "{2, 'hello', 4, 6, 7, 8, 'hi'}\n",
      "7\n"
     ]
    }
   ],
   "source": [
    "x={4,6,4,7,2,8,4,\"hi\",\"hello\",\"hi\"}\n",
    "print(x)\n",
    "print(len(x))\n"
   ]
  },
  {
   "cell_type": "code",
   "execution_count": 13,
   "id": "fb40118b",
   "metadata": {},
   "outputs": [
    {
     "name": "stdout",
     "output_type": "stream",
     "text": [
      "{('hi', 4.5), 'priya', 5, 6}\n"
     ]
    }
   ],
   "source": [
    "set={5,6,\"priya\",(\"hi\",4.5)}\n",
    "print(set)"
   ]
  },
  {
   "cell_type": "code",
   "execution_count": 37,
   "id": "b4625b35",
   "metadata": {
    "scrolled": true
   },
   "outputs": [
    {
     "name": "stdout",
     "output_type": "stream",
     "text": [
      "{'python', 67, 'c', 8, 'html', 78, 'c++', 'php'}\n",
      "{'python', 67, 8, 'java', 'html', 78, 'php', 'c', 'c++'}\n",
      "set()\n"
     ]
    }
   ],
   "source": [
    "s1={\"c\",\"c++\",\"java\",\"python\",67}\n",
    "s1.add(\"php\")\n",
    "s1.update([\"html\",78,8])\n",
    "s2=s1.copy()\n",
    "s1.discard(\"jav\")\n",
    "s2.remove(\"java\")                                                                      # Set Methods\n",
    "print(s2)\n",
    "print(s1)\n",
    "s1.clear()\n",
    "print(s1)\n"
   ]
  },
  {
   "cell_type": "code",
   "execution_count": 42,
   "id": "80584d45",
   "metadata": {},
   "outputs": [
    {
     "name": "stdout",
     "output_type": "stream",
     "text": [
      "{1, 2, 3, 4, 6, 7}\n",
      "{2, 6}\n",
      "{1, 3}\n",
      "{4, 7}\n",
      "{1, 3, 4, 7}\n"
     ]
    }
   ],
   "source": [
    "s1={1,2,3,6}\n",
    "s2={6,7,4,2}\n",
    "print(s1.union(s2))\n",
    "print(s1&s2)                                                                       # Set Operations\n",
    "print(s1-s2)\n",
    "print(s2-s1)\n",
    "print(s1^s2)"
   ]
  },
  {
   "cell_type": "code",
   "execution_count": 4,
   "id": "95d48139",
   "metadata": {},
   "outputs": [
    {
     "name": "stdout",
     "output_type": "stream",
     "text": [
      "('priya', 'priyanka', 'monika', 'riya')\n"
     ]
    }
   ],
   "source": [
    "tup=(\"priya\",\"priyanka\",\"monika\")\n",
    "li=list(tup)\n",
    "li.append(\"riya\")\n",
    "tup=tuple(li)\n",
    "print(tup)  "
   ]
  },
  {
   "cell_type": "code",
   "execution_count": null,
   "id": "a8923e0a",
   "metadata": {},
   "outputs": [],
   "source": []
  }
 ],
 "metadata": {
  "kernelspec": {
   "display_name": "Python 3 (ipykernel)",
   "language": "python",
   "name": "python3"
  },
  "language_info": {
   "codemirror_mode": {
    "name": "ipython",
    "version": 3
   },
   "file_extension": ".py",
   "mimetype": "text/x-python",
   "name": "python",
   "nbconvert_exporter": "python",
   "pygments_lexer": "ipython3",
   "version": "3.11.5"
  }
 },
 "nbformat": 4,
 "nbformat_minor": 5
}
