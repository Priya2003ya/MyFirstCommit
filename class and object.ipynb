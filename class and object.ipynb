{
 "cells": [
  {
   "cell_type": "code",
   "execution_count": 1,
   "id": "5e16e8cc",
   "metadata": {},
   "outputs": [],
   "source": [
    "class MyClass:\n",
    "    x=33"
   ]
  },
  {
   "cell_type": "code",
   "execution_count": 6,
   "id": "3f124b19",
   "metadata": {},
   "outputs": [],
   "source": [
    "p1=MyClass()"
   ]
  },
  {
   "cell_type": "code",
   "execution_count": 7,
   "id": "ae426ec8",
   "metadata": {},
   "outputs": [
    {
     "data": {
      "text/plain": [
       "<__main__.MyClass at 0x1e20a757cd0>"
      ]
     },
     "execution_count": 7,
     "metadata": {},
     "output_type": "execute_result"
    }
   ],
   "source": [
    "p1"
   ]
  },
  {
   "cell_type": "raw",
   "id": "2b1a7002",
   "metadata": {},
   "source": [
    "class MyClass:\n",
    "    def __init__(self,name,)"
   ]
  },
  {
   "cell_type": "code",
   "execution_count": 13,
   "id": "bbb95938",
   "metadata": {},
   "outputs": [],
   "source": [
    "class MyClass:\n",
    "    def __init__(self,name,rollno):\n",
    "        self.name=name\n",
    "        self.rollno=rollno\n",
    "    def display(self):\n",
    "        print(\"Your name {} and Your Roll Is {}\".format(self.name,self.rollno))"
   ]
  },
  {
   "cell_type": "code",
   "execution_count": 14,
   "id": "6ce0c431",
   "metadata": {},
   "outputs": [],
   "source": [
    "p1=MyClass(\"Filehandling\",34324)"
   ]
  },
  {
   "cell_type": "code",
   "execution_count": 15,
   "id": "83c297b2",
   "metadata": {},
   "outputs": [
    {
     "name": "stdout",
     "output_type": "stream",
     "text": [
      "Your name Filehandling and Your Roll Is 34324\n"
     ]
    }
   ],
   "source": [
    "p1.display()"
   ]
  },
  {
   "cell_type": "code",
   "execution_count": 8,
   "id": "6a70011a",
   "metadata": {},
   "outputs": [
    {
     "data": {
      "text/plain": [
       "<__main__.MyClass at 0x1e20a757cd0>"
      ]
     },
     "execution_count": 8,
     "metadata": {},
     "output_type": "execute_result"
    }
   ],
   "source": [
    "p1"
   ]
  },
  {
   "cell_type": "code",
   "execution_count": 9,
   "id": "d374723b",
   "metadata": {},
   "outputs": [],
   "source": [
    "class ABC:\n",
    "    def __init__(self,name,age,rollno):\n",
    "        self.name=name\n",
    "        self.age=age\n",
    "        self.rollno=rollno\n",
    "    def display(self):\n",
    "        print(f\"my name is {self.name} and age {self.age}\")\n",
    "            \n"
   ]
  },
  {
   "cell_type": "code",
   "execution_count": 10,
   "id": "99f25a6b",
   "metadata": {},
   "outputs": [],
   "source": [
    "data=ABC(\"Priya\",234,345)"
   ]
  },
  {
   "cell_type": "code",
   "execution_count": 11,
   "id": "146768b1",
   "metadata": {},
   "outputs": [
    {
     "name": "stdout",
     "output_type": "stream",
     "text": [
      "my name is Priya and age 234\n"
     ]
    }
   ],
   "source": [
    "data.display()"
   ]
  },
  {
   "cell_type": "code",
   "execution_count": 12,
   "id": "742ad7d1",
   "metadata": {},
   "outputs": [
    {
     "ename": "NameError",
     "evalue": "name 'p' is not defined",
     "output_type": "error",
     "traceback": [
      "\u001b[1;31m---------------------------------------------------------------------------\u001b[0m",
      "\u001b[1;31mNameError\u001b[0m                                 Traceback (most recent call last)",
      "Cell \u001b[1;32mIn[12], line 1\u001b[0m\n\u001b[1;32m----> 1\u001b[0m p\u001b[38;5;241m.\u001b[39mrollno\n",
      "\u001b[1;31mNameError\u001b[0m: name 'p' is not defined"
     ]
    }
   ],
   "source": [
    "p.rollno"
   ]
  },
  {
   "cell_type": "code",
   "execution_count": null,
   "id": "c030183a",
   "metadata": {},
   "outputs": [],
   "source": []
  },
  {
   "cell_type": "code",
   "execution_count": 13,
   "id": "12f09d23",
   "metadata": {},
   "outputs": [
    {
     "name": "stdout",
     "output_type": "stream",
     "text": [
      "book title name is Poem and its author ABC\n"
     ]
    }
   ],
   "source": [
    "class library:\n",
    "    def __init__(book,title,author):\n",
    "        book.title=title\n",
    "        book.author=author\n",
    "    def di(book):\n",
    "         print(f\"book title name is {book.title} and its author {book.author}\")\n",
    "        \n",
    "obj=library(\"Poem\",\"ABC\")\n",
    "obj.di()"
   ]
  },
  {
   "cell_type": "code",
   "execution_count": 14,
   "id": "584bf054",
   "metadata": {},
   "outputs": [
    {
     "name": "stdout",
     "output_type": "stream",
     "text": [
      "your name fgf and your age 545\n"
     ]
    }
   ],
   "source": [
    "class data:\n",
    "    def __init__(self,name,age):\n",
    "        self.name=name\n",
    "        self.age=age\n",
    "    def a(self):\n",
    "            print(f\"your name {self.name} and your age {self.age}\")\n",
    "            \n",
    "obj=data(\"fgf\",545)\n",
    "obj.a()"
   ]
  },
  {
   "cell_type": "code",
   "execution_count": 15,
   "id": "bdad939a",
   "metadata": {},
   "outputs": [
    {
     "name": "stdout",
     "output_type": "stream",
     "text": [
      "Enter the name:\n",
      "Enter the age:\n"
     ]
    },
    {
     "ename": "ValueError",
     "evalue": "invalid literal for int() with base 10: ''",
     "output_type": "error",
     "traceback": [
      "\u001b[1;31m---------------------------------------------------------------------------\u001b[0m",
      "\u001b[1;31mValueError\u001b[0m                                Traceback (most recent call last)",
      "Cell \u001b[1;32mIn[15], line 7\u001b[0m\n\u001b[0;32m      5\u001b[0m     \u001b[38;5;28;01mdef\u001b[39;00m \u001b[38;5;21ma\u001b[39m(\u001b[38;5;28mself\u001b[39m):\n\u001b[0;32m      6\u001b[0m             \u001b[38;5;28mprint\u001b[39m(\u001b[38;5;124mf\u001b[39m\u001b[38;5;124m\"\u001b[39m\u001b[38;5;124myour name \u001b[39m\u001b[38;5;132;01m{\u001b[39;00m\u001b[38;5;28mself\u001b[39m\u001b[38;5;241m.\u001b[39mname\u001b[38;5;132;01m}\u001b[39;00m\u001b[38;5;124m and your age \u001b[39m\u001b[38;5;132;01m{\u001b[39;00m\u001b[38;5;28mself\u001b[39m\u001b[38;5;241m.\u001b[39mage\u001b[38;5;132;01m}\u001b[39;00m\u001b[38;5;124m\"\u001b[39m)\n\u001b[1;32m----> 7\u001b[0m obj\u001b[38;5;241m=\u001b[39mdata()\n\u001b[0;32m      8\u001b[0m obj\u001b[38;5;241m.\u001b[39ma()\n\u001b[0;32m      9\u001b[0m j\u001b[38;5;241m=\u001b[39mdata()\n",
      "Cell \u001b[1;32mIn[15], line 4\u001b[0m, in \u001b[0;36mdata.__init__\u001b[1;34m(self)\u001b[0m\n\u001b[0;32m      2\u001b[0m \u001b[38;5;28;01mdef\u001b[39;00m \u001b[38;5;21m__init__\u001b[39m(\u001b[38;5;28mself\u001b[39m):\n\u001b[0;32m      3\u001b[0m     \u001b[38;5;28mself\u001b[39m\u001b[38;5;241m.\u001b[39mname\u001b[38;5;241m=\u001b[39m\u001b[38;5;28minput\u001b[39m(\u001b[38;5;124m\"\u001b[39m\u001b[38;5;124mEnter the name:\u001b[39m\u001b[38;5;124m\"\u001b[39m)\n\u001b[1;32m----> 4\u001b[0m     \u001b[38;5;28mself\u001b[39m\u001b[38;5;241m.\u001b[39mage\u001b[38;5;241m=\u001b[39m\u001b[38;5;28mint\u001b[39m(\u001b[38;5;28minput\u001b[39m(\u001b[38;5;124m\"\u001b[39m\u001b[38;5;124mEnter the age:\u001b[39m\u001b[38;5;124m\"\u001b[39m))\n",
      "\u001b[1;31mValueError\u001b[0m: invalid literal for int() with base 10: ''"
     ]
    }
   ],
   "source": [
    "class data:\n",
    "    def __init__(self):\n",
    "        self.name=input(\"Enter the name:\")\n",
    "        self.age=int(input(\"Enter the age:\"))\n",
    "    def a(self):\n",
    "            print(f\"your name {self.name} and your age {self.age}\")\n",
    "obj=data()\n",
    "obj.a()\n",
    "j=data()\n",
    "j.a()\n"
   ]
  },
  {
   "cell_type": "code",
   "execution_count": 16,
   "id": "8a1792d9",
   "metadata": {},
   "outputs": [
    {
     "name": "stdout",
     "output_type": "stream",
     "text": [
      "sum= 7\n"
     ]
    }
   ],
   "source": [
    "class file:\n",
    "    def __init__(add,n1,n2):\n",
    "        add.n1=n1\n",
    "        add.n2=n2\n",
    "        print(\"sum=\" ,n1+n2)\n",
    "x=file(3,4)\n",
    "\n"
   ]
  },
  {
   "cell_type": "code",
   "execution_count": 17,
   "id": "b01facf5",
   "metadata": {},
   "outputs": [
    {
     "name": "stdout",
     "output_type": "stream",
     "text": [
      "6\n",
      "2\n",
      "8\n",
      "2.0\n"
     ]
    }
   ],
   "source": [
    "class calculator:\n",
    "    def __init__(cal,n1,n2):\n",
    "        cal.n1=n1\n",
    "        cal.n2=n2\n",
    "    def add(cal):\n",
    "        a=cal.n1+cal.n2\n",
    "        print(a)\n",
    "    def sub(cal):\n",
    "        b=cal.n1-cal.n2\n",
    "        print(b)\n",
    "    def mul(cal):\n",
    "        print(cal.n1*cal.n2)\n",
    "    def div(cal):\n",
    "        print(cal.n1/cal.n2)\n",
    "obj=calculator(4,2)\n",
    "obj.add()\n",
    "obj.sub()\n",
    "obj.mul()\n",
    "obj.div()\n",
    "        \n",
    "    \n",
    "        "
   ]
  },
  {
   "cell_type": "code",
   "execution_count": 24,
   "id": "95395a10",
   "metadata": {},
   "outputs": [
    {
     "name": "stdout",
     "output_type": "stream",
     "text": [
      "Operetion Menu------\n",
      "1. Add the number\n",
      "2.Sub the number\n",
      "3. Mul the number\n",
      "4. Div the number\n",
      "5.exit calculator program\n",
      "Enter your choice:1\n",
      "Enter the value of n1: 3\n",
      "Enter the value og n2: 4\n",
      "7\n",
      "Operetion Menu------\n",
      "1. Add the number\n",
      "2.Sub the number\n",
      "3. Mul the number\n",
      "4. Div the number\n",
      "5.exit calculator program\n",
      "Enter your choice:3\n",
      "Enter the value of n1: 6\n",
      "Enter the value og n2: 7\n",
      "42\n",
      "Operetion Menu------\n",
      "1. Add the number\n",
      "2.Sub the number\n",
      "3. Mul the number\n",
      "4. Div the number\n",
      "5.exit calculator program\n",
      "Enter your choice:4\n",
      "Enter the value of n1: 6\n",
      "Enter the value og n2: 7\n",
      "0.8571428571428571\n",
      "Operetion Menu------\n",
      "1. Add the number\n",
      "2.Sub the number\n",
      "3. Mul the number\n",
      "4. Div the number\n",
      "5.exit calculator program\n",
      "Enter your choice:3\n",
      "Enter the value of n1: 4\n",
      "Enter the value og n2: 5\n",
      "20\n",
      "Operetion Menu------\n",
      "1. Add the number\n",
      "2.Sub the number\n",
      "3. Mul the number\n",
      "4. Div the number\n",
      "5.exit calculator program\n",
      "Enter your choice:5\n",
      "Exit the calculation\n"
     ]
    }
   ],
   "source": [
    "\n",
    "def add(n1,n2):\n",
    "    print(n1+n2)\n",
    "def sub(n1,n2):\n",
    "    print(n1-n2)\n",
    "def mul(n1,n2):\n",
    "    print(n1*n2)\n",
    "def div(n1,n2):\n",
    "    print(n1/n2)\n",
    "\n",
    "\n",
    "\n",
    "def main():\n",
    "    while True:\n",
    "        print(\"Operetion Menu------\")\n",
    "        print(\"1. Add the number\")\n",
    "        print(\"2.Sub the number\")\n",
    "        print(\"3. Mul the number\")\n",
    "        print(\"4. Div the number\")\n",
    "        print(\"5.exit calculator program\")\n",
    "        choice=int(input(\"Enter your choice:\"))\n",
    "\n",
    "        if choice==1:\n",
    "            n1=int(input(\"Enter the value of n1: \"))\n",
    "            n2=int(input(\"Enter the value og n2: \"))\n",
    "            add(n1,n2)\n",
    "\n",
    "        elif choice==2:\n",
    "            n1=int(input(\"Enter the value of n1: \"))\n",
    "            n2=int(input(\"Enter the value og n2: \"))\n",
    "            sub(n1,n2)\n",
    "\n",
    "        elif choice==3:\n",
    "            n1=int(input(\"Enter the value of n1: \"))\n",
    "            n2=int(input(\"Enter the value og n2: \"))\n",
    "            mul(n1,n2)\n",
    "\n",
    "        elif choice==4:\n",
    "            n1=int(input(\"Enter the value of n1: \"))\n",
    "            n2=int(input(\"Enter the value og n2: \"))\n",
    "            div(n1,n2)\n",
    "\n",
    "        elif choice==5:\n",
    "            print(\"Exit the calculation\")\n",
    "            break\n",
    "        else:\n",
    "            print(\"Invalid choice\")\n",
    "main()\n",
    "\n",
    "\n",
    "\n"
   ]
  },
  {
   "cell_type": "code",
   "execution_count": 6,
   "id": "29e14e03",
   "metadata": {},
   "outputs": [
    {
     "name": "stdout",
     "output_type": "stream",
     "text": [
      "Library Menegment\n",
      "1. display\n",
      "2. add\n",
      "3. exit\n"
     ]
    },
    {
     "ename": "KeyboardInterrupt",
     "evalue": "Interrupted by user",
     "output_type": "error",
     "traceback": [
      "\u001b[1;31m---------------------------------------------------------------------------\u001b[0m",
      "\u001b[1;31mKeyboardInterrupt\u001b[0m                         Traceback (most recent call last)",
      "Cell \u001b[1;32mIn[6], line 34\u001b[0m\n\u001b[0;32m     31\u001b[0m         \u001b[38;5;28;01melse\u001b[39;00m:\n\u001b[0;32m     32\u001b[0m             \u001b[38;5;28mprint\u001b[39m(\u001b[38;5;124m\"\u001b[39m\u001b[38;5;124minvalid\u001b[39m\u001b[38;5;124m\"\u001b[39m)\n\u001b[1;32m---> 34\u001b[0m main()\n",
      "Cell \u001b[1;32mIn[6], line 18\u001b[0m, in \u001b[0;36mmain\u001b[1;34m()\u001b[0m\n\u001b[0;32m     15\u001b[0m \u001b[38;5;28mprint\u001b[39m(\u001b[38;5;124m\"\u001b[39m\u001b[38;5;124m2. add\u001b[39m\u001b[38;5;124m\"\u001b[39m)\n\u001b[0;32m     16\u001b[0m \u001b[38;5;28mprint\u001b[39m(\u001b[38;5;124m\"\u001b[39m\u001b[38;5;124m3. exit\u001b[39m\u001b[38;5;124m\"\u001b[39m)\n\u001b[1;32m---> 18\u001b[0m ch\u001b[38;5;241m=\u001b[39m\u001b[38;5;28mint\u001b[39m(\u001b[38;5;28minput\u001b[39m(\u001b[38;5;124m\"\u001b[39m\u001b[38;5;124mEnter the choice:\u001b[39m\u001b[38;5;124m\"\u001b[39m))\n\u001b[0;32m     19\u001b[0m \u001b[38;5;28;01mif\u001b[39;00m ch\u001b[38;5;241m==\u001b[39m\u001b[38;5;241m1\u001b[39m:\n\u001b[0;32m     20\u001b[0m     library(data)\n",
      "File \u001b[1;32m~\\anaconda3\\Lib\\site-packages\\ipykernel\\kernelbase.py:1202\u001b[0m, in \u001b[0;36mKernel.raw_input\u001b[1;34m(self, prompt)\u001b[0m\n\u001b[0;32m   1200\u001b[0m     msg \u001b[38;5;241m=\u001b[39m \u001b[38;5;124m\"\u001b[39m\u001b[38;5;124mraw_input was called, but this frontend does not support input requests.\u001b[39m\u001b[38;5;124m\"\u001b[39m\n\u001b[0;32m   1201\u001b[0m     \u001b[38;5;28;01mraise\u001b[39;00m StdinNotImplementedError(msg)\n\u001b[1;32m-> 1202\u001b[0m \u001b[38;5;28;01mreturn\u001b[39;00m \u001b[38;5;28mself\u001b[39m\u001b[38;5;241m.\u001b[39m_input_request(\n\u001b[0;32m   1203\u001b[0m     \u001b[38;5;28mstr\u001b[39m(prompt),\n\u001b[0;32m   1204\u001b[0m     \u001b[38;5;28mself\u001b[39m\u001b[38;5;241m.\u001b[39m_parent_ident[\u001b[38;5;124m\"\u001b[39m\u001b[38;5;124mshell\u001b[39m\u001b[38;5;124m\"\u001b[39m],\n\u001b[0;32m   1205\u001b[0m     \u001b[38;5;28mself\u001b[39m\u001b[38;5;241m.\u001b[39mget_parent(\u001b[38;5;124m\"\u001b[39m\u001b[38;5;124mshell\u001b[39m\u001b[38;5;124m\"\u001b[39m),\n\u001b[0;32m   1206\u001b[0m     password\u001b[38;5;241m=\u001b[39m\u001b[38;5;28;01mFalse\u001b[39;00m,\n\u001b[0;32m   1207\u001b[0m )\n",
      "File \u001b[1;32m~\\anaconda3\\Lib\\site-packages\\ipykernel\\kernelbase.py:1245\u001b[0m, in \u001b[0;36mKernel._input_request\u001b[1;34m(self, prompt, ident, parent, password)\u001b[0m\n\u001b[0;32m   1242\u001b[0m \u001b[38;5;28;01mexcept\u001b[39;00m \u001b[38;5;167;01mKeyboardInterrupt\u001b[39;00m:\n\u001b[0;32m   1243\u001b[0m     \u001b[38;5;66;03m# re-raise KeyboardInterrupt, to truncate traceback\u001b[39;00m\n\u001b[0;32m   1244\u001b[0m     msg \u001b[38;5;241m=\u001b[39m \u001b[38;5;124m\"\u001b[39m\u001b[38;5;124mInterrupted by user\u001b[39m\u001b[38;5;124m\"\u001b[39m\n\u001b[1;32m-> 1245\u001b[0m     \u001b[38;5;28;01mraise\u001b[39;00m \u001b[38;5;167;01mKeyboardInterrupt\u001b[39;00m(msg) \u001b[38;5;28;01mfrom\u001b[39;00m \u001b[38;5;28;01mNone\u001b[39;00m\n\u001b[0;32m   1246\u001b[0m \u001b[38;5;28;01mexcept\u001b[39;00m \u001b[38;5;167;01mException\u001b[39;00m:\n\u001b[0;32m   1247\u001b[0m     \u001b[38;5;28mself\u001b[39m\u001b[38;5;241m.\u001b[39mlog\u001b[38;5;241m.\u001b[39mwarning(\u001b[38;5;124m\"\u001b[39m\u001b[38;5;124mInvalid Message:\u001b[39m\u001b[38;5;124m\"\u001b[39m, exc_info\u001b[38;5;241m=\u001b[39m\u001b[38;5;28;01mTrue\u001b[39;00m)\n",
      "\u001b[1;31mKeyboardInterrupt\u001b[0m: Interrupted by user"
     ]
    }
   ],
   "source": [
    "def library(data):\n",
    "    print(\"Data\")\n",
    "    \n",
    "def add(title,author,quantity):\n",
    "    print(\"title:\",title)\n",
    "    print(\"author:\",author)\n",
    "    print(\"quantity:\",quantity)\n",
    "    print(\"Add succesfully\")\n",
    "    \n",
    "def main():\n",
    "    data=[]\n",
    "    while True:\n",
    "        print(\"Library Menegment\")\n",
    "        print(\"1. display\")\n",
    "        print(\"2. add\")\n",
    "        print(\"3. exit\")\n",
    "        \n",
    "        ch=int(input(\"Enter the choice:\"))\n",
    "        if ch==1:\n",
    "            library(data)\n",
    "            \n",
    "        elif ch==2:\n",
    "            title=input(\"Enter the title\")\n",
    "            author=input(\"Enter the author\")\n",
    "            quantity=int(input(\"Enter the quantity\"))\n",
    "            add(title,author,quantity)\n",
    "            \n",
    "        elif ch==3:\n",
    "            print(\"exit\")\n",
    "            break\n",
    "        else:\n",
    "            print(\"invalid\")\n",
    "            \n",
    "main()"
   ]
  },
  {
   "cell_type": "code",
   "execution_count": 25,
   "id": "4bd82b02",
   "metadata": {},
   "outputs": [
    {
     "name": "stdout",
     "output_type": "stream",
     "text": [
      "[1, 3]\n"
     ]
    }
   ],
   "source": [
    "class list:\n",
    "    def  __init__(self):\n",
    "        self.items=[]\n",
    "        \n",
    "    def add_item(self,item):\n",
    "        self.items.append(item)\n",
    "        \n",
    "    def remove_item(self,item):\n",
    "        self.items.remove(item)\n",
    "    \n",
    "    def display(self):\n",
    "        print(self.items)\n",
    "        \n",
    "List=list()\n",
    "List.add_item(1)\n",
    "List.add_item(2)\n",
    "List.add_item(3)\n",
    "List.remove_item(2)\n",
    "List.display()"
   ]
  },
  {
   "cell_type": "code",
   "execution_count": 29,
   "id": "2581e8d2",
   "metadata": {},
   "outputs": [],
   "source": [
    "class StudentInfo:\n",
    "    def display(self):\n",
    "        self.name=\"\"\n",
    "        self.rollno=\"\"\n",
    "        self.age=\"\"\n",
    "        self.marks=\"\"\n",
    "    def setData(self):\n",
    "        self.name=input(\"Enter Your Good Name:\")\n",
    "        self.rollno=int(input(\"Enter Your School Roll Number:\"))\n",
    "        self.age=int(input(\"Enter Your Age:\"))\n",
    "        self.marks=int(input(\"Enter your Marks:\"))\n",
    "    def getData(self):\n",
    "        print(\"Your name:\",self.name)\n",
    "        print(\"Your Roll Number:\",self.rollno)\n",
    "        print(\"Your age:\",self.age)\n",
    "        print(\"Your Marks:\",self.marks)\n",
    "    "
   ]
  },
  {
   "cell_type": "code",
   "execution_count": 30,
   "id": "3c53fce7",
   "metadata": {},
   "outputs": [],
   "source": [
    "infofile=StudentInfo()"
   ]
  },
  {
   "cell_type": "code",
   "execution_count": 31,
   "id": "c183a09d",
   "metadata": {},
   "outputs": [
    {
     "name": "stdout",
     "output_type": "stream",
     "text": [
      "Enter Your Good Name:fazal\n",
      "Enter Your School Roll Number:4234\n",
      "Enter Your Age:45\n",
      "Enter your Marks:52\n",
      "Your name: fazal\n",
      "Your Roll Number: 4234\n",
      "Your age: 45\n",
      "Your Marks: 52\n"
     ]
    }
   ],
   "source": [
    "infofile.setData()\n",
    "infofile.getData()"
   ]
  },
  {
   "cell_type": "code",
   "execution_count": 36,
   "id": "07ee44a1",
   "metadata": {},
   "outputs": [
    {
     "name": "stdout",
     "output_type": "stream",
     "text": [
      "Your name is: shreya\n",
      "Your rollno is: 757\n",
      "Your age is : 23\n",
      "Your name is: saif\n",
      "Your rollno is: 324\n",
      "Your age is : 3\n"
     ]
    }
   ],
   "source": [
    "class filehandle:\n",
    "    def __init__(self,name,roll,age):\n",
    "        self.name=name\n",
    "        self.roll=roll\n",
    "        self.age=age\n",
    "    def display(self):\n",
    "        print(\"Your name is:\",self.name)\n",
    "        print(\"Your rollno is:\",self.roll)\n",
    "        print(\"Your age is :\",self.age)\n",
    "file=filehandle(\"shreya\",757,23)\n",
    "filedata=filehandle(\"saif\",324,3)\n",
    "file.display()\n",
    "filedata.display()"
   ]
  },
  {
   "cell_type": "code",
   "execution_count": 69,
   "id": "f1ee1b92",
   "metadata": {},
   "outputs": [
    {
     "name": "stdout",
     "output_type": "stream",
     "text": [
      "Enter the employee id:1\n",
      "Enter the Employee name:vhj\n",
      "Enter the Employee age:567\n",
      "Enter the employee salary:2567568\n",
      "Employee id = 1\n",
      "Employee name = vhj\n",
      "Employee age = 567\n",
      "Employee salary = 2567568\n"
     ]
    }
   ],
   "source": [
    "class Employee:\n",
    "    def add_data(self):\n",
    "        self.Employee_id=int(input(\"Enter the employee id:\"))\n",
    "        self.Employee_name= input(\"Enter the Employee name:\")\n",
    "        self.Employee_age=int(input(\"Enter the Employee age:\"))\n",
    "        self.Salary=int(input(\"Enter the employee salary:\"))\n",
    "    \n",
    "    def display(self):\n",
    "        print(\"Employee id =\",self.Employee_id)\n",
    "        print(\"Employee name =\",self.Employee_name)\n",
    "        print(\"Employee age =\",self.Employee_age)\n",
    "        print(\"Employee salary =\",self.Salary)\n",
    "Data=Employee()\n",
    "Data.add_data()\n",
    "Data.display()\n",
    "\n",
    "\n",
    "                             \n"
   ]
  },
  {
   "cell_type": "code",
   "execution_count": 94,
   "id": "e95d95e5",
   "metadata": {},
   "outputs": [],
   "source": [
    "class Cal:\n",
    "    def __init__(self,a,b):\n",
    "        self.a=a\n",
    "        self.b=b\n",
    "    def add(self):\n",
    "        return self.a+self.b\n",
    "    def minus(self):\n",
    "        return self.b-self.a\n",
    "    "
   ]
  },
  {
   "cell_type": "code",
   "execution_count": 95,
   "id": "a741fced",
   "metadata": {},
   "outputs": [
    {
     "name": "stdout",
     "output_type": "stream",
     "text": [
      "Enter the Number First5\n",
      "Enter the Number Second4\n",
      "1.ADD\n",
      "2.Sub\n",
      "\n",
      "Enter Your Choice3\n"
     ]
    }
   ],
   "source": [
    "a=int(input(\"Enter the Number First\"))\n",
    "b=int(input(\"Enter the Number Second\"))\n",
    "data=Cal(a,b)\n",
    "print(\"1.ADD\\n2.Sub\\n\")\n",
    "choice=int(input(\"Enter Your Choice\"))\n",
    "if choice==1:\n",
    "    print(data.add())\n",
    "elif choice==2:\n",
    "    print(data.minus())\n",
    "elif choice==0:\n",
    "    print(\"Exit\")\n"
   ]
  },
  {
   "cell_type": "code",
   "execution_count": 3,
   "id": "88716a68",
   "metadata": {},
   "outputs": [
    {
     "name": "stdout",
     "output_type": "stream",
     "text": [
      "{'name': 'priya', 'age': 21, 'gender': 'female', 'rollno': 64}\n",
      "{'age': 21, 'gender': 'female', 'rollno': 64}\n",
      "21\n"
     ]
    }
   ],
   "source": [
    "class Real:\n",
    "    def __init__(self):\n",
    "        self.data={}\n",
    "    def add_data(self,key,value):\n",
    "        self.data[key]=value\n",
    "    def remove_data(self,key):\n",
    "        if key in self.data:\n",
    "            self.data.pop(key)\n",
    "    def fetch_data(self,key):\n",
    "        if key in self.data:\n",
    "            print(self.data.get(key))\n",
    "    def display(self):\n",
    "        print(self.data)\n",
    "real=Real()\n",
    "real.add_data(\"name\",\"priya\")\n",
    "real.add_data(\"age\",21)\n",
    "real.add_data(\"gender\",\"female\")\n",
    "real.add_data(\"rollno\",64)\n",
    "real.display()\n",
    "real.remove_data(\"name\")\n",
    "real.display()\n",
    "real.fetch_data(\"age\")\n"
   ]
  },
  {
   "cell_type": "code",
   "execution_count": 36,
   "id": "b7070814",
   "metadata": {},
   "outputs": [
    {
     "name": "stdout",
     "output_type": "stream",
     "text": [
      "1.add data\n",
      "2.display data\n",
      "3.Exit\n",
      "Enter the choice:1\n",
      "How many data enter:3\n"
     ]
    },
    {
     "ename": "TypeError",
     "evalue": "cannot unpack non-iterable int object",
     "output_type": "error",
     "traceback": [
      "\u001b[1;31m---------------------------------------------------------------------------\u001b[0m",
      "\u001b[1;31mTypeError\u001b[0m                                 Traceback (most recent call last)",
      "Cell \u001b[1;32mIn[36], line 29\u001b[0m\n\u001b[0;32m     26\u001b[0m                             \u001b[38;5;28mprint\u001b[39m(\u001b[38;5;124m\"\u001b[39m\u001b[38;5;124mInvalid choice\u001b[39m\u001b[38;5;124m\"\u001b[39m)\n\u001b[0;32m     28\u001b[0m l\u001b[38;5;241m=\u001b[39mlibrary()\n\u001b[1;32m---> 29\u001b[0m l\u001b[38;5;241m.\u001b[39mmain()\n",
      "Cell \u001b[1;32mIn[36], line 15\u001b[0m, in \u001b[0;36mlibrary.main\u001b[1;34m(self)\u001b[0m\n\u001b[0;32m     13\u001b[0m \u001b[38;5;28;01mif\u001b[39;00m ch\u001b[38;5;241m==\u001b[39m\u001b[38;5;241m1\u001b[39m:\n\u001b[0;32m     14\u001b[0m     n\u001b[38;5;241m=\u001b[39m\u001b[38;5;28mint\u001b[39m(\u001b[38;5;28minput\u001b[39m(\u001b[38;5;124m\"\u001b[39m\u001b[38;5;124mHow many data enter:\u001b[39m\u001b[38;5;124m\"\u001b[39m))\n\u001b[1;32m---> 15\u001b[0m     \u001b[38;5;28;01mfor\u001b[39;00m key,value \u001b[38;5;129;01min\u001b[39;00m \u001b[38;5;28mrange\u001b[39m(\u001b[38;5;241m1\u001b[39m,n\u001b[38;5;241m+\u001b[39m\u001b[38;5;241m1\u001b[39m):\n\u001b[0;32m     16\u001b[0m         key\u001b[38;5;241m=\u001b[39m\u001b[38;5;28minput\u001b[39m(\u001b[38;5;124m\"\u001b[39m\u001b[38;5;124mEnter the key:\u001b[39m\u001b[38;5;124m\"\u001b[39m)\n\u001b[0;32m     17\u001b[0m         value\u001b[38;5;241m=\u001b[39m\u001b[38;5;28minput\u001b[39m(\u001b[38;5;124m\"\u001b[39m\u001b[38;5;124mEnter the value:\u001b[39m\u001b[38;5;124m\"\u001b[39m)\n",
      "\u001b[1;31mTypeError\u001b[0m: cannot unpack non-iterable int object"
     ]
    }
   ],
   "source": [
    "class library:\n",
    "    def __init__(self):\n",
    "        self.data={}\n",
    "    def add_data(self,key,value):\n",
    "        self.data[key]=value\n",
    "        print(\"Data add suceessfully\")\n",
    "    def diplay(self):\n",
    "        print(self.data)\n",
    "    def main(self):\n",
    "        while True:\n",
    "                    print(\"1.add data\\n2.display data\\n3.Exit\")\n",
    "                    ch=int(input(\"Enter the choice:\"))\n",
    "                    if ch==1:\n",
    "                        n=int(input(\"How many data enter:\"))\n",
    "                        for key,value in range(1,n+1):\n",
    "                            key=input(\"Enter the key:\")\n",
    "                            value=input(\"Enter the value:\")\n",
    "                            add_data(self,key,value)\n",
    "\n",
    "                    elif ch==2:\n",
    "                            diplay()\n",
    "                    elif ch==3:\n",
    "                            print(\"Exit\")\n",
    "                            break\n",
    "                    else:\n",
    "                            print(\"Invalid choice\")\n",
    "\n",
    "l=library()\n",
    "l.main()"
   ]
  },
  {
   "cell_type": "code",
   "execution_count": null,
   "id": "6cf7e3c5",
   "metadata": {},
   "outputs": [],
   "source": []
  },
  {
   "cell_type": "code",
   "execution_count": 38,
   "id": "aea5732e",
   "metadata": {},
   "outputs": [
    {
     "name": "stdout",
     "output_type": "stream",
     "text": [
      "Woof!\n",
      "Buddy is 4 year old.\n",
      "Woof!\n",
      "Charlie is 3 year old.\n"
     ]
    }
   ],
   "source": [
    "class Dog:\n",
    "    def __init__(self,name,age):\n",
    "        self.name=name\n",
    "        self.age=age\n",
    "    def bark(self):\n",
    "        print(\"Woof!\")\n",
    "        \n",
    "    def info(self):\n",
    "        print(f\"{self.name} is {self.age} year old.\")\n",
    "        \n",
    "dog1=Dog(\"Buddy\",4)\n",
    "dog2=Dog(\"Charlie\",3)\n",
    "\n",
    "dog1.bark()\n",
    "dog1.info()\n",
    "\n",
    "dog2.bark()\n",
    "dog2.info()"
   ]
  },
  {
   "cell_type": "code",
   "execution_count": null,
   "id": "6aff90a1",
   "metadata": {},
   "outputs": [],
   "source": []
  },
  {
   "cell_type": "code",
   "execution_count": 47,
   "id": "873eb33a",
   "metadata": {},
   "outputs": [
    {
     "name": "stdout",
     "output_type": "stream",
     "text": [
      "Bob registered for Introduction to Programming (CS101)\n"
     ]
    }
   ],
   "source": [
    "class Student:\n",
    "    def __init__(self, student_id, name):\n",
    "        self.student_id = student_id\n",
    "        self.name = name\n",
    "        self.courses = []\n",
    "\n",
    "    def register_course(self, course):\n",
    "        self.courses.append(course)\n",
    "        print(f\"{self.name} registered for {course.title} ({course.course_code})\")\n",
    "\n",
    "class Course:\n",
    "    def __init__(self, course_code, title):\n",
    "        self.course_code = course_code\n",
    "        self.title = title\n",
    "\n",
    "# Example usage:\n",
    "student1 = Student(student_id=1, name=\"Bob\")\n",
    "course1 = Course(course_code=\"CS101\", title=\"Introduction to Programming\")\n",
    "\n",
    "student1.register_course(course1)\n"
   ]
  },
  {
   "cell_type": "code",
   "execution_count": 56,
   "id": "f7dbdf7c",
   "metadata": {},
   "outputs": [
    {
     "name": "stdout",
     "output_type": "stream",
     "text": [
      "Deposited 300.  New balance: 400\n",
      "Withdraw 200. New balance: 200\n",
      "Deposited 356.  New balance: 756\n",
      "Withdraw 207. New balance: 549\n"
     ]
    }
   ],
   "source": [
    "class BankAccount:\n",
    "    def __init__(self,account_holder,balance=100):\n",
    "        self.account_holder=account_holder\n",
    "        self.balance=balance\n",
    "        \n",
    "    def deposit(self,amount):\n",
    "        self.balance += amount\n",
    "        print(f\"Deposited {amount}.  New balance: {self.balance}\")\n",
    "        \n",
    "    def withdraw(self,amount):\n",
    "        if amount<=self.balance:\n",
    "            self.balance -=amount\n",
    "            print(f\"Withdraw {amount}. New balance: {self.balance}\")\n",
    "            \n",
    "        else:\n",
    "            print(\"Insufficient funds!\")\n",
    "            \n",
    "account1=BankAccount(\"priya\")\n",
    "account1.deposit(300)\n",
    "account1.withdraw(200)\n",
    "\n",
    "account2=BankAccount(\"Amit\",400)\n",
    "account2.deposit(356)\n",
    "account2.withdraw(207)"
   ]
  },
  {
   "cell_type": "code",
   "execution_count": 16,
   "id": "830f0e4b",
   "metadata": {},
   "outputs": [
    {
     "name": "stdout",
     "output_type": "stream",
     "text": [
      "1.add data\n",
      "2.display data\n",
      "3.Exit\n",
      "Enter the choice:1\n",
      "How many data enter:4\n",
      "Enter the key:book\n",
      "Enter the value:poem\n",
      "Data add suceessfully\n",
      "Enter the key:author\n",
      "Enter the value:ABC\n",
      "Data add suceessfully\n",
      "Enter the key:Quantity\n",
      "Enter the value:3\n",
      "Data add suceessfully\n",
      "Enter the key:status\n",
      "Enter the value:available\n",
      "Data add suceessfully\n",
      "1.add data\n",
      "2.display data\n",
      "3.Exit\n",
      "Enter the choice:2\n",
      "{'book': 'poem', 'author': 'ABC', 'Quantity': '3', 'status': 'available'}\n",
      "1.add data\n",
      "2.display data\n",
      "3.Exit\n",
      "Enter the choice:3\n",
      "Exit\n"
     ]
    }
   ],
   "source": [
    "class library:\n",
    "    def __init__(self):\n",
    "        self.data={}\n",
    "    def add_data(self,key,value):\n",
    "        self.data[key]=value\n",
    "        print(\"Data add suceessfully\")\n",
    "    def diplay(self):\n",
    "        print(self.data)\n",
    "    def main(self):\n",
    "        while True:\n",
    "                    print(\"1.add data\\n2.display data\\n3.Exit\")\n",
    "                    ch=int(input(\"Enter the choice:\"))\n",
    "                    if ch==1:\n",
    "                        n=int(input(\"How many data enter:\"))\n",
    "                        for i in range(1,n+1):\n",
    "                            key=input(\"Enter the key:\")\n",
    "                            value=input(\"Enter the value:\")\n",
    "                            l.add_data(key,value)\n",
    "\n",
    "                    elif ch==2:\n",
    "                            l.diplay()\n",
    "                    elif ch==3:\n",
    "                            print(\"Exit\")\n",
    "                            break\n",
    "                    else:\n",
    "                            print(\"Invalid choice\")\n",
    "\n",
    "l=library()\n",
    "l.main()\n"
   ]
  },
  {
   "cell_type": "code",
   "execution_count": 21,
   "id": "be382b48",
   "metadata": {},
   "outputs": [
    {
     "name": "stdout",
     "output_type": "stream",
     "text": [
      "deposited 1000. New balance:1000\n",
      "withdraw 300. new balance:700\n"
     ]
    }
   ],
   "source": [
    "class Account:\n",
    "    def __init__(self,account_holder,balance):\n",
    "        self.account_holder=account_holder\n",
    "        self.balance=balance\n",
    "        \n",
    "    def deposit(self,amount):\n",
    "        self.balance += amount\n",
    "        print(f\"deposited {amount}. New balance:{self.balance}\")\n",
    "        \n",
    "    def withdraw(self,amount):\n",
    "        if amount <= self.balance: \n",
    "            self.balance -= amount\n",
    "            print(f\"withdraw {amount}. new balance:{self.balance}\")\n",
    "        \n",
    "account=Account(\"Amit\",0)\n",
    "account.deposit(1000)\n",
    "account.withdraw(300)"
   ]
  },
  {
   "cell_type": "code",
   "execution_count": 48,
   "id": "a5710598",
   "metadata": {},
   "outputs": [
    {
     "name": "stdout",
     "output_type": "stream",
     "text": [
      "**********Student menegment system************\n",
      "1.input student details:\n",
      "2.update student details:\n",
      "3.display details:\n",
      "4.exit Program\n",
      "Enter the choice:1\n",
      "Enter the student's school rollno:191\n",
      "Enter the Student name:fj\n",
      "Enter the student marks:5\n",
      "Marks Added successfully\n",
      "**********Student menegment system************\n",
      "1.input student details:\n",
      "2.update student details:\n",
      "3.display details:\n",
      "4.exit Program\n",
      "Enter the choice:1\n",
      "Enter the student's school rollno:102\n",
      "Enter the Student name:fhej\n",
      "Enter the student marks:34\n",
      "Marks Added successfully\n",
      "**********Student menegment system************\n",
      "1.input student details:\n",
      "2.update student details:\n",
      "3.display details:\n",
      "4.exit Program\n",
      "Enter the choice:2\n",
      "Enter the student rollno:102\n",
      "Enter the new marks:67\n",
      "marks updated successfully\n",
      "**********Student menegment system************\n",
      "1.input student details:\n",
      "2.update student details:\n",
      "3.display details:\n",
      "4.exit Program\n",
      "Enter the choice:3\n",
      "Enter the rollno to view details:102\n",
      "Rollno =  102\n",
      "Name =  fhej\n",
      "Marks =  67.0\n",
      "**********Student menegment system************\n",
      "1.input student details:\n",
      "2.update student details:\n",
      "3.display details:\n",
      "4.exit Program\n",
      "Enter the choice:199\n",
      "invalid choice\n",
      "**********Student menegment system************\n",
      "1.input student details:\n",
      "2.update student details:\n",
      "3.display details:\n",
      "4.exit Program\n",
      "Enter the choice:4\n",
      "Exit Program\n"
     ]
    }
   ],
   "source": [
    "class Student:\n",
    "    def __init__(self):\n",
    "        self.student_details={}\n",
    "      \n",
    "    def input_student_details(self):\n",
    "        rollno=int(input(\"Enter the student's school rollno:\"))\n",
    "        name=input(\"Enter the Student name:\")\n",
    "        marks=int(input(\"Enter the student marks:\"))\n",
    "        self.student_details[rollno]={\"name\":name, \"marks\":marks}\n",
    "        print(\"Marks Added successfully\")\n",
    "        \n",
    "    def update_student_details(self):\n",
    "        rollno=int(input(\"Enter the student rollno:\"))\n",
    "        if rollno in self.student_details:\n",
    "            new_marks = float(input(\"Enter the new marks:\"))\n",
    "            self.student_details[rollno][\"marks\"]= new_marks\n",
    "            print(\"marks updated successfully\")\n",
    "        else:\n",
    "            print(\"Student not found\")\n",
    "            \n",
    "    def display_details(self):\n",
    "        rollno=int(input(\"Enter the rollno to view details:\"))\n",
    "        if rollno in self.student_details:\n",
    "            student=self.student_details[rollno]\n",
    "            print(\"Rollno = \",rollno)\n",
    "            print(\"Name = \",student[\"name\"])\n",
    "            print(\"Marks = \",student[\"marks\"])\n",
    "            \n",
    "        else:\n",
    "            print(\"Rollno not found\")\n",
    "            \n",
    "obj=Student()\n",
    "while True:\n",
    "    print(\"**********Student menegment system************\")\n",
    "    print(\"1.input student details:\")\n",
    "    print(\"2.update student details:\")\n",
    "    print(\"3.display details:\")\n",
    "    print(\"4.exit Program\")\n",
    "    \n",
    "    choice=int(input(\"Enter the choice:\"))\n",
    "    if choice==1:\n",
    "        obj.input_student_details()\n",
    "        \n",
    "    elif choice==2:\n",
    "        obj.update_student_details()\n",
    "        \n",
    "    elif choice==3:\n",
    "        obj.display_details()\n",
    "        \n",
    "    elif choice==4:\n",
    "        print(\"Exit Program\")\n",
    "        break\n",
    "    else:\n",
    "        print(\"invalid choice\")\n",
    "        \n",
    "        \n",
    "        \n",
    "        "
   ]
  },
  {
   "cell_type": "code",
   "execution_count": 52,
   "id": "cd26d44e",
   "metadata": {},
   "outputs": [
    {
     "name": "stdout",
     "output_type": "stream",
     "text": [
      "***Student IDs***\n",
      "101\n",
      "102\n",
      "103\n",
      "104\n",
      "Enter id 101\n",
      "Student Found\n",
      "<__main__.Student object at 0x0000018737D53490>\n"
     ]
    },
    {
     "ename": "TypeError",
     "evalue": "Student.__init__() missing 3 required positional arguments: 'sid', 'name', and 'per'",
     "output_type": "error",
     "traceback": [
      "\u001b[1;31m---------------------------------------------------------------------------\u001b[0m",
      "\u001b[1;31mTypeError\u001b[0m                                 Traceback (most recent call last)",
      "Cell \u001b[1;32mIn[52], line 36\u001b[0m\n\u001b[0;32m     33\u001b[0m \u001b[38;5;28;01melse\u001b[39;00m:\n\u001b[0;32m     34\u001b[0m     \u001b[38;5;28mprint\u001b[39m(\u001b[38;5;124m\"\u001b[39m\u001b[38;5;124mStudent not fount\u001b[39m\u001b[38;5;124m\"\u001b[39m)\n\u001b[1;32m---> 36\u001b[0m s\u001b[38;5;241m=\u001b[39mStudent()\n\u001b[0;32m     37\u001b[0m s\u001b[38;5;241m.\u001b[39msearch()\n",
      "\u001b[1;31mTypeError\u001b[0m: Student.__init__() missing 3 required positional arguments: 'sid', 'name', and 'per'"
     ]
    }
   ],
   "source": [
    "class Student:\n",
    "    def __init__(self, sid,name,per):\n",
    "        self.sid=sid\n",
    "        self.name=name\n",
    "        self.per=per\n",
    "        \n",
    "    def _str_(self):\n",
    "        return \"Sid :\"+ str(self.sid)+\"\\nName :\"+ self.name+\"\\nPer :\"+str(self.per)\n",
    "    \n",
    "students=[\n",
    "    Student(101,\"priya\",56.7),\n",
    "    Student(102,\"riya\",76.7),\n",
    "    Student(103,\"tiya\",86.7),\n",
    "    Student(104,\"giya\",96.7)\n",
    "]\n",
    "\n",
    "def search(sid):\n",
    "    for student in students:\n",
    "        if student.sid==sid:\n",
    "            return student\n",
    "\n",
    "\n",
    "print(\"***Student IDs***\")\n",
    "for student in students:\n",
    "    print(student.sid)\n",
    "    \n",
    "s_id=int(input(\"Enter id \"))\n",
    "found_student=search(s_id)\n",
    "\n",
    "if found_student:\n",
    "    print(\"Student Found\")\n",
    "    print(found_student)\n",
    "else:\n",
    "    print(\"Student not fount\")"
   ]
  },
  {
   "cell_type": "code",
   "execution_count": null,
   "id": "4b7d1978",
   "metadata": {},
   "outputs": [],
   "source": []
  }
 ],
 "metadata": {
  "kernelspec": {
   "display_name": "Python 3 (ipykernel)",
   "language": "python",
   "name": "python3"
  },
  "language_info": {
   "codemirror_mode": {
    "name": "ipython",
    "version": 3
   },
   "file_extension": ".py",
   "mimetype": "text/x-python",
   "name": "python",
   "nbconvert_exporter": "python",
   "pygments_lexer": "ipython3",
   "version": "3.11.5"
  }
 },
 "nbformat": 4,
 "nbformat_minor": 5
}
