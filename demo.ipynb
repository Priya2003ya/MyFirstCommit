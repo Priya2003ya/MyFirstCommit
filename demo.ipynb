{
 "cells": [
  {
   "cell_type": "code",
   "execution_count": 1,
   "id": "eb7d1a2b",
   "metadata": {},
   "outputs": [
    {
     "data": {
      "text/plain": [
       "['apple', 'banana', 'kiwi', 'orange']"
      ]
     },
     "execution_count": 1,
     "metadata": {},
     "output_type": "execute_result"
    }
   ],
   "source": [
    "list = [\"apple\",\"banana\",\"kiwi\",\"orange\"]\n",
    "list"
   ]
  },
  {
   "cell_type": "code",
   "execution_count": 2,
   "id": "b95a6f36",
   "metadata": {},
   "outputs": [
    {
     "data": {
      "text/plain": [
       "'orange'"
      ]
     },
     "execution_count": 2,
     "metadata": {},
     "output_type": "execute_result"
    }
   ],
   "source": [
    "list[3]"
   ]
  },
  {
   "cell_type": "code",
   "execution_count": 3,
   "id": "3e3a1f34",
   "metadata": {},
   "outputs": [
    {
     "data": {
      "text/plain": [
       "['apple', 'banana', 'kiwi']"
      ]
     },
     "execution_count": 3,
     "metadata": {},
     "output_type": "execute_result"
    }
   ],
   "source": [
    "list[0:3]"
   ]
  },
  {
   "cell_type": "code",
   "execution_count": 4,
   "id": "61a01fd0",
   "metadata": {},
   "outputs": [
    {
     "data": {
      "text/plain": [
       "'ba'"
      ]
     },
     "execution_count": 4,
     "metadata": {},
     "output_type": "execute_result"
    }
   ],
   "source": [
    "list[1][0:2]"
   ]
  },
  {
   "cell_type": "code",
   "execution_count": 16,
   "id": "b41aab5b",
   "metadata": {},
   "outputs": [
    {
     "data": {
      "text/plain": [
       "'bwnwnw'"
      ]
     },
     "execution_count": 16,
     "metadata": {},
     "output_type": "execute_result"
    }
   ],
   "source": [
    " list[1].replace(\"a\",\"w\")"
   ]
  },
  {
   "cell_type": "code",
   "execution_count": null,
   "id": "ca425682",
   "metadata": {},
   "outputs": [],
   "source": []
  },
  {
   "cell_type": "code",
   "execution_count": 37,
   "id": "a8375b4f",
   "metadata": {},
   "outputs": [
    {
     "name": "stdout",
     "output_type": "stream",
     "text": [
      "Enter the namepriya\n",
      "Enter the rollno75\n",
      "Enter the age20\n"
     ]
    },
    {
     "data": {
      "text/plain": [
       "'your Name is priya rollno 75 and age 20'"
      ]
     },
     "execution_count": 37,
     "metadata": {},
     "output_type": "execute_result"
    }
   ],
   "source": [
    "class demo:\n",
    "    def __init__(self):\n",
    "        self.name=\"\"\n",
    "        self.rollno=\"\"\n",
    "        self.age=\"\"\n",
    "    def set(self):\n",
    "        self.name = input(\"Enter the name\")\n",
    "        self.rollno = input((\"Enter the rollno\"))\n",
    "        self.age = input((\"Enter the age\"))\n",
    "    def get(self):\n",
    "        return (f\"your Name is {self.name} rollno {self.rollno} and age {self.age}\")\n",
    "d=demo()\n",
    "d.set()\n",
    "d.get()"
   ]
  },
  {
   "cell_type": "code",
   "execution_count": 46,
   "id": "50bb7fc9",
   "metadata": {},
   "outputs": [
    {
     "name": "stdout",
     "output_type": "stream",
     "text": [
      "Animal name is Cat and color brown and bark mauw\n"
     ]
    }
   ],
   "source": [
    "class Animal:\n",
    "    def __init__(self,color,name):\n",
    "        self.color = color\n",
    "        self.name = name\n",
    "    def dis(self):\n",
    "        print(f\"Animal name is {self.name} and color {self.color} and bark {self.bark}\")\n",
    "    \n",
    "class Dog(Animal):\n",
    "    def __init__(self,color,name,bark):\n",
    "        super().__init__(color,name)\n",
    "        self.bark=bark\n",
    "d=Dog(\"brown\",\"Cat\",\"mauw\")\n",
    "d.dis()"
   ]
  },
  {
   "cell_type": "code",
   "execution_count": 19,
   "id": "19fdf0c9",
   "metadata": {},
   "outputs": [
    {
     "name": "stdout",
     "output_type": "stream",
     "text": [
      "1.Add\n",
      "2.Sub\n",
      "3.Mul\n",
      "4.div\n",
      "Enter your choice:3\n",
      "How many number enter:2\n"
     ]
    },
    {
     "ename": "TypeError",
     "evalue": "can only concatenate str (not \"int\") to str",
     "output_type": "error",
     "traceback": [
      "\u001b[1;31m---------------------------------------------------------------------------\u001b[0m",
      "\u001b[1;31mTypeError\u001b[0m                                 Traceback (most recent call last)",
      "Cell \u001b[1;32mIn[19], line 5\u001b[0m\n\u001b[0;32m      3\u001b[0m ch\u001b[38;5;241m=\u001b[39m\u001b[38;5;28minput\u001b[39m((\u001b[38;5;124m\"\u001b[39m\u001b[38;5;124mEnter your choice:\u001b[39m\u001b[38;5;124m\"\u001b[39m))\n\u001b[0;32m      4\u001b[0m n\u001b[38;5;241m=\u001b[39m\u001b[38;5;28minput\u001b[39m((\u001b[38;5;124m\"\u001b[39m\u001b[38;5;124mHow many number enter:\u001b[39m\u001b[38;5;124m\"\u001b[39m))\n\u001b[1;32m----> 5\u001b[0m \u001b[38;5;28;01mfor\u001b[39;00m i \u001b[38;5;129;01min\u001b[39;00m \u001b[38;5;28mrange\u001b[39m(\u001b[38;5;241m1\u001b[39m,n\u001b[38;5;241m+\u001b[39m\u001b[38;5;241m1\u001b[39m):\n\u001b[0;32m      6\u001b[0m     num\u001b[38;5;241m=\u001b[39m\u001b[38;5;28minput\u001b[39m((\u001b[38;5;124m\"\u001b[39m\u001b[38;5;124mENTER THE NUMBER:\u001b[39m\u001b[38;5;124m\"\u001b[39m))\n\u001b[0;32m      7\u001b[0m     \u001b[38;5;28;01mif\u001b[39;00m ch\u001b[38;5;241m==\u001b[39m\u001b[38;5;241m1\u001b[39m:\n",
      "\u001b[1;31mTypeError\u001b[0m: can only concatenate str (not \"int\") to str"
     ]
    }
   ],
   "source": [
    "while True:\n",
    "    print(\"1.Add\\n2.Sub\\n3.Mul\\n4.div\")\n",
    "    ch=input((\"Enter your choice:\"))\n",
    "    n=input((\"How many number enter:\"))\n",
    "    for i in range(1,n+1):\n",
    "        num=input((\"ENTER THE NUMBER:\"))\n",
    "        if ch==1:\n",
    "            sum=0\n",
    "            for i in rang(1,num+1):\n",
    "                sum +=i\n",
    "            print(sum)\n",
    "        elif ch==2:\n",
    "            pass\n",
    "        elif ch==3:\n",
    "            mul=1\n",
    "            for i in range(1,num+1):\n",
    "                mul *=i\n",
    "            print(mul)\n",
    "        elif ch==4:\n",
    "            pass\n",
    "        else:\n",
    "            print(\"program end\")"
   ]
  },
  {
   "cell_type": "code",
   "execution_count": null,
   "id": "d2eb74b5",
   "metadata": {},
   "outputs": [],
   "source": []
  },
  {
   "cell_type": "code",
   "execution_count": null,
   "id": "958acd61",
   "metadata": {},
   "outputs": [],
   "source": []
  },
  {
   "cell_type": "code",
   "execution_count": null,
   "id": "cdb38e7a",
   "metadata": {},
   "outputs": [],
   "source": []
  },
  {
   "cell_type": "code",
   "execution_count": null,
   "id": "97c594ac",
   "metadata": {},
   "outputs": [],
   "source": [
    "\n",
    "\n"
   ]
  },
  {
   "cell_type": "code",
   "execution_count": null,
   "id": "7fa78887",
   "metadata": {},
   "outputs": [],
   "source": []
  },
  {
   "cell_type": "code",
   "execution_count": 1,
   "id": "68b4770c",
   "metadata": {},
   "outputs": [
    {
     "name": "stdout",
     "output_type": "stream",
     "text": [
      "Book name poem and Author name xyz.\n"
     ]
    }
   ],
   "source": [
    "class demo:\n",
    "    def __init__(self,book,author):\n",
    "        self.book = book\n",
    "        self.author = author\n",
    "        \n",
    "    def dis(self):\n",
    "        print(f\"Book name {self.book} and Author name {self.author}.\")\n",
    "        \n",
    "d=demo(\"poem\",\"xyz\")\n",
    "d.dis()"
   ]
  },
  {
   "cell_type": "code",
   "execution_count": 14,
   "id": "e74d58d9",
   "metadata": {},
   "outputs": [
    {
     "name": "stdout",
     "output_type": "stream",
     "text": [
      "name: rohan age : 34 rollno : 75\n"
     ]
    }
   ],
   "source": [
    "class parent:\n",
    "    def __init__(self,name,age):\n",
    "        self.name = name\n",
    "        self.age = age\n",
    "        \n",
    "    def display(self):\n",
    "        print(f\"name: {self.name} age : {self.age} rollno : {self.rollno}\")\n",
    "        \n",
    "        \n",
    "class child(parent):\n",
    "    def __init__(self,name,age,rollno):\n",
    "        super().__init__(name,age)\n",
    "        self.rollno = rollno\n",
    "        \n",
    "obj=child(\"rohan\", 34,75)\n",
    "obj.display()"
   ]
  },
  {
   "cell_type": "code",
   "execution_count": null,
   "id": "f0cb22db",
   "metadata": {},
   "outputs": [],
   "source": []
  },
  {
   "cell_type": "code",
   "execution_count": null,
   "id": "d2f9024d",
   "metadata": {},
   "outputs": [],
   "source": []
  },
  {
   "cell_type": "code",
   "execution_count": 3,
   "id": "d1dccba4",
   "metadata": {},
   "outputs": [
    {
     "name": "stdout",
     "output_type": "stream",
     "text": [
      "\n",
      "1.Add Student\n",
      "2.Display Students\n",
      "3.Exit\n",
      "Enter your choice:1\n",
      "Enter student name:heema\n",
      "Enter roll number:6\n",
      "Enter marks:89\n",
      "\n",
      "1.Add Student\n",
      "2.Display Students\n",
      "3.Exit\n",
      "Enter your choice:2\n",
      "Name:\n",
      "Roll No:\n",
      "Marks:\n"
     ]
    },
    {
     "ename": "NameError",
     "evalue": "name 'name' is not defined",
     "output_type": "error",
     "traceback": [
      "\u001b[1;31m---------------------------------------------------------------------------\u001b[0m",
      "\u001b[1;31mNameError\u001b[0m                                 Traceback (most recent call last)",
      "Cell \u001b[1;32mIn[3], line 34\u001b[0m\n\u001b[0;32m     31\u001b[0m         \u001b[38;5;28;01melse\u001b[39;00m:\n\u001b[0;32m     32\u001b[0m             \u001b[38;5;28mprint\u001b[39m(\u001b[38;5;124m\"\u001b[39m\u001b[38;5;124minvalid choice. Please try again.\u001b[39m\u001b[38;5;124m\"\u001b[39m)\n\u001b[1;32m---> 34\u001b[0m main()\n",
      "Cell \u001b[1;32mIn[3], line 25\u001b[0m, in \u001b[0;36mmain\u001b[1;34m()\u001b[0m\n\u001b[0;32m     22\u001b[0m     add_student()\n\u001b[0;32m     24\u001b[0m \u001b[38;5;28;01melif\u001b[39;00m choice\u001b[38;5;241m==\u001b[39m\u001b[38;5;124m\"\u001b[39m\u001b[38;5;124m2\u001b[39m\u001b[38;5;124m\"\u001b[39m:\n\u001b[1;32m---> 25\u001b[0m     display_students()\n\u001b[0;32m     27\u001b[0m \u001b[38;5;28;01melif\u001b[39;00m choice\u001b[38;5;241m==\u001b[39m\u001b[38;5;124m\"\u001b[39m\u001b[38;5;124m3\u001b[39m\u001b[38;5;124m\"\u001b[39m:\n\u001b[0;32m     28\u001b[0m     \u001b[38;5;28mprint\u001b[39m(\u001b[38;5;124m\"\u001b[39m\u001b[38;5;124mExiting program!\u001b[39m\u001b[38;5;124m\"\u001b[39m)\n",
      "Cell \u001b[1;32mIn[3], line 14\u001b[0m, in \u001b[0;36mdisplay_students\u001b[1;34m()\u001b[0m\n\u001b[0;32m     11\u001b[0m         \u001b[38;5;28mprint\u001b[39m(\u001b[38;5;124m\"\u001b[39m\u001b[38;5;124mName:\u001b[39m\u001b[38;5;130;01m\\n\u001b[39;00m\u001b[38;5;124mRoll No:\u001b[39m\u001b[38;5;130;01m\\n\u001b[39;00m\u001b[38;5;124mMarks:\u001b[39m\u001b[38;5;124m\"\u001b[39m)\n\u001b[0;32m     12\u001b[0m \u001b[38;5;66;03m#         for line in file:\u001b[39;00m\n\u001b[0;32m     13\u001b[0m \u001b[38;5;66;03m#             name,roll_no,marks = line.strip().split(\",\")\u001b[39;00m\n\u001b[1;32m---> 14\u001b[0m         \u001b[38;5;28mprint\u001b[39m(\u001b[38;5;124mf\u001b[39m\u001b[38;5;124m\"\u001b[39m\u001b[38;5;132;01m{\u001b[39;00mname\u001b[38;5;132;01m}\u001b[39;00m\u001b[38;5;130;01m\\n\u001b[39;00m\u001b[38;5;124m,\u001b[39m\u001b[38;5;132;01m{\u001b[39;00mroll_no\u001b[38;5;132;01m}\u001b[39;00m\u001b[38;5;130;01m\\n\u001b[39;00m\u001b[38;5;132;01m{\u001b[39;00mmarks\u001b[38;5;132;01m}\u001b[39;00m\u001b[38;5;124m\"\u001b[39m)\n",
      "\u001b[1;31mNameError\u001b[0m: name 'name' is not defined"
     ]
    }
   ],
   "source": [
    "def add_student():\n",
    "    name=input(\"Enter student name:\")\n",
    "    roll_no=input(\"Enter roll number:\")\n",
    "    marks=input(\"Enter marks:\")\n",
    "    \n",
    "    with open(\"students.txt\",\"a\")as file:\n",
    "        file.write(f\"{name},{roll_no},{marks}\\n\")\n",
    "        \n",
    "def display_students():\n",
    "    with open(\"students.txt\",\"r\")as file:\n",
    "        print(\"Name:\\nRoll No:\\nMarks:\")\n",
    "#         for line in file:\n",
    "#             name,roll_no,marks = line.strip().split(\",\")\n",
    "        print(f\"{name}\\n,{roll_no}\\n{marks}\")\n",
    "            \n",
    "def main():\n",
    "    while True:\n",
    "        print(\"\\n1.Add Student\\n2.Display Students\\n3.Exit\")\n",
    "        choice=input(\"Enter your choice:\")\n",
    "        \n",
    "        if choice==\"1\":\n",
    "            add_student()\n",
    "            \n",
    "        elif choice==\"2\":\n",
    "            display_students()\n",
    "            \n",
    "        elif choice==\"3\":\n",
    "            print(\"Exiting program!\")\n",
    "            break\n",
    "        \n",
    "        else:\n",
    "            print(\"invalid choice. Please try again.\")\n",
    "            \n",
    "main()\n",
    "    "
   ]
  },
  {
   "cell_type": "code",
   "execution_count": 9,
   "id": "a70d5096",
   "metadata": {},
   "outputs": [
    {
     "name": "stdout",
     "output_type": "stream",
     "text": [
      "Enter the student name:fj\n",
      "Enter roll number:8\n"
     ]
    },
    {
     "ename": "TypeError",
     "evalue": "a bytes-like object is required, not 'str'",
     "output_type": "error",
     "traceback": [
      "\u001b[1;31m---------------------------------------------------------------------------\u001b[0m",
      "\u001b[1;31mTypeError\u001b[0m                                 Traceback (most recent call last)",
      "Cell \u001b[1;32mIn[9], line 16\u001b[0m\n\u001b[0;32m     13\u001b[0m                    file\u001b[38;5;241m.\u001b[39mread(\u001b[38;5;124mf\u001b[39m\u001b[38;5;124m\"\u001b[39m\u001b[38;5;124mName : \u001b[39m\u001b[38;5;132;01m{\u001b[39;00mname\u001b[38;5;132;01m}\u001b[39;00m\u001b[38;5;130;01m\\n\u001b[39;00m\u001b[38;5;124mRoll number : \u001b[39m\u001b[38;5;132;01m{\u001b[39;00mrno\u001b[38;5;132;01m}\u001b[39;00m\u001b[38;5;124m\"\u001b[39m)\n\u001b[0;32m     14\u001b[0m                    file\u001b[38;5;241m.\u001b[39mclose()\n\u001b[1;32m---> 16\u001b[0m add_student()\n\u001b[0;32m     17\u001b[0m display_students()\n",
      "Cell \u001b[1;32mIn[9], line 8\u001b[0m, in \u001b[0;36madd_student\u001b[1;34m()\u001b[0m\n\u001b[0;32m      5\u001b[0m rno\u001b[38;5;241m=\u001b[39m\u001b[38;5;28mint\u001b[39m(\u001b[38;5;28minput\u001b[39m(\u001b[38;5;124m\"\u001b[39m\u001b[38;5;124mEnter roll number:\u001b[39m\u001b[38;5;124m\"\u001b[39m))\n\u001b[0;32m      7\u001b[0m \u001b[38;5;28;01mwith\u001b[39;00m \u001b[38;5;28mopen\u001b[39m(\u001b[38;5;124m\"\u001b[39m\u001b[38;5;124mStudent.data\u001b[39m\u001b[38;5;124m\"\u001b[39m,\u001b[38;5;124m\"\u001b[39m\u001b[38;5;124mab\u001b[39m\u001b[38;5;124m\"\u001b[39m)\u001b[38;5;28;01mas\u001b[39;00m file:\n\u001b[1;32m----> 8\u001b[0m     file\u001b[38;5;241m.\u001b[39mwrite(\u001b[38;5;124mf\u001b[39m\u001b[38;5;124m\"\u001b[39m\u001b[38;5;132;01m{\u001b[39;00mname\u001b[38;5;132;01m}\u001b[39;00m\u001b[38;5;124m,\u001b[39m\u001b[38;5;132;01m{\u001b[39;00mrno\u001b[38;5;132;01m}\u001b[39;00m\u001b[38;5;130;01m\\n\u001b[39;00m\u001b[38;5;124m\"\u001b[39m)\n\u001b[0;32m      9\u001b[0m     file\u001b[38;5;241m.\u001b[39mclose()\n",
      "\u001b[1;31mTypeError\u001b[0m: a bytes-like object is required, not 'str'"
     ]
    }
   ],
   "source": [
    "import json\n",
    "\n",
    "def add_student():\n",
    "    name=input(\"Enter the student name:\")\n",
    "    rno=int(input(\"Enter roll number:\"))\n",
    "    \n",
    "    with open(\"Student.data\",\"ab\")as file:\n",
    "        file.write(f\"{name},{rno}\\n\")\n",
    "        file.close()\n",
    "              \n",
    "def display_students():\n",
    "               with open(\"Student.data\",\"rb\")as file:\n",
    "                   file.read(f\"Name : {name}\\nRoll number : {rno}\")\n",
    "                   file.close()\n",
    "                   \n",
    "add_student()\n",
    "display_students()"
   ]
  },
  {
   "cell_type": "code",
   "execution_count": null,
   "id": "f8750aa0",
   "metadata": {},
   "outputs": [],
   "source": []
  }
 ],
 "metadata": {
  "kernelspec": {
   "display_name": "Python 3 (ipykernel)",
   "language": "python",
   "name": "python3"
  },
  "language_info": {
   "codemirror_mode": {
    "name": "ipython",
    "version": 3
   },
   "file_extension": ".py",
   "mimetype": "text/x-python",
   "name": "python",
   "nbconvert_exporter": "python",
   "pygments_lexer": "ipython3",
   "version": "3.11.5"
  }
 },
 "nbformat": 4,
 "nbformat_minor": 5
}
