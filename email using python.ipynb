{
 "cells": [
  {
   "cell_type": "code",
   "execution_count": 6,
   "id": "0857440e",
   "metadata": {},
   "outputs": [
    {
     "data": {
      "text/plain": [
       "(250,\n",
       " b'smtp.gmail.com at your service, [2401:4900:471c:1cfc:5582:6540:80e0:3f80]\\nSIZE 35882577\\n8BITMIME\\nSTARTTLS\\nENHANCEDSTATUSCODES\\nPIPELINING\\nCHUNKING\\nSMTPUTF8')"
      ]
     },
     "execution_count": 6,
     "metadata": {},
     "output_type": "execute_result"
    }
   ],
   "source": [
    "import smtplib\n",
    "smtp_object = smtplib.SMTP(\"smtp.gmail.com\",587)\n",
    "smtp_object.ehlo()"
   ]
  },
  {
   "cell_type": "code",
   "execution_count": 7,
   "id": "299c7861",
   "metadata": {},
   "outputs": [
    {
     "data": {
      "text/plain": [
       "(220, b'2.0.0 Ready to start TLS')"
      ]
     },
     "execution_count": 7,
     "metadata": {},
     "output_type": "execute_result"
    }
   ],
   "source": [
    "smtp_object.starttls()"
   ]
  },
  {
   "cell_type": "code",
   "execution_count": 8,
   "id": "dfec89c0",
   "metadata": {},
   "outputs": [],
   "source": [
    "import getpass"
   ]
  },
  {
   "cell_type": "code",
   "execution_count": 9,
   "id": "fb72c9bb",
   "metadata": {},
   "outputs": [
    {
     "name": "stdout",
     "output_type": "stream",
     "text": [
      "Enter your email:········\n",
      "Enter your password:········\n"
     ]
    },
    {
     "data": {
      "text/plain": [
       "(235, b'2.7.0 Accepted')"
      ]
     },
     "execution_count": 9,
     "metadata": {},
     "output_type": "execute_result"
    }
   ],
   "source": [
    "email=getpass.getpass(\"Enter your email:\")\n",
    "password=getpass.getpass(\"Enter your password:\")\n",
    "smtp_object.login(email,password)"
   ]
  },
  {
   "cell_type": "code",
   "execution_count": 10,
   "id": "f7405fbb",
   "metadata": {},
   "outputs": [
    {
     "name": "stdout",
     "output_type": "stream",
     "text": [
      "Enter your email:········\n",
      "Enter the email of the recipient:········\n",
      "Enter the subject line:file\n",
      "Type out the message you want to send:\"C:\\Users\\mandeep prajapati\\OneDrive\\Documents\\Desktop\\ANSWERSHEET(PYTHON).pdf\"\n"
     ]
    },
    {
     "data": {
      "text/plain": [
       "{}"
      ]
     },
     "execution_count": 10,
     "metadata": {},
     "output_type": "execute_result"
    }
   ],
   "source": [
    "from_address= getpass.getpass(\"Enter your email:\")\n",
    "to_address= getpass.getpass(\"Enter the email of the recipient:\")\n",
    "subject=input(\"Enter the subject line:\")\n",
    "message= input(\"Type out the message you want to send:\")\n",
    "msg=\"Subject: \" + subject + \"\\n\" + message\n",
    "smtp_object.sendmail(from_address,to_address,msg)"
   ]
  },
  {
   "cell_type": "code",
   "execution_count": 14,
   "id": "a4c2e3a2",
   "metadata": {},
   "outputs": [
    {
     "name": "stdout",
     "output_type": "stream",
     "text": [
      "A boy is playing there.\n",
      "There is a playground.\n",
      "An aeroplane is in the sky.\n",
      "The sky is pink.\n",
      "Alphabets and numbers are allowed in the password.\n"
     ]
    }
   ],
   "source": [
    "with open(\"story.txt\",\"r\")as f:\n",
    "    print(f.read())\n",
    "f.close()"
   ]
  },
  {
   "cell_type": "code",
   "execution_count": 13,
   "id": "fd71a5ec",
   "metadata": {},
   "outputs": [],
   "source": [
    "import smtplib"
   ]
  },
  {
   "cell_type": "code",
   "execution_count": 14,
   "id": "b7e1ed8b",
   "metadata": {},
   "outputs": [
    {
     "data": {
      "text/plain": [
       "(250,\n",
       " b'smtp.gmail.com at your service, [2401:4900:5ade:3449:2c97:82ba:7828:e75e]\\nSIZE 35882577\\n8BITMIME\\nSTARTTLS\\nENHANCEDSTATUSCODES\\nPIPELINING\\nCHUNKING\\nSMTPUTF8')"
      ]
     },
     "execution_count": 14,
     "metadata": {},
     "output_type": "execute_result"
    }
   ],
   "source": [
    "smtp_object=smtplib.SMTP(\"smtp.gmail.com\",587)\n",
    "smtp_object.ehlo()"
   ]
  },
  {
   "cell_type": "code",
   "execution_count": 15,
   "id": "fa4b2e77",
   "metadata": {},
   "outputs": [
    {
     "data": {
      "text/plain": [
       "(220, b'2.0.0 Ready to start TLS')"
      ]
     },
     "execution_count": 15,
     "metadata": {},
     "output_type": "execute_result"
    }
   ],
   "source": [
    "smtp_object.starttls()"
   ]
  },
  {
   "cell_type": "code",
   "execution_count": 16,
   "id": "69ffdfd4",
   "metadata": {},
   "outputs": [],
   "source": [
    "import getpass"
   ]
  },
  {
   "cell_type": "code",
   "execution_count": 18,
   "id": "cfd766ed",
   "metadata": {},
   "outputs": [
    {
     "name": "stdout",
     "output_type": "stream",
     "text": [
      "Enter your email:········\n",
      "Enter pasword:········\n"
     ]
    },
    {
     "data": {
      "text/plain": [
       "(235, b'2.7.0 Accepted')"
      ]
     },
     "execution_count": 18,
     "metadata": {},
     "output_type": "execute_result"
    }
   ],
   "source": [
    "email=getpass.getpass(\"Enter your email:\")\n",
    "password=getpass.getpass(\"Enter pasword:\")\n",
    "smtp_object.login(email,password)"
   ]
  },
  {
   "cell_type": "code",
   "execution_count": 20,
   "id": "9d9a3335",
   "metadata": {},
   "outputs": [
    {
     "name": "stdout",
     "output_type": "stream",
     "text": [
      "Enter your email:········\n",
      "Enter the email you want to send:········\n",
      "Enter subject:text\n",
      "Enter message to send:Good Afternoon Sir\n"
     ]
    },
    {
     "data": {
      "text/plain": [
       "{}"
      ]
     },
     "execution_count": 20,
     "metadata": {},
     "output_type": "execute_result"
    }
   ],
   "source": [
    "from_add=getpass.getpass(\"Enter your email:\")\n",
    "to_add=getpass.getpass(\"Enter the email you want to send:\")\n",
    "subject=input(\"Enter subject:\")\n",
    "message=input(\"Enter message to send:\")\n",
    "msg=\"Subject: \" + subject + \"\\n\" + message\n",
    "smtp_object.sendmail(from_add,to_add,msg)"
   ]
  },
  {
   "cell_type": "code",
   "execution_count": 21,
   "id": "f7e83e3d",
   "metadata": {},
   "outputs": [
    {
     "data": {
      "text/plain": [
       "(221,\n",
       " b'2.0.0 closing connection b25-20020aa78719000000b006e6b4419ef0sm1173049pfo.89 - gsmtp')"
      ]
     },
     "execution_count": 21,
     "metadata": {},
     "output_type": "execute_result"
    }
   ],
   "source": [
    "smtp_object.quit()"
   ]
  },
  {
   "cell_type": "code",
   "execution_count": 22,
   "id": "9144aef0",
   "metadata": {},
   "outputs": [],
   "source": [
    "import smtplib"
   ]
  },
  {
   "cell_type": "code",
   "execution_count": 25,
   "id": "07e251f1",
   "metadata": {},
   "outputs": [
    {
     "data": {
      "text/plain": [
       "(250,\n",
       " b'smtp.gmail.com at your service, [2401:4900:5ade:3449:2c97:82ba:7828:e75e]\\nSIZE 35882577\\n8BITMIME\\nSTARTTLS\\nENHANCEDSTATUSCODES\\nPIPELINING\\nCHUNKING\\nSMTPUTF8')"
      ]
     },
     "execution_count": 25,
     "metadata": {},
     "output_type": "execute_result"
    }
   ],
   "source": [
    "smtp_object=smtplib.SMTP(\"smtp.gmail.com\",587)\n",
    "smtp_object.ehlo()"
   ]
  },
  {
   "cell_type": "code",
   "execution_count": 26,
   "id": "5c2a2cc1",
   "metadata": {},
   "outputs": [
    {
     "data": {
      "text/plain": [
       "(220, b'2.0.0 Ready to start TLS')"
      ]
     },
     "execution_count": 26,
     "metadata": {},
     "output_type": "execute_result"
    }
   ],
   "source": [
    "smtp_object.starttls()"
   ]
  },
  {
   "cell_type": "code",
   "execution_count": 29,
   "id": "20d1f5e4",
   "metadata": {},
   "outputs": [],
   "source": [
    "import getpass"
   ]
  },
  {
   "cell_type": "code",
   "execution_count": 30,
   "id": "505116a9",
   "metadata": {},
   "outputs": [
    {
     "name": "stdout",
     "output_type": "stream",
     "text": [
      "enter your email:········\n",
      "Enter password:········\n"
     ]
    },
    {
     "data": {
      "text/plain": [
       "(235, b'2.7.0 Accepted')"
      ]
     },
     "execution_count": 30,
     "metadata": {},
     "output_type": "execute_result"
    }
   ],
   "source": [
    "email=getpass.getpass(\"enter your email:\")\n",
    "password=getpass.getpass(\"Enter password:\")\n",
    "smtp_object.login(email,password)\n"
   ]
  },
  {
   "cell_type": "markdown",
   "id": "b3abc104",
   "metadata": {},
   "source": []
  },
  {
   "cell_type": "code",
   "execution_count": 34,
   "id": "3fa2ee58",
   "metadata": {},
   "outputs": [
    {
     "name": "stdout",
     "output_type": "stream",
     "text": [
      "Enter your email········\n",
      "Enter the emial you want to send········\n",
      "Enter the subject to send:pdf file\n",
      "Enter message you want to send:Answer Sheet pdf file\n"
     ]
    },
    {
     "data": {
      "text/plain": [
       "{}"
      ]
     },
     "execution_count": 34,
     "metadata": {},
     "output_type": "execute_result"
    }
   ],
   "source": [
    "from_email=getpass.getpass(\"Enter your email\")\n",
    "to_email=getpass.getpass(\"Enter the emial you want to send\")\n",
    "subject=input(\"Enter the subject to send:\")\n",
    "message=input(\"Enter message you want to send:\")\n",
    "attachment_path=\"Answer Sheet.pdf\"\n",
    "msg=\"Subject:\" + subject + \"\\n\" + message +\"\\n\"+attachment_path\n",
    "smtp_object.sendmail(from_email,to_email,msg)"
   ]
  },
  {
   "cell_type": "code",
   "execution_count": 13,
   "id": "eb171e0e",
   "metadata": {},
   "outputs": [
    {
     "name": "stdout",
     "output_type": "stream",
     "text": [
      "Mail Sent\n"
     ]
    }
   ],
   "source": [
    "import smtplib\n",
    "from email.mime.multipart import MIMEMultipart\n",
    "from email.mime.text import MIMEText\n",
    "from email.mime.base import MIMEBase\n",
    "from email import encoders\n",
    "mail_content = '''Hello,\n",
    "This is a test mail.\n",
    "In this mail we are sending some link.\n",
    "The mail is sent using Python SMTP library.\n",
    "Thank You\n",
    "'''\n",
    "\n",
    "html='''\\\n",
    "<html>\n",
    "    <head>\n",
    "        <title>Home Page</title>\n",
    "    </head>\n",
    "    <body>\n",
    "        <a href=\"https://www.w3schools.com/\">w3school</a>\n",
    "    </body>\n",
    "</html>\n",
    "'''\n",
    "#The mail addresses and password\n",
    "sender_address = 'priyapretty280403@gmail.com'\n",
    "sender_pass = 'fcka ohdw dhow lykh'\n",
    "receiver_address = 'mohdsajidkhan.110@gmail.com'\n",
    "#Setup the MIME\n",
    "message = MIMEMultipart()\n",
    "message['From'] = sender_address\n",
    "message['To'] = receiver_address\n",
    "message['Subject'] = 'A test mail sent by Python. It has an attachment.'\n",
    "#The subject line\n",
    "#The body and the attachments for the mail\n",
    "part1=(MIMEText(mail_content,\"plain\"))\n",
    "part2=(MIMEText(html,\"html\"))\n",
    "message.attach(part1)\n",
    "message.attach(part2)\n",
    "#add payload header with filename\n",
    "# payload.add_header('Content-Decomposition', 'attachment', filename=attach_file_name)\n",
    "# message.attach(payload)\n",
    "#Create SMTP session for sending the mail\n",
    "session = smtplib.SMTP('smtp.gmail.com', 587) #use gmail with port\n",
    "session.starttls() #enable security\n",
    "session.login(sender_address, sender_pass) #login with mail_id and password\n",
    "text = message.as_string()\n",
    "session.sendmail(sender_address, receiver_address, text)\n",
    "session.quit()\n",
    "print('Mail Sent')"
   ]
  },
  {
   "cell_type": "code",
   "execution_count": null,
   "id": "bf372d5d",
   "metadata": {},
   "outputs": [],
   "source": [
    "import smtplib"
   ]
  },
  {
   "cell_type": "code",
   "execution_count": 38,
   "id": "5af64dd9",
   "metadata": {},
   "outputs": [],
   "source": [
    "from email.mime.multipart import MIMEMultipart\n",
    "from email import encoders\n"
   ]
  },
  {
   "cell_type": "code",
   "execution_count": 42,
   "id": "29f20ef3",
   "metadata": {},
   "outputs": [
    {
     "name": "stdout",
     "output_type": "stream",
     "text": [
      "Mail Sent\n"
     ]
    }
   ],
   "source": [
    "#The mail addresses and password\n",
    "sender_address = 'priyapretty280403@gmail.com'\n",
    "sender_pass = 'qceq citd pzqk kdmb'\n",
    "receiver_address = 'priyapretty280403@gmail.com'\n",
    "#Setup the MIME\n",
    "message = MIMEMultipart()\n",
    "message['From'] = sender_address\n",
    "message['To'] = receiver_address\n",
    "message['Subject'] = 'A test mail sent by Python. It has an attachment.'\n",
    "#The subject line\n",
    "#The body and the attachments for the mail\n",
    "message.attach(MIMEText(mail_content, \"Answer Sheet.pdf\"))\n",
    "attach_file_name = \"Answer Sheet.pdf\"\n",
    "attach_file = open(attach_file_name, 'rb') # Open the file as binary mode\n",
    "# payload = MIMEBase('application', 'octate-stream')\n",
    "# payload.set_payload((attach_file).read())\n",
    "# encoders.encode_base64(payload)\n",
    "session = smtplib.SMTP('smtp.gmail.com', 587) #use gmail with port\n",
    "session.starttls() #enable security\n",
    "session.login(sender_address, sender_pass) #login with mail_id and password\n",
    "text = message.as_string()\n",
    "session.sendmail(sender_address, receiver_address, text)\n",
    "session.quit()\n",
    "print('Mail Sent')"
   ]
  },
  {
   "cell_type": "code",
   "execution_count": null,
   "id": "1f0779c6",
   "metadata": {},
   "outputs": [],
   "source": [
    "import smtplib\n",
    "from email.mime.multipart import MIMEMultipart\n",
    "from email.mime.base import MIMEBase\n",
    "from email import encoders\n",
    "\n",
    "def send_email(sender_email, sender_password, receiver_email, subject, body, file_path):\n",
    "    # Set up the MIME\n",
    "    message = MIMEMultipart()\n",
    "    message['From'] = sender_email\n",
    "    message['To'] = receiver_email\n",
    "    message['Subject'] = subject\n",
    "\n",
    "    # Attach the body to the email\n",
    "    message.attach(MIMEText(body, 'Answer Sheet.pdf'))\n",
    "\n",
    "    # Attach the file\n",
    "    with open(file_path, 'rb') as attachment:\n",
    "        part = MIMEBase('application', 'octet-stream')\n",
    "        part.set_payload(attachment.read())\n",
    "        encoders.encode_base64(part)\n",
    "        part.add_header('Content-Disposition', f\"attachment; filename= {file_path}\")\n",
    "        message.attach(part)\n",
    "\n",
    "    # Log in to the server\n",
    "    server = smtplib.SMTP('smtp.gmail.com', 587)\n",
    "    server.starttls()\n",
    "    server.login(sender_email, sender_password)\n",
    "\n",
    "    # Send the email\n",
    "    server.sendmail(sender_email, receiver_email, message.as_string())\n",
    "\n",
    "    # Close the server\n",
    "    server.quit()\n",
    "    print(\"Send Mail\")\n",
    "\n",
    "# Provide your Gmail credentials and other details\n",
    "sender_email = 'priyapretty280403@gmail.com'\n",
    "sender_password = 'nlpo lchb sebr whdf'\n",
    "receiver_email = 'mohdsajidkhan.110@gmail.com'\n",
    "subject = 'Email with PDF attachment'\n",
    "body = 'Please find the attached PDF file.'\n",
    "file_path = 'Answer Sheet.pdf'\n",
    "\n",
    "# Send the email\n",
    "send_email(sender_email, sender_password, receiver_email, subject, body, file_path)"
   ]
  },
  {
   "cell_type": "code",
   "execution_count": 28,
   "id": "9977626c",
   "metadata": {},
   "outputs": [
    {
     "name": "stdout",
     "output_type": "stream",
     "text": [
      "Mail Sent\n"
     ]
    }
   ],
   "source": [
    "import smtplib\n",
    "from email.mime.multipart import MIMEMultipart\n",
    "from email.mime.text import MIMEText\n",
    "from email.mime.base import MIMEBase\n",
    "from email import encoders\n",
    "\n",
    "html='''\\\n",
    "<html>\n",
    "    <body>\n",
    "        <h1>This is heading tag.</h1>\n",
    "        <button>submit</button>\n",
    "    </body>\n",
    "</html>\n",
    "'''\n",
    "\n",
    "sender_address = 'priyapretty280403@gmail.com'\n",
    "sender_pass = 'pjcc qhsh tnpo ukvm'\n",
    "receiver_address = 'priyapretty280403@gmail.com'\n",
    "#Setup the MIME\n",
    "message = MIMEMultipart()\n",
    "message['From'] = sender_address\n",
    "message['To'] = receiver_address\n",
    "message['Subject'] = 'A test mail sent by Python. It has an attachment.'\n",
    "\n",
    "part2=(MIMEText(html,\"html\"))\n",
    "message.attach(part2)\n",
    "\n",
    "session = smtplib.SMTP('smtp.gmail.com', 587) \n",
    "session.starttls() \n",
    "session.login(sender_address, sender_pass) #login with mail_id and password\n",
    "# text = message.as_string()\n",
    "session.sendmail(sender_address, receiver_address,text)\n",
    "session.quit()\n",
    "print('Mail Sent')\n",
    "    "
   ]
  },
  {
   "cell_type": "code",
   "execution_count": null,
   "id": "09fe1a14",
   "metadata": {},
   "outputs": [],
   "source": []
  },
  {
   "cell_type": "code",
   "execution_count": 5,
   "id": "43974277",
   "metadata": {},
   "outputs": [
    {
     "name": "stdout",
     "output_type": "stream",
     "text": [
      "Send mail\n"
     ]
    }
   ],
   "source": [
    "import smtplib\n",
    "from email.mime.multipart import MIMEMultipart\n",
    "from email.mime.base import MIMEBase\n",
    "from email.mime.text import MIMEText\n",
    "from email import encoders\n",
    "\n",
    "html='''\\\n",
    "<html>\n",
    "    <head>\n",
    "        <title>Online voting system - Home</title>\n",
    "    </head>\n",
    "    <body>\n",
    "         <center>\n",
    "         <form>\n",
    "            <h1>Online Voting System</h1>  \n",
    "            <hr>\n",
    "            <h2>Login</h2>\n",
    "             <input type=\"number\" name=\"mob\" placeholder=\"Enter mobile\" ><br><br>\n",
    "            <input type=\"password\" name=\"pass\" placeholder=\"Enter password\" ><br><br>\n",
    "            <select name=\"role\" style=\"width: 15%; border: 2px solid black\">\n",
    "                <option value=\"1\">Voter</option>\n",
    "                <option value=\"2\">Group</option>\n",
    "            </select><br><br>                  \n",
    "            <button id=\"loginbtn\" type=\"submit\" name=\"loginbtn\">Login</button><br><br>\n",
    "            New user? <a href=\"routes/register.php\">Register here</a>\n",
    "        </form>\n",
    "        </center> \n",
    "    </body>\n",
    "</html>\n",
    "'''\n",
    "\n",
    "sender_mail=\"priyapretty280403@gmail.com\"\n",
    "password=\"naum jumc blkc fowx\"\n",
    "receiver_mail=\"mohdsajidkhan.110@gmail.com\"\n",
    "\n",
    "msg=MIMEMultipart()\n",
    "msg[\"From\"]=sender_mail\n",
    "msg[\"To\"]=receiver_mail\n",
    "msg[\"Subject\"]=\"Online Voting System Home Page.\"\n",
    "\n",
    "f=MIMEText(html,\"html\")\n",
    "msg.attach(f)\n",
    "\n",
    "server=smtplib.SMTP(\"smtp.gmail.com\",587)\n",
    "server.starttls()\n",
    "server.login(sender_mail,password)\n",
    "text=msg.as_string()\n",
    "server.sendmail(sender_mail,receiver_mail,text)\n",
    "server.quit()\n",
    "print(\"Send mail\")"
   ]
  },
  {
   "cell_type": "code",
   "execution_count": 6,
   "id": "a2b6c9c0",
   "metadata": {},
   "outputs": [
    {
     "name": "stdout",
     "output_type": "stream",
     "text": [
      "Send mail\n"
     ]
    }
   ],
   "source": [
    "import smtplib\n",
    "from email.mime.multipart import MIMEMultipart\n",
    "from email.mime.base import MIMEBase\n",
    "from email.mime.text import MIMEText\n",
    "from email import encoders\n",
    "\n",
    "html='''\\\n",
    "<!DOCTYPE html>\n",
    "<html lang=\"en\">\n",
    "<head>\n",
    "    <meta charset=\"UTF-8\">\n",
    "    <meta name=\"viewport\" content=\"width=device-width, initial-scale=1.0\">\n",
    "    <title>Profile</title>\n",
    "</head>\n",
    "<body>\n",
    "    <center>\n",
    "        <div>\n",
    "            <h1><u><b>CV</b></u></h1>\n",
    "            <img src=\"//images.pexels.com/photos/674010/pexels-photo-674010.jpeg?auto=compress&cs=tinysrgb&w=1260&h=750&dpr=1\" width=\"200px\" height=\"200px\">\n",
    "                <pre> Name : Priya Prajapati<br><br>\n",
    "                    Contact no. : 7839661265<br><br>\n",
    "                    Email-id : priyapretty280403@gmail.com</pre>\n",
    "                <hr>\n",
    "                <h3>Preson Details</h3>\n",
    "                <pre>\n",
    "                    Name : Priya Prajapati\n",
    "                    Father Name : Ramshabd Prajapati\n",
    "                    Mother Name : Rita Prajapati\n",
    "                    Gender : Female\n",
    "                    Status : Single\n",
    "                    City : Azamgarh\n",
    "                </pre>\n",
    "                <hr>\n",
    "                <h3>Education Details</h3>\n",
    "                <pre>\n",
    "                    High School : 74%\n",
    "                    Intermediate : 76%\n",
    "                    Graduation(BCA) : 70%\n",
    "                </pre>\n",
    "                <hr>\n",
    "                <h3>Skills</h3>\n",
    "                <pre>\n",
    "                    # Basic HTML.\n",
    "                    # Python\n",
    "                </pre>\n",
    "        </div>\n",
    "\n",
    "    </center>\n",
    "</body>\n",
    "</html>\n",
    "'''\n",
    "\n",
    "sender_mail=\"priyapretty280403@gmail.com\"\n",
    "password=\"hwfn rfhb anap cysk\"\n",
    "receiver_mail=\"mohdsajidkhan.110@gmail.com\"\n",
    "\n",
    "msg=MIMEMultipart()\n",
    "msg[\"From\"]=sender_mail\n",
    "msg[\"To\"]=receiver_mail\n",
    "msg[\"Subject\"]=\"Profile\"\n",
    "\n",
    "f=MIMEText(html,\"html\")\n",
    "msg.attach(f)\n",
    "\n",
    "server=smtplib.SMTP(\"smtp.gmail.com\",587)\n",
    "server.starttls()\n",
    "server.login(sender_mail,password)\n",
    "text=msg.as_string()\n",
    "server.sendmail(sender_mail,receiver_mail,text)\n",
    "server.quit()\n",
    "print(\"Send mail\")"
   ]
  },
  {
   "cell_type": "code",
   "execution_count": null,
   "id": "bf32c06a",
   "metadata": {},
   "outputs": [],
   "source": []
  }
 ],
 "metadata": {
  "kernelspec": {
   "display_name": "Python 3 (ipykernel)",
   "language": "python",
   "name": "python3"
  },
  "language_info": {
   "codemirror_mode": {
    "name": "ipython",
    "version": 3
   },
   "file_extension": ".py",
   "mimetype": "text/x-python",
   "name": "python",
   "nbconvert_exporter": "python",
   "pygments_lexer": "ipython3",
   "version": "3.11.5"
  }
 },
 "nbformat": 4,
 "nbformat_minor": 5
}
