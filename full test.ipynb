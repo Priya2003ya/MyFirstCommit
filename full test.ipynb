{
 "cells": [
  {
   "cell_type": "code",
   "execution_count": 8,
   "id": "18b8d326",
   "metadata": {},
   "outputs": [
    {
     "name": "stdout",
     "output_type": "stream",
     "text": [
      "1\n",
      "3\n",
      "5\n",
      "7\n",
      "9\n",
      "\n",
      "Access first three items individually\n",
      "1\n",
      "3\n",
      "5\n"
     ]
    }
   ],
   "source": [
    "# 3\n",
    "arr=[1,3,5,7,9]\n",
    "for i in arr:\n",
    "    print(i)\n",
    "print(\"\\nAccess first three items individually\")\n",
    "print(arr[0])\n",
    "print(arr[1])\n",
    "print(arr[2])\n"
   ]
  },
  {
   "cell_type": "code",
   "execution_count": 26,
   "id": "047d488b",
   "metadata": {},
   "outputs": [
    {
     "name": "stdout",
     "output_type": "stream",
     "text": [
      "[1, 2, 4, 5, 7, 65, 3]\n"
     ]
    }
   ],
   "source": [
    "# 2\n",
    "li=[1,2,4,5,7,65,3,4,2,4]\n",
    "l=[]\n",
    "for i in li:\n",
    "    if i not in l:\n",
    "        l.append(i)\n",
    "print(l)"
   ]
  },
  {
   "cell_type": "code",
   "execution_count": null,
   "id": "2cbaa275",
   "metadata": {},
   "outputs": [],
   "source": []
  },
  {
   "cell_type": "code",
   "execution_count": 11,
   "id": "62c2916d",
   "metadata": {},
   "outputs": [
    {
     "data": {
      "text/plain": [
       "3"
      ]
     },
     "execution_count": 11,
     "metadata": {},
     "output_type": "execute_result"
    }
   ],
   "source": [
    "# 4\n",
    "array=[1,3,5,3,7,9,3]\n",
    "array.count(3)\n"
   ]
  },
  {
   "cell_type": "code",
   "execution_count": 1,
   "id": "061eeca0",
   "metadata": {},
   "outputs": [
    {
     "name": "stdout",
     "output_type": "stream",
     "text": [
      "['222', '333', '444', '555']\n"
     ]
    }
   ],
   "source": [
    "# 5\n",
    "num=[\"2\",\"3\",\"4\",\"5\"]\n",
    "  \n",
    "x=list(map(lambda x: x*3 ,num))\n",
    "print(x)"
   ]
  },
  {
   "cell_type": "code",
   "execution_count": 29,
   "id": "75381fcc",
   "metadata": {},
   "outputs": [
    {
     "name": "stdout",
     "output_type": "stream",
     "text": [
      "[4, 9, 16, 1, 25]\n"
     ]
    }
   ],
   "source": [
    "# 6\n",
    "li=[2,3,4,1,5]\n",
    "x=list(map(lambda x: x**2,li))\n",
    "print(x)"
   ]
  },
  {
   "cell_type": "code",
   "execution_count": 4,
   "id": "6e32dcdb",
   "metadata": {},
   "outputs": [
    {
     "name": "stdout",
     "output_type": "stream",
     "text": [
      "['hi', 'hello', \"('by', 'good')\"]\n"
     ]
    }
   ],
   "source": [
    "# 7\n",
    "li=[(\"hi\"),(\"hello\"),(\"by\",\"good\")]\n",
    "x=list(map(lambda x: str(x),li))\n",
    "print(x)\n"
   ]
  },
  {
   "cell_type": "code",
   "execution_count": 48,
   "id": "7daa7116",
   "metadata": {},
   "outputs": [
    {
     "name": "stdout",
     "output_type": "stream",
     "text": [
      "A boy is playing there.\n",
      " There is a playground.\n",
      " An aeroplane is in the sky.\n",
      " The sky is pink.\n",
      " Alphabets and numbers are allowed in the password. ['A boy is playing there.\\n', 'There is a playground.\\n', 'An aeroplane is in the sky.\\n', 'The sky is pink.\\n', 'Alphabets and numbers are allowed in the password.']\n"
     ]
    }
   ],
   "source": [
    "# 8\n",
    "with open(\"story.txt\",\"r\")as f:\n",
    "    li=[]\n",
    "    for line in f:\n",
    "        print(line,end=\" \")\n",
    "      \n",
    "        li.append(line)\n",
    "    print(li)\n",
    "f.close()"
   ]
  },
  {
   "cell_type": "code",
   "execution_count": 8,
   "id": "666faaf5",
   "metadata": {},
   "outputs": [
    {
     "name": "stdout",
     "output_type": "stream",
     "text": [
      "Enter the string:hello py\n",
      "py hello\n"
     ]
    }
   ],
   "source": [
    "# 12\n",
    "# class revers:\n",
    "#     def _init_(self,string):\n",
    "#         self.string=string\n",
    "#     def dis(self):\n",
    "#         return \" \".join(self.string.split()[::-1])\n",
    "\n",
    "\n",
    "# re=revers(\"hello py\")\n",
    "# re.dis()\n",
    "\n",
    "string=input(\"Enter the string:\")\n",
    "print(\" \".join((string).split()[::-1]))\n"
   ]
  },
  {
   "cell_type": "code",
   "execution_count": 25,
   "id": "49ac11a3",
   "metadata": {},
   "outputs": [
    {
     "name": "stdout",
     "output_type": "stream",
     "text": [
      "['A', 'boy', 'is', 'playing', 'there.']\n",
      "boy \n",
      "A BOY IS PLAYING THERE.\n",
      "\n",
      "False\n"
     ]
    }
   ],
   "source": [
    "# 9\n",
    "with open(\"Story.txt\",\"r\")as f:\n",
    "    a=f.readline()\n",
    "    print(a.split())\n",
    "    print(a[2:6])\n",
    "    print(a.upper())\n",
    "    print(a.isdigit())"
   ]
  },
  {
   "cell_type": "code",
   "execution_count": 27,
   "id": "ffa7bb75",
   "metadata": {},
   "outputs": [
    {
     "name": "stdout",
     "output_type": "stream",
     "text": [
      "['banana', 'orange', 'papaya']\n"
     ]
    }
   ],
   "source": [
    "# 1\n",
    "li=[\"apple\",\"banana\",\"kiwi\",\"orange\",\"papaya\"]\n",
    "l=[]\n",
    "for i in li:\n",
    "    if len(i)>5:\n",
    "        l.append(i)\n",
    "print(l)"
   ]
  },
  {
   "cell_type": "code",
   "execution_count": null,
   "id": "d29bf93c",
   "metadata": {},
   "outputs": [],
   "source": []
  },
  {
   "cell_type": "code",
   "execution_count": 22,
   "id": "06d41c93",
   "metadata": {},
   "outputs": [
    {
     "name": "stdout",
     "output_type": "stream",
     "text": [
      "Employee id :1\n",
      "Employee name : Priya \n",
      "Employee salary : 500\n",
      "Employee department : ACCOUNTING\n",
      "Your worked are overtime.\n",
      "calculate employee salary:  550\n",
      "Enter the employee id to change department:1\n",
      "change the department:Manager\n",
      "department change successfuly.\n",
      "Employee id :1\n",
      "Employee name : Priya \n",
      "Employee salary : 500\n",
      "Employee department : Manager\n"
     ]
    }
   ],
   "source": [
    "# 13\n",
    "class Employee:\n",
    "    def __init__(self,emp_id,emp_name,emp_salary,emp_department):\n",
    "        self.emp_id=emp_id\n",
    "        self.emp_name=emp_name\n",
    "        self.emp_salary=emp_salary\n",
    "        self.emp_department=emp_department\n",
    "       \n",
    "        \n",
    "    def calculate_emp_salary(self,hours_worked):\n",
    "#         self.salary=salary\n",
    "        self.hours_worked=hours_worked\n",
    "        \n",
    "        if hours_worked > 50:\n",
    "                        print(\"Your worked are overtime.\")\n",
    "                         \n",
    "                        overtime=hours_worked - 50\n",
    "                        overtime_amount=(overtime*(int(self.emp_salary)/50))\n",
    "                        total_salary=int(self.emp_salary )+int( overtime_amount)\n",
    "                        print(\"calculate employee salary: \",total_salary)\n",
    "        else:\n",
    "                        print(\"employee worked hours is less than 50.\")\n",
    "                         \n",
    "            \n",
    "    def emp_assign_department(self):\n",
    "                    empl_id=(input(\"Enter the employee id to change department:\"))\n",
    "                    if empl_id == self.emp_id:\n",
    "                        chan_depa=input(\"change the department:\")\n",
    "                        self.emp_department=chan_depa\n",
    "                        print(\"department change successfuly.\")\n",
    "                         \n",
    "                    else:\n",
    "                         print('employee id not exist.')\n",
    "                         \n",
    "    def print_employee_details(self):\n",
    "                     print(f\"Employee id :{self.emp_id}\" )\n",
    "                     print(f\"Employee name : {self.emp_name} \")\n",
    "                     print(f\"Employee salary : {self.emp_salary}\")\n",
    "                     print(f\"Employee department : {self.emp_department}\")\n",
    "                         \n",
    "obj=Employee(\"1\",\"Priya\",\"500\",\"ACCOUNTING\")\n",
    "obj.print_employee_details()\n",
    "obj.calculate_emp_salary(55)\n",
    "\n",
    "obj.emp_assign_department()\n",
    "obj.print_employee_details()\n",
    "                         \n",
    "                         "
   ]
  },
  {
   "cell_type": "code",
   "execution_count": 4,
   "id": "adba8b59",
   "metadata": {},
   "outputs": [
    {
     "name": "stdout",
     "output_type": "stream",
     "text": [
      "1.Add manu itmes\n",
      "2.book tables\n",
      "3.customer order\n",
      "4.display\n",
      "5.exit\n",
      "Enter the choice:1\n",
      "Enter the itmes:pizza\n",
      "enter the price:100\n",
      "Item add successfully.\n",
      "1.Add manu itmes\n",
      "2.book tables\n",
      "3.customer order\n",
      "4.display\n",
      "5.exit\n",
      "Enter the choice:2\n",
      "book table.\n",
      "1.Add manu itmes\n",
      "2.book tables\n",
      "3.customer order\n",
      "4.display\n",
      "5.exit\n",
      "Enter the choice:3\n",
      "Customer order.\n",
      "Enter the order:pizza\n",
      "Order successfully.\n",
      "1.Add manu itmes\n",
      "2.book tables\n",
      "3.customer order\n",
      "4.display\n",
      "5.exit\n",
      "Enter the choice:4\n",
      "1.Add manu itmes\n",
      "2.book tables\n",
      "3.customer order\n",
      "4.display\n",
      "5.exit\n",
      "Enter the choice:5\n",
      "Exit Program\n"
     ]
    }
   ],
   "source": [
    "# 14\n",
    "class Restaurant:\n",
    "    def __init__(self):\n",
    "       \n",
    "        self.dict={}\n",
    "        \n",
    "    def add_item_to_menu(self,key):\n",
    "        self.dict[key]=value\n",
    "        print(\"Item add successfully.\")\n",
    "        \n",
    "    def book_tables(self):\n",
    "        print(\"book table.\")         \n",
    "    def take_customer_order(self):\n",
    "       \n",
    "        self.dict[key]\n",
    "        print(\"Order successfully.\")\n",
    "        \n",
    "    def display(self):\n",
    "        self.dict={}\n",
    "        \n",
    "obj= Restaurant()\n",
    "while True:\n",
    "    print(\"1.Add manu itmes\\n2.book tables\\n3.customer order\\n4.display\\n5.exit\")\n",
    "    choice=int(input(\"Enter the choice:\"))\n",
    "    if choice==1:\n",
    "        key=input(\"Enter the itmes:\")\n",
    "        value=int(input(\"enter the price:\"))\n",
    "        obj.add_item_to_menu(key)\n",
    "\n",
    "    elif choice==2:\n",
    "        obj.book_tables()\n",
    "\n",
    "    elif choice==3:\n",
    "        print(\"Customer order.\")\n",
    "        key=input(\"Enter the order:\")\n",
    "        obj.take_customer_order()\n",
    "\n",
    "    elif choice==4:\n",
    "        obj.display()\n",
    "\n",
    "    elif choice==5:\n",
    "        print(\"Exit Program\")\n",
    "        break\n",
    "    else:\n",
    "        print(\"invalid choice\")\n",
    "        \n",
    "\n",
    "        "
   ]
  },
  {
   "cell_type": "code",
   "execution_count": 3,
   "id": "7f47c8f3",
   "metadata": {},
   "outputs": [
    {
     "name": "stdout",
     "output_type": "stream",
     "text": [
      "deposit amount100  balance 150\n",
      "amount 50 balance 100\n",
      "100\n"
     ]
    }
   ],
   "source": [
    "# 15\n",
    "class BankAccount:\n",
    "    def __init__(self,account_number,balance,date_of_opening,customer_name):\n",
    "        self.account_number=account_number\n",
    "        self.balance=balance\n",
    "        self.open=date_of_opening\n",
    "        self.customer_name=customer_name\n",
    "        \n",
    "    def deposit(self,amount):\n",
    "        self.amount=amount\n",
    "        self.balance=self.balance + self.amount\n",
    "        print(f\"deposit amount{self.amount}  balance {self.balance}\")\n",
    "        \n",
    "    def withdraw(self,amount):\n",
    "        self.amount=amount\n",
    "        if self.amount <= self.balance:\n",
    "            self.balance=self.balance - self.amount\n",
    "            print(f\"amount {self.amount} balance {self.balance}\")\n",
    "        else:\n",
    "            print(\"not sufficient fund.\")\n",
    "            \n",
    "    def check_balance(self,ac):\n",
    "        self.ac=ac\n",
    "        if self.ac==self.account_number:\n",
    "            print(self.balance)\n",
    "        else:\n",
    "            print(\"Account number dose not match.\")\n",
    "            \n",
    "bank=BankAccount(12345,50,120324,\"Amit\")\n",
    "bank.deposit(100)\n",
    "bank.withdraw(50)\n",
    "bank.check_balance(12345)"
   ]
  },
  {
   "cell_type": "code",
   "execution_count": null,
   "id": "1d86467f",
   "metadata": {},
   "outputs": [],
   "source": [
    "# 16\n",
    "class Inventory:\n",
    "    def __init__(self,item_id,item_name,stock_count,price):\n",
    "        self.dict={}\n",
    "        \n",
    "    def add_item(self):\n",
    "        self.dict[item_id]=self.dict.update{}\n",
    "        \n",
    "    def update_item(self):\n",
    "        \n",
    "    def check_item_details(self):"
   ]
  },
  {
   "cell_type": "code",
   "execution_count": null,
   "id": "79626f9f",
   "metadata": {},
   "outputs": [],
   "source": []
  },
  {
   "cell_type": "code",
   "execution_count": null,
   "id": "12cab58f",
   "metadata": {},
   "outputs": [],
   "source": []
  },
  {
   "cell_type": "code",
   "execution_count": null,
   "id": "373c5374",
   "metadata": {},
   "outputs": [],
   "source": []
  },
  {
   "cell_type": "code",
   "execution_count": 27,
   "id": "f91876b4",
   "metadata": {},
   "outputs": [
    {
     "data": {
      "text/plain": [
       "(250,\n",
       " b'smtp.gmail.com at your service, [2401:4900:471c:1cfc:5582:6540:80e0:3f80]\\nSIZE 35882577\\n8BITMIME\\nSTARTTLS\\nENHANCEDSTATUSCODES\\nPIPELINING\\nCHUNKING\\nSMTPUTF8')"
      ]
     },
     "execution_count": 27,
     "metadata": {},
     "output_type": "execute_result"
    }
   ],
   "source": [
    "import smtplib\n",
    "smtp_object = smtplib.SMTP(\"smtp.gmail.com\",587)\n",
    "smtp_object.ehlo()"
   ]
  },
  {
   "cell_type": "code",
   "execution_count": 28,
   "id": "63ae8499",
   "metadata": {},
   "outputs": [
    {
     "data": {
      "text/plain": [
       "(220, b'2.0.0 Ready to start TLS')"
      ]
     },
     "execution_count": 28,
     "metadata": {},
     "output_type": "execute_result"
    }
   ],
   "source": [
    "smtp_object.starttls()"
   ]
  },
  {
   "cell_type": "code",
   "execution_count": 29,
   "id": "7daeec77",
   "metadata": {},
   "outputs": [],
   "source": [
    "import getpass"
   ]
  },
  {
   "cell_type": "code",
   "execution_count": 30,
   "id": "de5761da",
   "metadata": {},
   "outputs": [
    {
     "name": "stdout",
     "output_type": "stream",
     "text": [
      "Type something here and it will be hiddem.: ········\n"
     ]
    }
   ],
   "source": [
    "result=getpass.getpass(\"Type something here and it will be hiddem.: \")"
   ]
  },
  {
   "cell_type": "code",
   "execution_count": 31,
   "id": "0063a476",
   "metadata": {},
   "outputs": [
    {
     "name": "stdout",
     "output_type": "stream",
     "text": [
      "Enter your password:jqnm gkpc jxxy ktng\n"
     ]
    },
    {
     "data": {
      "text/plain": [
       "'jqnm gkpc jxxy ktng'"
      ]
     },
     "execution_count": 31,
     "metadata": {},
     "output_type": "execute_result"
    }
   ],
   "source": [
    "input(\"Enter your password:\")"
   ]
  },
  {
   "cell_type": "code",
   "execution_count": 32,
   "id": "b4c2e3bb",
   "metadata": {},
   "outputs": [
    {
     "name": "stdout",
     "output_type": "stream",
     "text": [
      "Enter your email:········\n",
      "Enter your password:········\n"
     ]
    },
    {
     "data": {
      "text/plain": [
       "(235, b'2.7.0 Accepted')"
      ]
     },
     "execution_count": 32,
     "metadata": {},
     "output_type": "execute_result"
    }
   ],
   "source": [
    "email=getpass.getpass(\"Enter your email:\")\n",
    "password=getpass.getpass(\"Enter your password:\")\n",
    "smtp_object.login(email,password)"
   ]
  },
  {
   "cell_type": "code",
   "execution_count": 33,
   "id": "711bbb2f",
   "metadata": {},
   "outputs": [
    {
     "name": "stdout",
     "output_type": "stream",
     "text": [
      "Enter your email:········\n",
      "Enter the email of the recipient:········\n",
      "Enter the subject line:Python\n",
      "Type out the message you want to send:Python course\n"
     ]
    },
    {
     "data": {
      "text/plain": [
       "{}"
      ]
     },
     "execution_count": 33,
     "metadata": {},
     "output_type": "execute_result"
    }
   ],
   "source": [
    "from_address= getpass.getpass(\"Enter your email:\")\n",
    "to_address= getpass.getpass(\"Enter the email of the recipient:\")\n",
    "subject=input(\"Enter the subject line:\")\n",
    "message= input(\"Type out the message you want to send:\")\n",
    "msg=\"Subject: \" + subject + \"\\n\" + message\n",
    "smtp_object.sendmail(from_address,to_address,msg)"
   ]
  },
  {
   "cell_type": "code",
   "execution_count": 34,
   "id": "7716e057",
   "metadata": {},
   "outputs": [
    {
     "data": {
      "text/plain": [
       "(221,\n",
       " b'2.0.0 closing connection ks10-20020a056a004b8a00b006e6854d45afsm4506422pfb.97 - gsmtp')"
      ]
     },
     "execution_count": 34,
     "metadata": {},
     "output_type": "execute_result"
    }
   ],
   "source": [
    "smtp_object.quit()"
   ]
  },
  {
   "cell_type": "code",
   "execution_count": 40,
   "id": "7cfd3474",
   "metadata": {},
   "outputs": [
    {
     "data": {
      "text/plain": [
       "(250,\n",
       " b'smtp.gmail.com at your service, [2401:4900:471c:1cfc:5582:6540:80e0:3f80]\\nSIZE 35882577\\n8BITMIME\\nSTARTTLS\\nENHANCEDSTATUSCODES\\nPIPELINING\\nCHUNKING\\nSMTPUTF8')"
      ]
     },
     "execution_count": 40,
     "metadata": {},
     "output_type": "execute_result"
    }
   ],
   "source": [
    "import smtplib\n",
    "smtp_object=smtplib.SMTP(\"smtp.gmail.com\",587)\n",
    "smtp_object.ehlo()"
   ]
  },
  {
   "cell_type": "code",
   "execution_count": 41,
   "id": "77d05ae0",
   "metadata": {},
   "outputs": [
    {
     "data": {
      "text/plain": [
       "(220, b'2.0.0 Ready to start TLS')"
      ]
     },
     "execution_count": 41,
     "metadata": {},
     "output_type": "execute_result"
    }
   ],
   "source": [
    "smtp_object.starttls()"
   ]
  },
  {
   "cell_type": "code",
   "execution_count": 42,
   "id": "b02aee5f",
   "metadata": {},
   "outputs": [],
   "source": [
    "import getpass"
   ]
  },
  {
   "cell_type": "code",
   "execution_count": 43,
   "id": "f6b4dd1b",
   "metadata": {},
   "outputs": [
    {
     "name": "stdout",
     "output_type": "stream",
     "text": [
      "Enter your email:········\n",
      "Enter your password:········\n"
     ]
    },
    {
     "data": {
      "text/plain": [
       "(235, b'2.7.0 Accepted')"
      ]
     },
     "execution_count": 43,
     "metadata": {},
     "output_type": "execute_result"
    }
   ],
   "source": [
    "email=getpass.getpass(\"Enter your email:\")\n",
    "password=getpass.getpass(\"Enter your password:\")\n",
    "smtp_object.login(email,password)"
   ]
  },
  {
   "cell_type": "code",
   "execution_count": 44,
   "id": "350002d5",
   "metadata": {},
   "outputs": [
    {
     "name": "stdout",
     "output_type": "stream",
     "text": [
      "Enter your email:········\n",
      "Enter the email you want to send:········\n",
      "Enter your Subject to send:HTML FILE\n",
      "Type your message you want to send:<!doctype> <html> <head> <body> <title></title> </head>  </body>  </html>\n"
     ]
    },
    {
     "data": {
      "text/plain": [
       "{}"
      ]
     },
     "execution_count": 44,
     "metadata": {},
     "output_type": "execute_result"
    }
   ],
   "source": [
    "from_address=getpass.getpass(\"Enter your email:\")\n",
    "to_address=getpass.getpass(\"Enter the email you want to send:\")\n",
    "subject=input(\"Enter your Subject to send:\")\n",
    "message=input(\"Type your message you want to send:\")\n",
    "msg=\"Subject: \" + subject + \"\\n\" + message\n",
    "smtp_object.sendmail(from_address,to_address,msg)"
   ]
  },
  {
   "cell_type": "code",
   "execution_count": 45,
   "id": "b892ae8d",
   "metadata": {},
   "outputs": [
    {
     "data": {
      "text/plain": [
       "(221,\n",
       " b'2.0.0 closing connection fs1-20020a17090af28100b0029c1353e71bsm2554458pjb.0 - gsmtp')"
      ]
     },
     "execution_count": 45,
     "metadata": {},
     "output_type": "execute_result"
    }
   ],
   "source": [
    "smtp_object.quit()"
   ]
  },
  {
   "cell_type": "code",
   "execution_count": 75,
   "id": "4b400ed5",
   "metadata": {},
   "outputs": [
    {
     "ename": "KeyboardInterrupt",
     "evalue": "",
     "output_type": "error",
     "traceback": [
      "\u001b[1;31m---------------------------------------------------------------------------\u001b[0m",
      "\u001b[1;31mTimeoutError\u001b[0m                              Traceback (most recent call last)",
      "File \u001b[1;32m~\\anaconda3\\Lib\\socket.py:836\u001b[0m, in \u001b[0;36mcreate_connection\u001b[1;34m(address, timeout, source_address, all_errors)\u001b[0m\n\u001b[0;32m    835\u001b[0m     sock\u001b[38;5;241m.\u001b[39mbind(source_address)\n\u001b[1;32m--> 836\u001b[0m sock\u001b[38;5;241m.\u001b[39mconnect(sa)\n\u001b[0;32m    837\u001b[0m \u001b[38;5;66;03m# Break explicitly a reference cycle\u001b[39;00m\n",
      "\u001b[1;31mTimeoutError\u001b[0m: [WinError 10060] A connection attempt failed because the connected party did not properly respond after a period of time, or established connection failed because connected host has failed to respond",
      "\nDuring handling of the above exception, another exception occurred:\n",
      "\u001b[1;31mKeyboardInterrupt\u001b[0m                         Traceback (most recent call last)",
      "Cell \u001b[1;32mIn[75], line 2\u001b[0m\n\u001b[0;32m      1\u001b[0m \u001b[38;5;28;01mimport\u001b[39;00m \u001b[38;5;21;01msmtplib\u001b[39;00m\n\u001b[1;32m----> 2\u001b[0m smtp_object\u001b[38;5;241m=\u001b[39msmtplib\u001b[38;5;241m.\u001b[39mSMTP(\u001b[38;5;124m\"\u001b[39m\u001b[38;5;124msmtp.gamil.com\u001b[39m\u001b[38;5;124m\"\u001b[39m,\u001b[38;5;241m587\u001b[39m)\n\u001b[0;32m      3\u001b[0m smtp_object\u001b[38;5;241m.\u001b[39mehlo()\n",
      "File \u001b[1;32m~\\anaconda3\\Lib\\smtplib.py:255\u001b[0m, in \u001b[0;36mSMTP.__init__\u001b[1;34m(self, host, port, local_hostname, timeout, source_address)\u001b[0m\n\u001b[0;32m    252\u001b[0m \u001b[38;5;28mself\u001b[39m\u001b[38;5;241m.\u001b[39m_auth_challenge_count \u001b[38;5;241m=\u001b[39m \u001b[38;5;241m0\u001b[39m\n\u001b[0;32m    254\u001b[0m \u001b[38;5;28;01mif\u001b[39;00m host:\n\u001b[1;32m--> 255\u001b[0m     (code, msg) \u001b[38;5;241m=\u001b[39m \u001b[38;5;28mself\u001b[39m\u001b[38;5;241m.\u001b[39mconnect(host, port)\n\u001b[0;32m    256\u001b[0m     \u001b[38;5;28;01mif\u001b[39;00m code \u001b[38;5;241m!=\u001b[39m \u001b[38;5;241m220\u001b[39m:\n\u001b[0;32m    257\u001b[0m         \u001b[38;5;28mself\u001b[39m\u001b[38;5;241m.\u001b[39mclose()\n",
      "File \u001b[1;32m~\\anaconda3\\Lib\\smtplib.py:341\u001b[0m, in \u001b[0;36mSMTP.connect\u001b[1;34m(self, host, port, source_address)\u001b[0m\n\u001b[0;32m    339\u001b[0m     port \u001b[38;5;241m=\u001b[39m \u001b[38;5;28mself\u001b[39m\u001b[38;5;241m.\u001b[39mdefault_port\n\u001b[0;32m    340\u001b[0m sys\u001b[38;5;241m.\u001b[39maudit(\u001b[38;5;124m\"\u001b[39m\u001b[38;5;124msmtplib.connect\u001b[39m\u001b[38;5;124m\"\u001b[39m, \u001b[38;5;28mself\u001b[39m, host, port)\n\u001b[1;32m--> 341\u001b[0m \u001b[38;5;28mself\u001b[39m\u001b[38;5;241m.\u001b[39msock \u001b[38;5;241m=\u001b[39m \u001b[38;5;28mself\u001b[39m\u001b[38;5;241m.\u001b[39m_get_socket(host, port, \u001b[38;5;28mself\u001b[39m\u001b[38;5;241m.\u001b[39mtimeout)\n\u001b[0;32m    342\u001b[0m \u001b[38;5;28mself\u001b[39m\u001b[38;5;241m.\u001b[39mfile \u001b[38;5;241m=\u001b[39m \u001b[38;5;28;01mNone\u001b[39;00m\n\u001b[0;32m    343\u001b[0m (code, msg) \u001b[38;5;241m=\u001b[39m \u001b[38;5;28mself\u001b[39m\u001b[38;5;241m.\u001b[39mgetreply()\n",
      "File \u001b[1;32m~\\anaconda3\\Lib\\smtplib.py:312\u001b[0m, in \u001b[0;36mSMTP._get_socket\u001b[1;34m(self, host, port, timeout)\u001b[0m\n\u001b[0;32m    310\u001b[0m \u001b[38;5;28;01mif\u001b[39;00m \u001b[38;5;28mself\u001b[39m\u001b[38;5;241m.\u001b[39mdebuglevel \u001b[38;5;241m>\u001b[39m \u001b[38;5;241m0\u001b[39m:\n\u001b[0;32m    311\u001b[0m     \u001b[38;5;28mself\u001b[39m\u001b[38;5;241m.\u001b[39m_print_debug(\u001b[38;5;124m'\u001b[39m\u001b[38;5;124mconnect: to\u001b[39m\u001b[38;5;124m'\u001b[39m, (host, port), \u001b[38;5;28mself\u001b[39m\u001b[38;5;241m.\u001b[39msource_address)\n\u001b[1;32m--> 312\u001b[0m \u001b[38;5;28;01mreturn\u001b[39;00m socket\u001b[38;5;241m.\u001b[39mcreate_connection((host, port), timeout,\n\u001b[0;32m    313\u001b[0m                                 \u001b[38;5;28mself\u001b[39m\u001b[38;5;241m.\u001b[39msource_address)\n",
      "File \u001b[1;32m~\\anaconda3\\Lib\\socket.py:843\u001b[0m, in \u001b[0;36mcreate_connection\u001b[1;34m(address, timeout, source_address, all_errors)\u001b[0m\n\u001b[0;32m    841\u001b[0m \u001b[38;5;28;01mexcept\u001b[39;00m error \u001b[38;5;28;01mas\u001b[39;00m exc:\n\u001b[0;32m    842\u001b[0m     \u001b[38;5;28;01mif\u001b[39;00m \u001b[38;5;129;01mnot\u001b[39;00m all_errors:\n\u001b[1;32m--> 843\u001b[0m         exceptions\u001b[38;5;241m.\u001b[39mclear()  \u001b[38;5;66;03m# raise only the last error\u001b[39;00m\n\u001b[0;32m    844\u001b[0m     exceptions\u001b[38;5;241m.\u001b[39mappend(exc)\n\u001b[0;32m    845\u001b[0m     \u001b[38;5;28;01mif\u001b[39;00m sock \u001b[38;5;129;01mis\u001b[39;00m \u001b[38;5;129;01mnot\u001b[39;00m \u001b[38;5;28;01mNone\u001b[39;00m:\n",
      "\u001b[1;31mKeyboardInterrupt\u001b[0m: "
     ]
    }
   ],
   "source": [
    "import smtplib\n",
    "smtp_object=smtplib.SMTP(\"smtp.gamil.com\",587)\n",
    "smtp_object.ehlo()"
   ]
  },
  {
   "cell_type": "code",
   "execution_count": null,
   "id": "953f3146",
   "metadata": {},
   "outputs": [],
   "source": [
    "smtp_object.starttls()"
   ]
  },
  {
   "cell_type": "code",
   "execution_count": null,
   "id": "dce290b5",
   "metadata": {},
   "outputs": [],
   "source": [
    "import getpass"
   ]
  },
  {
   "cell_type": "code",
   "execution_count": null,
   "id": "483a6221",
   "metadata": {},
   "outputs": [],
   "source": [
    "email=getpass.getpass(\"Enter your email:\")\n",
    "password=getpass.getpass(\"Enter your password:\")\n",
    "smtp_object.login(email,password)"
   ]
  },
  {
   "cell_type": "code",
   "execution_count": null,
   "id": "9aeb448c",
   "metadata": {},
   "outputs": [],
   "source": [
    "from_address=getpass.getpass(\"Enter your email:\")\n",
    "to_address=getpass.getpass(\"Enter the email you want to send:\")\n",
    "subject=input(\"Enter your Subject to send:\")\n",
    "message=input(\"Type your message you want to send:\")\n",
    "msg=\"Subject: \" + subject + \"\\n\" + message\n",
    "smtp_object.sendmail(from_address,to_address,msg)"
   ]
  },
  {
   "cell_type": "code",
   "execution_count": 76,
   "id": "44f70695",
   "metadata": {},
   "outputs": [
    {
     "ename": "TimeoutError",
     "evalue": "[WinError 10060] A connection attempt failed because the connected party did not properly respond after a period of time, or established connection failed because connected host has failed to respond",
     "output_type": "error",
     "traceback": [
      "\u001b[1;31m---------------------------------------------------------------------------\u001b[0m",
      "\u001b[1;31mTimeoutError\u001b[0m                              Traceback (most recent call last)",
      "Cell \u001b[1;32mIn[76], line 2\u001b[0m\n\u001b[0;32m      1\u001b[0m \u001b[38;5;28;01mimport\u001b[39;00m \u001b[38;5;21;01msmtplib\u001b[39;00m\n\u001b[1;32m----> 2\u001b[0m smtp_object\u001b[38;5;241m=\u001b[39msmtplib\u001b[38;5;241m.\u001b[39mSMTP(\u001b[38;5;124m\"\u001b[39m\u001b[38;5;124msmtp.gamil.com\u001b[39m\u001b[38;5;124m\"\u001b[39m,\u001b[38;5;241m587\u001b[39m)\n\u001b[0;32m      3\u001b[0m smtp_object\u001b[38;5;241m.\u001b[39mehlo()\n",
      "File \u001b[1;32m~\\anaconda3\\Lib\\smtplib.py:255\u001b[0m, in \u001b[0;36mSMTP.__init__\u001b[1;34m(self, host, port, local_hostname, timeout, source_address)\u001b[0m\n\u001b[0;32m    252\u001b[0m \u001b[38;5;28mself\u001b[39m\u001b[38;5;241m.\u001b[39m_auth_challenge_count \u001b[38;5;241m=\u001b[39m \u001b[38;5;241m0\u001b[39m\n\u001b[0;32m    254\u001b[0m \u001b[38;5;28;01mif\u001b[39;00m host:\n\u001b[1;32m--> 255\u001b[0m     (code, msg) \u001b[38;5;241m=\u001b[39m \u001b[38;5;28mself\u001b[39m\u001b[38;5;241m.\u001b[39mconnect(host, port)\n\u001b[0;32m    256\u001b[0m     \u001b[38;5;28;01mif\u001b[39;00m code \u001b[38;5;241m!=\u001b[39m \u001b[38;5;241m220\u001b[39m:\n\u001b[0;32m    257\u001b[0m         \u001b[38;5;28mself\u001b[39m\u001b[38;5;241m.\u001b[39mclose()\n",
      "File \u001b[1;32m~\\anaconda3\\Lib\\smtplib.py:341\u001b[0m, in \u001b[0;36mSMTP.connect\u001b[1;34m(self, host, port, source_address)\u001b[0m\n\u001b[0;32m    339\u001b[0m     port \u001b[38;5;241m=\u001b[39m \u001b[38;5;28mself\u001b[39m\u001b[38;5;241m.\u001b[39mdefault_port\n\u001b[0;32m    340\u001b[0m sys\u001b[38;5;241m.\u001b[39maudit(\u001b[38;5;124m\"\u001b[39m\u001b[38;5;124msmtplib.connect\u001b[39m\u001b[38;5;124m\"\u001b[39m, \u001b[38;5;28mself\u001b[39m, host, port)\n\u001b[1;32m--> 341\u001b[0m \u001b[38;5;28mself\u001b[39m\u001b[38;5;241m.\u001b[39msock \u001b[38;5;241m=\u001b[39m \u001b[38;5;28mself\u001b[39m\u001b[38;5;241m.\u001b[39m_get_socket(host, port, \u001b[38;5;28mself\u001b[39m\u001b[38;5;241m.\u001b[39mtimeout)\n\u001b[0;32m    342\u001b[0m \u001b[38;5;28mself\u001b[39m\u001b[38;5;241m.\u001b[39mfile \u001b[38;5;241m=\u001b[39m \u001b[38;5;28;01mNone\u001b[39;00m\n\u001b[0;32m    343\u001b[0m (code, msg) \u001b[38;5;241m=\u001b[39m \u001b[38;5;28mself\u001b[39m\u001b[38;5;241m.\u001b[39mgetreply()\n",
      "File \u001b[1;32m~\\anaconda3\\Lib\\smtplib.py:312\u001b[0m, in \u001b[0;36mSMTP._get_socket\u001b[1;34m(self, host, port, timeout)\u001b[0m\n\u001b[0;32m    310\u001b[0m \u001b[38;5;28;01mif\u001b[39;00m \u001b[38;5;28mself\u001b[39m\u001b[38;5;241m.\u001b[39mdebuglevel \u001b[38;5;241m>\u001b[39m \u001b[38;5;241m0\u001b[39m:\n\u001b[0;32m    311\u001b[0m     \u001b[38;5;28mself\u001b[39m\u001b[38;5;241m.\u001b[39m_print_debug(\u001b[38;5;124m'\u001b[39m\u001b[38;5;124mconnect: to\u001b[39m\u001b[38;5;124m'\u001b[39m, (host, port), \u001b[38;5;28mself\u001b[39m\u001b[38;5;241m.\u001b[39msource_address)\n\u001b[1;32m--> 312\u001b[0m \u001b[38;5;28;01mreturn\u001b[39;00m socket\u001b[38;5;241m.\u001b[39mcreate_connection((host, port), timeout,\n\u001b[0;32m    313\u001b[0m                                 \u001b[38;5;28mself\u001b[39m\u001b[38;5;241m.\u001b[39msource_address)\n",
      "File \u001b[1;32m~\\anaconda3\\Lib\\socket.py:851\u001b[0m, in \u001b[0;36mcreate_connection\u001b[1;34m(address, timeout, source_address, all_errors)\u001b[0m\n\u001b[0;32m    849\u001b[0m \u001b[38;5;28;01mtry\u001b[39;00m:\n\u001b[0;32m    850\u001b[0m     \u001b[38;5;28;01mif\u001b[39;00m \u001b[38;5;129;01mnot\u001b[39;00m all_errors:\n\u001b[1;32m--> 851\u001b[0m         \u001b[38;5;28;01mraise\u001b[39;00m exceptions[\u001b[38;5;241m0\u001b[39m]\n\u001b[0;32m    852\u001b[0m     \u001b[38;5;28;01mraise\u001b[39;00m ExceptionGroup(\u001b[38;5;124m\"\u001b[39m\u001b[38;5;124mcreate_connection failed\u001b[39m\u001b[38;5;124m\"\u001b[39m, exceptions)\n\u001b[0;32m    853\u001b[0m \u001b[38;5;28;01mfinally\u001b[39;00m:\n\u001b[0;32m    854\u001b[0m     \u001b[38;5;66;03m# Break explicitly a reference cycle\u001b[39;00m\n",
      "File \u001b[1;32m~\\anaconda3\\Lib\\socket.py:836\u001b[0m, in \u001b[0;36mcreate_connection\u001b[1;34m(address, timeout, source_address, all_errors)\u001b[0m\n\u001b[0;32m    834\u001b[0m \u001b[38;5;28;01mif\u001b[39;00m source_address:\n\u001b[0;32m    835\u001b[0m     sock\u001b[38;5;241m.\u001b[39mbind(source_address)\n\u001b[1;32m--> 836\u001b[0m sock\u001b[38;5;241m.\u001b[39mconnect(sa)\n\u001b[0;32m    837\u001b[0m \u001b[38;5;66;03m# Break explicitly a reference cycle\u001b[39;00m\n\u001b[0;32m    838\u001b[0m exceptions\u001b[38;5;241m.\u001b[39mclear()\n",
      "\u001b[1;31mTimeoutError\u001b[0m: [WinError 10060] A connection attempt failed because the connected party did not properly respond after a period of time, or established connection failed because connected host has failed to respond"
     ]
    }
   ],
   "source": [
    "import smtplib\n",
    "smtp_object=smtplib.SMTP(\"smtp.gamil.com\",587)\n",
    "smtp_object.ehlo()"
   ]
  },
  {
   "cell_type": "code",
   "execution_count": null,
   "id": "89217091",
   "metadata": {},
   "outputs": [],
   "source": []
  }
 ],
 "metadata": {
  "kernelspec": {
   "display_name": "Python 3 (ipykernel)",
   "language": "python",
   "name": "python3"
  },
  "language_info": {
   "codemirror_mode": {
    "name": "ipython",
    "version": 3
   },
   "file_extension": ".py",
   "mimetype": "text/x-python",
   "name": "python",
   "nbconvert_exporter": "python",
   "pygments_lexer": "ipython3",
   "version": "3.11.5"
  }
 },
 "nbformat": 4,
 "nbformat_minor": 5
}
