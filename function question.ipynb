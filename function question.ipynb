{
 "cells": [
  {
   "cell_type": "code",
   "execution_count": 2,
   "id": "a2079ddd",
   "metadata": {},
   "outputs": [
    {
     "data": {
      "text/plain": [
       "6"
      ]
     },
     "execution_count": 2,
     "metadata": {},
     "output_type": "execute_result"
    }
   ],
   "source": [
    "# Write a python function to find the maximum of three number.\n",
    "\n",
    "def max_num(a,b,c):\n",
    "    return max(a,b,c)\n",
    "max_num(3,6,5)"
   ]
  },
  {
   "cell_type": "code",
   "execution_count": 5,
   "id": "c3d8b36c",
   "metadata": {},
   "outputs": [
    {
     "data": {
      "text/plain": [
       "15"
      ]
     },
     "execution_count": 5,
     "metadata": {},
     "output_type": "execute_result"
    }
   ],
   "source": [
    "# Write a python function to sun all the numbers in a list.\n",
    "\n",
    "def sum_num(list):\n",
    "    sum=0\n",
    "    for i in list:\n",
    "        sum+=i\n",
    "    return sum\n",
    "sum_num([2,3,1,4,5])"
   ]
  },
  {
   "cell_type": "code",
   "execution_count": 1,
   "id": "55ae8437",
   "metadata": {},
   "outputs": [
    {
     "data": {
      "text/plain": [
       "360"
      ]
     },
     "execution_count": 1,
     "metadata": {},
     "output_type": "execute_result"
    }
   ],
   "source": [
    "# Write a python function to multiply all the numbers in a list.\n",
    "\n",
    "def multi_num(list):\n",
    "    mul=1\n",
    "    for i in list:\n",
    "        mul*=i\n",
    "    return mul\n",
    "multi_num([3,4,5,6])"
   ]
  },
  {
   "cell_type": "code",
   "execution_count": 2,
   "id": "43e9fde2",
   "metadata": {},
   "outputs": [
    {
     "data": {
      "text/plain": [
       "'olleH'"
      ]
     },
     "execution_count": 2,
     "metadata": {},
     "output_type": "execute_result"
    }
   ],
   "source": [
    "# Write a python program to reverse a string.\n",
    " \n",
    "def rev(s):\n",
    "    return s[::-1]\n",
    "rev(\"Hello\")\n",
    "    "
   ]
  },
  {
   "cell_type": "code",
   "execution_count": 4,
   "id": "77db7f8c",
   "metadata": {},
   "outputs": [
    {
     "data": {
      "text/plain": [
       "'num is out of range.'"
      ]
     },
     "execution_count": 4,
     "metadata": {},
     "output_type": "execute_result"
    }
   ],
   "source": [
    "# write a python function to check whether a number falls wiyhin a given range.\n",
    "\n",
    "def check(num):\n",
    "    if num in range(1,21):\n",
    "        return True\n",
    "    else:\n",
    "        return \"num is out of range.\"\n",
    "check(55)\n",
    "    "
   ]
  },
  {
   "cell_type": "code",
   "execution_count": 7,
   "id": "7e528dd2",
   "metadata": {},
   "outputs": [
    {
     "data": {
      "text/plain": [
       "120"
      ]
     },
     "execution_count": 7,
     "metadata": {},
     "output_type": "execute_result"
    }
   ],
   "source": [
    "# Write a python function to calculate the factorial of a number.\n",
    "\n",
    "def fact(num):\n",
    "    f=1\n",
    "    for i in range(1,num+1):\n",
    "        f=i*f\n",
    "    return f\n",
    "fact(5)"
   ]
  },
  {
   "cell_type": "code",
   "execution_count": 21,
   "id": "51a835f0",
   "metadata": {},
   "outputs": [
    {
     "name": "stdout",
     "output_type": "stream",
     "text": [
      "no of upper case char =  3\n",
      "no of lower case char =  6\n"
     ]
    }
   ],
   "source": [
    "# Write a python function that accepts a string and counts the number of upper and lower case letters.\n",
    "\n",
    "def count(s):\n",
    "    upper,lower=0,0\n",
    "    for i in s:\n",
    "        if i.isupper():\n",
    "            upper+=1\n",
    "        elif i.islower():\n",
    "            lower+=1\n",
    "        else:\n",
    "            pass\n",
    "    print(\"no of upper case char = \",upper)\n",
    "    print(\"no of lower case char = \",lower)\n",
    "count(\"How Are You\")"
   ]
  },
  {
   "cell_type": "code",
   "execution_count": 31,
   "id": "e786f0e8",
   "metadata": {},
   "outputs": [
    {
     "data": {
      "text/plain": [
       "'Not Prime'"
      ]
     },
     "execution_count": 31,
     "metadata": {},
     "output_type": "execute_result"
    }
   ],
   "source": [
    "# Write a python function that takes a number as a parameter and check wethwe the number is prime or not.\n",
    "\n",
    "def prime(num):\n",
    "    for i in range(2,num):\n",
    "        if num%i==0:\n",
    "            return \"Not Prime\"\n",
    "    else:\n",
    "        return \"Prime\"\n",
    "prime(9)"
   ]
  },
  {
   "cell_type": "code",
   "execution_count": 1,
   "id": "f628348e",
   "metadata": {},
   "outputs": [
    {
     "data": {
      "text/plain": [
       "33.49333333333333"
      ]
     },
     "execution_count": 1,
     "metadata": {},
     "output_type": "execute_result"
    }
   ],
   "source": [
    "# Write a function that computes the volume of a sphere given its radius.\n",
    "\n",
    "def vol(rad):\n",
    "    return (4/3)*(3.14)*(rad**3)\n",
    "\n",
    "vol(2)"
   ]
  },
  {
   "cell_type": "code",
   "execution_count": 2,
   "id": "8044b464",
   "metadata": {},
   "outputs": [
    {
     "name": "stdout",
     "output_type": "stream",
     "text": [
      "5 is in the range between 2 and 6\n"
     ]
    }
   ],
   "source": [
    "# write a function that checks whether a number is in a range (inclusive of high and low)\n",
    "\n",
    "def check(num,low,high):\n",
    "    if num in range(low,high+1):\n",
    "        print('{} is in the range between {} and {}'.format(num,low,high))\n",
    "        \n",
    "    else:\n",
    "        print(\"the number is outside the range\")\n",
    "        \n",
    "check(5,2,6)"
   ]
  },
  {
   "cell_type": "code",
   "execution_count": 3,
   "id": "aea774b9",
   "metadata": {},
   "outputs": [
    {
     "data": {
      "text/plain": [
       "True"
      ]
     },
     "execution_count": 3,
     "metadata": {},
     "output_type": "execute_result"
    }
   ],
   "source": [
    "def check(num,low,high):\n",
    "    return num in range(low,high+1)\n",
    "check(5,2,7)"
   ]
  },
  {
   "cell_type": "code",
   "execution_count": 7,
   "id": "3b14a816",
   "metadata": {},
   "outputs": [
    {
     "name": "stdout",
     "output_type": "stream",
     "text": [
      "original Strig :  Hello Mr. Rogers, hoe are you this fine tuesday?\n",
      "No. of Upper case characters :  3\n",
      "No. of Lower case character :  34\n"
     ]
    }
   ],
   "source": [
    "# Write a python function that accepts a string and calculates the number of upper cae letters and lower case letters.\n",
    "\n",
    "def up_low(s):\n",
    "    d={\"upper\":0,\"lower\":0}\n",
    "    for c in s:\n",
    "        if c.isupper():\n",
    "            d[\"upper\"]+=1\n",
    "            \n",
    "        elif c.islower():\n",
    "            d[\"lower\"]+=1\n",
    "            \n",
    "        else:\n",
    "            pass\n",
    "    print(\"original Strig : \",s)\n",
    "    print(\"No. of Upper case characters : \",d[\"upper\"])\n",
    "    print(\"No. of Lower case character : \",d[\"lower\"])\n",
    "    \n",
    "s=\"Hello Mr. Rogers, hoe are you this fine tuesday?\"\n",
    "up_low(s)"
   ]
  },
  {
   "cell_type": "code",
   "execution_count": 9,
   "id": "27ac0f69",
   "metadata": {},
   "outputs": [
    {
     "data": {
      "text/plain": [
       "[1, 2, 3, 4, 5, 6, 7]"
      ]
     },
     "execution_count": 9,
     "metadata": {},
     "output_type": "execute_result"
    }
   ],
   "source": [
    "# Write a python function that takes a list and returns a new list with uniqe elements of the first list.\n",
    "\n",
    "def unique_list(lst):\n",
    "    x=[]\n",
    "    for a in lst:\n",
    "        if a not in x:\n",
    "            x.append(a)\n",
    "            \n",
    "    return x\n",
    "unique_list([1,2,1,1,3,4,5,6,7,4,4,5,6])\n",
    "        "
   ]
  },
  {
   "cell_type": "code",
   "execution_count": 10,
   "id": "290806e1",
   "metadata": {},
   "outputs": [
    {
     "data": {
      "text/plain": [
       "30"
      ]
     },
     "execution_count": 10,
     "metadata": {},
     "output_type": "execute_result"
    }
   ],
   "source": [
    "# Write a python function to multiply all the numbers in a list.\n",
    "\n",
    "def mul(nums):\n",
    "    total=1\n",
    "    for x in nums:\n",
    "        total*=x\n",
    "    return total\n",
    "mul([3,2,5])"
   ]
  },
  {
   "cell_type": "code",
   "execution_count": 13,
   "id": "da76a2ee",
   "metadata": {},
   "outputs": [
    {
     "data": {
      "text/plain": [
       "False"
      ]
     },
     "execution_count": 13,
     "metadata": {},
     "output_type": "execute_result"
    }
   ],
   "source": [
    "# Write a python function that checks whether a word or phrase is palindrome or not.\n",
    "\n",
    "def palin(s):\n",
    "#     s=s.replace(\" \",\"\")\n",
    "    return s==s[::-1]\n",
    "palin(\"nurses run\")\n"
   ]
  },
  {
   "cell_type": "code",
   "execution_count": 12,
   "id": "a231b2a8",
   "metadata": {},
   "outputs": [
    {
     "data": {
      "text/plain": [
       "True"
      ]
     },
     "execution_count": 12,
     "metadata": {},
     "output_type": "execute_result"
    }
   ],
   "source": [
    "palin(\"abcba\")"
   ]
  },
  {
   "cell_type": "code",
   "execution_count": 14,
   "id": "38936819",
   "metadata": {},
   "outputs": [
    {
     "data": {
      "text/plain": [
       "True"
      ]
     },
     "execution_count": 14,
     "metadata": {},
     "output_type": "execute_result"
    }
   ],
   "source": [
    "# Write a python function to check whether a string is pangram or not.(Assume the string passed in does not have any \n",
    "# punctuation)\n",
    "\n",
    "import string\n",
    "def ispangram(str1,alphabet=string.ascii_lowercase):\n",
    "    alphaset = set(alphabet)\n",
    "    \n",
    "    str1 = str1.replace(\" \",\"\")\n",
    "    \n",
    "    str1 = str1.lower()\n",
    "    \n",
    "    str1= set(str1)\n",
    "    \n",
    "    return str1 == alphaset\n",
    "\n",
    "ispangram(\"The quick brown fox jumps over the lazy dog\")\n",
    "     "
   ]
  },
  {
   "cell_type": "code",
   "execution_count": 15,
   "id": "f2036088",
   "metadata": {},
   "outputs": [
    {
     "data": {
      "text/plain": [
       "'abcdefghijklmnopqrstuvwxyz'"
      ]
     },
     "execution_count": 15,
     "metadata": {},
     "output_type": "execute_result"
    }
   ],
   "source": [
    "string.ascii_lowercase"
   ]
  },
  {
   "cell_type": "code",
   "execution_count": null,
   "id": "01f36c87",
   "metadata": {},
   "outputs": [],
   "source": []
  }
 ],
 "metadata": {
  "kernelspec": {
   "display_name": "Python 3 (ipykernel)",
   "language": "python",
   "name": "python3"
  },
  "language_info": {
   "codemirror_mode": {
    "name": "ipython",
    "version": 3
   },
   "file_extension": ".py",
   "mimetype": "text/x-python",
   "name": "python",
   "nbconvert_exporter": "python",
   "pygments_lexer": "ipython3",
   "version": "3.11.5"
  }
 },
 "nbformat": 4,
 "nbformat_minor": 5
}
