{
 "cells": [
  {
   "cell_type": "code",
   "execution_count": 3,
   "id": "58c04d01",
   "metadata": {},
   "outputs": [
    {
     "name": "stdout",
     "output_type": "stream",
     "text": [
      "hello\n"
     ]
    }
   ],
   "source": [
    "def display():\n",
    "    print(\"hello\")\n",
    "display()"
   ]
  },
  {
   "cell_type": "code",
   "execution_count": 5,
   "id": "0c055842",
   "metadata": {},
   "outputs": [
    {
     "name": "stdout",
     "output_type": "stream",
     "text": [
      "priya\n",
      "hello\n"
     ]
    }
   ],
   "source": [
    "def dis():\n",
    "    print(\"priya\")\n",
    "dis()\n",
    "display()"
   ]
  },
  {
   "cell_type": "code",
   "execution_count": 7,
   "id": "6543f195",
   "metadata": {},
   "outputs": [
    {
     "name": "stdout",
     "output_type": "stream",
     "text": [
      "Enter the first number:3\n",
      "Enetr the second number:4\n",
      "Sum= 7\n"
     ]
    }
   ],
   "source": [
    "def sum():\n",
    "    num1=int(input(\"Enter the first number:\"))\n",
    "    num2=int(input(\"Enetr the second number:\"))\n",
    "    print(\"Sum=\",num1+num2)\n",
    "sum()"
   ]
  },
  {
   "cell_type": "code",
   "execution_count": 30,
   "id": "4c0e58d8",
   "metadata": {},
   "outputs": [
    {
     "name": "stdout",
     "output_type": "stream",
     "text": [
      "Enter the first number:8\n",
      "Enetr the second number:9\n"
     ]
    },
    {
     "data": {
      "text/plain": [
       "17"
      ]
     },
     "execution_count": 30,
     "metadata": {},
     "output_type": "execute_result"
    }
   ],
   "source": [
    "def file(n1,n2):\n",
    "    return n1+n2\n",
    "n1=int(input(\"Enter the first number:\"))\n",
    "n2=int(input(\"Enetr the second number:\"))\n",
    "# print(\"Sum=\",file(n1,n2))\n",
    "file(n1,n2)\n",
    "    "
   ]
  },
  {
   "cell_type": "code",
   "execution_count": 1,
   "id": "07a36fff",
   "metadata": {},
   "outputs": [
    {
     "name": "stdout",
     "output_type": "stream",
     "text": [
      "Enter the fname:priya\n",
      "Enter the lname:prajapati\n"
     ]
    },
    {
     "data": {
      "text/plain": [
       "'priya prajapati'"
      ]
     },
     "execution_count": 1,
     "metadata": {},
     "output_type": "execute_result"
    }
   ],
   "source": [
    "def name(fname,lname):\n",
    "    return fname+\" \"+lname\n",
    "fname=input(\"Enter the fname:\")\n",
    "lname=input(\"Enter the lname:\")\n",
    "name(fname,lname)\n"
   ]
  },
  {
   "cell_type": "code",
   "execution_count": 16,
   "id": "8c05e53e",
   "metadata": {},
   "outputs": [
    {
     "name": "stdout",
     "output_type": "stream",
     "text": [
      "6\n",
      "11\n",
      "-1\n"
     ]
    }
   ],
   "source": [
    "def sum(a,b=4):\n",
    "    return a+b\n",
    "print(sum(2))\n",
    "print(sum(7))\n",
    "print(minus(3,4))"
   ]
  },
  {
   "cell_type": "code",
   "execution_count": 8,
   "id": "c034d590",
   "metadata": {},
   "outputs": [
    {
     "data": {
      "text/plain": [
       "6"
      ]
     },
     "execution_count": 8,
     "metadata": {},
     "output_type": "execute_result"
    }
   ],
   "source": [
    "sum(3,3)"
   ]
  },
  {
   "cell_type": "code",
   "execution_count": 14,
   "id": "a47b8217",
   "metadata": {},
   "outputs": [
    {
     "name": "stdout",
     "output_type": "stream",
     "text": [
      "-1\n",
      "7\n"
     ]
    }
   ],
   "source": [
    "def minus(a,b):\n",
    "    return a-b\n",
    "print(minus(3,4))\n",
    "print(sum(3,4))"
   ]
  },
  {
   "cell_type": "code",
   "execution_count": 3,
   "id": "57006bb6",
   "metadata": {},
   "outputs": [
    {
     "name": "stdout",
     "output_type": "stream",
     "text": [
      "Enter the value of a:6\n",
      "Enter the value of b:8\n"
     ]
    },
    {
     "data": {
      "text/plain": [
       "6"
      ]
     },
     "execution_count": 3,
     "metadata": {},
     "output_type": "execute_result"
    }
   ],
   "source": [
    "#lesser of two even: write a function that return the lesser of two given numbers if both numbers are even,but returns the \n",
    "# greater if one or both numbers are odd\n",
    " \n",
    "def lesser_of_two_even(a,b):\n",
    "    if a%2==0 and b%2==0:\n",
    "        return (min(a,b))\n",
    "    else:\n",
    "        return (max(a,b))\n",
    "a=int(input(\"Enter the value of a:\"))\n",
    "b=int(input(\"Enter the value of b:\"))\n",
    "lesser_of_two_even(a,b)\n"
   ]
  },
  {
   "cell_type": "code",
   "execution_count": 2,
   "id": "44b31ded",
   "metadata": {},
   "outputs": [
    {
     "data": {
      "text/plain": [
       "True"
      ]
     },
     "execution_count": 2,
     "metadata": {},
     "output_type": "execute_result"
    }
   ],
   "source": [
    "# animal_crackers: write a function takes a two word string and returns True if both words begin with same letter\n",
    "\n",
    "def animal_crackers(a):\n",
    "   word=a.split()\n",
    "   return word[0][0]==word[1][0]\n",
    "animal_crackers(\"Lello Li\")"
   ]
  },
  {
   "cell_type": "code",
   "execution_count": 28,
   "id": "ad95a7ee",
   "metadata": {},
   "outputs": [
    {
     "name": "stdout",
     "output_type": "stream",
     "text": [
      "Enter value of a:8\n",
      "Enter value of b:9\n",
      "False\n"
     ]
    }
   ],
   "source": [
    "# makes twenty: given two integers, return True if the sum of the integers is 20 or if one of the integers is 20. If not return\n",
    "# False\n",
    "\n",
    "def makes_twenty(a,b):\n",
    "    if (a+b)==20 or a==20 or b==20:\n",
    "        return True\n",
    "    else:\n",
    "        return False\n",
    "a=int(input(\"Enter value of a:\"))\n",
    "b=int(input(\"Enter value of b:\"))\n",
    "print(makes_twenty(a,b))"
   ]
  },
  {
   "cell_type": "code",
   "execution_count": 2,
   "id": "2d13b3d5",
   "metadata": {},
   "outputs": [
    {
     "name": "stdout",
     "output_type": "stream",
     "text": [
      "True\n"
     ]
    }
   ],
   "source": [
    "#old macdonald: write a function that capitalizes the first and fourth letters of a name\n",
    "\n",
    "def old_macdonald(name):\n",
    "    return len(name)>3\n",
    "    name[:3].capitalize() + name[3:].capitalize()\n",
    "print(old_macdonald(\"macdonald\"))"
   ]
  },
  {
   "cell_type": "code",
   "execution_count": 53,
   "id": "f74f64f2",
   "metadata": {},
   "outputs": [
    {
     "name": "stdout",
     "output_type": "stream",
     "text": [
      "Enter the sentence:i go to home\n"
     ]
    },
    {
     "data": {
      "text/plain": [
       "'home to go i'"
      ]
     },
     "execution_count": 53,
     "metadata": {},
     "output_type": "execute_result"
    }
   ],
   "source": [
    "# master yoda: given a sentence with the words reversed\n",
    "\n",
    "def master_yoda(s):\n",
    "    return \" \".join(s.split()[::-1])\n",
    "s=input(\"Enter the sentence:\")\n",
    "master_yoda(s)"
   ]
  },
  {
   "cell_type": "code",
   "execution_count": null,
   "id": "70c52400",
   "metadata": {},
   "outputs": [],
   "source": [
    "# almost there: given an integer n, return True if n is within 10 of either 100 or 200\n",
    "\n",
    "def almost there(n):\n",
    "    if n<="
   ]
  },
  {
   "cell_type": "code",
   "execution_count": 6,
   "id": "b70a6a37",
   "metadata": {},
   "outputs": [
    {
     "ename": "TypeError",
     "evalue": "'>' not supported between instances of 'str' and 'int'",
     "output_type": "error",
     "traceback": [
      "\u001b[1;31m---------------------------------------------------------------------------\u001b[0m",
      "\u001b[1;31mTypeError\u001b[0m                                 Traceback (most recent call last)",
      "Cell \u001b[1;32mIn[6], line 7\u001b[0m\n\u001b[0;32m      5\u001b[0m         \u001b[38;5;28;01mfor\u001b[39;00m \u001b[38;5;28mchr\u001b[39m \u001b[38;5;129;01min\u001b[39;00m a:\n\u001b[0;32m      6\u001b[0m             a\u001b[38;5;241m=\u001b[39m\u001b[38;5;28mchr\u001b[39m\u001b[38;5;241m*\u001b[39m\u001b[38;5;241m3\u001b[39m\n\u001b[1;32m----> 7\u001b[0m paper_doll(\u001b[38;5;124m\"\u001b[39m\u001b[38;5;124mhello\u001b[39m\u001b[38;5;124m\"\u001b[39m)\n",
      "Cell \u001b[1;32mIn[6], line 4\u001b[0m, in \u001b[0;36mpaper_doll\u001b[1;34m(a)\u001b[0m\n\u001b[0;32m      3\u001b[0m \u001b[38;5;28;01mdef\u001b[39;00m \u001b[38;5;21mpaper_doll\u001b[39m(a):\n\u001b[1;32m----> 4\u001b[0m     \u001b[38;5;28;01mwhile\u001b[39;00m a\u001b[38;5;241m>\u001b[39m\u001b[38;5;241m6\u001b[39m:\n\u001b[0;32m      5\u001b[0m         \u001b[38;5;28;01mfor\u001b[39;00m \u001b[38;5;28mchr\u001b[39m \u001b[38;5;129;01min\u001b[39;00m a:\n\u001b[0;32m      6\u001b[0m             a\u001b[38;5;241m=\u001b[39m\u001b[38;5;28mchr\u001b[39m\u001b[38;5;241m*\u001b[39m\u001b[38;5;241m3\u001b[39m\n",
      "\u001b[1;31mTypeError\u001b[0m: '>' not supported between instances of 'str' and 'int'"
     ]
    }
   ],
   "source": [
    "# paper doll: given a string, return a string where for every charecter in the original there are three chrecters\n",
    "char=\n",
    "def paper_doll(a):\n",
    "    while a>6:\n",
    "        for chr in a:\n",
    "            a=chr*3\n",
    "paper_doll(\"hello\")"
   ]
  },
  {
   "cell_type": "code",
   "execution_count": null,
   "id": "95ff04c0",
   "metadata": {},
   "outputs": [],
   "source": []
  },
  {
   "cell_type": "code",
   "execution_count": null,
   "id": "3c64bf16",
   "metadata": {},
   "outputs": [],
   "source": []
  }
 ],
 "metadata": {
  "kernelspec": {
   "display_name": "Python 3 (ipykernel)",
   "language": "python",
   "name": "python3"
  },
  "language_info": {
   "codemirror_mode": {
    "name": "ipython",
    "version": 3
   },
   "file_extension": ".py",
   "mimetype": "text/x-python",
   "name": "python",
   "nbconvert_exporter": "python",
   "pygments_lexer": "ipython3",
   "version": "3.11.5"
  }
 },
 "nbformat": 4,
 "nbformat_minor": 5
}
