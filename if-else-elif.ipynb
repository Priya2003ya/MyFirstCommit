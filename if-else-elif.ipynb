{
 "cells": [
  {
   "cell_type": "code",
   "execution_count": 3,
   "id": "4a515e40",
   "metadata": {},
   "outputs": [
    {
     "name": "stdout",
     "output_type": "stream",
     "text": [
      "My name is priya.\n"
     ]
    }
   ],
   "source": [
    "name=\"priya\"\n",
    "if name==\"priya\":\n",
    "    print(\"My name is priya.\")"
   ]
  },
  {
   "cell_type": "code",
   "execution_count": 4,
   "id": "7239a7cc",
   "metadata": {},
   "outputs": [
    {
     "name": "stdout",
     "output_type": "stream",
     "text": [
      "a is greater than b\n"
     ]
    }
   ],
   "source": [
    "a=45\n",
    "b=34\n",
    "if a>b:\n",
    "    print(\"a is greater than b\")"
   ]
  },
  {
   "cell_type": "code",
   "execution_count": 5,
   "id": "c9308334",
   "metadata": {},
   "outputs": [
    {
     "name": "stdout",
     "output_type": "stream",
     "text": [
      "a and b are equal\n"
     ]
    }
   ],
   "source": [
    "a=45\n",
    "b=45\n",
    "if a>b:\n",
    "    print(\"a is greater than b.\")\n",
    "elif a==b:\n",
    "    print(\"a and b are equal\")"
   ]
  },
  {
   "cell_type": "code",
   "execution_count": 6,
   "id": "4de3a224",
   "metadata": {},
   "outputs": [
    {
     "name": "stdout",
     "output_type": "stream",
     "text": [
      "a is greater than b\n"
     ]
    }
   ],
   "source": [
    "a=300\n",
    "b=57\n",
    "if b>a:\n",
    "    print(\"b is greater than a\")\n",
    "elif a==b:\n",
    "    print(\"a and b are equal\")\n",
    "else:\n",
    "    print(\"a is greater than b\")"
   ]
  },
  {
   "cell_type": "code",
   "execution_count": 12,
   "id": "5f821639",
   "metadata": {},
   "outputs": [
    {
     "name": "stdout",
     "output_type": "stream",
     "text": [
      "b is greater than a\n"
     ]
    }
   ],
   "source": [
    "a,b=6,53 \n",
    "if b>a: print(\"b is greater than a\")"
   ]
  },
  {
   "cell_type": "code",
   "execution_count": 20,
   "id": "14545d56",
   "metadata": {},
   "outputs": [
    {
     "name": "stdout",
     "output_type": "stream",
     "text": [
      "b is greater than a\n"
     ]
    }
   ],
   "source": [
    "a,b=6,53 \n",
    "print(\"b is greater than a\") if b>a else print(\"b is not greater than a\")"
   ]
  },
  {
   "cell_type": "code",
   "execution_count": 23,
   "id": "287f7e58",
   "metadata": {},
   "outputs": [
    {
     "name": "stdout",
     "output_type": "stream",
     "text": [
      "Enetr your age:12\n",
      "You are not Eligible for voting.\n"
     ]
    }
   ],
   "source": [
    "age=int(input(\"Enetr your age:\"))\n",
    "if age>=18:\n",
    "    print(\"You are Eligible foe Voting.\")\n",
    "else:\n",
    "    print(\"You are not Eligible for voting.\")"
   ]
  },
  {
   "cell_type": "code",
   "execution_count": 27,
   "id": "d37cbe41",
   "metadata": {},
   "outputs": [
    {
     "name": "stdout",
     "output_type": "stream",
     "text": [
      "Enter the number:7\n",
      "7 is Odd Number.\n"
     ]
    }
   ],
   "source": [
    "n=int(input(\"Enter the number:\"))\n",
    "if n%2==0:\n",
    "    n=n*3\n",
    "    print(n)\n",
    "    print(n,\"is Even Number.\")\n",
    "else:\n",
    "    print(n,\"is Odd Number.\")"
   ]
  },
  {
   "cell_type": "code",
   "execution_count": 1,
   "id": "c586dbaf",
   "metadata": {},
   "outputs": [
    {
     "name": "stdout",
     "output_type": "stream",
     "text": [
      "Welcome to the Bank!\n"
     ]
    }
   ],
   "source": [
    "loc=\"Bank\"\n",
    "if loc==\"Auto Shop\":\n",
    "    print(\"Welcome to the Auto Shop!\")\n",
    "elif loc==\"Bank\":\n",
    "    print(\"Welcome to the Bank!\")\n",
    "else:\n",
    "    print(\"Where are you?\")"
   ]
  },
  {
   "cell_type": "code",
   "execution_count": 30,
   "id": "6ccc0478",
   "metadata": {},
   "outputs": [
    {
     "name": "stdout",
     "output_type": "stream",
     "text": [
      "Enter the value of num1:34\n",
      "Enter the value of num2:22\n",
      "Right,num1 is greater than num2.\n"
     ]
    }
   ],
   "source": [
    "num1=int(input(\"Enter the value of num1:\"))\n",
    "num2=int(input(\"Enter the value of num2:\"))\n",
    "if num1>num2:\n",
    "    print(\"Right,num1 is greater than num2.\")\n",
    "else:\n",
    "    print(\"Wrong, num2 is greater than num1.\")"
   ]
  },
  {
   "cell_type": "code",
   "execution_count": 31,
   "id": "3be0188d",
   "metadata": {},
   "outputs": [
    {
     "name": "stdout",
     "output_type": "stream",
     "text": [
      "Enter your age:45\n",
      "Yes! You are Eligible for Driving.\n"
     ]
    }
   ],
   "source": [
    "Age=int(input(\"Enter your age:\"))\n",
    "if Age>=18:\n",
    "    print(\"Yes! You are Eligible for Driving.\")\n",
    "else:\n",
    "    print(\"No! You are not eligible for Driving.\")"
   ]
  },
  {
   "cell_type": "code",
   "execution_count": 4,
   "id": "4130b3bf",
   "metadata": {},
   "outputs": [
    {
     "name": "stdout",
     "output_type": "stream",
     "text": [
      "Enetr your total score:40\n",
      "Sorry!, You are Failed!\n"
     ]
    }
   ],
   "source": [
    "score=int(input(\"Enetr your total score:\"))\n",
    "if score>=80:\n",
    "    print(\"A grade\")\n",
    "elif score>=70:\n",
    "    print(\"B grade\")\n",
    "elif score>=60:\n",
    "    print(\"C grade\")\n",
    "elif score>=50:\n",
    "    print(\"D grade\")\n",
    "else:\n",
    "    print(\"Sorry!, You are Failed!\")"
   ]
  },
  {
   "cell_type": "code",
   "execution_count": 12,
   "id": "08aee7cc",
   "metadata": {},
   "outputs": [
    {
     "name": "stdout",
     "output_type": "stream",
     "text": [
      "Enter Your Quantity:1500\n",
      "Your Total Amount is= 150000\n",
      "Your Discount value is= 15000.0\n",
      "After Discount you have to pay  135000.0\n"
     ]
    }
   ],
   "source": [
    "price=100\n",
    "quantity=int(input(\"Enter Your Quantity:\"))\n",
    "total_amount=quantity*100\n",
    "if quantity>=1000:\n",
    "    discount=(total_amount*10)/100\n",
    "    net_pay=total_amount-discount\n",
    "    print(\"Your Total Amount is=\",total_amount)\n",
    "    print(\"Your Discount value is=\",discount)\n",
    "    print(\"After Discount you have to pay \",net_pay)\n",
    "else:\n",
    "    print(\"Sorry Buddy! No Discount because your quantity less than 1000\")"
   ]
  },
  {
   "cell_type": "code",
   "execution_count": 15,
   "id": "abdc3dc7",
   "metadata": {},
   "outputs": [
    {
     "name": "stdout",
     "output_type": "stream",
     "text": [
      "Enter the year of service:6\n",
      "Enter your salary:500\n",
      "congratulation! company decided to give bonus of 5% of your salary.\n",
      "Your bonus is 25.0\n",
      "your net bonus is 525.0\n"
     ]
    }
   ],
   "source": [
    "service=int(input(\"Enter the year of service:\"))\n",
    "salary=int(input(\"Enter your salary:\"))\n",
    "if service>=5:\n",
    "    print(\"congratulation! company decided to give bonus of 5% of your salary.\")\n",
    "    bonus=(salary*5)/100\n",
    "    net_bonus=bonus+salary\n",
    "    print(\"Your bonus is\",bonus)\n",
    "    print(\"your net bonus is\",net_bonus)\n",
    "else:\n",
    "    print(\"Sorry! You are not eligible for bonus because your year of service less than 5.\")"
   ]
  },
  {
   "cell_type": "code",
   "execution_count": 17,
   "id": "04fdb779",
   "metadata": {},
   "outputs": [
    {
     "name": "stdout",
     "output_type": "stream",
     "text": [
      "Enter the lenght of rectangle:5\n",
      "Enter the breadth of rectangle:5\n",
      "It is square.\n"
     ]
    }
   ],
   "source": [
    "l=int(input(\"Enter the lenght of rectangle:\"))\n",
    "b=int(input(\"Enter the breadth of rectangle:\"))\n",
    "if l==b:\n",
    "    print(\"It is square.\")\n",
    "else:\n",
    "    print(\"No, it is not square.\")"
   ]
  },
  {
   "cell_type": "code",
   "execution_count": 36,
   "id": "ecbd95bb",
   "metadata": {},
   "outputs": [
    {
     "name": "stdout",
     "output_type": "stream",
     "text": [
      "Enter your age:6\n",
      "Enetr your age:7\n",
      "Enetr your age:8\n",
      "age3 is oldest.\n"
     ]
    }
   ],
   "source": [
    "age1=int(input(\"Enter your age:\"))\n",
    "age2=int(input(\"Enetr your age:\"))\n",
    "age3=int(input(\"Enetr your age:\"))\n",
    "if (age1>age2) and (age1>age3):\n",
    "    print(\"age1 is oldest.\")\n",
    "elif (age2>age1) and (age2>age3):\n",
    "    print(\"age2 is oldest.\")\n",
    "else:\n",
    "    print(\"age3 is oldest.\")\n",
    "    "
   ]
  },
  {
   "cell_type": "code",
   "execution_count": 39,
   "id": "f0eaa02d",
   "metadata": {},
   "outputs": [
    {
     "name": "stdout",
     "output_type": "stream",
     "text": [
      "Enter first number:9\n",
      "Enter second number:7\n",
      "Enter third number:6\n",
      "num1 is greater than num2 and num3.\n"
     ]
    }
   ],
   "source": [
    "num1=int(input(\"Enter first number:\"))\n",
    "num2=int(input(\"Enter second number:\"))\n",
    "num3=int(input(\"Enter third number:\"))\n",
    "if (num1>num2) and (num1>num3):\n",
    "    print(\"num1 is greater than num2 and num3.\")\n",
    "elif (num2>num3) and (num2>num1):\n",
    "    print(\"num2 is greater than num1 and num3.\")\n",
    "else:\n",
    "    print(\"num3 is greater than num1 and num3.\")"
   ]
  },
  {
   "cell_type": "code",
   "execution_count": 4,
   "id": "e41718b2",
   "metadata": {},
   "outputs": [
    {
     "name": "stdout",
     "output_type": "stream",
     "text": [
      "Enter the Number:78\n",
      "Enter youy name:jk\n",
      "bro your name not exist.\n"
     ]
    }
   ],
   "source": [
    "num=int(input(\"Enter the Number:\"))\n",
    "if num>20:\n",
    "    n=input(\"Enter youy name:\")\n",
    "    if n==\"priya\":\n",
    "        print(\"Yes you are right.\")\n",
    "    else:\n",
    "        print(\"bro your name not exist.\")\n",
    "else:\n",
    "    print(\"Sorry! your number less than 20.\")"
   ]
  },
  {
   "cell_type": "code",
   "execution_count": 5,
   "id": "d7da84b7",
   "metadata": {},
   "outputs": [
    {
     "name": "stdout",
     "output_type": "stream",
     "text": [
      "Enter first number:7\n",
      "Enter second number:8\n",
      "perform opr....(+,-,*,/,//,**):+\n",
      "sum of num1 and num2 is 15\n"
     ]
    }
   ],
   "source": [
    "num1=int(input(\"Enter first number:\"))\n",
    "num2=int(input(\"Enter second number:\"))\n",
    "opr=(input(\"perform opr....(+,-,*,/,//,**):\"))\n",
    "if opr==\"+\":\n",
    "    print(\"sum of num1 and num2 is\",num1+num2)\n",
    "elif opr==\"-\":\n",
    "    print(\"subtraction of num1 and num2 is\",num1-num2)\n",
    "elif opr==\"*\":\n",
    "    print(\"multiplication of num1 and num2 is\",num1*num2)\n",
    "elif opr==\"/\":\n",
    "    print(\"division of num1 and num2 is\",num1/num2)\n",
    "elif opr==\"//\":\n",
    "    print(\"Floor division of num1 and num2 is\",num1//num2)\n",
    "elif opr==\"**\":\n",
    "    print(\"exponent of num1 and num2 is\",num1**num2)\n",
    "else:\n",
    "    print(\"wrong opr....\")"
   ]
  },
  {
   "cell_type": "code",
   "execution_count": 9,
   "id": "48afa418",
   "metadata": {},
   "outputs": [
    {
     "name": "stdout",
     "output_type": "stream",
     "text": [
      "Enter the year:2022\n",
      "2022 is not a leap year.\n"
     ]
    }
   ],
   "source": [
    "year=int(input(\"Enter the year:\"))\n",
    "if year%4==0:\n",
    "    if year%100==0:\n",
    "        if year%400==0:\n",
    "            print(year,\"is a leap year.\")\n",
    "        else:\n",
    "            print(\"{} is not a leap year.\".format(year))\n",
    "    else:\n",
    "        print(\"{} is a leap year.\".format(year))\n",
    "else:\n",
    "    print(f\"{year} is not a leap year.\")"
   ]
  },
  {
   "cell_type": "code",
   "execution_count": 12,
   "id": "6fa183f0",
   "metadata": {},
   "outputs": [
    {
     "name": "stdout",
     "output_type": "stream",
     "text": [
      "Enter the number:34\n",
      "34 is not a prime number.\n"
     ]
    }
   ],
   "source": [
    "num=int(input(\"Enter the number:\")) \n",
    "if num>1:\n",
    "    for i in range (2,num):\n",
    "        if num%i==0:\n",
    "            print(num,\"is not a prime number.\") \n",
    "#             print(i,\"times\",num//i, \"is\", num) \n",
    "            break \n",
    "        else: \n",
    "            print(num, \"is a prime number.\") \n",
    "else: \n",
    "    print(num, \"is not a prime number.\")\n"
   ]
  },
  {
   "cell_type": "code",
   "execution_count": null,
   "id": "3f411584",
   "metadata": {},
   "outputs": [],
   "source": []
  }
 ],
 "metadata": {
  "kernelspec": {
   "display_name": "Python 3 (ipykernel)",
   "language": "python",
   "name": "python3"
  },
  "language_info": {
   "codemirror_mode": {
    "name": "ipython",
    "version": 3
   },
   "file_extension": ".py",
   "mimetype": "text/x-python",
   "name": "python",
   "nbconvert_exporter": "python",
   "pygments_lexer": "ipython3",
   "version": "3.11.5"
  }
 },
 "nbformat": 4,
 "nbformat_minor": 5
}
