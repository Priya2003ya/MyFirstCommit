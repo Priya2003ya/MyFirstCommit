{
 "cells": [
  {
   "cell_type": "code",
   "execution_count": 10,
   "id": "8dd6b117",
   "metadata": {},
   "outputs": [
    {
     "name": "stdout",
     "output_type": "stream",
     "text": [
      "Perimeter =  24\n",
      "Perimeter =  12\n"
     ]
    }
   ],
   "source": [
    "class Quard:\n",
    "    def __init__(self,a,b,c,d):\n",
    "        self.side1=a\n",
    "        self.side2=b\n",
    "        self.side3=c\n",
    "        self.side4=d\n",
    "        \n",
    "    def perimeter(self):\n",
    "        p=self.side1+self.side2+self.side3+self.side4\n",
    "        print(\"Perimeter = \",p)\n",
    "        \n",
    "class Rect(Quard):\n",
    "    def __init__(self,a,b,c=\"none\",d=\"none\"):\n",
    "        super().__init__(a,b,c,d)\n",
    "        self.side3=self.side1\n",
    "        self.side4=self.side2\n",
    "        \n",
    "obj=Rect(10,2)\n",
    "obj.perimeter()\n",
    "ob=Quard(2,3,4,3)\n",
    "ob.perimeter()"
   ]
  },
  {
   "cell_type": "code",
   "execution_count": 23,
   "id": "205d2c41",
   "metadata": {},
   "outputs": [
    {
     "name": "stdout",
     "output_type": "stream",
     "text": [
      "Employee i_d : 1\n",
      "employee name : Ravi\n",
      "employee age : 33\n",
      "\n",
      "Maneger name : Rohit\n",
      "Maneger age : 20\n",
      "Maneger salary : 3000\n"
     ]
    }
   ],
   "source": [
    "class Employee:\n",
    "    def __init__(self,name,age,i_d):\n",
    "        self.i_d=i_d\n",
    "        self.name=name\n",
    "        self.age=age\n",
    "        \n",
    "    def show_detail(self):\n",
    "        print(f\"Employee i_d : {self.i_d}\\nemployee name : {self.name}\\nemployee age : {self.age}\\n\")\n",
    "        \n",
    "class Maneger(Employee):\n",
    "    def __init__(self,name,age,salary,i_d=\"none\"):\n",
    "        super().__init__(name,age,i_d)\n",
    "        self.salary=salary\n",
    "        \n",
    "    def show_salary(self):\n",
    "        print(f\"Maneger name : {self.name}\\nManeger age : {self.age}\\nManeger salary : {self.salary}\")\n",
    "        \n",
    "obj=Employee(\"Ravi\",33,1)\n",
    "obj.show_detail()\n",
    "ob=Maneger(\"Rohit\",20,3000)\n",
    "ob.show_salary()"
   ]
  },
  {
   "cell_type": "code",
   "execution_count": 37,
   "id": "5125cd7c",
   "metadata": {},
   "outputs": [
    {
     "name": "stdout",
     "output_type": "stream",
     "text": [
      "Student and Teacher Details:\n",
      "\n",
      "\n",
      "Student name : Priya\n",
      "Student age : 20\n",
      "Student roll_no : 214\n",
      "Student standard : ten\n",
      "\n",
      "Teacher name : Tanu\n",
      "Teacher age : 34\n",
      "Subject : math\n",
      "Salary : 2000\n",
      "\n"
     ]
    }
   ],
   "source": [
    "class Person:\n",
    "    def __init__(self,name,age):\n",
    "        self.name=name\n",
    "        self.age=age\n",
    "        \n",
    "    def display_details(self):\n",
    "        print(\"Student and Teacher Details:\\n\\n\")\n",
    "        \n",
    "class Student(Person):\n",
    "    def __init__(self,name,age,roll_no,standard):\n",
    "        self.roll_no=roll_no\n",
    "        self.standard=standard\n",
    "        super().__init__(name,age)\n",
    "        \n",
    "    def dis(self):\n",
    "        print(\"Student name : {}\\nStudent age : {}\\nStudent roll_no : {}\\nStudent standard : {}\\n\".format(self.name,self.age,self.roll_no,self.standard))\n",
    "        \n",
    "class Teacher(Person):\n",
    "    def __init__(self,name,age,subject,salary):\n",
    "        self.subject=subject\n",
    "        self.salary=salary\n",
    "        super().__init__(name,age)\n",
    "        \n",
    "    def display(self):\n",
    "        print(\"Teacher name : {}\\nTeacher age : {}\\nSubject : {}\\nSalary : {}\\n\".format(self.name,self.age,self.subject,self.salary))\n",
    "        \n",
    "obj1=Student(\"Priya\",20,214,\"ten\")\n",
    "obj2=Teacher(\"Tanu\",34,\"math\",2000)\n",
    "obj1.display_details()\n",
    "obj1.dis()\n",
    "obj2.display()\n"
   ]
  },
  {
   "cell_type": "code",
   "execution_count": 38,
   "id": "c2bc74ad",
   "metadata": {},
   "outputs": [
    {
     "name": "stdout",
     "output_type": "stream",
     "text": [
      "Account_num 324354657   Balance 6000\n"
     ]
    }
   ],
   "source": [
    "class Account:\n",
    "    def __init__(self,account_num,balance):\n",
    "        self.account=account_num\n",
    "        self.balance=balance\n",
    "        \n",
    "    def deposit(self,amount):\n",
    "        self.balance+=amount\n",
    "#         print(f\"deposit amount {amount} Balance {self.balance}\")\n",
    "        \n",
    "    def withdraw(self,amount):\n",
    "        if amount <= self.balance:\n",
    "            self.balance-=amount\n",
    "        else:\n",
    "            print(\"Insufficient balance\")\n",
    "            \n",
    "    def display(self):\n",
    "        return (f\"Account_num {self.account}   Balance {self.balance}\")\n",
    "\n",
    "        \n",
    "    \n",
    "class Saving_Account(Account):\n",
    "    def __init__(self,account_num,balance,interest):\n",
    "        \n",
    "        super().__init__(account_num,balance)\n",
    "        self.interest=interest\n",
    "        \n",
    "    def dis(self):\n",
    "        self.balance += (self.balance * self.interest)\n",
    "\n",
    "        \n",
    "obj=Saving_Account(324354657,5000,0.05)\n",
    "obj.deposit(1000)\n",
    "# obj.withdraw(300)\n",
    "\n",
    "ob.dis()\n",
    "print(obj.display())"
   ]
  },
  {
   "cell_type": "code",
   "execution_count": 40,
   "id": "9132921d",
   "metadata": {},
   "outputs": [
    {
     "name": "stdout",
     "output_type": "stream",
     "text": [
      "Account Number: 123456, Balance: 6300.0\n"
     ]
    }
   ],
   "source": [
    "class Account:\n",
    "    def __init__(self, account_number, balance):\n",
    "        self.account_number = account_number\n",
    "        self.balance = balance\n",
    "\n",
    "    def deposit(self, amount):\n",
    "        self.balance += amount\n",
    "\n",
    "    def withdraw(self, amount):\n",
    "        if amount <= self.balance:\n",
    "            self.balance -= amount\n",
    "        else:\n",
    "            print(\"Insufficient balance\")\n",
    "\n",
    "    def display_balance(self):\n",
    "        return f\"Account Number: {self.account_number}, Balance: {self.balance}\"\n",
    "\n",
    "class SavingsAccount(Account):\n",
    "    def __init__(self, account_number, balance, interest_rate):\n",
    "        super().__init__(account_number, balance)\n",
    "        self.interest_rate = interest_rate\n",
    "\n",
    "    def add_interest(self):\n",
    "        self.balance += self.balance * self.interest_rate\n",
    "\n",
    "savings_account = SavingsAccount(\"123456\", 5000, 0.05)\n",
    "savings_account.deposit(1000)\n",
    "savings_account.add_interest()\n",
    "print(savings_account.display_balance())"
   ]
  },
  {
   "cell_type": "code",
   "execution_count": 45,
   "id": "34204547",
   "metadata": {},
   "outputs": [
    {
     "name": "stdout",
     "output_type": "stream",
     "text": [
      "make : Tata  model : bjk year : 2017\n",
      "make : Tata  model : bjk year : 2017  seats : 5\n"
     ]
    }
   ],
   "source": [
    "class Vehicle:\n",
    "    def __init__(self,make,model,year):\n",
    "        self.make=make\n",
    "        self.model=model\n",
    "        self.year=year\n",
    "        \n",
    "    def dis(self):\n",
    "        return f\"make : {self.make}  model : {self.model} year : {self.year}\"\n",
    "    \n",
    "class Car(Vehicle):\n",
    "    def __init__(self,make,model,year,seats):\n",
    "        super().__init__(make,model,year)\n",
    "        self.seats=seats\n",
    "        \n",
    "    def display(self):\n",
    "        return f\"{super().dis()}  seats : {self.seats}\"\n",
    "        \n",
    "obj=Car(\"Tata\",\"bjk\",2017,5)\n",
    "print(obj.dis())\n",
    "print(obj.display())"
   ]
  },
  {
   "cell_type": "code",
   "execution_count": 49,
   "id": "b056926b",
   "metadata": {},
   "outputs": [
    {
     "name": "stdout",
     "output_type": "stream",
     "text": [
      "title : efwa  author : fagb issue_date : 23243\n",
      "title : frsc  author : farge  return_date : 222\n"
     ]
    }
   ],
   "source": [
    "class Library:\n",
    "    def __init__(self,title,author):\n",
    "        self.title=title\n",
    "        self.author=author\n",
    "        \n",
    "    def dis(self):\n",
    "        return f\"title : {self.title}  author : {self.author}\"\n",
    "    \n",
    "class Book(Library):\n",
    "    def __init__(self,title,author,issue_date):\n",
    "        super().__init__(title,author)\n",
    "        self.issue_date=issue_date\n",
    "        \n",
    "    def disp(self):\n",
    "        return f\"{super().dis()} issue_date : {self.issue_date}\"\n",
    "    \n",
    "class Magezin(Library):\n",
    "    def __init__(self,title,author,return_date):\n",
    "        super().__init__(title,author)\n",
    "        self.return_date=return_date\n",
    "        \n",
    "    def display(self):\n",
    "        return f\"{super().dis()}  return_date : {self.return_date}\"\n",
    "    \n",
    "obj=Book(\"efwa\",\"fagb\",23243)\n",
    "ob=Magezin(\"frsc\",\"farge\",222)\n",
    "print(obj.disp())\n",
    "print(ob.display())"
   ]
  },
  {
   "cell_type": "code",
   "execution_count": 6,
   "id": "a14d208a",
   "metadata": {},
   "outputs": [
    {
     "name": "stdout",
     "output_type": "stream",
     "text": [
      "Product name : Laptop  Price : 3700  Warranty : 12\n",
      "Product name : T-shirt  Price : 300  size : ['M', 'L', 'S']\n"
     ]
    }
   ],
   "source": [
    "class Product:\n",
    "    def __init__(self,name,price):\n",
    "        self.name=name\n",
    "        self.price=price\n",
    "        \n",
    "    def detail(self):\n",
    "        return f\"Product name : {self.name}  Price : {self.price}\"\n",
    "    \n",
    "class Electronic_Prod(Product):\n",
    "    def __init__(self,name,price,warranty):\n",
    "        super().__init__(name,price)\n",
    "        self.warranty = warranty\n",
    "        \n",
    "    def dis(self):\n",
    "        return f\"{super().detail()}  Warranty : {self.warranty}\"\n",
    "    \n",
    "class cloths(Product):\n",
    "    def __init__(self,name,price,size):\n",
    "        super().__init__(name,price)\n",
    "        self.size=size\n",
    "        \n",
    "    def display(self):\n",
    "        return f\"{super().detail()}  size : {self.size}\"\n",
    "    \n",
    "obj=Electronic_Prod(\"Laptop\",3700,12)\n",
    "ob=cloths(\"T-shirt\",300,[\"M\",\"L\",\"S\"])\n",
    "print(obj.dis())\n",
    "print(ob.display())\n"
   ]
  },
  {
   "cell_type": "code",
   "execution_count": 13,
   "id": "3584c23c",
   "metadata": {},
   "outputs": [
    {
     "name": "stdout",
     "output_type": "stream",
     "text": [
      "Name : Sweta  Age : 23  Patient_ID : 5\n",
      "Name : Ramesh Kumar  Age : 45   Spacilization : brain\n"
     ]
    }
   ],
   "source": [
    "class Person:\n",
    "    def __init__(self,name,age):\n",
    "        self.name=name\n",
    "        self.age=age\n",
    "        \n",
    "    def show(self):\n",
    "        return f\"Name : {self.name}  Age : {self.age}\"\n",
    "    \n",
    "class Patient(Person):\n",
    "    def __init__(self,name,age,patient_id):\n",
    "        super().__init__(name,age)\n",
    "        self.patient_id=patient_id\n",
    "        \n",
    "    def P_show(self):\n",
    "        return f\"{super().show()}  Patient_ID : {self.patient_id}\"\n",
    "    \n",
    "class Doctor(Person):\n",
    "    def __init__(self,name,age,spacilization):\n",
    "        super().__init__(name,age)\n",
    "        self.spacilization = spacilization\n",
    "        \n",
    "    def D_show(self):\n",
    "        return f\"{super().show()}   Spacilization : {self.spacilization}\"\n",
    "    \n",
    "patient=Patient(\"Sweta\",23,5)\n",
    "doctor=Doctor(\"Ramesh Kumar\",45,\"brain\")\n",
    "print(patient.P_show())\n",
    "print(doctor.D_show())"
   ]
  },
  {
   "cell_type": "code",
   "execution_count": 74,
   "id": "ba1ff4bc",
   "metadata": {},
   "outputs": [
    {
     "name": "stdout",
     "output_type": "stream",
     "text": [
      "Number of digits =  3\n",
      "Number of spacial characters =  2\n",
      "No. of upper case letter =  3\n",
      "no of lower case letter =  30\n",
      "No of spaces = 5\n"
     ]
    }
   ],
   "source": [
    "s=\"Paradise Computer Institute 123 @ gmail.com\"\n",
    "\n",
    "\n",
    "count_num=0\n",
    "count_s=0\n",
    "upper,lower,space=0,0,0\n",
    "for i in s:\n",
    "\n",
    "    if i.isupper():\n",
    "        upper+=1\n",
    "       \n",
    "    elif i.islower():\n",
    "        lower+=1\n",
    "    elif i.isdigit():\n",
    "        count_num+=1\n",
    "    elif not i.isalnum() and not i.isspace():\n",
    "        count_s+=1\n",
    "   \n",
    "    elif i.isspace():\n",
    "        space+=1\n",
    "    else:\n",
    "        pass\n",
    "\n",
    "print(\"Number of digits = \",count_num)\n",
    "print(\"Number of spacial characters = \",count_s)\n",
    "print(\"No. of upper case letter = \",upper)\n",
    "print(\"no of lower case letter = \",lower)\n",
    "print(\"No of spaces =\",space)\n",
    "        "
   ]
  },
  {
   "cell_type": "code",
   "execution_count": 54,
   "id": "3fcab882",
   "metadata": {},
   "outputs": [
    {
     "name": "stdout",
     "output_type": "stream",
     "text": [
      "no of alpha =  33\n",
      "no of digit =  3\n",
      "no. of sp =  2\n"
     ]
    }
   ],
   "source": [
    "def count(s):\n",
    "    alpha,digit,sp=0,0,0\n",
    "\n",
    "    for i in s:\n",
    "        if i.isalpha():\n",
    "            alpha+=1\n",
    "        elif i.isdigit():\n",
    "            digit+=1\n",
    "        elif i==\"@\" or i==\".\":\n",
    "            sp+=1\n",
    "        else:\n",
    "            pass\n",
    "    print(\"no of alpha = \",alpha)\n",
    "    print(\"no of digit = \",digit)\n",
    "    print(\"no. of sp = \",sp)\n",
    "count(\"paradisecomputerinstitute123@gmail.com\")"
   ]
  },
  {
   "cell_type": "code",
   "execution_count": 56,
   "id": "64f7f3cf",
   "metadata": {},
   "outputs": [
    {
     "name": "stdout",
     "output_type": "stream",
     "text": [
      "No of upper case character =  3\n",
      "No of lower case character =  22\n"
     ]
    }
   ],
   "source": [
    "def count(s):\n",
    "    upper,lower=0,0\n",
    "    for i in s:\n",
    "        if i.isupper():\n",
    "            upper+=1\n",
    "        elif i.islower():\n",
    "            lower+=1\n",
    "        else:\n",
    "            pass\n",
    "    print(\"No of upper case character = \",upper)\n",
    "    print(\"No of lower case character = \", lower)\n",
    "count(\"Paradise Computer Institute\")"
   ]
  },
  {
   "cell_type": "code",
   "execution_count": 34,
   "id": "a65f3d32",
   "metadata": {},
   "outputs": [
    {
     "name": "stdout",
     "output_type": "stream",
     "text": [
      "apple\n"
     ]
    }
   ],
   "source": [
    "import random\n",
    "li=[\"apple\",\"banana\",\"kiwi\",\"orange\"]\n",
    "a=random.randint(0,3)\n",
    "print(li[a])"
   ]
  },
  {
   "cell_type": "code",
   "execution_count": 47,
   "id": "77e06586",
   "metadata": {},
   "outputs": [
    {
     "name": "stdout",
     "output_type": "stream",
     "text": [
      "banana\n"
     ]
    }
   ],
   "source": [
    "import random\n",
    "li=[\"apple\",\"banana\",\"kiwi\",\"orange\"]\n",
    "x=random.randrange(1,3)\n",
    "print(li[x])"
   ]
  },
  {
   "cell_type": "code",
   "execution_count": 5,
   "id": "e4b57e07",
   "metadata": {},
   "outputs": [
    {
     "name": "stdout",
     "output_type": "stream",
     "text": [
      "OTP generated for account 54367435234: 6666\n",
      "otp for varification =  6666\n"
     ]
    },
    {
     "data": {
      "text/plain": [
       "'Account Number: 54367435234, Balance: 1500'"
      ]
     },
     "execution_count": 5,
     "metadata": {},
     "output_type": "execute_result"
    }
   ],
   "source": [
    "import random\n",
    "class Account:\n",
    "    \n",
    "    def __init__(self, account_number, balance=500):\n",
    "        self.account_number = account_number\n",
    "        self.balance = balance\n",
    "\n",
    "    def deposit(self, amount):\n",
    "        self.balance += amount\n",
    "\n",
    "    def withdraw(self, amount):\n",
    "        if amount <= self.balance:\n",
    "            self.balance -= amount\n",
    "        else:\n",
    "            print(\"Insufficient balance\")\n",
    "\n",
    "    def display_balance(self):\n",
    "        return f\"Account Number: {self.account_number}, Balance: {self.balance}\"\n",
    "    \n",
    "    def get_otp(self):\n",
    "        otp=random.randint(1000,9999)\n",
    "        print(f\"OTP generated for account {self.account_number}: {otp}\")\n",
    "        print(\"otp for varification = \",otp)\n",
    "#         print(ac.display_balance())\n",
    "      \n",
    "    \n",
    "ac=Account(54367435234)\n",
    "ac.deposit(5000)\n",
    "ac.withdraw(4000)\n",
    "ac.get_otp()\n",
    "ac.display_balance()\n",
    "    "
   ]
  },
  {
   "cell_type": "code",
   "execution_count": null,
   "id": "95afc040",
   "metadata": {},
   "outputs": [],
   "source": []
  }
 ],
 "metadata": {
  "kernelspec": {
   "display_name": "Python 3 (ipykernel)",
   "language": "python",
   "name": "python3"
  },
  "language_info": {
   "codemirror_mode": {
    "name": "ipython",
    "version": 3
   },
   "file_extension": ".py",
   "mimetype": "text/x-python",
   "name": "python",
   "nbconvert_exporter": "python",
   "pygments_lexer": "ipython3",
   "version": "3.11.5"
  }
 },
 "nbformat": 4,
 "nbformat_minor": 5
}
