{
 "cells": [
  {
   "cell_type": "code",
   "execution_count": 11,
   "id": "84ef7af1",
   "metadata": {},
   "outputs": [
    {
     "name": "stdout",
     "output_type": "stream",
     "text": [
      "986\n",
      "140.85714285714286\n"
     ]
    }
   ],
   "source": [
    "def s(*x):\n",
    "    x=[23,234,234,234,234,23,4]\n",
    "    print(sum((x)))\n",
    "    a=sum((x))/len(x)\n",
    "    print(a)\n",
    "s(x)"
   ]
  },
  {
   "cell_type": "code",
   "execution_count": 8,
   "id": "fb07534e",
   "metadata": {},
   "outputs": [
    {
     "data": {
      "text/plain": [
       "986"
      ]
     },
     "execution_count": 8,
     "metadata": {},
     "output_type": "execute_result"
    }
   ],
   "source": [
    "s(x)"
   ]
  },
  {
   "cell_type": "code",
   "execution_count": 1,
   "id": "8ce0dada",
   "metadata": {},
   "outputs": [
    {
     "name": "stdout",
     "output_type": "stream",
     "text": [
      "WANT TO Store the data:y\n",
      "How many data enter:3\n",
      "Eneter the key of Data:h\n",
      "Enter the value of data:j\n",
      "Eneter the key of Data:h\n",
      "Enter the value of data:j\n",
      "Eneter the key of Data:h\n",
      "Enter the value of data:h\n",
      "{'h': 'h'}\n",
      "----------Modify the data---------\n",
      "if yes enter y or ny\n",
      "1.search\n",
      "2.update\n",
      "Apply modification-----1\n",
      "search tha data:\n"
     ]
    },
    {
     "ename": "KeyError",
     "evalue": "'name'",
     "output_type": "error",
     "traceback": [
      "\u001b[1;31m---------------------------------------------------------------------------\u001b[0m",
      "\u001b[1;31mKeyError\u001b[0m                                  Traceback (most recent call last)",
      "Cell \u001b[1;32mIn[1], line 30\u001b[0m\n\u001b[0;32m     27\u001b[0m                 \u001b[38;5;28mprint\u001b[39m(d)\n\u001b[0;32m     29\u001b[0m \u001b[38;5;66;03m#     print(d)\u001b[39;00m\n\u001b[1;32m---> 30\u001b[0m data()\n",
      "Cell \u001b[1;32mIn[1], line 18\u001b[0m, in \u001b[0;36mdata\u001b[1;34m(*args)\u001b[0m\n\u001b[0;32m     16\u001b[0m \u001b[38;5;28;01mif\u001b[39;00m c\u001b[38;5;241m==\u001b[39m\u001b[38;5;241m1\u001b[39m:\n\u001b[0;32m     17\u001b[0m     \u001b[38;5;28mprint\u001b[39m(\u001b[38;5;124m\"\u001b[39m\u001b[38;5;124msearch tha data:\u001b[39m\u001b[38;5;124m\"\u001b[39m)\n\u001b[1;32m---> 18\u001b[0m     d[\u001b[38;5;124m\"\u001b[39m\u001b[38;5;124mname\u001b[39m\u001b[38;5;124m\"\u001b[39m]\n\u001b[0;32m     24\u001b[0m \u001b[38;5;28;01melif\u001b[39;00m c\u001b[38;5;241m==\u001b[39m\u001b[38;5;241m2\u001b[39m:\n\u001b[0;32m     25\u001b[0m     \u001b[38;5;28mprint\u001b[39m(\u001b[38;5;124m\"\u001b[39m\u001b[38;5;124mupdate the data\u001b[39m\u001b[38;5;124m\"\u001b[39m)\n",
      "\u001b[1;31mKeyError\u001b[0m: 'name'"
     ]
    }
   ],
   "source": [
    "def data(*args):\n",
    "    ch=input(\"WANT TO Store the data:\")\n",
    "    if ch==\"y\" or ch==\"Y\":\n",
    "        d={}\n",
    "        n=int(input(\"How many data enter:\"))\n",
    "        for i in range(1,n+1):\n",
    "            key=input(\"Eneter the key of Data:\")\n",
    "            value=input(\"Enter the value of data:\")\n",
    "            d[key]=value\n",
    "        print(d)\n",
    "        print(\"----------Modify the data---------\")\n",
    "        cho=input(\"if yes enter y or n\")\n",
    "    if cho==\"y\" or cho==\"Y\":\n",
    "            choice=print(\"1.search\\n2.update\")\n",
    "            c=int(input(\"Apply modification-----\"))\n",
    "            if c==1:\n",
    "                print(\"search tha data:\")\n",
    "                key=input(f\"{d[key]}\")\n",
    "              \n",
    "                \n",
    "                \n",
    "                \n",
    "                \n",
    "            elif c==2:\n",
    "                print(\"update the data\")\n",
    "                d.update({\"rollno\":54})\n",
    "                print(d)\n",
    "                \n",
    "#     print(d)\n",
    "data()            "
   ]
  },
  {
   "cell_type": "code",
   "execution_count": 4,
   "id": "eaf54d26",
   "metadata": {},
   "outputs": [
    {
     "data": {
      "text/plain": [
       "{'das': 'wdwed', 'efe': 'dwd'}"
      ]
     },
     "execution_count": 4,
     "metadata": {},
     "output_type": "execute_result"
    }
   ],
   "source": [
    "d"
   ]
  },
  {
   "cell_type": "code",
   "execution_count": 3,
   "id": "842a1ad2",
   "metadata": {},
   "outputs": [
    {
     "data": {
      "text/plain": [
       "{'das': 'wdwed', 'efe': 'dwd'}"
      ]
     },
     "execution_count": 3,
     "metadata": {},
     "output_type": "execute_result"
    }
   ],
   "source": [
    "d={\"das\":\"wdwed\",\"efe\":\"dwd\"}\n",
    "d"
   ]
  },
  {
   "cell_type": "code",
   "execution_count": 6,
   "id": "49c535a2",
   "metadata": {},
   "outputs": [
    {
     "data": {
      "text/plain": [
       "'wdwed'"
      ]
     },
     "execution_count": 6,
     "metadata": {},
     "output_type": "execute_result"
    }
   ],
   "source": [
    "d[\"das\"]"
   ]
  },
  {
   "cell_type": "code",
   "execution_count": 32,
   "id": "81cf37f0",
   "metadata": {},
   "outputs": [
    {
     "data": {
      "text/plain": [
       "'wdwed'"
      ]
     },
     "execution_count": 32,
     "metadata": {},
     "output_type": "execute_result"
    }
   ],
   "source": [
    "d[\"das\"]"
   ]
  },
  {
   "cell_type": "code",
   "execution_count": null,
   "id": "881150a6",
   "metadata": {},
   "outputs": [],
   "source": []
  },
  {
   "cell_type": "code",
   "execution_count": 66,
   "id": "9b773912",
   "metadata": {},
   "outputs": [],
   "source": [
    "thisdict={\"rollno\":454}"
   ]
  },
  {
   "cell_type": "code",
   "execution_count": 67,
   "id": "a5e5ef66",
   "metadata": {},
   "outputs": [
    {
     "name": "stdout",
     "output_type": "stream",
     "text": [
      "ENter Roll numberrollno\n"
     ]
    },
    {
     "data": {
      "text/plain": [
       "454"
      ]
     },
     "execution_count": 67,
     "metadata": {},
     "output_type": "execute_result"
    }
   ],
   "source": [
    "search=input(\"ENter Roll number\")\n",
    "thisdict[search]"
   ]
  },
  {
   "cell_type": "code",
   "execution_count": null,
   "id": "467623ae",
   "metadata": {},
   "outputs": [
    {
     "name": "stdout",
     "output_type": "stream",
     "text": [
      "Menu:\n",
      "1. display data\n",
      "2. Add data\n",
      "3. update data\n",
      "4. search data\n",
      "5. Exit Program\n",
      "_______________________________________________________________________________\n",
      "Enter your choice:2\n",
      "Enter the key:name\n",
      "Enter the value:ptiti\n",
      "Data added successfully\n",
      "Menu:\n",
      "1. display data\n",
      "2. Add data\n",
      "3. update data\n",
      "4. search data\n",
      "5. Exit Program\n",
      "_______________________________________________________________________________\n"
     ]
    }
   ],
   "source": [
    "def display_data(data):\n",
    "    print(\"-------Data--------\")\n",
    "    for key,value in data.items():\n",
    "        print(f\"{key}:{value}\")\n",
    "        \n",
    "def add_data(data,key,value):\n",
    "    data[key]=value\n",
    "    print(\"Data added successfully\")\n",
    "    \n",
    "def update_data(data,key,new_value):\n",
    "    if key in data:\n",
    "        data[key]=new_value\n",
    "        print(\"Data update successfully\")\n",
    "        \n",
    "def search_data(data,key):\n",
    "    if key in data:\n",
    "        print(f\"found data:{data[key]}\")\n",
    "    else:\n",
    "        print(\"data not found\")\n",
    "        \n",
    "def main():\n",
    "    data={}\n",
    "    while True:\n",
    "        print(\"Menu:\")\n",
    "        print(\"1. display data\")\n",
    "        print(\"2. Add data\")\n",
    "        print(\"3. update data\")\n",
    "        print(\"4. search data\")\n",
    "        print(\"5. Exit Program\")\n",
    "        print(\"_______________________________________________________________________________\")\n",
    "        choice=int(input(\"Enter your choice:\"))\n",
    "        if choice==1:\n",
    "            display_data(data)\n",
    "        \n",
    "        elif choice==2:\n",
    "            key=input(\"Enter the key:\")\n",
    "            value=input(\"Enter the value:\")\n",
    "            add_data(data,key,value)\n",
    "        \n",
    "        elif choice==3:\n",
    "            key=input(\"Enter the key:\")\n",
    "            new_value=input(\"Enter the new_value:\")\n",
    "            update_data(data,key,new_value)\n",
    "       \n",
    "        elif choice==4:\n",
    "            key=input(\"Enter the key:\")\n",
    "            search_data(data,key)\n",
    "        \n",
    "        elif choice==5:\n",
    "            print(\"Exit Program\")\n",
    "            break\n",
    "        \n",
    "        else:\n",
    "            print(\"Invalid choice\")\n",
    "            \n",
    "main()           "
   ]
  },
  {
   "cell_type": "code",
   "execution_count": 17,
   "id": "ef33c28e",
   "metadata": {},
   "outputs": [
    {
     "name": "stdout",
     "output_type": "stream",
     "text": [
      "             \n",
      "////MENU////\n",
      "1. display data\n",
      "2. add  data\n",
      "3. update data \n",
      "4. search data\n",
      "5. exit program\n",
      "**********************************************************************************\n",
      "Enter your choice:2\n",
      "Enter the key:name\n",
      "Enter the value:priya\n",
      "Data add successfully!\n",
      "             \n",
      "////MENU////\n",
      "1. display data\n",
      "2. add  data\n",
      "3. update data \n",
      "4. search data\n",
      "5. exit program\n",
      "**********************************************************************************\n",
      "Enter your choice:2\n",
      "Enter the key:age\n",
      "Enter the value:20\n",
      "Data add successfully!\n",
      "             \n",
      "////MENU////\n",
      "1. display data\n",
      "2. add  data\n",
      "3. update data \n",
      "4. search data\n",
      "5. exit program\n",
      "**********************************************************************************\n",
      "Enter your choice:1\n",
      "*******Data*********\n",
      "name:priya\n",
      "age:20\n",
      "             \n",
      "////MENU////\n",
      "1. display data\n",
      "2. add  data\n",
      "3. update data \n",
      "4. search data\n",
      "5. exit program\n",
      "**********************************************************************************\n",
      "Enter your choice:3\n",
      "enter the key:name\n",
      "Enetr the new_value:monika\n",
      "data update successfully!\n",
      "             \n",
      "////MENU////\n",
      "1. display data\n",
      "2. add  data\n",
      "3. update data \n",
      "4. search data\n",
      "5. exit program\n",
      "**********************************************************************************\n",
      "Enter your choice:4\n",
      "Enter the key:name\n",
      "data found:monika\n",
      "             \n",
      "////MENU////\n",
      "1. display data\n",
      "2. add  data\n",
      "3. update data \n",
      "4. search data\n",
      "5. exit program\n",
      "**********************************************************************************\n",
      "Enter your choice:1\n",
      "*******Data*********\n",
      "name:monika\n",
      "age:20\n",
      "             \n",
      "////MENU////\n",
      "1. display data\n",
      "2. add  data\n",
      "3. update data \n",
      "4. search data\n",
      "5. exit program\n",
      "**********************************************************************************\n",
      "Enter your choice:5\n",
      "Exit Program_-_\n"
     ]
    }
   ],
   "source": [
    "def display(data):\n",
    "    print(\"*******Data*********\")\n",
    "    for key,value in data.items():\n",
    "        print(f\"{key}:{value}\")\n",
    "    \n",
    "def add(data,key,value):\n",
    "    data[key]=value\n",
    "    print(\"Data add successfully!\")\n",
    "          \n",
    "def update(data,key,new_value):\n",
    "    if key in data:\n",
    "        data[key]=new_value\n",
    "        print(\"data update successfully!\")\n",
    "              \n",
    "def search(data,key):\n",
    "    if key in data:\n",
    "         print(f\"data found:{data[key]}\")\n",
    "    else:\n",
    "         print(\"Data not found\")\n",
    "\n",
    "def main():\n",
    "    data={}\n",
    "    while True:\n",
    "        print(\"             \")\n",
    "        print(\"////MENU////\")\n",
    "        print(\"1. display data\")\n",
    "        print(\"2. add  data\")\n",
    "        print(\"3. update data \")\n",
    "        print(\"4. search data\")\n",
    "        print(\"5. exit program\")\n",
    "        print(\"**********************************************************************************\")\n",
    "\n",
    "        choice=int(input(\"Enter your choice:\"))\n",
    "        if choice==1:\n",
    "            display(data)\n",
    "\n",
    "        elif choice==2:\n",
    "            key=input(\"Enter the key:\")\n",
    "            value=input(\"Enter the value:\")\n",
    "            add(data,key,value)\n",
    "\n",
    "        elif choice==3:\n",
    "            key=input(\"enter the key:\")\n",
    "            new_value=input(\"Enetr the new_value:\")\n",
    "            update(data,key,new_value)\n",
    "\n",
    "        elif choice==4:\n",
    "            key=input(\"Enter the key:\")\n",
    "            search(data,key)\n",
    "\n",
    "        elif choice==5:\n",
    "            print(\"Exit Program_-_\")\n",
    "            break\n",
    "\n",
    "        else:\n",
    "            print(\"invalid choice\")\n",
    "\n",
    "main()\n"
   ]
  },
  {
   "cell_type": "code",
   "execution_count": 19,
   "id": "a1e5069e",
   "metadata": {},
   "outputs": [
    {
     "name": "stdout",
     "output_type": "stream",
     "text": [
      "Library Menegment\n",
      "1. display\n",
      "2. add\n",
      "3. exit\n",
      "Enter the choice:2\n",
      "Enter the titlefg\n",
      "Enter the authorlkn\n",
      "Enter the quantity4\n",
      "title: fg\n",
      "author: lkn\n",
      "quantity: 4\n",
      "Add succesfully\n",
      "Library Menegment\n",
      "1. display\n",
      "2. add\n",
      "3. exit\n",
      "Enter the choice:1\n",
      "Data\n"
     ]
    },
    {
     "ename": "TypeError",
     "evalue": "'dict' object is not callable",
     "output_type": "error",
     "traceback": [
      "\u001b[1;31m---------------------------------------------------------------------------\u001b[0m",
      "\u001b[1;31mTypeError\u001b[0m                                 Traceback (most recent call last)",
      "Cell \u001b[1;32mIn[19], line 36\u001b[0m\n\u001b[0;32m     33\u001b[0m         \u001b[38;5;28;01melse\u001b[39;00m:\n\u001b[0;32m     34\u001b[0m             \u001b[38;5;28mprint\u001b[39m(\u001b[38;5;124m\"\u001b[39m\u001b[38;5;124minvalid\u001b[39m\u001b[38;5;124m\"\u001b[39m)\n\u001b[1;32m---> 36\u001b[0m main()\n",
      "Cell \u001b[1;32mIn[19], line 22\u001b[0m, in \u001b[0;36mmain\u001b[1;34m()\u001b[0m\n\u001b[0;32m     20\u001b[0m ch\u001b[38;5;241m=\u001b[39m\u001b[38;5;28mint\u001b[39m(\u001b[38;5;28minput\u001b[39m(\u001b[38;5;124m\"\u001b[39m\u001b[38;5;124mEnter the choice:\u001b[39m\u001b[38;5;124m\"\u001b[39m))\n\u001b[0;32m     21\u001b[0m \u001b[38;5;28;01mif\u001b[39;00m ch\u001b[38;5;241m==\u001b[39m\u001b[38;5;241m1\u001b[39m:\n\u001b[1;32m---> 22\u001b[0m     library(data)\n\u001b[0;32m     24\u001b[0m \u001b[38;5;28;01melif\u001b[39;00m ch\u001b[38;5;241m==\u001b[39m\u001b[38;5;241m2\u001b[39m:\n\u001b[0;32m     25\u001b[0m     title\u001b[38;5;241m=\u001b[39m\u001b[38;5;28minput\u001b[39m(\u001b[38;5;124m\"\u001b[39m\u001b[38;5;124mEnter the title\u001b[39m\u001b[38;5;124m\"\u001b[39m)\n",
      "Cell \u001b[1;32mIn[19], line 3\u001b[0m, in \u001b[0;36mlibrary\u001b[1;34m(data)\u001b[0m\n\u001b[0;32m      1\u001b[0m \u001b[38;5;28;01mdef\u001b[39;00m \u001b[38;5;21mlibrary\u001b[39m(data):\n\u001b[0;32m      2\u001b[0m     \u001b[38;5;28mprint\u001b[39m(\u001b[38;5;124m\"\u001b[39m\u001b[38;5;124mData\u001b[39m\u001b[38;5;124m\"\u001b[39m)\n\u001b[1;32m----> 3\u001b[0m     \u001b[38;5;28;01mfor\u001b[39;00m i \u001b[38;5;129;01min\u001b[39;00m data():\n\u001b[0;32m      4\u001b[0m         \u001b[38;5;28mprint\u001b[39m(\u001b[38;5;124mf\u001b[39m\u001b[38;5;124m\"\u001b[39m\u001b[38;5;132;01m{\u001b[39;00mtitle\u001b[38;5;132;01m}\u001b[39;00m\u001b[38;5;124m:\u001b[39m\u001b[38;5;132;01m{\u001b[39;00mauthor\u001b[38;5;132;01m}\u001b[39;00m\u001b[38;5;124m:\u001b[39m\u001b[38;5;132;01m{\u001b[39;00mquantity\u001b[38;5;132;01m}\u001b[39;00m\u001b[38;5;124m\"\u001b[39m)\n",
      "\u001b[1;31mTypeError\u001b[0m: 'dict' object is not callable"
     ]
    }
   ],
   "source": [
    "def library(data):\n",
    "    print(\"Data\")\n",
    "    for i in data():\n",
    "        print(f\"{title}:{author}:{quantity}\")\n",
    "    \n",
    "def add(title,author,quantity):\n",
    "    print(\"title:\",title)\n",
    "    print(\"author:\",author)\n",
    "    print(\"quantity:\",quantity)\n",
    "    print(\"Add succesfully\")\n",
    "    \n",
    "def main():\n",
    "    data={}\n",
    "    while True:\n",
    "        print(\"Library Menegment\")\n",
    "        print(\"1. display\")\n",
    "        print(\"2. add\")\n",
    "        print(\"3. exit\")\n",
    "        \n",
    "        ch=int(input(\"Enter the choice:\"))\n",
    "        if ch==1:\n",
    "            library(data)\n",
    "            \n",
    "        elif ch==2:\n",
    "            title=input(\"Enter the title\")\n",
    "            author=input(\"Enter the author\")\n",
    "            quantity=int(input(\"Enter the quantity\"))\n",
    "            add(title,author,quantity)\n",
    "            \n",
    "        elif ch==3:\n",
    "            print(\"exit\")\n",
    "            break\n",
    "        else:\n",
    "            print(\"invalid\")\n",
    "            \n",
    "main()"
   ]
  },
  {
   "cell_type": "code",
   "execution_count": null,
   "id": "bba1441d",
   "metadata": {},
   "outputs": [],
   "source": []
  }
 ],
 "metadata": {
  "kernelspec": {
   "display_name": "Python 3 (ipykernel)",
   "language": "python",
   "name": "python3"
  },
  "language_info": {
   "codemirror_mode": {
    "name": "ipython",
    "version": 3
   },
   "file_extension": ".py",
   "mimetype": "text/x-python",
   "name": "python",
   "nbconvert_exporter": "python",
   "pygments_lexer": "ipython3",
   "version": "3.11.5"
  }
 },
 "nbformat": 4,
 "nbformat_minor": 5
}
