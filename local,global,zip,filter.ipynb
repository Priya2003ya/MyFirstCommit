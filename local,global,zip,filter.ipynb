{
 "cells": [
  {
   "cell_type": "code",
   "execution_count": 15,
   "id": "9e1d6777",
   "metadata": {},
   "outputs": [
    {
     "name": "stdout",
     "output_type": "stream",
     "text": [
      "200\n",
      "300\n"
     ]
    }
   ],
   "source": [
    "x=300\n",
    "def fun():\n",
    "    x=200\n",
    "    print(x)\n",
    "\n",
    "fun()\n",
    "print(x)"
   ]
  },
  {
   "cell_type": "code",
   "execution_count": 14,
   "id": "bbab6bfc",
   "metadata": {},
   "outputs": [
    {
     "name": "stdout",
     "output_type": "stream",
     "text": [
      "40\n",
      "40\n"
     ]
    }
   ],
   "source": [
    "x=20\n",
    "def fun():\n",
    "    global x\n",
    "    x=40\n",
    "fun()\n",
    "print(x)"
   ]
  },
  {
   "cell_type": "code",
   "execution_count": 32,
   "id": "528f082b",
   "metadata": {},
   "outputs": [
    {
     "ename": "TypeError",
     "evalue": "fil() takes 0 positional arguments but 1 was given",
     "output_type": "error",
     "traceback": [
      "\u001b[1;31m---------------------------------------------------------------------------\u001b[0m",
      "\u001b[1;31mTypeError\u001b[0m                                 Traceback (most recent call last)",
      "Cell \u001b[1;32mIn[32], line 5\u001b[0m\n\u001b[0;32m      3\u001b[0m     \u001b[38;5;28;01mif\u001b[39;00m num\u001b[38;5;241m%\u001b[39m\u001b[38;5;241m2\u001b[39m\u001b[38;5;241m==\u001b[39m\u001b[38;5;241m0\u001b[39m:\n\u001b[0;32m      4\u001b[0m         \u001b[38;5;28;01mreturn\u001b[39;00m num\n\u001b[1;32m----> 5\u001b[0m f\u001b[38;5;241m=\u001b[39m\u001b[38;5;28mlist\u001b[39m(\u001b[38;5;28mfilter\u001b[39m(fil,num))\n\u001b[0;32m      6\u001b[0m \u001b[38;5;66;03m# f.fil()\u001b[39;00m\n\u001b[0;32m      7\u001b[0m \u001b[38;5;28mprint\u001b[39m(f)\n",
      "\u001b[1;31mTypeError\u001b[0m: fil() takes 0 positional arguments but 1 was given"
     ]
    }
   ],
   "source": [
    "\n",
    "# def fil():\n",
    "#     num=[1,2,3,4,5,7,8,9]\n",
    "#     if num%2==0:\n",
    "#         return num\n",
    "#     f=list(filter(fil,num))\n",
    "# # f.fil()\n",
    "# print(f)    "
   ]
  },
  {
   "cell_type": "code",
   "execution_count": 40,
   "id": "dc18ae36",
   "metadata": {},
   "outputs": [
    {
     "ename": "TypeError",
     "evalue": "unsupported operand type(s) for %: 'list' and 'int'",
     "output_type": "error",
     "traceback": [
      "\u001b[1;31m---------------------------------------------------------------------------\u001b[0m",
      "\u001b[1;31mTypeError\u001b[0m                                 Traceback (most recent call last)",
      "Cell \u001b[1;32mIn[40], line 2\u001b[0m\n\u001b[0;32m      1\u001b[0m thislist\u001b[38;5;241m=\u001b[39m[\u001b[38;5;241m1\u001b[39m,\u001b[38;5;241m2\u001b[39m,\u001b[38;5;241m3\u001b[39m,\u001b[38;5;241m4\u001b[39m,\u001b[38;5;241m5\u001b[39m,\u001b[38;5;241m6\u001b[39m,\u001b[38;5;241m7\u001b[39m,\u001b[38;5;241m8\u001b[39m,\u001b[38;5;241m9\u001b[39m]\n\u001b[1;32m----> 2\u001b[0m result\u001b[38;5;241m=\u001b[39m\u001b[38;5;28mlist\u001b[39m(\u001b[38;5;28mfilter\u001b[39m(thislist\u001b[38;5;241m%\u001b[39m\u001b[38;5;241m2\u001b[39m\u001b[38;5;241m==\u001b[39m\u001b[38;5;241m0\u001b[39m,thislist))\n",
      "\u001b[1;31mTypeError\u001b[0m: unsupported operand type(s) for %: 'list' and 'int'"
     ]
    }
   ],
   "source": [
    "# thislist=[1,2,3,4,5,6,7,8,9]\n",
    "# result=list(filter(==0,thislist))"
   ]
  },
  {
   "cell_type": "code",
   "execution_count": 38,
   "id": "655c39d0",
   "metadata": {},
   "outputs": [
    {
     "data": {
      "text/plain": [
       "[1, 2, 3, 4, 5, 6, 7, 8, 9]"
      ]
     },
     "execution_count": 38,
     "metadata": {},
     "output_type": "execute_result"
    }
   ],
   "source": [
    "result"
   ]
  },
  {
   "cell_type": "code",
   "execution_count": 44,
   "id": "3909c75d",
   "metadata": {},
   "outputs": [],
   "source": [
    "def display(num):\n",
    "    if num%2==0:\n",
    "        return num"
   ]
  },
  {
   "cell_type": "code",
   "execution_count": 46,
   "id": "f24318b3",
   "metadata": {},
   "outputs": [
    {
     "name": "stdout",
     "output_type": "stream",
     "text": [
      "[2, 4, 6, 6, 4, 44]\n"
     ]
    }
   ],
   "source": [
    "thislist=[1,2,3,4,5,6,6,5,5,5,4,44,3]\n",
    "x=list(filter(display,thislist))\n",
    "print(x)"
   ]
  },
  {
   "cell_type": "code",
   "execution_count": 47,
   "id": "27d3b614",
   "metadata": {},
   "outputs": [],
   "source": [
    "a=[\"apple\",\"banana\",\"kiwi\"]\n",
    "b=[\"red\",\"yellow\",\"green\"]\n",
    "x=zip(a,b)"
   ]
  },
  {
   "cell_type": "code",
   "execution_count": 49,
   "id": "e9f64ac1",
   "metadata": {},
   "outputs": [
    {
     "name": "stdout",
     "output_type": "stream",
     "text": [
      "[('apple', 'red'), ('banana', 'yellow'), ('kiwi', 'green')]\n"
     ]
    }
   ],
   "source": [
    "print(list(x))"
   ]
  },
  {
   "cell_type": "code",
   "execution_count": 2,
   "id": "f271c59a",
   "metadata": {},
   "outputs": [
    {
     "name": "stdout",
     "output_type": "stream",
     "text": [
      "[('name', 'priya'), ('age', '20'), ('roll_no', '54'), ('subject', 'puthon')]\n"
     ]
    }
   ],
   "source": [
    "a=(\"name\",\"age\",\"roll_no\",\"subject\")\n",
    "b=(\"priya\",\"20\",\"54\",\"puthon\",\"hfj\")\n",
    "print(list(zip(a,b)))"
   ]
  },
  {
   "cell_type": "code",
   "execution_count": null,
   "id": "357db4fa",
   "metadata": {},
   "outputs": [],
   "source": []
  }
 ],
 "metadata": {
  "kernelspec": {
   "display_name": "Python 3 (ipykernel)",
   "language": "python",
   "name": "python3"
  },
  "language_info": {
   "codemirror_mode": {
    "name": "ipython",
    "version": 3
   },
   "file_extension": ".py",
   "mimetype": "text/x-python",
   "name": "python",
   "nbconvert_exporter": "python",
   "pygments_lexer": "ipython3",
   "version": "3.11.5"
  }
 },
 "nbformat": 4,
 "nbformat_minor": 5
}
