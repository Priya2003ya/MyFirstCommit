{
 "cells": [
  {
   "cell_type": "code",
   "execution_count": 25,
   "id": "3cec47a8",
   "metadata": {},
   "outputs": [
    {
     "name": "stdout",
     "output_type": "stream",
     "text": [
      "1.add\n",
      "2.Exit\n",
      "Enter ch:1\n",
      "{'Name': 'priya', 'Rollno': 1}\n",
      "Enter the name:riya\n",
      "Enter the roll number: 2\n",
      "1.add\n",
      "2.Exit\n",
      "Enter ch:1\n",
      "Enter the name:tina\n",
      "Enter the roll number: 3\n",
      "1.add\n",
      "2.Exit\n",
      "Enter ch:2\n",
      "Exit\n"
     ]
    }
   ],
   "source": [
    "import json\n",
    "\n",
    "def read():\n",
    "    try:\n",
    "        with open(\"info.json\",\"r\")as f:\n",
    "            data=json.load(f)\n",
    "            print(data)\n",
    "    except ValueError:\n",
    "        data=[]\n",
    "    return\n",
    "\n",
    "def write(data):\n",
    "    with open(\"info.json\",\"a\")as f:\n",
    "        json.dump(data,f,indent=2)\n",
    "        \n",
    "def add():\n",
    "    data=read()\n",
    "    name=input(\"Enter the name:\")\n",
    "    roll=int(input(\"Enter the roll number: \"))\n",
    "        \n",
    "    new_data={\"Name\":name,\"Rollno\":roll}\n",
    "#     data.append(new_data)\n",
    "    write(new_data)\n",
    "    return\n",
    "\n",
    "while True:\n",
    "    print(\"1.add\\n2.Exit\")\n",
    "    ch=int(input(\"Enter ch:\"))\n",
    "    if ch==1:\n",
    "        add()\n",
    "    elif ch==2:\n",
    "        print(\"Exit\")\n",
    "        break\n",
    "    else:\n",
    "        print(\"Invalid\")\n"
   ]
  },
  {
   "cell_type": "code",
   "execution_count": null,
   "id": "96d6fe9c",
   "metadata": {},
   "outputs": [],
   "source": []
  },
  {
   "cell_type": "code",
   "execution_count": 19,
   "id": "b407d47d",
   "metadata": {},
   "outputs": [
    {
     "name": "stdout",
     "output_type": "stream",
     "text": [
      "twinkal twinkal littel star.\n",
      "how why wonder what your are.\n",
      "like a diamond in the sky.\n"
     ]
    }
   ],
   "source": [
    "# question 1\n",
    "\n",
    "def poem():\n",
    "    with open(\"poem.txt\",\"r\")as f:\n",
    "        print(f.read())\n",
    "        f.close()\n",
    "poem()"
   ]
  },
  {
   "cell_type": "code",
   "execution_count": null,
   "id": "3d7c7c02",
   "metadata": {},
   "outputs": [],
   "source": [
    "\n",
    "    "
   ]
  },
  {
   "cell_type": "code",
   "execution_count": 21,
   "id": "00b02592",
   "metadata": {},
   "outputs": [],
   "source": [
    "# def read_file():\n",
    "#     file = open(\"poem.txt\",\"r\")\n",
    "#     for line in file:\n",
    "#         print(line, end=\"\")\n",
    "#     file.close()\n",
    "\n",
    "# read_file()"
   ]
  },
  {
   "cell_type": "code",
   "execution_count": 42,
   "id": "f837ea0b",
   "metadata": {},
   "outputs": [
    {
     "data": {
      "text/plain": [
       "3"
      ]
     },
     "execution_count": 42,
     "metadata": {},
     "output_type": "execute_result"
    }
   ],
   "source": [
    "# question 2\n",
    "\n",
    "def count_line():\n",
    "    count=0\n",
    "    with open(\"story.txt\",\"r\")as file:\n",
    "        for line in file:\n",
    "             if not line[0]==\"T\":\n",
    "#             if not line.startswith(\"T\"):\n",
    "                count +=1\n",
    "    return count\n",
    "count_line()\n",
    "    "
   ]
  },
  {
   "cell_type": "code",
   "execution_count": 13,
   "id": "028e4839",
   "metadata": {},
   "outputs": [
    {
     "data": {
      "text/plain": [
       "27"
      ]
     },
     "execution_count": 13,
     "metadata": {},
     "output_type": "execute_result"
    }
   ],
   "source": [
    "# question 3\n",
    "\n",
    "def count_words():\n",
    "    with open(\"story.txt\",\"r\")as file:\n",
    "        a=file.read()\n",
    "        w=a.split()\n",
    "        return len(w)\n",
    "count_words()"
   ]
  },
  {
   "cell_type": "code",
   "execution_count": 25,
   "id": "5ce8fdc2",
   "metadata": {},
   "outputs": [
    {
     "data": {
      "text/plain": [
       "4"
      ]
     },
     "execution_count": 25,
     "metadata": {},
     "output_type": "execute_result"
    }
   ],
   "source": [
    "# question 4\n",
    "\n",
    "def count_the():\n",
    "    count=0\n",
    "    with open(\"notes.txt\",\"r\")as file:\n",
    "        a=file.read()\n",
    "        s=a.split()\n",
    "        for i in s:\n",
    "            if i==\"the\":\n",
    "                count +=1\n",
    "        return count\n",
    "count_the()"
   ]
  },
  {
   "cell_type": "code",
   "execution_count": 36,
   "id": "29348f21",
   "metadata": {},
   "outputs": [
    {
     "name": "stdout",
     "output_type": "stream",
     "text": [
      "A boy is is a An is in the The sky is and are in the "
     ]
    }
   ],
   "source": [
    "# question 5\n",
    "\n",
    "def count_words_lessthan_4():\n",
    "    with open(\"story.txt\",\"r\")as file:\n",
    "        a=file.read()\n",
    "        w=a.split()\n",
    "        for i in w:\n",
    "            if len(i)<4:\n",
    "                 print(i,end=\" \")\n",
    "count_words_lessthan_4()"
   ]
  },
  {
   "cell_type": "code",
   "execution_count": null,
   "id": "91c544e6",
   "metadata": {},
   "outputs": [],
   "source": []
  }
 ],
 "metadata": {
  "kernelspec": {
   "display_name": "Python 3 (ipykernel)",
   "language": "python",
   "name": "python3"
  },
  "language_info": {
   "codemirror_mode": {
    "name": "ipython",
    "version": 3
   },
   "file_extension": ".py",
   "mimetype": "text/x-python",
   "name": "python",
   "nbconvert_exporter": "python",
   "pygments_lexer": "ipython3",
   "version": "3.11.5"
  }
 },
 "nbformat": 4,
 "nbformat_minor": 5
}
