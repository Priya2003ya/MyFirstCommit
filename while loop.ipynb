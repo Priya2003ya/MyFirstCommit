{
 "cells": [
  {
   "cell_type": "code",
   "execution_count": 1,
   "id": "8fa4cd54",
   "metadata": {},
   "outputs": [
    {
     "name": "stdout",
     "output_type": "stream",
     "text": [
      "1\n",
      "2\n",
      "3\n",
      "4\n",
      "5\n",
      "6\n",
      "7\n",
      "8\n",
      "9\n",
      "10\n"
     ]
    }
   ],
   "source": [
    "i=1\n",
    "while i<=10:\n",
    "    print(i)\n",
    "    i+=1"
   ]
  },
  {
   "cell_type": "code",
   "execution_count": 3,
   "id": "a8bd8153",
   "metadata": {},
   "outputs": [
    {
     "name": "stdout",
     "output_type": "stream",
     "text": [
      "10\n",
      "9\n",
      "8\n",
      "7\n",
      "6\n",
      "5\n",
      "4\n",
      "3\n",
      "2\n",
      "1\n"
     ]
    }
   ],
   "source": [
    "i=10\n",
    "while i>=1:\n",
    "    print(i)\n",
    "    i-=1"
   ]
  },
  {
   "cell_type": "code",
   "execution_count": 5,
   "id": "38aa56ff",
   "metadata": {},
   "outputs": [
    {
     "name": "stdout",
     "output_type": "stream",
     "text": [
      "Enter the number:5\n",
      "120\n"
     ]
    }
   ],
   "source": [
    "num=int(input(\"Enter the number:\"))\n",
    "f=1\n",
    "i=1\n",
    "while i<=num:\n",
    "    f=f*i\n",
    "    i+=1\n",
    "print(f)"
   ]
  },
  {
   "cell_type": "code",
   "execution_count": 1,
   "id": "fa72191d",
   "metadata": {},
   "outputs": [
    {
     "name": "stdout",
     "output_type": "stream",
     "text": [
      "1\n",
      "2\n",
      "3\n",
      "4\n",
      "5\n"
     ]
    }
   ],
   "source": [
    "i=1\n",
    "while True:\n",
    "    print(i)\n",
    "    if i==5:\n",
    "        break\n",
    "    i=i+1"
   ]
  },
  {
   "cell_type": "code",
   "execution_count": 10,
   "id": "8237a60a",
   "metadata": {},
   "outputs": [
    {
     "name": "stdout",
     "output_type": "stream",
     "text": [
      "Enter the Number:6\n",
      "Enter the Number:7\n",
      "Sum =  13\n",
      "Want to continue process if y\\yes or n\n",
      "oy\n",
      "Enter the Number:7\n",
      "Enter the Number:9\n",
      "Sum =  16\n",
      "Want to continue process if y\\yes or n\n",
      "oy\n",
      "Enter the Number:9\n",
      "Enter the Number:7\n",
      "Sum =  16\n",
      "Want to continue process if y\\yes or n\n",
      "on\n"
     ]
    }
   ],
   "source": [
    "while True:\n",
    "    num1=int(input(\"Enter the Number:\"))\n",
    "    num2=int(input(\"Enter the Number:\"))\n",
    "    print(\"Sum = \",(num1+num2))\n",
    "    ch=input(\"Want to continue process if y\\yes or n\\no\")\n",
    "    if ch==\"y\" or ch==\"Y\":\n",
    "        pass\n",
    "    else:\n",
    "        break\n"
   ]
  },
  {
   "cell_type": "code",
   "execution_count": 11,
   "id": "ec89b930",
   "metadata": {},
   "outputs": [
    {
     "name": "stdout",
     "output_type": "stream",
     "text": [
      "Enter the number:6\n",
      "6 * 1 = 6\n",
      "6 * 2 = 12\n",
      "6 * 3 = 18\n",
      "6 * 4 = 24\n",
      "6 * 5 = 30\n",
      "6 * 6 = 36\n",
      "6 * 7 = 42\n",
      "6 * 8 = 48\n",
      "6 * 9 = 54\n",
      "6 * 10 = 60\n"
     ]
    }
   ],
   "source": [
    "n=int(input(\"Enter the number:\"))\n",
    "i=1\n",
    "while i<=10:\n",
    "    t=n*i\n",
    "    print(n,\"*\",i,\"=\",t)\n",
    "    i+=1"
   ]
  },
  {
   "cell_type": "code",
   "execution_count": null,
   "id": "9d9f55a6",
   "metadata": {},
   "outputs": [
    {
     "name": "stdout",
     "output_type": "stream",
     "text": [
      "0\n",
      "1\n",
      "2\n",
      "3\n",
      "4\n",
      "5\n",
      "6\n",
      "7\n"
     ]
    }
   ],
   "source": [
    "i=0\n",
    "while i<=10:\n",
    "    if i==8:\n",
    "        continue\n",
    "    print(i)  \n",
    "    i+=1\n",
    "    "
   ]
  },
  {
   "cell_type": "code",
   "execution_count": 35,
   "id": "2b1b885f",
   "metadata": {},
   "outputs": [
    {
     "name": "stdout",
     "output_type": "stream",
     "text": [
      "1\n",
      "2\n",
      "3\n",
      "4\n",
      "5\n",
      "Sum= 15\n"
     ]
    }
   ],
   "source": [
    "i=1\n",
    "sum=0\n",
    "while i<=5:\n",
    "    print(i)\n",
    "    sum+=i\n",
    "    i+=1\n",
    "print(\"Sum=\",sum)"
   ]
  },
  {
   "cell_type": "code",
   "execution_count": 41,
   "id": "2c8a49dd",
   "metadata": {},
   "outputs": [
    {
     "name": "stdout",
     "output_type": "stream",
     "text": [
      "1 odd number\n",
      "2 even number\n",
      "3 odd number\n",
      "4 even number\n",
      "5 odd number\n",
      "6 even number\n",
      "7 odd number\n",
      "8 even number\n",
      "9 odd number\n",
      "10 even number\n",
      "11 odd number\n",
      "12 even number\n",
      "13 odd number\n",
      "14 even number\n",
      "15 odd number\n",
      "16 even number\n",
      "17 odd number\n",
      "18 even number\n",
      "19 odd number\n",
      "20 even number\n"
     ]
    }
   ],
   "source": [
    "i=1\n",
    "while i<=20:\n",
    "    if i%2==0:\n",
    "        print(i, \"even number\")\n",
    "        i+=1\n",
    "    else:\n",
    "        print(i , \"odd number\")\n",
    "        i+=1"
   ]
  },
  {
   "cell_type": "code",
   "execution_count": 22,
   "id": "48105882",
   "metadata": {},
   "outputs": [
    {
     "name": "stdout",
     "output_type": "stream",
     "text": [
      "1.Add\n",
      "2.Sub\n",
      "3.Multi\n",
      "4.Div\n",
      "5.Remin\n",
      "6.Power\n",
      "7.Area\n",
      "Enter your choice:1\n",
      "Enter the first number:3\n",
      "Enter the second number:4\n",
      "Sum =  7\n",
      "Want to continue processy\n",
      "1.Add\n",
      "2.Sub\n",
      "3.Multi\n",
      "4.Div\n",
      "5.Remin\n",
      "6.Power\n",
      "7.Area\n",
      "Enter your choice:7\n",
      "a.Circle\n",
      "b.Rectangle\n",
      "c.Square\n",
      "Enter your choice:8\n",
      "Want to continue process5\n"
     ]
    }
   ],
   "source": [
    "while True:\n",
    "    print(\"1.Add\\n2.Sub\\n3.Multi\\n4.Div\\n5.Remin\\n6.Power\\n7.Area\")\n",
    "    ch=int(input(\"Enter your choice:\"))\n",
    "    if ch==1:\n",
    "        num1=int(input(\"Enter the first number:\"))\n",
    "        num2=int(input(\"Enter the second number:\"))\n",
    "        print(\"Sum = \",(num1+num2))\n",
    "    elif ch==2:\n",
    "        num1=int(input(\"Enter the first number:\"))\n",
    "        num2=int(input(\"Enter the second number:\"))\n",
    "        print(\"Sub = \",(num1-num2))\n",
    "    elif ch==3:\n",
    "        num1=int(input(\"Enter the first number:\"))\n",
    "        num2=int(input(\"Enter the second number:\"))\n",
    "        print(\"Multi = \",(num1*num2))\n",
    "    elif ch==4:\n",
    "        num1=int(input(\"Enter the first number:\"))\n",
    "        num2=int(input(\"Enter the second number:\"))\n",
    "        print(\"Div = \",(num1/num2))\n",
    "    elif ch==5:\n",
    "        num1=int(input(\"Enter the first number:\"))\n",
    "        num2=int(input(\"Enter the second number:\"))\n",
    "        print(\"Remin = \",(num1%num2))\n",
    "    elif ch==6:\n",
    "        num1=int(input(\"Enter the first number:\"))\n",
    "        num2=int(input(\"Enter the second number:\"))\n",
    "        print(\"Power = \",(num1**num2))\n",
    "    elif ch==7:\n",
    "            print(\"a.Circle\\nb.Rectangle\\nc.Square\")\n",
    "            cho=input(\"Enter your choice:\")\n",
    "            if cho==\"a\":\n",
    "                pi=3.14\n",
    "                r=int(input(\"Enter the radius:\"))\n",
    "                Area=pi*r**2\n",
    "                print(\"Area of circle is = \",Area)\n",
    "            elif cho==\"b\":\n",
    "                l=int(input(\"Enter the lenght:\"))\n",
    "                b=int(input(\"enter the breaght\"))\n",
    "                print(\"Area of rectangle is = \",l*b)\n",
    "            elif cho==\"c\":\n",
    "                s=int(input(\"Enter the value of side:\"))\n",
    "                print(\"Area of Square is = \",a**2)\n",
    "    ch1=input(\"Want to continue process\")\n",
    "    if ch1==\"y\" or ch1==\"Y\":\n",
    "        continue\n",
    "    else:\n",
    "        break\n",
    "        "
   ]
  },
  {
   "cell_type": "code",
   "execution_count": null,
   "id": "bbefa76a",
   "metadata": {},
   "outputs": [],
   "source": []
  },
  {
   "cell_type": "code",
   "execution_count": null,
   "id": "1f0b6984",
   "metadata": {},
   "outputs": [],
   "source": []
  }
 ],
 "metadata": {
  "kernelspec": {
   "display_name": "Python 3 (ipykernel)",
   "language": "python",
   "name": "python3"
  },
  "language_info": {
   "codemirror_mode": {
    "name": "ipython",
    "version": 3
   },
   "file_extension": ".py",
   "mimetype": "text/x-python",
   "name": "python",
   "nbconvert_exporter": "python",
   "pygments_lexer": "ipython3",
   "version": "3.11.5"
  }
 },
 "nbformat": 4,
 "nbformat_minor": 5
}
